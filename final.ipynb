{
 "cells": [
  {
   "cell_type": "code",
   "execution_count": null,
   "id": "7e4a81dd",
   "metadata": {},
   "outputs": [],
   "source": [
    "import pandas as pd\n",
    "import numpy as np\n",
    "import matplotlib.pyplot as plt\n",
    "import seaborn as sns \n",
    "\n",
    "# For \n",
    "from sklearn.preprocessing import LabelEncoder\n",
    "\n",
    "# For baseline SVD algorithm\n",
    "from scipy.sparse import csr_matrix, coo_matrix\n",
    "from scipy.sparse.linalg import eigsh\n",
    "from sklearn.model_selection import train_test_split\n",
    "from sklearn.metrics import mean_squared_error, mean_absolute_error\n",
    "\n",
    "import os, math, random, gc, time, pickle\n",
    "from collections import Counter, defaultdict\n",
    "\n",
    "import numpy as np\n",
    "import pandas as pd\n",
    "import matplotlib.pyplot as plt\n",
    "from tqdm.auto import tqdm\n",
    "from scipy import sparse\n",
    "\n",
    "from sklearn.metrics import mean_absolute_error, mean_squared_error\n",
    "from sklearn.model_selection import train_test_split, GridSearchCV\n",
    "from sklearn.preprocessing import LabelEncoder, StandardScaler, normalize\n",
    "from sklearn.metrics.pairwise import cosine_similarity\n",
    "from sklearn.feature_extraction.text import TfidfVectorizer\n",
    "from sklearn.tree import DecisionTreeClassifier\n",
    "from sklearn.linear_model import Ridge\n",
    "\n",
    "# from surprise import SVD, SVDpp, Dataset, Reader, accuracy\n"
   ]
  },
  {
   "cell_type": "code",
   "execution_count": 2,
   "id": "5b8be021",
   "metadata": {},
   "outputs": [],
   "source": [
    "SEED = 42\n",
    "np.random.seed(SEED)\n",
    "random.seed(SEED)\n",
    "\n",
    "DATA_DIR = \"data\"\n",
    "Z_THRESHOLD = 0.0   # z-score >= 0 => user \"thích\" phim\n",
    "RATING_MIN, RATING_MAX = 0.5, 5.0\n",
    "TEST_SIZE, VAL_SIZE = 0.10, 0.10\n",
    "N_FEATURES_FS = 300 # Số lượng features sẽ lấy khi feature selection\n",
    "\n",
    "USER_ID = 95133\n"
   ]
  },
  {
   "cell_type": "markdown",
   "id": "cdbac538",
   "metadata": {},
   "source": [
    "# Load data"
   ]
  },
  {
   "cell_type": "code",
   "execution_count": 3,
   "id": "84337599",
   "metadata": {},
   "outputs": [],
   "source": [
    "# Read file csv\n",
    "ratings = pd.read_csv(f\"{DATA_DIR}/ratings.csv\")\n",
    "movies = pd.read_csv(f\"{DATA_DIR}/movies.csv\")\n",
    "tags = pd.read_csv(f\"{DATA_DIR}/tags.csv\")\n",
    "genome_scores = pd.read_csv(f\"{DATA_DIR}/genome-scores.csv\")\n",
    "genome_tags = pd.read_csv(f\"{DATA_DIR}/genome-tags.csv\")\n",
    "\n",
    "# Merge để có title ngay trong ratings\n",
    "df = pd.merge(ratings, movies, on='movieId')"
   ]
  },
  {
   "cell_type": "code",
   "execution_count": 5,
   "id": "40dd20b2",
   "metadata": {},
   "outputs": [
    {
     "name": "stdout",
     "output_type": "stream",
     "text": [
      "THỐNG KÊ DỮ LIỆU\n",
      "Original dataset : 25,000,095 ratings | 162,541 users | 59,047 movies (after merge)\n",
      "Total movies      : 62,423\n",
      "Rated movies      : 59,047\n",
      "Movies in tags    : 45,251\n"
     ]
    },
    {
     "data": {
      "text/html": [
       "<div>\n",
       "<style scoped>\n",
       "    .dataframe tbody tr th:only-of-type {\n",
       "        vertical-align: middle;\n",
       "    }\n",
       "\n",
       "    .dataframe tbody tr th {\n",
       "        vertical-align: top;\n",
       "    }\n",
       "\n",
       "    .dataframe thead th {\n",
       "        text-align: right;\n",
       "    }\n",
       "</style>\n",
       "<table border=\"1\" class=\"dataframe\">\n",
       "  <thead>\n",
       "    <tr style=\"text-align: right;\">\n",
       "      <th></th>\n",
       "      <th>userId</th>\n",
       "      <th>movieId</th>\n",
       "      <th>rating</th>\n",
       "      <th>timestamp</th>\n",
       "      <th>title</th>\n",
       "      <th>genres</th>\n",
       "    </tr>\n",
       "  </thead>\n",
       "  <tbody>\n",
       "    <tr>\n",
       "      <th>0</th>\n",
       "      <td>1</td>\n",
       "      <td>296</td>\n",
       "      <td>5.0</td>\n",
       "      <td>1147880044</td>\n",
       "      <td>Pulp Fiction (1994)</td>\n",
       "      <td>Comedy|Crime|Drama|Thriller</td>\n",
       "    </tr>\n",
       "    <tr>\n",
       "      <th>1</th>\n",
       "      <td>1</td>\n",
       "      <td>306</td>\n",
       "      <td>3.5</td>\n",
       "      <td>1147868817</td>\n",
       "      <td>Three Colors: Red (Trois couleurs: Rouge) (1994)</td>\n",
       "      <td>Drama</td>\n",
       "    </tr>\n",
       "    <tr>\n",
       "      <th>2</th>\n",
       "      <td>1</td>\n",
       "      <td>307</td>\n",
       "      <td>5.0</td>\n",
       "      <td>1147868828</td>\n",
       "      <td>Three Colors: Blue (Trois couleurs: Bleu) (1993)</td>\n",
       "      <td>Drama</td>\n",
       "    </tr>\n",
       "    <tr>\n",
       "      <th>3</th>\n",
       "      <td>1</td>\n",
       "      <td>665</td>\n",
       "      <td>5.0</td>\n",
       "      <td>1147878820</td>\n",
       "      <td>Underground (1995)</td>\n",
       "      <td>Comedy|Drama|War</td>\n",
       "    </tr>\n",
       "    <tr>\n",
       "      <th>4</th>\n",
       "      <td>1</td>\n",
       "      <td>899</td>\n",
       "      <td>3.5</td>\n",
       "      <td>1147868510</td>\n",
       "      <td>Singin' in the Rain (1952)</td>\n",
       "      <td>Comedy|Musical|Romance</td>\n",
       "    </tr>\n",
       "  </tbody>\n",
       "</table>\n",
       "</div>"
      ],
      "text/plain": [
       "   userId  movieId  rating   timestamp  \\\n",
       "0       1      296     5.0  1147880044   \n",
       "1       1      306     3.5  1147868817   \n",
       "2       1      307     5.0  1147868828   \n",
       "3       1      665     5.0  1147878820   \n",
       "4       1      899     3.5  1147868510   \n",
       "\n",
       "                                              title  \\\n",
       "0                               Pulp Fiction (1994)   \n",
       "1  Three Colors: Red (Trois couleurs: Rouge) (1994)   \n",
       "2  Three Colors: Blue (Trois couleurs: Bleu) (1993)   \n",
       "3                                Underground (1995)   \n",
       "4                        Singin' in the Rain (1952)   \n",
       "\n",
       "                        genres  \n",
       "0  Comedy|Crime|Drama|Thriller  \n",
       "1                        Drama  \n",
       "2                        Drama  \n",
       "3             Comedy|Drama|War  \n",
       "4       Comedy|Musical|Romance  "
      ]
     },
     "metadata": {},
     "output_type": "display_data"
    }
   ],
   "source": [
    "print(\"THỐNG KÊ DỮ LIỆU\")\n",
    "total_movies  = movies[\"movieId\"].nunique()          # tổng số phim trong bảng movies\n",
    "rated_movies  = ratings[\"movieId\"].nunique()         # phim đã có ít nhất 1 rating\n",
    "tagged_movies = tags[\"movieId\"].nunique()            # phim xuất hiện trong bảng tags\n",
    "\n",
    "print(f\"Original dataset : {len(df):,} ratings | \"\n",
    "      f\"{df['userId'].nunique():,} users | \"\n",
    "      f\"{df['movieId'].nunique():,} movies (after merge)\")\n",
    "\n",
    "print(f\"Total movies      : {total_movies:,}\")\n",
    "print(f\"Rated movies      : {rated_movies:,}\")       \n",
    "print(f\"Movies in tags    : {tagged_movies:,}\")\n",
    "display(df.head())"
   ]
  },
  {
   "cell_type": "markdown",
   "id": "fbef87c9",
   "metadata": {},
   "source": [
    "# Phân tích khám phá dữ liệu (EDA)"
   ]
  },
  {
   "cell_type": "markdown",
   "id": "0f82bd8b",
   "metadata": {},
   "source": [
    "**Biểu đồ tần suất theo điểm đánh giá**"
   ]
  },
  {
   "cell_type": "code",
   "execution_count": null,
   "id": "ef2036fb",
   "metadata": {},
   "outputs": [
    {
     "data": {
      "image/png": "[encoded data removed]",
      "text/plain": [
       "<Figure size 1000x600 with 1 Axes>"
      ]
     },
     "metadata": {},
     "output_type": "display_data"
    }
   ],
   "source": [
    "# Vẽ biểu đồ \n",
    "plt.figure(figsize=(10, 6))\n",
    "sns.countplot(data=ratings, x='rating', hue='rating', legend=False)\n",
    "plt.title('Biểu đồ tần suất theo điểm đánh giá')\n",
    "plt.xlabel('Điểm đánh giá')\n",
    "plt.ylabel('Số lượng')\n",
    "plt.show()"
   ]
  },
  {
   "cell_type": "markdown",
   "id": "0fb39e00",
   "metadata": {},
   "source": [
    "**Nhận xét:**\n",
    "- Phần lớn các đánh giá tập trung ở mức cao, từ 3.0 đến 5.0.\n",
    "- Rating 4.0 là phổ biến nhất, rating 3.0 đứng thứ hai về tần suất, rating 5.0 có số lượng đáng kể.\n",
    "- Các ratings thấp (0.5, 1.0, 1.5) có tần suất thấp nhất.\n",
    "\n",
    "***Kết luận:*** Dữ liệu cho thấy xu hướng đánh giá tích cực, với phần lớn người dùng hài lòng (ratings từ 3.5 trở lên). Các đánh giá tiêu cực (dưới 2.5) chiếm một tỷ lệ rất nhỏ."
   ]
  },
  {
   "cell_type": "markdown",
   "id": "94fb87cb",
   "metadata": {},
   "source": [
    "## Phân tích theo phim"
   ]
  },
  {
   "cell_type": "markdown",
   "id": "1d5c1886",
   "metadata": {},
   "source": [
    "**Top 20 bộ phim có số lượt đánh giá nhiều nhất**"
   ]
  },
  {
   "cell_type": "code",
   "execution_count": null,
   "id": "f0875969",
   "metadata": {},
   "outputs": [
    {
     "data": {
      "image/png": "[encoded data removed]",
      "text/plain": [
       "<Figure size 1200x600 with 1 Axes>"
      ]
     },
     "metadata": {},
     "output_type": "display_data"
    }
   ],
   "source": [
    "# Lấy danh sách 20 bộ phim có số lượt đánh giá nhiều nhất\n",
    "top_movies = ratings['movieId'].value_counts().head(20)\n",
    "# Tạo DataFrame \n",
    "top_movies = pd.DataFrame({'movieId': top_movies.index, 'num_ratings': top_movies.values})\n",
    "# Gộp dữ liệu với bảng 'movies' để lấy tên phim\n",
    "top_movies = top_movies.merge(movies[['movieId', 'title']], on='movieId')\n",
    "\n",
    "# Vẽ biểu đồ\n",
    "plt.figure(figsize=(12, 6))\n",
    "sns.barplot(y='title', x='num_ratings', hue='num_ratings', data=top_movies, legend=False)\n",
    "plt.title('Top 20 bộ phim có số lượt đánh giá nhiều nhất')\n",
    "plt.xlabel('Số lượt đánh giá')\n",
    "plt.ylabel('Tên phim')\n",
    "plt.tight_layout()\n",
    "plt.show()"
   ]
  },
  {
   "cell_type": "markdown",
   "id": "9bde304b",
   "metadata": {},
   "source": [
    "**Nhận xét:**\n",
    "- Đa số các phim có lượt đánh giá cao là phim thập niên 90, phản ánh độ phổ biến của chúng trong bộ dữ liệu.\n",
    "- Biểu đồ cho thấy các phim top đầu có lượt đánh giá nhiều hơn đáng kể với các bộ phim còn lại."
   ]
  },
  {
   "cell_type": "markdown",
   "id": "182464d8",
   "metadata": {},
   "source": [
    "**Top 20 bộ phim có điểm trung bình cao nhất**"
   ]
  },
  {
   "cell_type": "code",
   "execution_count": null,
   "id": "1fcf4c53",
   "metadata": {},
   "outputs": [
    {
     "data": {
      "image/png": "[encoded data removed]",
      "text/plain": [
       "<Figure size 1200x600 with 1 Axes>"
      ]
     },
     "metadata": {},
     "output_type": "display_data"
    }
   ],
   "source": [
    "# Tính điểm trung bình và số lượt đánh giá cho từng phim\n",
    "movie_stats = ratings.groupby('movieId').agg(\n",
    "    avg_rating=('rating', 'mean'),\n",
    "    rating_count=('rating', 'count')\n",
    ").reset_index()\n",
    "\n",
    "# Lọc các bộ phim có ít nhất 100 đánh giá\n",
    "popular_movies = movie_stats[movie_stats['rating_count'] >= 100]\n",
    "# Lấy 20 bộ phim có điểm trung bình cao nhất\n",
    "top_rated = popular_movies.sort_values(by='avg_rating', ascending=False).head(20)\n",
    "# Gộp với bảng 'movies' để lấy title của phim\n",
    "top_rated = top_rated.merge(movies[['movieId', 'title']], on='movieId')\n",
    "\n",
    "# Vẽ biểu đồ\n",
    "plt.figure(figsize=(12, 6))\n",
    "sns.barplot(x='avg_rating', y='title', hue='avg_rating', data=top_rated, legend=False)\n",
    "plt.title('Top 20 bộ phim được đánh giá cao nhất (≥ 100 đánh giá)')\n",
    "plt.xlabel('Điểm trung bình')\n",
    "plt.xlim(4, 5)\n",
    "plt.tight_layout()\n",
    "plt.show()"
   ]
  },
  {
   "cell_type": "markdown",
   "id": "f38fbef8",
   "metadata": {},
   "source": [
    "**Nhận xét:**\n",
    "- Thời gian phát hành không là yếu tố quyết định chất lượng phim (thời kì nào cũng có phim chất lượng cao).\n",
    "- Một số bộ phim xuất hiện trong cả hai danh sách (Shawshank Redemption, Godfather, Fight Club), chứng tỏ chúng vừa phổ biến vừa có chất lượng.\n",
    "\n",
    "***Kết luận:*** Biểu đồ cho thấy sự đa dạng về thể loại và thời kỳ."
   ]
  },
  {
   "cell_type": "markdown",
   "id": "06f97448",
   "metadata": {},
   "source": [
    "## Phân tích theo thể loại"
   ]
  },
  {
   "cell_type": "markdown",
   "id": "ebbc0fac",
   "metadata": {},
   "source": [
    "**Biểu đồ phân phối của thể loại phim**"
   ]
  },
  {
   "cell_type": "code",
   "execution_count": null,
   "id": "f76f5e00",
   "metadata": {},
   "outputs": [
    {
     "data": {
      "image/png": "[encoded data removed]",
      "text/plain": [
       "<Figure size 1000x600 with 1 Axes>"
      ]
     },
     "metadata": {},
     "output_type": "display_data"
    }
   ],
   "source": [
    "# Thống kê số lượng các genres\n",
    "merged = ratings.merge(movies, on='movieId')\n",
    "merged = merged[merged['genres'] != '(no genres listed)']\n",
    "merged['genres'] = merged['genres'].str.split('|')\n",
    "exploded = merged.explode('genres')\n",
    "\n",
    "# Đếm số lượng phim theo từng thể loại\n",
    "genre_counts = exploded['genres'].value_counts().reset_index()\n",
    "genre_counts.columns = ['genre', 'count']\n",
    "\n",
    "# Vẽ biểu đồ\n",
    "plt.figure(figsize=(10, 6))\n",
    "sns.barplot(data=genre_counts, x='count', y='genre', hue='count', legend=False)\n",
    "plt.title('Phân phối của thể loại phim')\n",
    "plt.xlabel('Số lượng phim')\n",
    "plt.ylabel('Thể loại')\n",
    "plt.tight_layout()\n",
    "plt.show()"
   ]
  },
  {
   "cell_type": "markdown",
   "id": "2b60fbb8",
   "metadata": {},
   "source": [
    "**Nhận xét:**\n",
    "\n",
    "- Biểu đồ thể hiện 19 thể loại phim, cho thấy dữ liệu có độ bao phủ thể loại khá rộng.\n",
    "\n",
    "- Phân phối thể loại không đồng đều, tập trung vào các thể loại phổ biến nhiều như Drama, Comedy và Action. Ngược lại, các thể loại ít xuất hiện hơn thường là những loại ít được khai thác."
   ]
  },
  {
   "cell_type": "markdown",
   "id": "14687099",
   "metadata": {},
   "source": [
    "## Phân tích theo thời gian"
   ]
  },
  {
   "cell_type": "markdown",
   "id": "13efa988",
   "metadata": {},
   "source": [
    "**Biểu đồ cho thấy số lượng đánh giá theo năm**"
   ]
  },
  {
   "cell_type": "code",
   "execution_count": 6,
   "id": "4a5cc629",
   "metadata": {},
   "outputs": [
    {
     "data": {
      "image/png": "[encoded data removed]",
      "text/plain": [
       "<Figure size 1200x600 with 1 Axes>"
      ]
     },
     "metadata": {},
     "output_type": "display_data"
    }
   ],
   "source": [
    "# Chuyển cột 'timestamp' sang kiểu datetime và lấy năm\n",
    "ratings['year'] = pd.to_datetime(ratings['timestamp'], unit='s').dt.year\n",
    "# Đếm số đánh giá theo từng năm\n",
    "ratings_by_year = ratings['year'].value_counts().sort_index()\n",
    "\n",
    "# Vẽ biểu đồ\n",
    "plt.figure(figsize=(12, 6))\n",
    "sns.lineplot(x=ratings_by_year.index, y=ratings_by_year.values, marker='o', color='orchid')\n",
    "plt.title('Số lượng đánh giá theo năm')\n",
    "plt.xlabel('Năm')\n",
    "plt.ylabel('Số lượng đánh giá')\n",
    "plt.grid(True, linestyle='--', alpha=0.3)\n",
    "plt.show()"
   ]
  },
  {
   "cell_type": "markdown",
   "id": "52efafa8",
   "metadata": {},
   "source": [
    "**Nhận xét:**\n",
    "\n",
    "- Số lượng đánh giá biến động mạnh qua các năm, không theo xu hướng tuyến tính rõ ràng.\n",
    "\n",
    "- Giai đoạn tương tác cao đột biến thể hiện rõ ràng ở 2 đỉnh vào năm 2000 và năm 2016. Giai đoạn 2010–2014 cho thấy mức sụt giảm kéo dài và chạm đáy. Sau 2015 thì dữ liệu phục hồi mạnh.\n",
    "\n",
    "**Kết luận:** Phân phối đánh giá của người dùng theo thời gian là không ổn định.\n"
   ]
  },
  {
   "cell_type": "markdown",
   "id": "38212995",
   "metadata": {},
   "source": [
    "**Biểu đồ heatmap: số lượt đánh giá theo năm và tháng**"
   ]
  },
  {
   "cell_type": "code",
   "execution_count": null,
   "id": "51bf25a9",
   "metadata": {},
   "outputs": [
    {
     "name": "stderr",
     "output_type": "stream",
     "text": [
      "/usr/local/lib/python3.11/dist-packages/matplotlib/colors.py:721: RuntimeWarning: invalid value encountered in less\n",
      "  xa[xa < 0] = -1\n"
     ]
    },
    {
     "data": {
      "image/png": "[encoded data removed]",
      "text/plain": [
       "<Figure size 1500x600 with 2 Axes>"
      ]
     },
     "metadata": {},
     "output_type": "display_data"
    }
   ],
   "source": [
    "# Chuyển cột 'timestamp' sang kiểu datetime và lấy theo tháng (Year-Month)\n",
    "ratings['year_month'] = pd.to_datetime(ratings['timestamp'], unit='s').dt.to_period('M')\n",
    "# Đếm số lượt đánh giá theo tháng và năm\n",
    "ratings_heatmap = ratings.groupby(ratings['year_month']).size().reset_index(name='count')\n",
    "ratings_heatmap['year'] = ratings_heatmap['year_month'].dt.year\n",
    "ratings_heatmap['month'] = ratings_heatmap['year_month'].dt.month\n",
    "\n",
    "# Tạo bảng pivot với tháng là index và năm là cột\n",
    "pivot_table = ratings_heatmap.pivot(index='month', columns='year', values='count')\n",
    "\n",
    "# Vẽ biểu đồ\n",
    "plt.figure(figsize=(15, 6))\n",
    "sns.heatmap(pivot_table, cmap='YlGnBu', linewidths=0.5, annot=False)\n",
    "plt.title('Heatmap số lượt đánh giá theo năm và tháng')\n",
    "plt.xlabel('Năm')\n",
    "plt.ylabel('Tháng')\n",
    "plt.tight_layout()\n",
    "plt.show()"
   ]
  },
  {
   "cell_type": "markdown",
   "id": "25ed6cc8",
   "metadata": {},
   "source": [
    "**Nhận xét:**\n",
    "\n",
    "- Lượt đánh giá phân bố không đồng đều theo tháng và năm, thể hiện tính thời điểm rõ rệt.\n",
    "\n",
    "- Một số \"hotspot\" nổi bật: cuối năm 1999, đầu 2005, và cuối 2015 — cho thấy các đợt tương tác bùng nổ ngắn hạn. \n",
    "\n",
    "- Giai đoạn 2010–2014 nhìn chung khá \"lặng sóng\", màu nhạt đồng đều – phản ánh mức độ tương tác thấp kéo dài.\n",
    "\n",
    "**Kết luận:** Heatmap giúp phát hiện và quan sát rõ ràng hơn các giai đoạn đột biến số lượt đánh giá của người dùng."
   ]
  },
  {
   "cell_type": "markdown",
   "id": "d2879566",
   "metadata": {},
   "source": [
    "# Pre-processing & Preparation"
   ]
  },
  {
   "cell_type": "code",
   "execution_count": 4,
   "id": "270cb129",
   "metadata": {},
   "outputs": [],
   "source": [
    "# Kiểm tra ratings hợp lệ (0.5 đến 5.0)\n",
    "if (ratings['rating'] < 0.5).any() or (ratings['rating'] > 5.0).any():\n",
    "    print(\"Warning: Invalid rating values detected.\")"
   ]
  },
  {
   "cell_type": "code",
   "execution_count": 5,
   "id": "257292b8",
   "metadata": {},
   "outputs": [
    {
     "name": "stdout",
     "output_type": "stream",
     "text": [
      "\n",
      "Độ thưa của ma trận: 0.9974 (25000095 ratings / 9597558427 possible ratings)\n"
     ]
    }
   ],
   "source": [
    "# Tính số lượng người dùng, phim và tổng số lượt đánh giá\n",
    "n_users = ratings['userId'].nunique()\n",
    "n_movies = ratings['movieId'].nunique()\n",
    "n_ratings = len(ratings)\n",
    "\n",
    "# Tính độ thưa (sparsity) của ma trận ratings\n",
    "sparsity = 1 - n_ratings / (n_users * n_movies)\n",
    "print(f\"\\nĐộ thưa của ma trận: {sparsity:.4f} ({n_ratings} ratings / {n_users * n_movies} possible ratings)\")"
   ]
  },
  {
   "cell_type": "markdown",
   "id": "fef4896e",
   "metadata": {},
   "source": [
    "## Mã hóa"
   ]
  },
  {
   "cell_type": "code",
   "execution_count": 6,
   "id": "e6b3b1cf",
   "metadata": {},
   "outputs": [],
   "source": [
    "# Encode userId và movieId thành chỉ số liên tục từ 0 để cho indexing ma trận\n",
    "user_encoder = LabelEncoder()\n",
    "user_encoder.fit(df['userId'])\n",
    "df['user_idx'] = user_encoder.transform(df['userId'])\n",
    "\n",
    "movie_encoder = LabelEncoder()\n",
    "movie_encoder.fit(df['movieId'])\n",
    "df['movie_idx'] = movie_encoder.transform(df['movieId'])\n",
    "\n",
    "n_users  = df[\"user_idx\"].nunique()\n",
    "n_items  = df[\"movie_idx\"].nunique()"
   ]
  },
  {
   "cell_type": "markdown",
   "id": "d195c5da",
   "metadata": {},
   "source": [
    "## Chia dữ liệu để huấn luyện và kiểm tra"
   ]
  },
  {
   "cell_type": "code",
   "execution_count": 7,
   "id": "2a1d66d2",
   "metadata": {},
   "outputs": [
    {
     "name": "stdout",
     "output_type": "stream",
     "text": [
      "Splitting train/val/test...\n",
      "Split sizes: {'train': 20250076, 'val': 2250009, 'test': 2500010}\n"
     ]
    }
   ],
   "source": [
    "print(\"Splitting train/val/test...\")\n",
    "def train_val_test_split_func(data_frame, test_size=TEST_SIZE, val_size=VAL_SIZE, col=\"user_idx\", seed=SEED):\n",
    "    train_val, test = train_test_split(\n",
    "        data_frame, \n",
    "        test_size=test_size, \n",
    "        random_state=seed, \n",
    "        stratify=data_frame[col]\n",
    "    )\n",
    "    train, val = train_test_split(\n",
    "        train_val, \n",
    "        test_size=val_size, \n",
    "        random_state=seed, \n",
    "        stratify=train_val[col]\n",
    "    )\n",
    "    return train.reset_index(drop=True), val.reset_index(drop=True), test.reset_index(drop=True)\n",
    "\n",
    "train_df, val_df, test_df = train_val_test_split_func(df)\n",
    "print(\"Split sizes:\", {k: len(v) for k, v in zip([\"train\", \"val\", \"test\"], [train_df, val_df, test_df])})"
   ]
  },
  {
   "cell_type": "markdown",
   "id": "eabb9bb2",
   "metadata": {},
   "source": [
    "# Thuật toán Truncated SVD"
   ]
  },
  {
   "cell_type": "markdown",
   "id": "2ddf832e",
   "metadata": {},
   "source": [
    "## 1. Cài đặt thuật toán"
   ]
  },
  {
   "cell_type": "code",
   "execution_count": null,
   "id": "e42da18a",
   "metadata": {},
   "outputs": [],
   "source": [
    "def truncated_svd(X, n_components=30):\n",
    "    \"\"\"\n",
    "    Tính Truncated SVD (Singular Value Decomposition) cho ma trận thưa X.\n",
    "\n",
    "    Tham số:\n",
    "        X: Ma trận thưa (users x movies)\n",
    "        n_components: Số lượng thành phần chính (rank giảm chiều)\n",
    "    \n",
    "    Các bước thực hiện:\n",
    "        1. Tính X.T @ X (movies x movies)\n",
    "        2. Phân tích eigen: lấy top k các trị riêng (eigenvalues) và vector riêng (eigenvectors) lớn nhất\n",
    "        3. Tính các giá trị kỳ dị (singular values) bằng căn bậc hai của eigenvalues\n",
    "        4. Tính ma trận U = X @ V / Sigma\n",
    "        5. Dựng lại ma trận xấp xỉ: X ~ U * Sigma * V^T\n",
    "\n",
    "    Trả về:\n",
    "        - X_approx: Ma trận xấp xỉ gốc với rank thấp hơn\n",
    "    \"\"\"\n",
    "\n",
    "    # Bước 1: X.T @ X\n",
    "    C = X.T.dot(X)\n",
    "\n",
    "    # Bước 2: Phân tích eigen (chỉ lấy top k)\n",
    "    eigenvalues, eigenvectors = eigsh(C, k=n_components, which='LM')\n",
    "\n",
    "    # Bước 3: Sắp xếp các trị riêng theo thứ tự giảm dần\n",
    "    idx = np.argsort(eigenvalues)[::-1]\n",
    "    eigenvalues = eigenvalues[idx]\n",
    "    eigenvectors = eigenvectors[:, idx]\n",
    "\n",
    "    # Bước 4: Tính singular values từ eigenvalues\n",
    "    Sigma = np.sqrt(eigenvalues)\n",
    "\n",
    "    # Bước 5: Tính ma trận U\n",
    "    U = X.dot(eigenvectors)\n",
    "    U = U / Sigma[np.newaxis, :]\n",
    "\n",
    "    Vt = eigenvectors.T\n",
    "    \n",
    "    return U, Sigma, Vt  \n",
    "\n",
    "\n",
    "def svd_baseline_predict(ratings_df, user_enc, movie_enc, k=50):\n",
    "    \"\"\"\n",
    "    Dự đoán rating bằng phương pháp SVD có chuẩn hóa (phiên bản đơn giản của Iterative SVD) theo người dùng.\n",
    "\n",
    "    Tham số:\n",
    "        ratings_df: DataFrame chứa các cột ['user_idx', 'movie_idx', 'rating']\n",
    "        user_enc, movie_enc: LabelEncoder đã fit\n",
    "        k: Số lượng thành phần ẩn (rank giảm chiều)\n",
    "        \n",
    "    Các bước thực hiện:\n",
    "        1. Khởi tạo ma trận rating rời rạc từ dữ liệu.\n",
    "        2. Tính trung bình ratings theo từng hàng (user).\n",
    "        3. Mean-center ma trận bằng cách trừ trung bình từng user.\n",
    "        4. Áp dụng Truncated SVD để xấp xỉ ma trận chuẩn hóa.\n",
    "        5. Cộng lại trung bình user để khôi phục thang điểm ban đầu.\n",
    "\n",
    "    Trả về:\n",
    "        R_hat: Ma trận dự đoán (users x movies)\n",
    "        R: Ma trận gốc ở dạng sparse\n",
    "        row_means: Giá trị trung bình ratings theo từng user\n",
    "    \"\"\"\n",
    "\n",
    "    # Kiểm tra tính hợp lệ của dữ liệu đầu vào\n",
    "    required_columns = ['user_idx', 'movie_idx', 'rating']\n",
    "    if not all(col in ratings_df.columns for col in required_columns):\n",
    "        raise ValueError(f\"ratings_df must contain columns: {required_columns}\")\n",
    "    if ratings_df[required_columns].isnull().any().any():\n",
    "        raise ValueError(\"ratings_df contains NaN values.\")\n",
    "\n",
    "    ratings_df = ratings_df.copy()\n",
    "\n",
    "    n_users = len(user_enc.classes_)\n",
    "    n_movies = len(movie_enc.classes_)\n",
    "\n",
    "    if k > min(n_users, n_movies):\n",
    "        raise ValueError(f\"k={k} is too large. Must be <= {min(n_users, n_movies)}\")\n",
    "\n",
    "    # Bước 1: Tạo sparse matrix từ ratings gốc\n",
    "    row = ratings_df['user_idx'].values\n",
    "    col = ratings_df['movie_idx'].values\n",
    "    data = ratings_df['rating'].values\n",
    "    R = coo_matrix((data, (row, col)), shape=(n_users, n_movies))\n",
    "\n",
    "    #  Bước 2: Tính trung bình ratings theo từng user (row_means)\n",
    "    row_sums = np.array(R.sum(axis=1)).flatten()\n",
    "    row_counts = np.array((R != 0).sum(axis=1)).flatten()\n",
    "    row_means = np.zeros(n_users)\n",
    "    mask = row_counts > 0\n",
    "    row_means[mask] = row_sums[mask] / row_counts[mask]\n",
    "\n",
    "    # Bước 3: Chuẩn hóa ma trận bằng cách trừ trung bình mỗi user (Mean-center)\n",
    "    R_centered = R.copy()\n",
    "    R_centered.data -= row_means[R_centered.row]\n",
    "\n",
    "    # Bước 4: Áp dụng Truncated SVD lên ma trận chuẩn hóa\n",
    "    U, S, Vt = truncated_svd(R_centered, n_components=k)\n",
    "\n",
    "    # Bước 5: Khôi phục lại ma trận dự đoán ban đầu\n",
    "    R_hat_centered = U @ np.diag(S) @ Vt\n",
    "    R_hat = R_hat_centered + row_means[:, np.newaxis]\n",
    "\n",
    "    return R_hat, R, row_means\n",
    "\n",
    "def predict_ratings(df, X_approx):\n",
    "    \"\"\"\n",
    "    Dự đoán ratings từ ma trận xấp xỉ\n",
    "    Sử dụng NumPy arrays để tối ưu tốc độ\n",
    "    \"\"\"\n",
    "    user_indices = df['user_idx'].values\n",
    "    movie_indices = df['movie_idx'].values\n",
    "    \n",
    "    # Tạo mask cho các chỉ số hợp lệ\n",
    "    valid_mask = (user_indices < X_approx.shape[0]) & (movie_indices < X_approx.shape[1])\n",
    "    \n",
    "    # Chỉ lấy những chỉ số hợp lệ\n",
    "    valid_users = user_indices[valid_mask]\n",
    "    valid_movies = movie_indices[valid_mask]\n",
    "    \n",
    "    # Dự đoán vectorized\n",
    "    predictions = X_approx[valid_users, valid_movies]\n",
    "    \n",
    "    return predictions"
   ]
  },
  {
   "cell_type": "markdown",
   "id": "60c80b42",
   "metadata": {},
   "source": [
    "## 2. Áp dụng thuật toán"
   ]
  },
  {
   "cell_type": "code",
   "execution_count": null,
   "id": "f12a91cc",
   "metadata": {},
   "outputs": [],
   "source": [
    "# Tạo ma trận thưa từ tập train (users x movies)\n",
    "train_matrix = csr_matrix((train_df['rating'], (train_df['user_idx'], train_df['movie_idx'])),\n",
    "                          shape=(df['user_idx'].nunique(), df['movie_idx'].nunique()))\n",
    "\n",
    "# Áp dụng Truncated SVD để giảm chiều\n",
    "U, Sigma, Vt = truncated_svd(train_matrix, n_components=30)  # Nhận tuple\n",
    "X_approx = U @ np.diag(Sigma) @ Vt  # Tính ma trận xấp xỉ từ tuple"
   ]
  },
  {
   "cell_type": "markdown",
   "id": "5ce0fba6",
   "metadata": {},
   "source": [
    "## 3. Đánh giá"
   ]
  },
  {
   "cell_type": "code",
   "execution_count": null,
   "id": "c240124e",
   "metadata": {},
   "outputs": [],
   "source": [
    "def evaluate_metric(df, X_approx):\n",
    "    \"\"\"\n",
    "    Đánh giá độ chính xác của các giá trị ratings dự đoán so với giá trị thực tế.\n",
    "\n",
    "    Tham số:\n",
    "        df : Chứa các cột ['user_idx', 'movie_idx', 'rating']\n",
    "        X_approx : Ma trận xấp xỉ\n",
    "\n",
    "    Trả về:\n",
    "        rmse : Root Mean Squared Error - Sai số bình phương trung bình\n",
    "        mae  : Mean Absolute Error - Sai số tuyệt đối trung bình\n",
    "    \"\"\"\n",
    "    actuals = df['rating'].tolist()\n",
    "    predictions = predict_ratings(df, X_approx)\n",
    "    rmse = np.sqrt(mean_squared_error(actuals, predictions))\n",
    "    mae = mean_absolute_error(actuals, predictions)\n",
    "    return rmse, mae"
   ]
  },
  {
   "cell_type": "code",
   "execution_count": null,
   "id": "24772d55",
   "metadata": {},
   "outputs": [
    {
     "name": "stdout",
     "output_type": "stream",
     "text": [
      "SVD CÓ CHUẨN HOÁ\n",
      "Train RMSE: 0.8540 | MAE: 0.6428\n",
      "Test  RMSE: 0.8931 | MAE: 0.6819\n"
     ]
    }
   ],
   "source": [
    "#  svd_baseline_predict \n",
    "R_hat, R, row_means = svd_baseline_predict(train_df, user_encoder, movie_encoder, k=30)\n",
    "train_rmse, train_mae = evaluate_metric(train_df, R_hat)\n",
    "test_rmse, test_mae = evaluate_metric(test_df, R_hat)\n",
    "\n",
    "print(\"SVD CÓ CHUẨN HOÁ\")\n",
    "print(f\"Train RMSE: {train_rmse:.4f} | MAE: {train_mae:.4f}\")\n",
    "print(f\"Test  RMSE: {test_rmse:.4f} | MAE: {test_mae:.4f}\")"
   ]
  },
  {
   "cell_type": "markdown",
   "id": "a8ac2fba",
   "metadata": {},
   "source": [
    "## 4. Gợi ý phim"
   ]
  },
  {
   "cell_type": "code",
   "execution_count": null,
   "id": "3acf3a80",
   "metadata": {},
   "outputs": [],
   "source": [
    "def recommend_movies(user_id, X_approx, user_encoder, movie_encoder, movies_df, ratings_df, top_n=10):\n",
    "    '''\n",
    "    Gợi ý top_n phim cho user_id dựa trên SVD, loại bỏ những phim đã xem\n",
    "    '''\n",
    "    if user_id not in user_encoder.classes_:\n",
    "        return pd.DataFrame()\n",
    "    \n",
    "    user_idx = user_encoder.transform([user_id])[0]\n",
    "    watched_movies = set(ratings_df[ratings_df['userId'] == user_id]['movieId'])\n",
    "    scores = X_approx[user_idx]\n",
    "    \n",
    "    # Lấy top phim chưa xem\n",
    "    recommendations = []\n",
    "    for movie_idx in np.argsort(scores)[::-1]:\n",
    "        movie_id = movie_encoder.inverse_transform([movie_idx])[0]\n",
    "        if movie_id not in watched_movies:\n",
    "            recommendations.append({'movieId': movie_id, 'predicted_rating': scores[movie_idx]})\n",
    "            if len(recommendations) >= top_n:\n",
    "                break\n",
    "    \n",
    "    if not recommendations:\n",
    "        return pd.DataFrame()\n",
    "    \n",
    "    return pd.DataFrame(recommendations).merge(\n",
    "        movies_df[['movieId', 'title', 'genres']], on='movieId', how='left'\n",
    "    )[['movieId', 'title', 'genres', 'predicted_rating']]\n",
    "\n",
    "# HIỂN THỊ POSTER MOVIES \n",
    "# TMDB API setup\n",
    "TMDB_API_KEY = \"2307c3e2979636e48540fc3c2c7dbaec\"\n",
    "\n",
    "# Lấy đường dẫn poster từ TMDB API bằng tmdb_id.\n",
    "def fetch_poster(tmdb_id, api_key):\n",
    "    if pd.isna(tmdb_id):\n",
    "        return None\n",
    "    url = f\"https://api.themoviedb.org/3/movie/{int(tmdb_id)}?api_key={api_key}\"\n",
    "    try:\n",
    "        response = requests.get(url)\n",
    "        if response.status_code == 200:\n",
    "            data = response.json()\n",
    "            poster_path = data.get(\"poster_path\")\n",
    "            if poster_path:\n",
    "                return f\"https://image.tmdb.org/t/p/w200{poster_path}\"\n",
    "    except:\n",
    "        pass\n",
    "    return None\n",
    "\n",
    "# Thêm cột 'poster_url' vào DataFrame dựa trên movieId và links.csv.\n",
    "def add_poster_column(df, links_df, api_key):\n",
    "    df = df.merge(links_df[['movieId', 'tmdbId']], on='movieId', how='left')\n",
    "    df['poster_url'] = df['tmdbId'].apply(lambda x: fetch_poster(x, api_key))\n",
    "    return df.drop(columns=['tmdbId'])\n",
    "\n",
    "# Hiển thị poster\n",
    "def display_with_posters(df):\n",
    "    html = \"<table><tr><th>Movie ID</th><th>Title</th><th>Genres</th><th>Predicted Rating</th><th>Poster</th></tr>\"\n",
    "    for _, row in df.iterrows():\n",
    "        poster_img = (\n",
    "            f\"<img src='{row['poster_url']}' width='200' height='280'>\" \n",
    "            if row['poster_url'] else \"N/A\"\n",
    "        )\n",
    "        html += (\n",
    "            f\"<tr>\"\n",
    "            f\"<td>{row['movieId']}</td>\"\n",
    "            f\"<td>{row['title']}</td>\"\n",
    "            f\"<td>{row['genres']}</td>\"\n",
    "            f\"<td>{row['predicted_rating']:.2f}</td>\"\n",
    "            f\"<td>{poster_img}</td>\"\n",
    "            f\"</tr>\"\n",
    "        )\n",
    "    html += \"</table>\"\n",
    "    return HTML(html)"
   ]
  },
  {
   "cell_type": "code",
   "execution_count": null,
   "id": "4e39d57b",
   "metadata": {},
   "outputs": [
    {
     "name": "stdout",
     "output_type": "stream",
     "text": [
      "Gợi ý cho người dùng: 95133\n"
     ]
    },
    {
     "data": {
      "text/html": [
       "<table><tr><th>Movie ID</th><th>Title</th><th>Genres</th><th>Predicted Rating</th><th>Poster</th></tr><tr><td>109487</td><td>Interstellar (2014)</td><td>Sci-Fi|IMAX</td><td>4.25</td><td><img src='https://image.tmdb.org/t/p/w200/gEU2QniE6E77NI6lCU6MxlNBvIx.jpg' width='200' height='280'></td></tr><tr><td>2329</td><td>American History X (1998)</td><td>Crime|Drama</td><td>3.85</td><td><img src='https://image.tmdb.org/t/p/w200/euypWkaYFOLW3e5rLIcTAjWnhhT.jpg' width='200' height='280'></td></tr><tr><td>164179</td><td>Arrival (2016)</td><td>Sci-Fi</td><td>3.84</td><td><img src='https://image.tmdb.org/t/p/w200/x2FJsf1ElAgr63Y3PNPtJrcmpoe.jpg' width='200' height='280'></td></tr><tr><td>68237</td><td>Moon (2009)</td><td>Drama|Mystery|Sci-Fi|Thriller</td><td>3.73</td><td><img src='https://image.tmdb.org/t/p/w200/35IU0Mq0zFsN1mYwDGts5mKc77n.jpg' width='200' height='280'></td></tr><tr><td>92259</td><td>Intouchables (2011)</td><td>Comedy|Drama</td><td>3.66</td><td><img src='https://image.tmdb.org/t/p/w200/1QU7HKgsQbGpzsJbJK4pAVQV9F5.jpg' width='200' height='280'></td></tr><tr><td>6874</td><td>Kill Bill: Vol. 1 (2003)</td><td>Action|Crime|Thriller</td><td>3.54</td><td><img src='https://image.tmdb.org/t/p/w200/v7TaX8kXMXs5yFFGR41guUDNcnB.jpg' width='200' height='280'></td></tr><tr><td>44555</td><td>Lives of Others, The (Das leben der Anderen) (2006)</td><td>Drama|Romance|Thriller</td><td>3.50</td><td><img src='https://image.tmdb.org/t/p/w200/cVUDMnskSc01rdbyH0tLATTJUdP.jpg' width='200' height='280'></td></tr><tr><td>7438</td><td>Kill Bill: Vol. 2 (2004)</td><td>Action|Drama|Thriller</td><td>3.44</td><td><img src='https://image.tmdb.org/t/p/w200/2yhg0mZQMhDyvUQ4rG1IZ4oIA8L.jpg' width='200' height='280'></td></tr><tr><td>1617</td><td>L.A. Confidential (1997)</td><td>Crime|Film-Noir|Mystery|Thriller</td><td>3.42</td><td><img src='https://image.tmdb.org/t/p/w200/lWCgf5sD5FpMljjpkRhcC8pXcch.jpg' width='200' height='280'></td></tr><tr><td>2542</td><td>Lock, Stock & Two Smoking Barrels (1998)</td><td>Comedy|Crime|Thriller</td><td>3.41</td><td><img src='https://image.tmdb.org/t/p/w200/6pJB2t3MbQUy9m5pFIBHXLqnqNd.jpg' width='200' height='280'></td></tr></table>"
      ],
      "text/plain": [
       "<IPython.core.display.HTML object>"
      ]
     },
     "metadata": {},
     "output_type": "display_data"
    }
   ],
   "source": [
    "# Gợi ý phim cho người dùng được chọn\n",
    "links = pd.read_csv(f\"{DATA_DIR}/links.csv\")\n",
    "print(f\"Gợi ý cho người dùng: {USER_ID}\")\n",
    "recommendations = recommend_movies(USER_ID, R_hat, user_encoder, movie_encoder, movies, ratings)\n",
    "\n",
    "predict = add_poster_column(recommendations, links, TMDB_API_KEY)\n",
    "display_with_posters(predict)"
   ]
  },
  {
   "cell_type": "markdown",
   "id": "35c3bf4e",
   "metadata": {},
   "source": [
    "# Các thuật toán advanced SVD"
   ]
  },
  {
   "cell_type": "markdown",
   "id": "616932df",
   "metadata": {},
   "source": [
    "## **Thuật toán FunkSVD**"
   ]
  },
  {
   "cell_type": "markdown",
   "id": "2541c4dc",
   "metadata": {},
   "source": [
    "### ***1. Thuật toán***"
   ]
  },
  {
   "cell_type": "markdown",
   "id": "b6382398",
   "metadata": {},
   "source": [
    "- **Mục tiêu:** Xấp xỉ ma trận đánh giá thưa $$ R \\in \\mathbb{R}^{n_{\\text{users}} \\times n_{\\text{items}}} $$ bằng tích của hai ma trận yếu tố ẩn  \n",
    "  $$ P \\in \\mathbb{R}^{n_{\\text{users}} \\times k}, \\quad Q \\in \\mathbb{R}^{n_{\\text{items}} \\times k}, \\quad R \\approx PQ^T $$\n",
    "\n",
    "- **Dự đoán:** Điểm đánh giá dự đoán cho người dùng $ u $ và phim $ i $:\n",
    "\n",
    "  $$\n",
    "  \\hat{r}_{ui} = \\mu + b_u + b_i + P_u \\cdot Q_i\n",
    "  $$\n",
    "\n",
    "  Trong đó:\n",
    "\n",
    "  - $\\mu $: Trung bình toàn bộ đánh giá (global bias).\n",
    "  - $ b_u $: Bias của người dùng $u$ (xu hướng đánh giá cao/thấp).\n",
    "  - $ b_i $: Bias của phim $ i $ (xu hướng được đánh giá cao/thấp).\n",
    "  - $ P_u \\cdot Q_i $: Tích vô hướng của vector yếu tố ẩn (kích thước $ k $).\n",
    "\n",
    "- **Hàm mất mát:** Tối thiểu hóa sai số bình phương với điều chuẩn riêng cho bias và yếu tố ẩn:\n",
    "\n",
    "  $\n",
    "  L = \\sum_{(u,i) \\in \\text{known ratings}} (r_{ui} - \\hat{r}_{ui})^2 + \\lambda_{bu,bi} \\left( \\sum_u b_u^2 + \\sum_i b_i^2 \\right) + \\lambda_{pq} \\left( \\sum_u \\| P_u \\|^2 + \\sum_i \\| Q_i \\|^2 \\right)\n",
    "  $\n",
    "\n",
    "  Trong đó:\n",
    "\n",
    "  - $ (r_{ui} - \\hat{r}_{ui})^2 $: Sai số bình phương.\n",
    "  - $ \\lambda_{bu,bi} $: Hệ số điều chuẩn cho bias (`reg_bu_bi`).\n",
    "  - $ \\lambda_{pq} $: Hệ số điều chuẩn cho yếu tố ẩn (`reg_pq`).\n",
    "  - $ b_u^2, b_i^2, \\|P_u\\|^2, \\|Q_i\\|^2 $: Phạt các giá trị lớn để tránh overfitting.\n",
    "\n",
    "- **Tối ưu hóa:** Sử dụng SGD để cập nhật $ \\mu, b_u, b_i, P_u, Q_i $ từng mẫu dữ liệu một cách ngẫu nhiên, với learning rate giảm dần (decay).\n"
   ]
  },
  {
   "cell_type": "markdown",
   "id": "81546c93",
   "metadata": {},
   "source": [
    "### ***2. Xây dựng model bằng hai cách***"
   ]
  },
  {
   "cell_type": "markdown",
   "id": "603e6f97",
   "metadata": {},
   "source": [
    "#### *Cách 1. Sử dụng mô hình implement*"
   ]
  },
  {
   "cell_type": "code",
   "execution_count": null,
   "id": "0d487c23",
   "metadata": {},
   "outputs": [],
   "source": [
    "# Hàm df_to_numpy() dùng để chuyển DataFrame sang NumPy\n",
    "def df_to_numpy(df_):\n",
    "    arr = df_[[\"user_idx\", \"movie_idx\", \"rating\"]].to_numpy()\n",
    "    return arr[:, 0].astype(np.int32), arr[:, 1].astype(np.int32), arr[:, 2].astype(np.float32)"
   ]
  },
  {
   "cell_type": "code",
   "execution_count": null,
   "id": "f31e4543",
   "metadata": {},
   "outputs": [],
   "source": [
    "class FunkSVD:\n",
    "    def __init__(\n",
    "        self,\n",
    "        n_users: int,               # số người dùng\n",
    "        n_items: int,               # số phim\n",
    "        k: int = 50,                # yếu tố ẩn\n",
    "        lr: float = 0.007,\n",
    "        reg_bu_bi: float = 0.01,    # Hệ số điều chuẩn cho bias (b_u, b_i).\n",
    "        reg_pq: float = 0.05,       # Hệ số điều chuẩn cho yếu tố ẩn (P, Q ).\n",
    "        n_epochs: int = 35,\n",
    "        seed: int = 42,\n",
    "        verbose: bool = True,\n",
    "    ):\n",
    "        rng = np.random.default_rng(seed)\n",
    "        # Ma trận yếu tố ẩn người dùng, khởi tạo ngẫu nhiên từ phân phối chuẩn, nhân 0.1 để giá trị nhỏ, kiểu float32.\n",
    "        self.P  = 0.1 * rng.standard_normal((n_users, k)).astype(np.float32)\n",
    "        # Ma trận yếu tố ẩn phim\n",
    "        self.Q  = 0.1 * rng.standard_normal((n_items, k)).astype(np.float32)\n",
    "        #---> Khởi tạo ngẫu nhiên P, Q với giá trị nhỏ tránh gradient lớn ban đầu.\n",
    "        \n",
    "        # Vector bias người dùng (b_u) -> khởi tạo = 0\n",
    "        self.bu = np.zeros(n_users, dtype=np.float32)\n",
    "        # Vector bias phim (b_i), khởi tạo = 0\n",
    "        self.bi = np.zeros(n_items, dtype=np.float32)\n",
    "        #  Global bias (\\mu), khởi tạo = 0 \n",
    "        self.mu = 0.0\n",
    "\n",
    "        self.lr0 = self.lr = lr # Lưu tốc độ học ban đầu và hiện tại (sẽ giảm qua epoch)\n",
    "        self.reg_bu_bi = reg_bu_bi\n",
    "        self.reg_pq    = reg_pq\n",
    "        self.n_epochs  = n_epochs\n",
    "        self.verbose   = verbose\n",
    "        self.train_rmse, self.val_rmse = [], []\n",
    "\n",
    "    # ───── Train ─────\n",
    "    def fit(self, train_df, val_df=None, patience: int = 3):\n",
    "        u_tr, i_tr, r_tr = df_to_numpy(train_df)\n",
    "        if val_df is not None:\n",
    "            u_vl, i_vl, r_vl = df_to_numpy(val_df)\n",
    "\n",
    "        self.mu = r_tr.mean()\n",
    "        best_val = np.inf\n",
    "        no_improve = 0\n",
    "\n",
    "        for ep in range(1, self.n_epochs + 1):\n",
    "            idx = np.random.permutation(len(r_tr))\n",
    "            se = 0.0\n",
    "            for u, i, r in zip(u_tr[idx], i_tr[idx], r_tr[idx]):\n",
    "                pred = self.mu + self.bu[u] + self.bi[i] + self.P[u] @ self.Q[i]\n",
    "                err  = r - pred\n",
    "                se  += err * err\n",
    "\n",
    "                # update bias\n",
    "                self.bu[u] += self.lr * (err - self.reg_bu_bi * self.bu[u])\n",
    "                self.bi[i] += self.lr * (err - self.reg_bu_bi * self.bi[i])\n",
    "\n",
    "                # update latent factors\n",
    "                pu_old = self.P[u].copy()\n",
    "                self.P[u] += self.lr * (err * self.Q[i] - self.reg_pq * self.P[u])\n",
    "                self.Q[i] += self.lr * (err * pu_old    - self.reg_pq * self.Q[i])\n",
    "\n",
    "            rmse_tr = np.sqrt(se / len(r_tr))\n",
    "            self.train_rmse.append(rmse_tr)\n",
    "\n",
    "            # Validation\n",
    "            if val_df is not None:\n",
    "                preds = self.predict_batch(u_vl, i_vl)\n",
    "                rmse_vl = np.sqrt(mean_squared_error(r_vl, preds))\n",
    "                self.val_rmse.append(rmse_vl)\n",
    "\n",
    "                if self.verbose:\n",
    "                    print(f\"Epoch {ep:02d}/{self.n_epochs} – Train {rmse_tr:.4f} | Val {rmse_vl:.4f}\")\n",
    "\n",
    "                # early-stopping\n",
    "                if rmse_vl + 1e-4 < best_val:\n",
    "                    best_val = rmse_vl\n",
    "                    no_improve = 0\n",
    "                    self._best_state = (self.P.copy(), self.Q.copy(), self.bu.copy(), self.bi.copy())\n",
    "                else:\n",
    "                    no_improve += 1\n",
    "                    if no_improve >= patience:\n",
    "                        if self.verbose:\n",
    "                            print(\">>> Early-stopping – restore best epoch.\")\n",
    "                        self.P, self.Q, self.bu, self.bi = self._best_state\n",
    "                        break\n",
    "            else:\n",
    "                if self.verbose:\n",
    "                    print(f\"Epoch {ep:02d}/{self.n_epochs} – Train RMSE: {rmse_tr:.4f}\")\n",
    "\n",
    "            self.lr *= 0.95\n",
    "\n",
    "        return self\n",
    "\n",
    "    # ───── Inference ─────\n",
    "    def predict(self, u_idx: int, i_idx: int) -> float:\n",
    "        est = (\n",
    "            self.mu\n",
    "            + self.bu[u_idx]\n",
    "            + self.bi[i_idx]                \n",
    "            + self.P[u_idx] @ self.Q[i_idx]\n",
    "        )\n",
    "        return float(np.clip(est, 0.5, 5.0))\n",
    "\n",
    "    def predict_batch(self, users, items):\n",
    "        return np.clip(\n",
    "            self.mu + self.bu[users] + self.bi[items] +\n",
    "            np.einsum(\"ij,ij->i\", self.P[users], self.Q[items]),\n",
    "            0.5, 5.0,\n",
    "        )\n",
    "\n",
    "    # ───── Save / Load ─────\n",
    "    def save(self, file_path: str):\n",
    "        \"\"\"\n",
    "        Lưu mô hình ra file .npz. \n",
    "        \"\"\"\n",
    "        dir_name = os.path.dirname(file_path)\n",
    "        if dir_name and not os.path.exists(dir_name):\n",
    "            os.makedirs(dir_name, exist_ok=True)\n",
    "\n",
    "        np.savez_compressed(\n",
    "            file_path,\n",
    "            P=self.P, Q=self.Q,\n",
    "            bu=self.bu, bi=self.bi,\n",
    "            mu=self.mu,\n",
    "            train_rmse=np.array(self.train_rmse),\n",
    "            val_rmse=np.array(self.val_rmse),\n",
    "            lr=self.lr, lr0=self.lr0,\n",
    "            reg_bu_bi=self.reg_bu_bi,\n",
    "            reg_pq=self.reg_pq,\n",
    "        )\n",
    "\n",
    "    def load(self, file_path: str):\n",
    "        \"\"\"\n",
    "        Khôi phục model từ file .npz.\n",
    "        \"\"\"\n",
    "        data = np.load(file_path)\n",
    "        self.P  = data[\"P\"];  self.Q  = data[\"Q\"]\n",
    "        self.bu = data[\"bu\"]; self.bi = data[\"bi\"]\n",
    "        self.mu = float(data[\"mu\"])\n",
    "        self.train_rmse = list(data[\"train_rmse\"])\n",
    "        self.val_rmse   = list(data[\"val_rmse\"])\n",
    "        self.lr  = float(data[\"lr\"]);  self.lr0 = float(data[\"lr0\"])\n",
    "        self.reg_bu_bi = float(data[\"reg_bu_bi\"])\n",
    "        self.reg_pq    = float(data[\"reg_pq\"])\n",
    "        return self"
   ]
  },
  {
   "cell_type": "code",
   "execution_count": null,
   "id": "f52a2117",
   "metadata": {},
   "outputs": [
    {
     "name": "stdout",
     "output_type": "stream",
     "text": [
      "Epoch 01/35 – Train 0.9029 | Val 0.8770\n",
      "Epoch 02/35 – Train 0.8686 | Val 0.8676\n",
      "Epoch 03/35 – Train 0.8608 | Val 0.8630\n",
      "Epoch 04/35 – Train 0.8548 | Val 0.8576\n",
      "Epoch 05/35 – Train 0.8475 | Val 0.8511\n",
      "Epoch 06/35 – Train 0.8403 | Val 0.8457\n",
      "Epoch 07/35 – Train 0.8347 | Val 0.8419\n",
      "Epoch 08/35 – Train 0.8300 | Val 0.8385\n",
      "Epoch 09/35 – Train 0.8259 | Val 0.8353\n",
      "Epoch 10/35 – Train 0.8219 | Val 0.8324\n",
      "Epoch 11/35 – Train 0.8181 | Val 0.8297\n",
      "Epoch 12/35 – Train 0.8144 | Val 0.8270\n",
      "Epoch 13/35 – Train 0.8109 | Val 0.8244\n",
      "Epoch 14/35 – Train 0.8075 | Val 0.8222\n",
      "Epoch 15/35 – Train 0.8043 | Val 0.8201\n",
      "Epoch 16/35 – Train 0.8014 | Val 0.8181\n",
      "Epoch 17/35 – Train 0.7986 | Val 0.8163\n",
      "Epoch 18/35 – Train 0.7960 | Val 0.8146\n",
      "Epoch 19/35 – Train 0.7936 | Val 0.8131\n",
      "Epoch 20/35 – Train 0.7913 | Val 0.8117\n",
      "Epoch 21/35 – Train 0.7892 | Val 0.8104\n",
      "Epoch 22/35 – Train 0.7872 | Val 0.8093\n",
      "Epoch 23/35 – Train 0.7854 | Val 0.8082\n",
      "Epoch 24/35 – Train 0.7837 | Val 0.8072\n",
      "Epoch 25/35 – Train 0.7821 | Val 0.8063\n",
      "Epoch 26/35 – Train 0.7806 | Val 0.8054\n",
      "Epoch 27/35 – Train 0.7792 | Val 0.8046\n",
      "Epoch 28/35 – Train 0.7779 | Val 0.8039\n",
      "Epoch 29/35 – Train 0.7767 | Val 0.8032\n",
      "Epoch 30/35 – Train 0.7755 | Val 0.8026\n",
      "Epoch 31/35 – Train 0.7744 | Val 0.8020\n",
      "Epoch 32/35 – Train 0.7734 | Val 0.8015\n",
      "Epoch 33/35 – Train 0.7725 | Val 0.8009\n",
      "Epoch 34/35 – Train 0.7716 | Val 0.8005\n",
      "Epoch 35/35 – Train 0.7707 | Val 0.8001\n"
     ]
    }
   ],
   "source": [
    "model_funksvd_custom = FunkSVD(\n",
    "    n_users=n_users,\n",
    "    n_items=n_items,\n",
    "    k=50,\n",
    "    lr=0.007,\n",
    "    reg_bu_bi=0.01,\n",
    "    reg_pq=0.05,\n",
    "    n_epochs=35,\n",
    ")\n",
    "model_funksvd_custom.fit(train_df, val_df, patience=3)\n",
    "model_funksvd_custom.save(f\"{DATA_DIR}/funksvd_best.npz\")   "
   ]
  },
  {
   "cell_type": "code",
   "execution_count": null,
   "id": "ccce1f84",
   "metadata": {},
   "outputs": [
    {
     "data": {
      "image/png": "[encoded data removed]",
      "text/plain": [
       "<Figure size 600x400 with 1 Axes>"
      ]
     },
     "metadata": {},
     "output_type": "display_data"
    }
   ],
   "source": [
    "# learning curve\n",
    "plt.figure(figsize=(6, 4))\n",
    "plt.plot(model_funksvd_custom.train_rmse, label=\"Train\")\n",
    "if model_funksvd_custom.val_rmse:\n",
    "    plt.plot(model_funksvd_custom.val_rmse, label=\"Val\")\n",
    "plt.xlabel(\"Epoch\")\n",
    "plt.ylabel(\"RMSE\")\n",
    "plt.title(\"Learning Curve – FunkSVD\")\n",
    "plt.legend()\n",
    "plt.tight_layout()\n",
    "plt.show()"
   ]
  },
  {
   "cell_type": "code",
   "execution_count": null,
   "id": "ceb895fc",
   "metadata": {},
   "outputs": [
    {
     "name": "stdout",
     "output_type": "stream",
     "text": [
      "\n",
      "RMSE | MAE\n",
      "Train: 0.7691 | 0.5855\n",
      "Val  : 0.8001 | 0.6073\n",
      "Test : 0.8005 | 0.6076\n"
     ]
    }
   ],
   "source": [
    "def evaluate(df_, mdl):\n",
    "    u, i, r = df_to_numpy(df_)\n",
    "    pr = mdl.predict_batch(u, i)\n",
    "    return np.sqrt(mean_squared_error(r, pr)), mean_absolute_error(r, pr)\n",
    "\n",
    "train_rmse, train_mae = evaluate(train_df, model_funksvd_custom)\n",
    "val_rmse, val_mae = evaluate(val_df, model_funksvd_custom)\n",
    "test_rmse, test_mae = evaluate(test_df, model_funksvd_custom)\n",
    "\n",
    "print(\n",
    "    f\"\\nRMSE | MAE\\n\"\n",
    "    f\"Train: {train_rmse:.4f} | {train_mae:.4f}\\n\"\n",
    "    f\"Val  : {val_rmse:.4f} | {val_mae:.4f}\\n\"\n",
    "    f\"Test : {test_rmse:.4f} | {test_mae:.4f}\"\n",
    ")"
   ]
  },
  {
   "cell_type": "markdown",
   "id": "46dd62ce",
   "metadata": {},
   "source": [
    "#### *Cách 2. Sử dụng mô hình từ thư viện Surprise*"
   ]
  },
  {
   "cell_type": "code",
   "execution_count": null,
   "id": "2c996d77",
   "metadata": {},
   "outputs": [],
   "source": [
    "class SurpriseFunkSVD:\n",
    "    def __init__(\n",
    "        self,\n",
    "        n_factors=50,\n",
    "        lr_all=0.007,\n",
    "        reg_all=0.02,\n",
    "        n_epochs=20,\n",
    "        verbose=False,\n",
    "        rating_scale=(0.5, 5.0)\n",
    "    ):\n",
    "        self.model = SVD(n_factors=n_factors, lr_all=lr_all, reg_all=reg_all,\n",
    "                         n_epochs=n_epochs, verbose=verbose)\n",
    "        self.rating_scale = rating_scale\n",
    "\n",
    "    def fit(self, train_df):\n",
    "        reader = Reader(rating_scale=self.rating_scale)\n",
    "        data = Dataset.load_from_df(train_df[['user_idx', 'movie_idx', 'rating']], reader)\n",
    "        trainset = data.build_full_trainset()\n",
    "        self.model.fit(trainset)\n",
    "        return self\n",
    "\n",
    "    def predict(self, u_idx: int, i_idx: int) -> float:\n",
    "        est = self.model.predict(uid=u_idx, iid=i_idx).est\n",
    "        return float(np.clip(est, *self.rating_scale))\n",
    "\n",
    "    def predict_batch(self, users, items):\n",
    "        preds = []\n",
    "        for u, i in tqdm(zip(users, items), total=len(users), desc=\"Predicting\"):\n",
    "            preds.append(self.predict(u, i))\n",
    "        return np.array(preds)\n",
    "\n",
    "    def recommend_for_nan(self, df):\n",
    "        df_nan = df[df[\"rating\"].isna()].copy()\n",
    "        predictions = self.predict_batch(df_nan[\"user_idx\"].values, df_nan[\"movie_idx\"].values)\n",
    "        df_nan[\"predicted_rating\"] = predictions\n",
    "        return df_nan\n",
    "\n",
    "    def save(self, file_path: str):\n",
    "        import joblib\n",
    "        joblib.dump(self.model, file_path)\n",
    "\n",
    "    def load(self, file_path: str):\n",
    "        import joblib\n",
    "        self.model = joblib.load(file_path)\n",
    "        return self"
   ]
  },
  {
   "cell_type": "code",
   "execution_count": null,
   "id": "d6f16220",
   "metadata": {},
   "outputs": [
    {
     "name": "stdout",
     "output_type": "stream",
     "text": [
      "Processing epoch 0\n",
      "Processing epoch 1\n",
      "Processing epoch 2\n",
      "Processing epoch 3\n",
      "Processing epoch 4\n",
      "Processing epoch 5\n",
      "Processing epoch 6\n",
      "Processing epoch 7\n",
      "Processing epoch 8\n",
      "Processing epoch 9\n",
      "Processing epoch 10\n",
      "Processing epoch 11\n",
      "Processing epoch 12\n",
      "Processing epoch 13\n",
      "Processing epoch 14\n",
      "Processing epoch 15\n",
      "Processing epoch 16\n",
      "Processing epoch 17\n",
      "Processing epoch 18\n",
      "Processing epoch 19\n",
      "Processing epoch 20\n",
      "Processing epoch 21\n",
      "Processing epoch 22\n",
      "Processing epoch 23\n",
      "Processing epoch 24\n",
      "Processing epoch 25\n",
      "Processing epoch 26\n",
      "Processing epoch 27\n",
      "Processing epoch 28\n",
      "Processing epoch 29\n",
      "Processing epoch 30\n",
      "Processing epoch 31\n",
      "Processing epoch 32\n",
      "Processing epoch 33\n",
      "Processing epoch 34\n"
     ]
    },
    {
     "data": {
      "text/plain": [
       "<__main__.SurpriseFunkSVD at 0x1ed8006c2c0>"
      ]
     },
     "metadata": {},
     "output_type": "display_data"
    }
   ],
   "source": [
    "# Khởi tạo và train model SVD với thư viện surprise\n",
    "model_funksvd = SurpriseFunkSVD(n_factors=50, n_epochs=35)\n",
    "model_funksvd.fit(train_df) "
   ]
  },
  {
   "cell_type": "code",
   "execution_count": null,
   "id": "de9dad70",
   "metadata": {},
   "outputs": [],
   "source": [
    "# Lưu model ra file để dùng lại sau này (không cần train lại)\n",
    "with open(f\"{DATA_DIR}/model_funksvd.pkl\", 'wb') as f:\n",
    "    pickle.dump(model_funksvd, f)"
   ]
  },
  {
   "cell_type": "code",
   "execution_count": null,
   "id": "6305c71c",
   "metadata": {},
   "outputs": [
    {
     "name": "stderr",
     "output_type": "stream",
     "text": [
      "Predicting: 100%|██████████| 2000008/2000008 [00:28<00:00, 70853.08it/s] \n"
     ]
    }
   ],
   "source": [
    "# Dự đoán rating trên tập val\n",
    "preds = model_funksvd.predict_batch(val_df[\"user_idx\"], val_df[\"movie_idx\"])\n",
    "val_df[\"predicted_rating\"] = preds"
   ]
  },
  {
   "cell_type": "code",
   "execution_count": null,
   "id": "a3a71547",
   "metadata": {},
   "outputs": [
    {
     "name": "stderr",
     "output_type": "stream",
     "text": [
      "Predicting: 100%|██████████| 18000068/18000068 [04:19<00:00, 69326.86it/s] \n",
      "Predicting: 100%|██████████| 2000008/2000008 [00:19<00:00, 105045.19it/s]\n",
      "Predicting: 100%|██████████| 5000019/5000019 [01:18<00:00, 64042.52it/s] \n"
     ]
    },
    {
     "name": "stdout",
     "output_type": "stream",
     "text": [
      "\n",
      "RMSE  | MAE\n",
      "Train: 0.6132 | 0.4646\n",
      "Val  : 0.7863 | 0.5916\n",
      "Test : 0.7862 | 0.5916\n"
     ]
    }
   ],
   "source": [
    "def evaluate(df, model):\n",
    "    u, i, r = df[\"user_idx\"], df[\"movie_idx\"], df[\"rating\"]\n",
    "    p = model.predict_batch(u, i)\n",
    "    return np.sqrt(mean_squared_error(r, p)), mean_absolute_error(r, p)\n",
    "\n",
    "tr_rmse, tr_mae = evaluate(train_df, model_funksvd)\n",
    "vl_rmse, vl_mae = evaluate(val_df, model_funksvd)\n",
    "ts_rmse, ts_mae = evaluate(test_df, model_funksvd)\n",
    "\n",
    "print(\n",
    "    f\"\\nRMSE  | MAE\\n\"\n",
    "    f\"Train: {tr_rmse:.4f} | {tr_mae:.4f}\\n\"\n",
    "    f\"Val  : {vl_rmse:.4f} | {vl_mae:.4f}\\n\"\n",
    "    f\"Test : {ts_rmse:.4f} | {ts_mae:.4f}\"\n",
    ")\n"
   ]
  },
  {
   "cell_type": "markdown",
   "id": "4da8c470",
   "metadata": {},
   "source": [
    "## **Thuật toán SVD++**"
   ]
  },
  {
   "cell_type": "markdown",
   "id": "368d950e",
   "metadata": {},
   "source": [
    "### ***1. Thuật toán***"
   ]
  },
  {
   "cell_type": "markdown",
   "id": "7656c8fd",
   "metadata": {},
   "source": [
    "#### **a. Công thức dự đoán rating và ý tưởng**\n",
    "\n",
    "Giả sử $R_{n \\times m}$ là ma trận đánh giá gồm $n$ người dùng và $m$ mặt hàng. Mỗi phần tử $r_{ui}$ là đánh giá của người dùng $u$ cho mặt hàng $i$.\n",
    "\n",
    "Công thức dự đoán rating trong mô hình **SVD++** là:\n",
    "\n",
    "$$\n",
    "\\hat{r}_{ui} = \\mu + b_u + b_i + q_i^T \\left(p_u + \\frac{1}{\\sqrt{|N(u)|}} \\sum_{j \\in N(u)} y_j \\right)\n",
    "$$\n",
    "\n",
    "Trong đó:\n",
    "\n",
    "- $\\mu$: trung bình các rating toàn bộ hệ thống  \n",
    "- $b_u$, $b_i$: độ lệch riêng của người dùng $u$ và movie $i$  \n",
    "- $p_u$, $q_i$: vector tiềm ẩn đại diện cho người dùng và movie\n",
    "- $y_j$: vector phản hồi ngầm của movie $j$\n",
    "- $N(u)$: tập các movie mà người dùng $u$ đã đánh giá\n",
    "\n",
    "Ý tưởng của SVD++ là kết hợp **cả thông tin explicit (rating)** và **implicit feedback (dạng hành vi như gắn tag, click, xem phim, v.v.)** để cải thiện độ chính xác khi dự đoán.\n",
    "\n",
    "\n",
    "#### **b. Hàm mất mát (Loss function)**\n",
    "\n",
    "Hàm mất mát của mô hình SVD++ được định nghĩa như sau:\n",
    "\n",
    "$$\n",
    "\\sum_{r_{ui} \\in R} \\left[ \\left(r_{ui} - \\mu - b_u - b_i - q_i^T \\left(p_u + \\frac{1}{\\sqrt{|N(u)|}} \\sum_{j \\in R(u)} y_j \\right) \\right)^2 + \\lambda_1 (b_u^2 + b_i^2) + \\lambda_2 ( \\|p_u\\|^2 + \\|q_i\\|^2 ) \\right]\n",
    "$$\n",
    "\n",
    "Giải thích các thành phần:\n",
    "\n",
    "- Thành phần đầu là **sai số bình phương** giữa rating thực tế và rating dự đoán.\n",
    "\n",
    "- Các biểu thức chứa $\\lambda_1$ và $\\lambda_2$ là **regularization**:\n",
    "\n",
    "  - $\\lambda_1$: điều chỉnh độ lệch (bias)\n",
    "\n",
    "  - $\\lambda_2$: điều chỉnh độ lớn của vector tiềm ẩn\n",
    "\n",
    "Regularization giúp giảm **overfitting**, nhất là khi dữ liệu đánh giá bị **thưa** (sparse). Nó hạn chế mô hình \"học thuộc\" toàn bộ dữ liệu train và giúp tổng quát hóa tốt hơn trên tập validation.\n",
    "\n",
    "\n",
    "#### **c. Quy tắc cập nhật tham số bằng SGD**\n",
    "\n",
    "Với mỗi mini-batch, chọn ngẫu nhiên các mẫu và cập nhật các tham số $b_u, b_i, p_u, q_i, y_j$ dựa trên sai số $e_{ui} = r_{ui} - \\hat{r}_{ui}$ theo các công thức sau:\n",
    "\n",
    "- $\n",
    "b_u \\leftarrow b_u + \\gamma \\cdot (e_{ui} - \\lambda_1 \\cdot b_u)\n",
    "$\n",
    "\n",
    "- $\n",
    "b_i \\leftarrow b_i + \\gamma \\cdot (e_{ui} - \\lambda_1 \\cdot b_i)\n",
    "$\n",
    "\n",
    "- $\n",
    "q_i \\leftarrow q_i + \\gamma \\cdot \\left( e_{ui} \\cdot \\left( p_u + \\frac{1}{\\sqrt{|N(u)|}} \\sum_{j \\in N(u)} y_j \\right) - \\lambda_2 \\cdot q_i \\right)\n",
    "$\n",
    "\n",
    "- $\n",
    "p_u \\leftarrow p_u + \\gamma \\cdot (e_{ui} \\cdot q_i - \\lambda_2 \\cdot p_u)\n",
    "$\n",
    "\n",
    "- $\n",
    "\\forall j \\in N(u): \\quad y_j \\leftarrow y_j + \\gamma \\cdot \\left( \\frac{e_{ui}}{\\sqrt{|N(u)|}} \\cdot q_i - \\lambda_2 \\cdot y_j \\right)\n",
    "$\n",
    "\n",
    "Trong đó:\n",
    "\n",
    "- $\\gamma$: learning rate  \n",
    "- $\\lambda_1, \\lambda_2$: hệ số regularization  \n",
    "- $N(u)$: tập các movie mà user $u$ đã đánh giá  \n",
    "\n",
    "Mỗi lần cập nhật là một bước tiến nhỏ giúp mô hình tối ưu dần các tham số để giảm sai số dự đoán.\n"
   ]
  },
  {
   "cell_type": "markdown",
   "id": "74e30b83",
   "metadata": {},
   "source": [
    "### ***2. Xây dựng model bằng hai cách***"
   ]
  },
  {
   "cell_type": "markdown",
   "id": "ecab0864",
   "metadata": {},
   "source": [
    "#### *Cách 1. Sử dụng mô hình implement*"
   ]
  },
  {
   "cell_type": "markdown",
   "id": "b224a7ee",
   "metadata": {},
   "source": [
    "##### **1.1. Tạo data train/test/eval**"
   ]
  },
  {
   "cell_type": "markdown",
   "id": "f5627bfa",
   "metadata": {},
   "source": [
    "**Explicit feedback**\n",
    "\n",
    "- Đảm bảo các movies trong val/test đều đã xuất hiện trong train $\\to$ tránh hiện tượng **cold-start for item** khi train model - tức là không đưa những movies mà mô hình chưa từng thấy.\n",
    "\n",
    "- Trích xuất `[user_idx, movie_idx, rating]` cho từng tập."
   ]
  },
  {
   "cell_type": "code",
   "execution_count": null,
   "id": "54d2a16e",
   "metadata": {},
   "outputs": [],
   "source": [
    "# Loại bỏ movieId trong val/test không có trong train -> tránh hiện tượng cold-start for item\n",
    "train_movie_ids = set(train_df['movieId'])\n",
    "\n",
    "val_df_pp = val_df[val_df['movieId'].isin(train_movie_ids)].copy()\n",
    "test_df_pp = test_df[test_df['movieId'].isin(train_movie_ids)].copy()\n",
    "\n",
    "# Cập nhật lại movie_idx sau khi lọc\n",
    "val_df_pp['movie_idx'] = movie_encoder.transform(val_df_pp['movieId'])\n",
    "test_df_pp['movie_idx'] = movie_encoder.transform(test_df_pp['movieId'])"
   ]
  },
  {
   "cell_type": "code",
   "execution_count": null,
   "id": "503ec3ac",
   "metadata": {},
   "outputs": [],
   "source": [
    "# Tạo dữ liệu train/test/val cho ratings (đã encode)\n",
    "train_pp = train_df[['user_idx', 'movie_idx', 'rating']]\n",
    "val_pp = val_df_pp[['user_idx', 'movie_idx', 'rating']]\n",
    "test_pp = test_df_pp[['user_idx', 'movie_idx', 'rating']]"
   ]
  },
  {
   "cell_type": "markdown",
   "id": "217c8d3a",
   "metadata": {},
   "source": [
    "**Implicit feedback**\n",
    "\n",
    "Kết hợp 2 nguồn thông tin để tạo implicit_feedback:\n",
    "\n",
    "- Các movies mà user đã đánh giá (từ ratings).\n",
    "\n",
    "- Các movies mà user đã gắn tags (từ tags).\n",
    "\n",
    "**1. Từ ratings**\n",
    "\n",
    "- Tập `N(u)` được xây dựng cho mỗi user bằng cách lấy toàn bộ các movies mà họ đã đánh giá. Tuy nhiên, nếu dùng toàn bộ tập này (rất lớn), gây rất chậm khi train model $\\to$ áp dụng **sampling**\n",
    "\n",
    "    - Ưu tiên giữ lại các movies phổ biến theo `topk_ratio` (dựa trên tần suất trong tập train).\n",
    "\n",
    "    - Kết hợp chọn ngẫu nhiên phần còn lại để giữ đa dạng.\n",
    "\n",
    "- Việc lấy mẫu như vậy giúp cân bằng giữa độ đại diện của các movies quan trọng và độ đa dạng để tránh mô hình bị lệch về các movies phổ biến.\n",
    "\n",
    "**2. Từ tags**\n",
    "\n",
    "- Tags phản ánh mức độ tương tác chủ động và mang tính ngữ nghĩa của người dùng với movies. Việc một user tự gắn tag cho một bộ phim cho thấy mức độ chú ý, quan tâm hoặc cảm nhận cá nhân mạnh hơn so với chỉ đơn thuần là đánh giá số sao. Bước làm để tích hợp thông tin này: \n",
    "\n",
    "    - Giữ lại những dòng tag mà user và movie đã tồn tại trong train (tránh cold-start)\n",
    "\n",
    "    - Giới hạn số lượng tag mỗi user (tối đa 20) để kiểm soát độ lớn của tập N(u). Ưu tiên tag theo thời gian gắn (hoặc có thể lấy ngẫu nhiên)\n",
    "\n",
    "- Các movies từ tags sau đó được thêm vào `N(u)` đã lấy mẫu từ ratings, tạo nên một tập implicit feedback hoàn chỉnh."
   ]
  },
  {
   "cell_type": "code",
   "execution_count": null,
   "id": "20e3653c",
   "metadata": {},
   "outputs": [],
   "source": [
    "# === XỬ LÝ RATINGS ===\n",
    "# CÁC PHIM NGƯỜI DÙNG ĐÃ RATING (lấy 20 phim phổ biến nhất)\n",
    "\n",
    "implicit_feedback = defaultdict(set)\n",
    "\n",
    "# Duyệt qua từng row trong train -> implicit_feedback\n",
    "for row in train_df.itertuples():\n",
    "    implicit_feedback[row.user_idx].add(row.movie_idx)\n",
    "\n",
    "# Đếm số lần mỗi item xuất hiện trong tập train\n",
    "item_counts = Counter(train_pp['movie_idx'])\n",
    "\n",
    "def sample_Nu(full_Nu, item_counts, k=20, topk_ratio=0.3):\n",
    "    \"\"\"\n",
    "    Lấy mẫu k item từ tập N(u) = các item user đã tương tác, kết hợp giữa chọn phổ biến và ngẫu nhiên.\n",
    "\n",
    "    Args:\n",
    "        full_Nu (set): Tập đầy đủ các item user đã tương tác.\n",
    "        item_counts (dict): Độ phổ biến (tần suất) của mỗi item trong tập train.\n",
    "        k (int): Số item cần lấy mẫu.\n",
    "        topk_ratio (float): Tỷ lệ item được chọn theo độ phổ biến.\n",
    "\n",
    "    Returns:\n",
    "        set: Tập k item đã lấy mẫu từ N(u).\n",
    "    \"\"\"\n",
    "    if len(full_Nu) <= k:\n",
    "        return full_Nu  # Nếu số lượng item < k, trả về toàn bộ\n",
    "\n",
    "    # Sắp xếp các item theo độ phổ biến giảm dần\n",
    "    sorted_items = sorted(full_Nu, key=lambda i: -item_counts[i])\n",
    "\n",
    "    # Xác định số lượng item chọn theo độ phổ biến\n",
    "    topk = int(k * topk_ratio)\n",
    "    top_items = sorted_items[:topk]  # Lấy các item phổ biến nhất\n",
    "\n",
    "    # Lấy phần còn lại bằng cách chọn ngẫu nhiên\n",
    "    remaining = list(set(full_Nu) - set(top_items))\n",
    "    rand_items = random.sample(remaining, k - topk)\n",
    "\n",
    "    # Hợp nhất 2 phần thành tập kết quả\n",
    "    return set(top_items + rand_items)\n",
    "\n",
    "# Lấy mẫu implicit feedback cho từng user từ tập N(u) đầy đủ\n",
    "implicit_feedback_sampled = {\n",
    "    u: sample_Nu(full_Nu, item_counts, k=20, topk_ratio=0.3)\n",
    "    for u, full_Nu in implicit_feedback.items()\n",
    "}"
   ]
  },
  {
   "cell_type": "code",
   "execution_count": null,
   "id": "390de4f3",
   "metadata": {},
   "outputs": [],
   "source": [
    "# === XỬ LÝ FILE TAGS ===\n",
    "\n",
    "# Giữ lại các dòng tag có userId và movieId tồn tại trong encoder (tức là đã xuất hiện trong dữ liệu train)\n",
    "tags_filtered = tags[\n",
    "    tags['userId'].isin(user_encoder.classes_) & \n",
    "    tags['movieId'].isin(movie_encoder.classes_)\n",
    "].copy()\n",
    "\n",
    "# Encode userId và movieId thành chỉ số tương ứng (index) \n",
    "tags_filtered['user_idx'] = user_encoder.transform(tags_filtered['userId'])\n",
    "tags_filtered['movie_idx'] = movie_encoder.transform(tags_filtered['movieId'])\n",
    "\n",
    "# Giữ tối đa 20 tag cho mỗi user\n",
    "tags_filtered = tags_filtered.sort_values('timestamp') \n",
    "tags_sampled = tags_filtered.groupby('user_idx').head(20)  \n",
    "\n",
    "# Cập nhật implicit_feedback_sampled bằng cách thêm các item từ tags\n",
    "for row in tags_sampled.itertuples():\n",
    "    implicit_feedback_sampled[row.user_idx].add(row.movie_idx)"
   ]
  },
  {
   "cell_type": "markdown",
   "id": "fc169a17",
   "metadata": {},
   "source": [
    "##### **1.2. Xây dựng mô hình**"
   ]
  },
  {
   "cell_type": "code",
   "execution_count": null,
   "id": "45f0f6fb",
   "metadata": {},
   "outputs": [],
   "source": [
    "class SVDppCustom:\n",
    "    \"\"\"\n",
    "    Triển khai mô hình SVD++ cho bài toán hệ thống gợi ý có sử dụng thông tin phản hồi ngầm (implicit feedback).\n",
    "    \"\"\"\n",
    "    def __init__(self, n_users, n_items, \n",
    "                 n_factors=20, \n",
    "                 lr=0.005, \n",
    "                 reg=0.02,\n",
    "                 reg1=None,\n",
    "                 reg2=None, \n",
    "                 decay=0.95,\n",
    "                 n_epochs=20):\n",
    "        \"\"\"\n",
    "        Khởi tạo các tham số và ma trận ban đầu của mô hình.\n",
    "\n",
    "        Args:\n",
    "            n_users (int): Số lượng người dùng.\n",
    "            n_items (int): Số lượng sản phẩm (item).\n",
    "            n_factors (int): Số lượng latent factors.\n",
    "            lr (float): Learning rate ban đầu.\n",
    "            reg (float): Hệ số điều chuẩn (regularization).\n",
    "            reg1 (float): Điều chuẩn cho bias, nếu không có sẽ lấy theo reg.\n",
    "            reg2 (float): Điều chuẩn cho vector P, Q, Y, nếu không có sẽ lấy theo reg.\n",
    "            decay (float): Tỷ lệ giảm learning rate sau mỗi epoch.\n",
    "            n_epochs (int): Số vòng lặp huấn luyện.\n",
    "        \"\"\"\n",
    "        self.n_users = n_users\n",
    "        self.n_items = n_items \n",
    "        self.n_factors = n_factors\n",
    "        self.lr = lr\n",
    "        self.reg = reg\n",
    "        self.reg1 = reg1 if reg1 is not None else reg\n",
    "        self.reg2 = reg2 if reg2 is not None else reg\n",
    "        self.decay=decay\n",
    "        self.n_epochs = n_epochs\n",
    "\n",
    "        # Khởi tạo bias cho người dùng và item\n",
    "        self.b_u = np.zeros(n_users)\n",
    "        self.b_i = np.zeros(n_items)\n",
    "\n",
    "        # Khởi tạo latent factors cho người dùng (P), item (Q), và phản hồi ngầm (Y)\n",
    "        self.P = np.random.normal(0, 0.1, (n_users, n_factors))\n",
    "        self.Q = np.random.normal(0, 0.1, (n_items, n_factors))\n",
    "        self.Y = np.random.normal(0, 0.1, (n_items, n_factors))\n",
    "\n",
    "        # Giá trị trung bình toàn bộ dữ liệu\n",
    "        self.global_mean = 0\n",
    "\n",
    "    def fit(self, train_data, implicit_feedback, \n",
    "            val_data=None,\n",
    "            early_stopping=True,\n",
    "            patience=3):\n",
    "        \"\"\"\n",
    "        Huấn luyện mô hình SVD++ trên tập dữ liệu huấn luyện.\n",
    "        Args:\n",
    "            train_data (DataFrame): Dữ liệu huấn luyện chứa user_idx, movie_idx và rating.\n",
    "            implicit_feedback (dict): Phản hồi ngầm - ánh xạ người dùng tới tập các item họ đã tương tác.\n",
    "            val_data (DataFrame, optional): Tập dữ liệu validation để theo dõi quá trình huấn luyện.\n",
    "            early_stopping (bool): Có sử dụng early stopping hay không.\n",
    "            patience (int): Số epoch cho phép mô hình không cải thiện trước khi dừng sớm.\n",
    "        \"\"\"\n",
    "        user_ids = train_data['user_idx'].values\n",
    "        item_ids = train_data['movie_idx'].values \n",
    "        ratings = train_data['rating'].values\n",
    "\n",
    "        self.global_mean = np.mean(ratings)\n",
    "        self.Nu = implicit_feedback\n",
    "\n",
    "        best_val_rmse = float('inf')\n",
    "        patience_counter = 0\n",
    "\n",
    "        for epoch in range(self.n_epochs):\n",
    "            rmse_accum = 0\n",
    "\n",
    "            for u, i, r_ui in tqdm(zip(user_ids, item_ids, ratings), total=len(ratings), desc=f\"Training epoch {epoch+1}\", leave=False):\n",
    "                Nu_u = self.Nu.get(u, set())  # Lấy tập item mà user đã tương tác\n",
    "                sqrt_Nu = np.sqrt(len(Nu_u)) if Nu_u else 1.0\n",
    "\n",
    "                # Tính tổng các vector Y của implicit feedback\n",
    "                y_sum = np.sum(self.Y[list(Nu_u)], axis=0) / sqrt_Nu if Nu_u else 0\n",
    "\n",
    "                # Dự đoán rating\n",
    "                pred = self.global_mean + self.b_u[u] + self.b_i[i] + np.dot(self.Q[i], self.P[u] + y_sum)\n",
    "                err = r_ui - pred\n",
    "                rmse_accum += err ** 2\n",
    "\n",
    "                # Cập nhật bias và latent vectors\n",
    "                self.b_u[u] += self.lr * (err - self.reg1 * self.b_u[u])\n",
    "                self.b_i[i] += self.lr * (err - self.reg1 * self.b_i[i])\n",
    "                self.P[u] += self.lr * (err * self.Q[i] - self.reg2 * self.P[u])\n",
    "                self.Q[i] += self.lr * (err * (self.P[u] + y_sum) - self.reg2 * self.Q[i])\n",
    "\n",
    "                # Cập nhật latent factors Y cho implicit feedback\n",
    "                if Nu_u:\n",
    "                    grad_y = err * self.Q[i] / sqrt_Nu\n",
    "                    for j in Nu_u:\n",
    "                        self.Y[j] += self.lr * (grad_y - self.reg2 * self.Y[j])\n",
    "\n",
    "            train_rmse = np.sqrt(rmse_accum / len(ratings))\n",
    "\n",
    "            # Đánh giá trên tập validation nếu có\n",
    "            if val_data is not None:\n",
    "                val_rmse = self.rmse(val_data)\n",
    "                print(f\"\\tEpoch {epoch+1}: Train RMSE = {train_rmse:.5f} | Val RMSE = {val_rmse:.5f}\") \n",
    "\n",
    "                # Kiểm tra điều kiện dừng sớm\n",
    "                if val_rmse < best_val_rmse:\n",
    "                    best_val_rmse = val_rmse  \n",
    "                    patience_counter = 0\n",
    "                else:\n",
    "                    patience_counter += 1\n",
    "                    if early_stopping and patience_counter >= patience:\n",
    "                        print(f\"Early stopping at epoch {epoch+1}\")\n",
    "                        break\n",
    "            else:\n",
    "                print(f\"\\tEpoch {epoch+1}: Train RMSE = {train_rmse:.5f}\")\n",
    "            \n",
    "            # Giảm learning rate sau mỗi epoch\n",
    "            self.lr *= self.decay\n",
    "\n",
    "    def predict_single(self, u, i):\n",
    "        \"\"\"\n",
    "        Dự đoán rating cho một cặp người dùng - item cụ thể.\n",
    "        Args:\n",
    "            u (int): Chỉ số người dùng.\n",
    "            i (int): Chỉ số item.\n",
    "\n",
    "        Returns:\n",
    "            float: Giá trị dự đoán rating, được clip trong khoảng [0.5, 5.0].\n",
    "        \"\"\"\n",
    "        Nu_u = self.Nu.get(u, set())\n",
    "        sqrt_Nu = np.sqrt(len(Nu_u)) if Nu_u else 1.0\n",
    "        y_sum = np.sum(self.Y[list(Nu_u)], axis=0) / sqrt_Nu if Nu_u else 0\n",
    "\n",
    "        pred = self.global_mean + self.b_u[u] + self.b_i[i] + np.dot(self.Q[i], self.P[u] + y_sum)\n",
    "        return np.clip(pred, 0.5, 5.0)\n",
    "\n",
    "    def rmse(self, data):\n",
    "        \"\"\"\n",
    "        Tính toán Root Mean Squared Error (RMSE) trên tập dữ liệu.\n",
    "        Args:\n",
    "            data (DataFrame): Dữ liệu chứa user_idx, movie_idx và rating.\n",
    "        \"\"\"\n",
    "        user_ids = data['user_idx'].values\n",
    "        item_ids = data['movie_idx'].values\n",
    "        ratings = data['rating'].values\n",
    "\n",
    "        # Dự đoán cho toàn bộ tập dữ liệu\n",
    "        preds = [self.predict_single(u, i) for u, i in \n",
    "                 tqdm(zip(user_ids, item_ids), total=len(data), desc=\"Evaluating\", leave=False)]    \n",
    "        preds = np.array(preds)\n",
    "        return np.sqrt(np.mean((ratings - preds) ** 2))\n",
    "\n",
    "    def mae(self, data):\n",
    "        \"\"\"\n",
    "        Tính toán Mean Absolute Error (MAE) trên tập dữ liệu.\n",
    "        Args:\n",
    "            data (DataFrame): Dữ liệu chứa user_idx, movie_idx và rating.\n",
    "        \"\"\"\n",
    "        user_ids = data['user_idx'].values\n",
    "        item_ids = data['movie_idx'].values\n",
    "        ratings = data['rating'].values\n",
    "\n",
    "        # Dự đoán cho toàn bộ tập dữ liệu\n",
    "        preds = [self.predict_single(u, i) for u, i in \n",
    "                 tqdm(zip(user_ids, item_ids), total=len(data), desc=\"Evaluating\", leave=False)]    \n",
    "        preds = np.array(preds)\n",
    "        return np.mean(np.abs(ratings - preds))"
   ]
  },
  {
   "cell_type": "code",
   "execution_count": null,
   "id": "e6e70c8c",
   "metadata": {},
   "outputs": [
    {
     "name": "stderr",
     "output_type": "stream",
     "text": [
      "                                                                                \r"
     ]
    },
    {
     "name": "stdout",
     "output_type": "stream",
     "text": [
      "\tEpoch 1: Train RMSE = 0.90252 | Val RMSE = 0.87572\n"
     ]
    },
    {
     "name": "stderr",
     "output_type": "stream",
     "text": [
      "                                                                                \r"
     ]
    },
    {
     "name": "stdout",
     "output_type": "stream",
     "text": [
      "\tEpoch 2: Train RMSE = 0.86416 | Val RMSE = 0.85920\n"
     ]
    },
    {
     "name": "stderr",
     "output_type": "stream",
     "text": [
      "                                                                               \r"
     ]
    },
    {
     "name": "stdout",
     "output_type": "stream",
     "text": [
      "\tEpoch 3: Train RMSE = 0.84815 | Val RMSE = 0.84821\n"
     ]
    },
    {
     "name": "stderr",
     "output_type": "stream",
     "text": [
      "                                                                                \r"
     ]
    },
    {
     "name": "stdout",
     "output_type": "stream",
     "text": [
      "\tEpoch 4: Train RMSE = 0.83789 | Val RMSE = 0.84158\n"
     ]
    },
    {
     "name": "stderr",
     "output_type": "stream",
     "text": [
      "                                                                                \r"
     ]
    },
    {
     "name": "stdout",
     "output_type": "stream",
     "text": [
      "\tEpoch 5: Train RMSE = 0.83072 | Val RMSE = 0.83656\n"
     ]
    },
    {
     "name": "stderr",
     "output_type": "stream",
     "text": [
      "                                                                                \r"
     ]
    },
    {
     "name": "stdout",
     "output_type": "stream",
     "text": [
      "\tEpoch 6: Train RMSE = 0.82475 | Val RMSE = 0.83232\n"
     ]
    },
    {
     "name": "stderr",
     "output_type": "stream",
     "text": [
      "                                                                               \r"
     ]
    },
    {
     "name": "stdout",
     "output_type": "stream",
     "text": [
      "\tEpoch 7: Train RMSE = 0.81948 | Val RMSE = 0.82863\n"
     ]
    },
    {
     "name": "stderr",
     "output_type": "stream",
     "text": [
      "                                                                               \r"
     ]
    },
    {
     "name": "stdout",
     "output_type": "stream",
     "text": [
      "\tEpoch 8: Train RMSE = 0.81471 | Val RMSE = 0.82530\n"
     ]
    },
    {
     "name": "stderr",
     "output_type": "stream",
     "text": [
      "                                                                               \r"
     ]
    },
    {
     "name": "stdout",
     "output_type": "stream",
     "text": [
      "\tEpoch 9: Train RMSE = 0.81025 | Val RMSE = 0.82222\n"
     ]
    },
    {
     "name": "stderr",
     "output_type": "stream",
     "text": [
      "                                                                                \r"
     ]
    },
    {
     "name": "stdout",
     "output_type": "stream",
     "text": [
      "\tEpoch 10: Train RMSE = 0.80605 | Val RMSE = 0.81938\n"
     ]
    }
   ],
   "source": [
    "n_users_pp = train_pp['user_idx'].max() + 1\n",
    "n_items_pp = train_pp['movie_idx'].max() + 1\n",
    "\n",
    "model_svdpp_cus = SVDppCustom(\n",
    "    n_users=n_users_pp,\n",
    "    n_items=n_items_pp,\n",
    "    n_factors=50,\n",
    "    lr=0.007,\n",
    "    reg=0.05,\n",
    "    reg1=0.01,\n",
    "    reg2=0.05,\n",
    "    decay=0.95,\n",
    "    n_epochs=10\n",
    ")\n",
    "\n",
    "model_svdpp_cus.fit(\n",
    "    train_data=train_pp,\n",
    "    implicit_feedback=implicit_feedback_sampled,\n",
    "    val_data=val_pp\n",
    ")"
   ]
  },
  {
   "cell_type": "code",
   "execution_count": null,
   "id": "320a9570",
   "metadata": {},
   "outputs": [],
   "source": [
    "with open(f\"{DATA_DIR}/model_svdpp_cus.pkl\", 'wb') as f:\n",
    "    pickle.dump(model_svdpp_cus, f)"
   ]
  },
  {
   "cell_type": "code",
   "execution_count": null,
   "id": "5da7d1d8",
   "metadata": {},
   "outputs": [
    {
     "name": "stderr",
     "output_type": "stream",
     "text": [
      "                                                                          \r"
     ]
    },
    {
     "name": "stdout",
     "output_type": "stream",
     "text": [
      "\n",
      "RMSE | MAE\n",
      "Train: 0.8008 | 0.6096\n",
      "Val  : 0.8194 | 0.6230\n",
      "Test : 0.8198 | 0.6232\n"
     ]
    }
   ],
   "source": [
    "print(\n",
    "    f\"\\nRMSE | MAE\\n\"\n",
    "    f\"Train: {model_svdpp_cus.rmse(train_pp):.4f} | {model_svdpp_cus.mae(train_pp):.4f}\\n\"\n",
    "    f\"Val  : {model_svdpp_cus.rmse(val_pp):.4f} | {model_svdpp_cus.mae(val_pp):.4f}\\n\"\n",
    "    f\"Test : {model_svdpp_cus.rmse(test_pp):.4f} | {model_svdpp_cus.mae(test_pp):.4f}\"\n",
    ")"
   ]
  },
  {
   "cell_type": "markdown",
   "id": "d411b301",
   "metadata": {},
   "source": [
    "#### *Cách 2. Sử dụng mô hình từ thư viện Surprise*"
   ]
  },
  {
   "cell_type": "markdown",
   "id": "ab40f8cc",
   "metadata": {},
   "source": [
    "##### **2.1. Xử lí data train**"
   ]
  },
  {
   "cell_type": "code",
   "execution_count": null,
   "id": "a8e2f51a",
   "metadata": {},
   "outputs": [
    {
     "name": "stdout",
     "output_type": "stream",
     "text": [
      "Số lượng tương tác thêm vào từ implicit feedback: 16648\n",
      "Kích thước train_df gốc: 20250076 -> sau khi thêm: 20266724\n"
     ]
    }
   ],
   "source": [
    "# Tạo tập các cặp đã có trong train_df\n",
    "rated_pairs = set(zip(train_df['user_idx'], train_df['movie_idx']))\n",
    "\n",
    "# Tính trung bình rating theo user\n",
    "user_mean_rating = train_df.groupby('user_idx')['rating'].mean().to_dict()\n",
    "\n",
    "# Danh sách lưu dòng mới\n",
    "additional_rows = []\n",
    "\n",
    "for user_idx, movie_idxs in implicit_feedback_sampled.items():\n",
    "    for movie_idx in movie_idxs:\n",
    "        if (user_idx, movie_idx) not in rated_pairs:\n",
    "            avg_rating = user_mean_rating.get(user_idx, 3.0)  # fallback = 3.0 nếu không có\n",
    "            additional_rows.append({\n",
    "                'user_idx': user_idx,\n",
    "                'movie_idx': movie_idx,\n",
    "                'rating': avg_rating\n",
    "            })\n",
    "\n",
    "# Chuyển thành DataFrame\n",
    "additional_df = pd.DataFrame(additional_rows)\n",
    "\n",
    "# Nối vào train_df\n",
    "train_tags_df = pd.concat([train_df, additional_df], ignore_index=True)\n",
    "\n",
    "print(f\"Số lượng tương tác thêm vào từ implicit feedback: {len(additional_df)}\")\n",
    "print(f\"Kích thước train_df gốc: {len(train_df)} -> sau khi thêm: {len(train_tags_df)}\")"
   ]
  },
  {
   "cell_type": "code",
   "execution_count": null,
   "id": "8d678ab5",
   "metadata": {},
   "outputs": [],
   "source": [
    "# Định nghĩa Reader\n",
    "reader = Reader(rating_scale=(0.5, 5))\n",
    "\n",
    "# Tạo trainset và testset từ DataFrame\n",
    "trainset = Dataset.load_from_df(train_tags_df[['user_idx', 'movie_idx', 'rating']], reader=reader).build_full_trainset()\n",
    "valset = list(val_df[['user_idx', 'movie_idx', 'rating']].itertuples(index=False, name=None))\n",
    "testset = list(test_df[['user_idx', 'movie_idx', 'rating']].itertuples(index=False, name=None))"
   ]
  },
  {
   "cell_type": "markdown",
   "id": "b1ba915e",
   "metadata": {},
   "source": [
    "##### **2.2. Xây dựng mô hình**"
   ]
  },
  {
   "cell_type": "code",
   "execution_count": 1,
   "id": "7b0a890d",
   "metadata": {},
   "outputs": [
    {
     "name": "stdout",
     "output_type": "stream",
     "text": [
      "Processing epoch 0\n",
      "Processing epoch 1\n",
      "Processing epoch 2\n",
      "Processing epoch 3\n",
      "Processing epoch 4\n"
     ]
    }
   ],
   "source": [
    "# ======= Khởi tạo và huấn luyện mô hình =======\n",
    "model_svdpp_sur = SVDpp(n_epochs=30, n_factors=50)\n",
    "model_svdpp_sur.fit(trainset)"
   ]
  },
  {
   "cell_type": "code",
   "execution_count": null,
   "id": "711c9a57",
   "metadata": {},
   "outputs": [],
   "source": [
    "with open(f\"{DATA_DIR}/model_svdpp_sur.pkl\", 'wb') as f:\n",
    "    pickle.dump(model_svdpp_sur, f)"
   ]
  },
  {
   "cell_type": "code",
   "execution_count": null,
   "id": "d11a93fd",
   "metadata": {},
   "outputs": [
    {
     "name": "stdout",
     "output_type": "stream",
     "text": [
      "\n",
      "RMSE | MAE\n",
      "Train: 0.7775 | 0.5929\n",
      "Val  : 0.8466 | 0.6421\n",
      "Test : 0.8464 | 0.6420\n"
     ]
    }
   ],
   "source": [
    "# ======= Đánh giá trên tập train, validation và test =======\n",
    "train_predictions = model_svdpp_sur.test(trainset.build_testset()[:10000])\n",
    "val_predictions = model_svdpp_sur.test(valset)\n",
    "test_predictions = model_svdpp_sur.test(testset)\n",
    "print(\n",
    "    f\"\\nRMSE | MAE\\n\"\n",
    "    f\"Train: {accuracy.rmse(train_predictions, verbose=False):.4f} | {accuracy.mae(train_predictions, verbose=False):.4f}\\n\"\n",
    "    f\"Val  : {accuracy.rmse(val_predictions, verbose=False):.4f} | {accuracy.mae(val_predictions, verbose=False):.4f}\\n\"\n",
    "    f\"Test : {accuracy.rmse(test_predictions, verbose=False):.4f} | {accuracy.mae(test_predictions, verbose=False):.4f}\"\n",
    ")"
   ]
  },
  {
   "cell_type": "markdown",
   "id": "27a93d56",
   "metadata": {},
   "source": [
    "### **Tìm best params cho best model**"
   ]
  },
  {
   "cell_type": "code",
   "execution_count": null,
   "id": "3869a516",
   "metadata": {},
   "outputs": [
    {
     "name": "stdout",
     "output_type": "stream",
     "text": [
      "Testing params: {'n_factors': 50, 'lr_all': 0.005, 'reg_all': 0.02, 'n_epochs': 20}\n",
      "Testing params: {'n_factors': 50, 'lr_all': 0.005, 'reg_all': 0.02, 'n_epochs': 30}\n",
      "Testing params: {'n_factors': 50, 'lr_all': 0.005, 'reg_all': 0.02, 'n_epochs': 50}\n",
      "Testing params: {'n_factors': 50, 'lr_all': 0.005, 'reg_all': 0.1, 'n_epochs': 20}\n",
      "Testing params: {'n_factors': 50, 'lr_all': 0.005, 'reg_all': 0.1, 'n_epochs': 30}\n",
      "Testing params: {'n_factors': 50, 'lr_all': 0.005, 'reg_all': 0.1, 'n_epochs': 50}\n",
      "Testing params: {'n_factors': 50, 'lr_all': 0.007, 'reg_all': 0.02, 'n_epochs': 20}\n",
      "Testing params: {'n_factors': 50, 'lr_all': 0.007, 'reg_all': 0.02, 'n_epochs': 30}\n",
      "Testing params: {'n_factors': 50, 'lr_all': 0.007, 'reg_all': 0.02, 'n_epochs': 50}\n",
      "Testing params: {'n_factors': 50, 'lr_all': 0.007, 'reg_all': 0.1, 'n_epochs': 20}\n",
      "Testing params: {'n_factors': 50, 'lr_all': 0.007, 'reg_all': 0.1, 'n_epochs': 30}\n",
      "Testing params: {'n_factors': 50, 'lr_all': 0.007, 'reg_all': 0.1, 'n_epochs': 50}\n",
      "Testing params: {'n_factors': 50, 'lr_all': 0.01, 'reg_all': 0.02, 'n_epochs': 20}\n",
      "Testing params: {'n_factors': 50, 'lr_all': 0.01, 'reg_all': 0.02, 'n_epochs': 30}\n",
      "Testing params: {'n_factors': 50, 'lr_all': 0.01, 'reg_all': 0.02, 'n_epochs': 50}\n",
      "Testing params: {'n_factors': 50, 'lr_all': 0.01, 'reg_all': 0.1, 'n_epochs': 20}\n",
      "Testing params: {'n_factors': 50, 'lr_all': 0.01, 'reg_all': 0.1, 'n_epochs': 30}\n",
      "Testing params: {'n_factors': 50, 'lr_all': 0.01, 'reg_all': 0.1, 'n_epochs': 50}\n",
      "Testing params: {'n_factors': 100, 'lr_all': 0.005, 'reg_all': 0.02, 'n_epochs': 20}\n",
      "Testing params: {'n_factors': 100, 'lr_all': 0.005, 'reg_all': 0.02, 'n_epochs': 30}\n",
      "Testing params: {'n_factors': 100, 'lr_all': 0.005, 'reg_all': 0.02, 'n_epochs': 50}\n",
      "Testing params: {'n_factors': 100, 'lr_all': 0.005, 'reg_all': 0.1, 'n_epochs': 20}\n",
      "Testing params: {'n_factors': 100, 'lr_all': 0.005, 'reg_all': 0.1, 'n_epochs': 30}\n",
      "Testing params: {'n_factors': 100, 'lr_all': 0.005, 'reg_all': 0.1, 'n_epochs': 50}\n",
      "Testing params: {'n_factors': 100, 'lr_all': 0.007, 'reg_all': 0.02, 'n_epochs': 20}\n",
      "Testing params: {'n_factors': 100, 'lr_all': 0.007, 'reg_all': 0.02, 'n_epochs': 30}\n",
      "Testing params: {'n_factors': 100, 'lr_all': 0.007, 'reg_all': 0.02, 'n_epochs': 50}\n",
      "Testing params: {'n_factors': 100, 'lr_all': 0.007, 'reg_all': 0.1, 'n_epochs': 20}\n",
      "Testing params: {'n_factors': 100, 'lr_all': 0.007, 'reg_all': 0.1, 'n_epochs': 30}\n",
      "Testing params: {'n_factors': 100, 'lr_all': 0.007, 'reg_all': 0.1, 'n_epochs': 50}\n",
      "Testing params: {'n_factors': 100, 'lr_all': 0.01, 'reg_all': 0.02, 'n_epochs': 20}\n",
      "Testing params: {'n_factors': 100, 'lr_all': 0.01, 'reg_all': 0.02, 'n_epochs': 30}\n",
      "Testing params: {'n_factors': 100, 'lr_all': 0.01, 'reg_all': 0.02, 'n_epochs': 50}\n",
      "Testing params: {'n_factors': 100, 'lr_all': 0.01, 'reg_all': 0.1, 'n_epochs': 20}\n",
      "Testing params: {'n_factors': 100, 'lr_all': 0.01, 'reg_all': 0.1, 'n_epochs': 30}\n",
      "Testing params: {'n_factors': 100, 'lr_all': 0.01, 'reg_all': 0.1, 'n_epochs': 50}\n",
      "\n",
      "Best Parameters:  {'n_factors': 50, 'lr_all': 0.005, 'reg_all': 0.02, 'n_epochs': 30}\n",
      "Best Validation RMSE: 0.7731\n"
     ]
    }
   ],
   "source": [
    "import itertools\n",
    "import gc\n",
    "import pandas as pd\n",
    "\n",
    "results = []\n",
    "best_rmse = float('inf')\n",
    "best_model = None\n",
    "best_params = None\n",
    "\n",
    "# Lưới tham số bạn muốn thử\n",
    "param_grid = {\n",
    "    'n_factors': [50, 100],\n",
    "    'lr_all': [0.005, 0.007, 0.01],\n",
    "    'reg_all': [0.02, 0.1],\n",
    "    'n_epochs': [20, 30, 50]\n",
    "}\n",
    "\n",
    "# Tạo tất cả tổ hợp\n",
    "param_combinations = list(itertools.product(*param_grid.values()))\n",
    "\n",
    "for params in param_combinations:\n",
    "    config = dict(zip(param_grid.keys(), params))\n",
    "    print(f\"Testing params: {config}\")\n",
    "\n",
    "    model = SurpriseFunkSVD(**config, verbose=False)\n",
    "    model.fit(train_df)\n",
    "\n",
    "    val_rmse, val_mae = evaluate(val_df, model)\n",
    "\n",
    "    # Lưu kết quả vào list\n",
    "    results.append({\n",
    "        **config,\n",
    "        \"val_rmse\": val_rmse,\n",
    "        \"val_mae\": val_mae\n",
    "    })\n",
    "\n",
    "    # Lưu mô hình tốt nhất\n",
    "    if val_rmse < best_rmse:\n",
    "        if best_model:\n",
    "            del best_model\n",
    "            gc.collect()\n",
    "        best_rmse = val_rmse\n",
    "        best_params = config\n",
    "        best_model = model\n",
    "        best_model.save(\"{DATA_DIR}/best_model_funksvd.pkl\")\n",
    "    else:\n",
    "        del model\n",
    "        gc.collect()\n",
    "\n",
    "# Chuyển thành DataFrame và lưu\n",
    "results_df = pd.DataFrame(results)\n",
    "results_df.to_csv(\"{DATA_DIR}/gridsearch_funksvd_results.csv\", index=False)\n",
    "\n",
    "print(\"\\nBest Parameters: \", best_params)\n",
    "print(f\"Best Validation RMSE: {best_rmse:.4f}\")"
   ]
  },
  {
   "cell_type": "code",
   "execution_count": null,
   "id": "0c8c0c29",
   "metadata": {},
   "outputs": [
    {
     "name": "stdout",
     "output_type": "stream",
     "text": [
      "Test RMSE: 0.7728 | Test MAE: 0.5823\n"
     ]
    }
   ],
   "source": [
    "test_rmse, test_mae = evaluate(test_df, best_model)\n",
    "print(f\"Test RMSE: {test_rmse:.4f} | Test MAE: {test_mae:.4f}\")"
   ]
  },
  {
   "cell_type": "markdown",
   "id": "88071e19",
   "metadata": {},
   "source": [
    "## **Hybrid Model**"
   ]
  },
  {
   "cell_type": "markdown",
   "id": "074b657e",
   "metadata": {},
   "source": [
    "### **A. Content-Based**"
   ]
  },
  {
   "cell_type": "markdown",
   "id": "61f7e6dd",
   "metadata": {},
   "source": [
    "##### **Sử dụng 2 phương pháp:**\n",
    "\n",
    "- **Cosine similarity:** Tính độ tương đồng giữa hồ sơ người dùng (dựa trên các phim họ thích) và đặc trưng của phim (genome tags và thể loại) để gợi ý phim tương tự.\n",
    "\n",
    "- **Ridge Regression:** Học một mô hình tuyến tính cho mỗi người dùng để dự đoán điểm đánh giá dựa trên đặc trưng phim, từ đó gợi ý phim có điểm dự đoán cao."
   ]
  },
  {
   "cell_type": "markdown",
   "id": "c116e983",
   "metadata": {},
   "source": [
    "#### 1. Save/Load "
   ]
  },
  {
   "cell_type": "code",
   "execution_count": 8,
   "id": "78506194",
   "metadata": {},
   "outputs": [],
   "source": [
    "# Folder cache lưu hồ sơ người dùng cho content-based\n",
    "PROFILE_CACHE_DIR = \"./cache_profiles\"\n",
    "os.makedirs(PROFILE_CACHE_DIR, exist_ok=True)\n",
    "\n",
    "# Hàm save user profiles \n",
    "def save_profiles(profiles_dict, method_name):\n",
    "    file_path = os.path.join(PROFILE_CACHE_DIR, f\"profiles_{method_name}.pkl\")\n",
    "    with open(file_path, \"wb\") as f:\n",
    "        pickle.dump(profiles_dict, f)\n",
    "\n",
    "# Hàm load user profiles \n",
    "def load_profiles(method_name):\n",
    "    file_path = os.path.join(PROFILE_CACHE_DIR, f\"profiles_{method_name}.pkl\")\n",
    "    if os.path.exists(file_path):\n",
    "        with open(file_path, \"rb\") as f:\n",
    "            return pickle.load(f)\n",
    "    return None"
   ]
  },
  {
   "cell_type": "code",
   "execution_count": 9,
   "id": "8116fbbd",
   "metadata": {},
   "outputs": [],
   "source": [
    "GENOME_CACHE_PATH = os.path.join(PROFILE_CACHE_DIR, \"genome_csr_best.pkl\") \n",
    "\n",
    "# Hàm save ma trận genome CSR \n",
    "def save_genome_csr(csr):  \n",
    "    with open(GENOME_CACHE_PATH, \"wb\") as f:\n",
    "        pickle.dump(csr, f)\n",
    "\n",
    "# Hàm load ma trận genome CSR \n",
    "def load_genome_csr():  \n",
    "    if os.path.exists(GENOME_CACHE_PATH):\n",
    "        with open(GENOME_CACHE_PATH, \"rb\") as f:\n",
    "            return pickle.load(f)\n",
    "    return None"
   ]
  },
  {
   "cell_type": "markdown",
   "id": "e841eb69",
   "metadata": {},
   "source": [
    "#### 2. Per‑user z‑score (remove bias)"
   ]
  },
  {
   "cell_type": "markdown",
   "id": "3504aed6",
   "metadata": {},
   "source": [
    "Mỗi người dùng có thang chấm điểm khác nhau. Ví dụ, một người có thể chấm 4/5 là \"rất thích\", trong khi người khác chấm 4/5 là \"bình thường\". Chuẩn hóa z-score giúp so sánh đánh giá giữa các người dùng một cách công bằng."
   ]
  },
  {
   "cell_type": "code",
   "execution_count": 10,
   "id": "452f1aec",
   "metadata": {},
   "outputs": [],
   "source": [
    "# Tính mean và std rating cho từng user trong tập train (để scale)\n",
    "train_user_stats = train_df.groupby(\"userId\")[\"rating\"].agg(\n",
    "        [\"mean\", \"std\"]).rename(columns={\"mean\": \"mu\", \"std\": \"sigma\"})"
   ]
  },
  {
   "cell_type": "markdown",
   "id": "7ff945e6",
   "metadata": {},
   "source": [
    "**Z-score:** `z = (x - mu) / sigma`, trong đó `x` là đánh giá, `mu` là trung bình đánh giá của người dùng, `sigma` là độ lệch chuẩn.\n",
    "\n",
    "- Z-score biểu thị đánh giá lệch bao nhiêu so với trung bình của người dùng, chuẩn hóa về đơn vị độ lệch chuẩn.\n",
    "\n",
    "- Nếu `sigma=0` (người dùng chỉ chấm một giá trị duy nhất), phép chia sẽ gây lỗi (chia cho 0). Thay bằng 1e-6 để tránh lỗi và giữ z-score hợp lý."
   ]
  },
  {
   "cell_type": "code",
   "execution_count": 11,
   "id": "32068c45",
   "metadata": {},
   "outputs": [],
   "source": [
    "# Hàm thêm cột z-score vào DataFrame \n",
    "def add_z_scores(df, user_stats):\n",
    "    df_with_stats = df.merge(user_stats, on=\"userId\", how=\"left\")\n",
    "\n",
    "    ratings_mean = train_df[\"rating\"].mean()\n",
    "    ratings_std = train_df[\"rating\"].std()\n",
    "\n",
    "    # Nếu user chưa từng rating, fill bằng mean của all data\n",
    "    df_with_stats[\"mu\"] = df_with_stats[\"mu\"].fillna(ratings_mean)\n",
    "    df_with_stats[\"sigma\"] = df_with_stats[\"sigma\"].fillna(ratings_std)\n",
    "    \n",
    "    # Tính z-score = (x - mu) / sigma (tránh chia 0)\n",
    "    df_with_stats[\"rating_z\"] = (df_with_stats[\"rating\"] - df_with_stats[\"mu\"]) / df_with_stats[\"sigma\"].replace(0, 1e-6)\n",
    "    \n",
    "    return df_with_stats\n",
    "\n",
    "# Apply cho train rồi thực hiện trên cả tập val và test\n",
    "train_df = add_z_scores(train_df, train_user_stats)\n",
    "val_df = add_z_scores(val_df, train_user_stats)\n",
    "test_df = add_z_scores(test_df, train_user_stats)"
   ]
  },
  {
   "cell_type": "markdown",
   "id": "83b6e91c",
   "metadata": {},
   "source": [
    "#### 3. Build genome CSR matrix"
   ]
  },
  {
   "cell_type": "code",
   "execution_count": 12,
   "id": "9ff35e8f",
   "metadata": {},
   "outputs": [],
   "source": [
    "# Gộp genome scores và genome tags lại với nhau (theo tagId)\n",
    "merged_genome = pd.merge(genome_scores, genome_tags, on='tagId', how='left')\n",
    "\n",
    "# Pivot để mỗi dòng là movieId, mỗi cột là tag, giá trị là relevance\n",
    "genome_matrix = merged_genome.pivot(index='movieId', columns='tag', values='relevance').fillna(0)"
   ]
  },
  {
   "cell_type": "markdown",
   "id": "f6646e54",
   "metadata": {},
   "source": [
    "#### 4. Genres Vectorization (TF-IDF)"
   ]
  },
  {
   "cell_type": "code",
   "execution_count": 13,
   "id": "d16f0bda",
   "metadata": {},
   "outputs": [],
   "source": [
    "# Vector hóa genres (thể loại phim) dùng TF-IDF cho từng phim\n",
    "tfidf = TfidfVectorizer(token_pattern=r'[^|]+')\n",
    "genres_tfidf = tfidf.fit_transform(movies['genres'])\n",
    "genres_df = pd.DataFrame(\n",
    "    genres_tfidf.toarray(), \n",
    "    columns=[f'genre:{g}' for g in tfidf.get_feature_names_out()],\n",
    "    index=movies['movieId']\n",
    ")"
   ]
  },
  {
   "cell_type": "markdown",
   "id": "18f2b4bc",
   "metadata": {},
   "source": [
    "#### 5. Xử lí, gộp ma trận và scale"
   ]
  },
  {
   "cell_type": "code",
   "execution_count": 14,
   "id": "ad087976",
   "metadata": {},
   "outputs": [],
   "source": [
    "all_movies = pd.Index(sorted(set(genome_matrix.index).union(genres_df.index)))\n",
    "\n",
    "# Fill 0 cho phim thiếu genome\n",
    "missing_genome = all_movies.difference(genome_matrix.index)\n",
    "if len(missing_genome):\n",
    "    zero_genome = pd.DataFrame(0, index=missing_genome, columns=genome_matrix.columns)\n",
    "    genome_matrix = pd.concat([genome_matrix, zero_genome])\n",
    "\n",
    "# Fill 0 cho phim thiếu genres\n",
    "missing_genre = all_movies.difference(genres_df.index)\n",
    "if len(missing_genre):\n",
    "    zero_genre = pd.DataFrame(0, index=missing_genre, columns=genres_df.columns)\n",
    "    genres_df = pd.concat([genres_df, zero_genre])"
   ]
  },
  {
   "cell_type": "code",
   "execution_count": 15,
   "id": "3f690b86",
   "metadata": {},
   "outputs": [],
   "source": [
    "# chỉnh lại index giống nhau khi gộp 2 ma trận\n",
    "genome_matrix = genome_matrix.loc[all_movies]\n",
    "genres_df = genres_df.loc[all_movies]"
   ]
  },
  {
   "cell_type": "code",
   "execution_count": 16,
   "id": "85f0d02b",
   "metadata": {},
   "outputs": [
    {
     "name": "stdout",
     "output_type": "stream",
     "text": [
      "Describe matrix: (62423, 1148)\n"
     ]
    }
   ],
   "source": [
    "# Ghép hai ma trận -> describe_matrix\n",
    "describe_matrix = pd.concat([genome_matrix, genres_df], axis=1).fillna(0)\n",
    "print(\"Describe matrix:\", describe_matrix.shape)    "
   ]
  },
  {
   "cell_type": "code",
   "execution_count": 17,
   "id": "31df6915",
   "metadata": {},
   "outputs": [
    {
     "name": "stdout",
     "output_type": "stream",
     "text": [
      "[[0.7411119  0.68198834 1.0122178  ... 0.         0.         0.        ]\n",
      " [1.06333447 1.16296959 1.01626667 ... 0.         0.         0.        ]\n",
      " [1.2051124  1.59369907 0.47371793 ... 0.         0.         0.        ]\n",
      " ...\n",
      " [0.         0.         0.         ... 0.         0.         0.        ]\n",
      " [0.         0.         0.         ... 0.         0.         0.        ]\n",
      " [0.         0.         0.         ... 0.         0.         0.        ]]\n"
     ]
    }
   ],
   "source": [
    "# Scale lại ma trận cho cùng range\n",
    "scaler = StandardScaler(with_mean=False)\n",
    "describe_matrix_scaled = scaler.fit_transform(describe_matrix) \n",
    "print(describe_matrix_scaled)"
   ]
  },
  {
   "cell_type": "markdown",
   "id": "1cb310da",
   "metadata": {},
   "source": [
    "#### 6. Feature Selection"
   ]
  },
  {
   "cell_type": "code",
   "execution_count": 18,
   "id": "b9bb4108",
   "metadata": {},
   "outputs": [],
   "source": [
    "# Tính mean rating từng phim trên tập train, chuyển rating thành class để chọn đặc trưng phân loại\n",
    "movie_avg_train = train_df.groupby(\"movieId\")[\"rating\"].mean()\n",
    "\n",
    "def rating_to_class(rating):\n",
    "    if rating <= 2.5:\n",
    "        return 0  # rating thấp\n",
    "    elif rating <= 4.0:\n",
    "        return 1  # rating trung bình\n",
    "    else:\n",
    "        return 2  # rating cao\n",
    "\n",
    "# Chỉ lấy những phim vừa có đặc trưng, vừa có rating trung bình\n",
    "train_movies_fs = [m for m in movie_avg_train.index if m in describe_matrix.index]"
   ]
  },
  {
   "cell_type": "code",
   "execution_count": 19,
   "id": "507bf513",
   "metadata": {},
   "outputs": [],
   "source": [
    "X_fs = describe_matrix_scaled[[describe_matrix.index.get_loc(m) for m in train_movies_fs]]\n",
    "y_fs = movie_avg_train.loc[train_movies_fs].apply(rating_to_class).values\n",
    "k = min(N_FEATURES_FS, X_fs.shape[1])\n",
    "\n",
    "# Tạo các ma trận đặc trưng theo 2 phương pháp: entropy, gini\n",
    "feature_matrices = {}\n",
    "\n",
    "if sparse.issparse(X_fs):        \n",
    "    X_fs_dense = X_fs.toarray()\n",
    "else:\n",
    "    X_fs_dense = X_fs\n",
    "\n",
    "# 1. Information Gain (Entropy)\n",
    "tree_e = DecisionTreeClassifier(criterion=\"entropy\", random_state=SEED).fit(X_fs_dense, y_fs)\n",
    "idx_e = np.argsort(tree_e.feature_importances_)[-k:]\n",
    "feature_matrices[\"entropy\"] = describe_matrix_scaled[:, idx_e]\n",
    "\n",
    "# 2. Gini Index\n",
    "tree_g = DecisionTreeClassifier(criterion=\"gini\", random_state=SEED).fit(X_fs_dense, y_fs)\n",
    "idx_g = np.argsort(tree_g.feature_importances_)[-k:]\n",
    "feature_matrices[\"gini\"] = describe_matrix_scaled[:, idx_g]"
   ]
  },
  {
   "cell_type": "markdown",
   "id": "234049be",
   "metadata": {},
   "source": [
    "#### **Cosine Similarity**"
   ]
  },
  {
   "cell_type": "markdown",
   "id": "6b694b7f",
   "metadata": {},
   "source": [
    "Làm thế nào để biểu diễn sở thích của người dùng?\n",
    "\n",
    "- Hồ sơ người dùng là một vector tổng hợp các tag genome của những phim họ thích (dựa trên `rating_z ≥ Z_THRESHOLD`). Vector này được tính bằng trung bình có trọng số của các vector phim."
   ]
  },
  {
   "cell_type": "code",
   "execution_count": 20,
   "id": "a028fb31",
   "metadata": {},
   "outputs": [],
   "source": [
    "# Tạo mapping từ movieId sang dòng trong describe_matrix\n",
    "movieId2row = {mid: i for i, mid in enumerate(describe_matrix.index.values)}\n",
    "row2movieId = describe_matrix.index.values"
   ]
  },
  {
   "cell_type": "code",
   "execution_count": null,
   "id": "f74e32b3",
   "metadata": {},
   "outputs": [],
   "source": [
    "# Hàm build user profile cho phương pháp cosine similarity\n",
    "def build_user_profiles_sim(ratings_df, rating_col=\"rating_z\", threshold=Z_THRESHOLD, eps=1e-8):\n",
    "    profiles = {}\n",
    "    good = ratings_df.loc[ratings_df[rating_col] >= threshold, [\"userId\", \"movieId\", rating_col]]\n",
    "    \n",
    "    for uid, grp in tqdm(good.groupby(\"userId\"), desc=\"Building profiles\", unit=\"user\", leave=False):\n",
    "        rows = [movieId2row[m] for m in grp.movieId if m in movieId2row]\n",
    "        if not rows:\n",
    "            continue\n",
    "\n",
    "        w = grp[rating_col].values[:, None]\n",
    "        \n",
    "        if w.shape[0] == len(rows):\n",
    "            w_sum = w.sum()\n",
    "\n",
    "            if w_sum < eps:\n",
    "                prof_dense = genome_csr[rows].mean(axis=0)\n",
    "            else:\n",
    "                prof_dense = (genome_csr[rows].multiply(w)).sum(axis=0) / w_sum\n",
    "\n",
    "            prof_dense = np.nan_to_num(np.asarray(prof_dense).ravel())\n",
    "            profiles[uid] = sparse.csr_matrix(prof_dense)\n",
    "\n",
    "    return profiles\n",
    "\n",
    "# Hàm đánh giá cosine similarity\n",
    "def eval_cosine(df_eval, profiles):\n",
    "    df_eval = df_eval[df_eval.movieId.isin(movieId2row)]\n",
    "    y_true, y_pred = [], []\n",
    "    iterator = zip(df_eval.userId.values, df_eval.movieId.values, df_eval.rating.values)\n",
    "    for u, m, r in tqdm(iterator, total=len(df_eval), desc=\"Evaluating cosine\", unit=\"rec\", leave=False):\n",
    "        y_true.append(r)\n",
    "        if u in profiles:\n",
    "            sim = cosine_similarity(profiles[u], genome_csr[movieId2row[m]])[0, 0]\n",
    "            pred = sim * (RATING_MAX - RATING_MIN) + RATING_MIN\n",
    "        else:\n",
    "            pred = RATING_MIN\n",
    "        y_pred.append(pred)\n",
    "    return math.sqrt(mean_squared_error(y_true, y_pred)), mean_absolute_error(y_true, y_pred)\n",
    "\n",
    "# Hàm thử nghiệm cosine cho từng phương pháp chọn đặc trưng\n",
    "def test_cosine_method(mat, method_name):\n",
    "    global genome_csr, profiles\n",
    "    genome_csr = normalize(sparse.csr_matrix(mat), axis=1, copy=False)\n",
    "\n",
    "    profiles = load_profiles(method_name)\n",
    "    if profiles is None:\n",
    "        profiles = build_user_profiles_sim(train_df)\n",
    "        save_profiles(profiles, method_name)\n",
    "\n",
    "    rmse_val, mae_val = eval_cosine(val_df,  profiles)\n",
    "    rmse_tst, mae_tst = eval_cosine(test_df, profiles)\n",
    "    return rmse_val, mae_val, rmse_tst, mae_tst\n",
    "\n",
    "def predict_rating_cosine(user_id, movie_ids, profiles, movieId2row_dict, genome_csr_matrix, normalize_rating=True):\n",
    "    if user_id not in profiles:\n",
    "        return np.array([]), []\n",
    "    \n",
    "    user_profile = profiles[user_id]\n",
    "    valid_movie_ids = [m for m in movie_ids if m in movieId2row_dict]\n",
    "    \n",
    "    if not valid_movie_ids:\n",
    "        return np.array([]), []\n",
    "    \n",
    "    # Lấy row indices cho các phim hợp lệ\n",
    "    movie_rows = [movieId2row_dict[m] for m in valid_movie_ids]\n",
    "    \n",
    "    # Tính cosine similarity giữa user profile và từng phim\n",
    "    similarities = []\n",
    "    for row in movie_rows:\n",
    "        sim = cosine_similarity(user_profile, genome_csr_matrix[row])[0, 0]\n",
    "        similarities.append(sim)\n",
    "    \n",
    "    # Chuyển similarity thành predicted rating\n",
    "    pred_ratings = np.array(similarities) * (RATING_MAX - RATING_MIN) + RATING_MIN\n",
    "    \n",
    "    if normalize_rating:\n",
    "        pred_ratings = np.clip(pred_ratings, RATING_MIN, RATING_MAX)\n",
    "    \n",
    "    return pred_ratings"
   ]
  },
  {
   "cell_type": "markdown",
   "id": "e53facef",
   "metadata": {},
   "source": [
    "#### **Ridge Regression**"
   ]
  },
  {
   "cell_type": "code",
   "execution_count": null,
   "id": "8357f4ae",
   "metadata": {},
   "outputs": [],
   "source": [
    "# Hàm lấy danh sách phim và rating của 1 user\n",
    "def get_items_rated_by_user(ratings_df, user_id):\n",
    "    user_df = ratings_df[ratings_df['userId'] == user_id]\n",
    "    movies_list = user_df['movieId'].values\n",
    "    ratings_list = user_df['rating'].values\n",
    "    return movies_list, ratings_list\n",
    "\n",
    "# Hàm train mô hình Ridge Regression cho từng user (build user profiles với phương pháp Ridge Regression)\n",
    "def build_user_profiles_ridge(ratings_df, descriptions_df, min_ratings_for_grid=50, verbose=True):\n",
    "    start = time.time()\n",
    "    profiles = {}\n",
    "    users_ids = ratings_df['userId'].unique()\n",
    "\n",
    "    if verbose:\n",
    "        print(f\"Training {len(users_ids)} users...\")\n",
    "\n",
    "    param_grid = {'alpha': [0.01, 0.1, 1.0, 10.0, 100.0]}\n",
    "\n",
    "    for uid in tqdm(users_ids, desc=\"Building Ridge profiles\", unit=\"user\", leave=False) if verbose else users_ids:\n",
    "        uid_movies, uid_ratings = get_items_rated_by_user(ratings_df, uid)\n",
    "\n",
    "        valid_movies = [m for m in uid_movies if m in descriptions_df.index]\n",
    "        if not valid_movies:\n",
    "            continue\n",
    "\n",
    "        X = descriptions_df.loc[valid_movies].values\n",
    "        y = uid_ratings[:len(valid_movies)] \n",
    "\n",
    "        if len(y) >= min_ratings_for_grid:\n",
    "            try:\n",
    "                grid = GridSearchCV(\n",
    "                    Ridge(), \n",
    "                    param_grid, \n",
    "                    scoring='neg_mean_squared_error',\n",
    "                    cv=min(5, len(y)), \n",
    "                    n_jobs=-1\n",
    "                )\n",
    "                grid.fit(X, y)\n",
    "                profiles[uid] = grid.best_estimator_\n",
    "            except:\n",
    "                fallback_model = Ridge(alpha=1.0)\n",
    "                fallback_model.fit(X, y)\n",
    "                profiles[uid] = fallback_model\n",
    "        else:\n",
    "            fallback_model = Ridge(alpha=1.0)\n",
    "            fallback_model.fit(X, y)\n",
    "            profiles[uid] = fallback_model\n",
    "\n",
    "    if verbose:\n",
    "        print(f'Training time: {(time.time() - start):.4f}s')\n",
    "    return profiles\n",
    "\n",
    "# Hàm dự đoán rating cho 1 user với nhiều phim\n",
    "def predict_rating_ridge(user_id, movie_ids, profiles, descriptions_df, normalize_rating=True):\n",
    "    if user_id not in profiles:\n",
    "        return np.array([])\n",
    "\n",
    "    model = profiles[user_id]\n",
    "    valid_movie_ids = [m for m in movie_ids if m in descriptions_df.index]\n",
    "    \n",
    "    if not valid_movie_ids:\n",
    "        return np.array([])\n",
    "\n",
    "    X = descriptions_df.loc[valid_movie_ids].values\n",
    "    pred_rating = model.predict(X)\n",
    "\n",
    "    if normalize_rating:\n",
    "        pred_rating = np.clip(pred_rating, RATING_MIN, RATING_MAX)\n",
    "    \n",
    "    return pred_rating\n",
    "\n",
    "# Hàm evaluate cho ridge\n",
    "def eval_ridge(ratings_df, profiles, descriptions, user_id=None):\n",
    "    if user_id is None:\n",
    "        users_ids = ratings_df['userId'].unique()\n",
    "        y_true, y_pred = [], []\n",
    "\n",
    "        for uid in tqdm(users_ids, desc=\"Evaluating Ridge\", unit=\"user\", leave=False):\n",
    "            test_movies, true_ratings = get_items_rated_by_user(ratings_df, uid)\n",
    "            pred_ratings = predict_rating_ridge(uid, test_movies, profiles, descriptions)\n",
    "            if len(pred_ratings) == len(true_ratings):\n",
    "                y_true.extend(true_ratings)\n",
    "                y_pred.extend(pred_ratings)\n",
    "    else:\n",
    "        test_movies, true_ratings = get_items_rated_by_user(ratings_df, user_id)\n",
    "        pred_ratings = predict_rating_ridge(user_id, test_movies, profiles, descriptions, ratings_df)\n",
    "        y_true, y_pred = true_ratings, pred_ratings\n",
    "\n",
    "    return math.sqrt(mean_squared_error(y_true, y_pred)), mean_absolute_error(y_true, y_pred)\n"
   ]
  },
  {
   "cell_type": "markdown",
   "id": "06256950",
   "metadata": {},
   "source": [
    "#### **Main Excution**"
   ]
  },
  {
   "cell_type": "code",
   "execution_count": null,
   "id": "03b1e598",
   "metadata": {},
   "outputs": [
    {
     "name": "stdout",
     "output_type": "stream",
     "text": [
      "Evaluating feature matrix: entropy\n"
     ]
    },
    {
     "data": {
      "application/vnd.jupyter.widget-view+json": {
       "model_id": "5926fbc6ee5c4550a03607779e64e597",
       "version_major": 2,
       "version_minor": 0
      },
      "text/plain": [
       "Building profiles:   0%|          | 0/162541 [00:00<?, ?user/s]"
      ]
     },
     "metadata": {},
     "output_type": "display_data"
    },
    {
     "data": {
      "application/vnd.jupyter.widget-view+json": {
       "model_id": "bc77b28cfb754637bb96ccee61f81d61",
       "version_major": 2,
       "version_minor": 0
      },
      "text/plain": [
       "Evaluating cosine:   0%|          | 0/2250009 [00:00<?, ?rec/s]"
      ]
     },
     "metadata": {},
     "output_type": "display_data"
    },
    {
     "name": "stdout",
     "output_type": "stream",
     "text": [
      "Cosine - Val RMSE: 1.0622, MAE: 0.8211\n",
      "Evaluating feature matrix: gini\n"
     ]
    },
    {
     "data": {
      "application/vnd.jupyter.widget-view+json": {
       "model_id": "2bb1878e99f041c3b238cc92f29d4ba3",
       "version_major": 2,
       "version_minor": 0
      },
      "text/plain": [
       "Building profiles:   0%|          | 0/162541 [00:00<?, ?user/s]"
      ]
     },
     "metadata": {},
     "output_type": "display_data"
    },
    {
     "data": {
      "application/vnd.jupyter.widget-view+json": {
       "model_id": "fd97dbd7ecd64c52bac6ddb6a6caa768",
       "version_major": 2,
       "version_minor": 0
      },
      "text/plain": [
       "Evaluating cosine:   0%|          | 0/2250009 [00:00<?, ?rec/s]"
      ]
     },
     "metadata": {},
     "output_type": "display_data"
    },
    {
     "name": "stdout",
     "output_type": "stream",
     "text": [
      "Cosine - Val RMSE: 1.0749, MAE: 0.8299\n",
      "\n",
      "Best method: entropy with Val RMSE: 1.0622\n"
     ]
    }
   ],
   "source": [
    "cosine_results = {}\n",
    "all_profiles = {}  # Lưu profiles của tất cả methods\n",
    "\n",
    "for name, mat in feature_matrices.items():\n",
    "    print(f\"Evaluating feature matrix: {name}\")\n",
    "    \n",
    "    genome_csr = normalize(sparse.csr_matrix(mat), axis=1, copy=False)\n",
    "    \n",
    "    # Build profiles \n",
    "    profiles_cosine = build_user_profiles_sim(train_df)\n",
    "    \n",
    "    # Lưu profiles \n",
    "    all_profiles[name] = profiles_cosine\n",
    "    save_profiles(profiles_cosine, f\"{name}_cosine\")\n",
    "    \n",
    "    rmse_val, mae_val = eval_cosine(val_df, profiles_cosine)\n",
    "    \n",
    "    cosine_results[name] = {\n",
    "        'rmse_val': rmse_val,\n",
    "        'mae_val': mae_val\n",
    "    }\n",
    "    \n",
    "    print(f\"Cosine - Val RMSE: {rmse_val:.4f}, MAE: {mae_val:.4f}\")\n",
    "\n",
    "# Tìm best method \n",
    "best_method = min(cosine_results, key=lambda n: cosine_results[n]['rmse_val'])\n",
    "print(f\"\\nBest method: {best_method} with Val RMSE: {cosine_results[best_method]['rmse_val']:.4f}\")"
   ]
  },
  {
   "cell_type": "code",
   "execution_count": 25,
   "id": "2562bd97",
   "metadata": {},
   "outputs": [
    {
     "name": "stdout",
     "output_type": "stream",
     "text": [
      "Training 162541 users...\n"
     ]
    },
    {
     "data": {
      "application/vnd.jupyter.widget-view+json": {
       "model_id": "cbc8b3a3440540969992e4a05b370e9e",
       "version_major": 2,
       "version_minor": 0
      },
      "text/plain": [
       "Building Ridge profiles:   0%|          | 0/162541 [00:00<?, ?user/s]"
      ]
     },
     "metadata": {},
     "output_type": "display_data"
    },
    {
     "name": "stdout",
     "output_type": "stream",
     "text": [
      "Training time: 11182.7627s\n"
     ]
    }
   ],
   "source": [
    "mat_best = feature_matrices[best_method]\n",
    "\n",
    "mat_best_normalized = normalize(sparse.csr_matrix(mat_best), axis=1, copy=False)\n",
    "desc_df_best = pd.DataFrame(\n",
    "    data=mat_best_normalized.toarray(),  # Chuyển thành dense array\n",
    "    index=describe_matrix.index\n",
    ")\n",
    "\n",
    "# Build profiles cho Ridge với best method\n",
    "profiles_ridge_best = build_user_profiles_ridge(train_df, desc_df_best)\n",
    "\n",
    "# Lưu best profiles\n",
    "save_profiles(profiles_ridge_best, f\"{best_method}_ridge\")"
   ]
  },
  {
   "cell_type": "code",
   "execution_count": null,
   "id": "a0b17235",
   "metadata": {},
   "outputs": [
    {
     "data": {
      "application/vnd.jupyter.widget-view+json": {
       "model_id": "5262101b069048dd89c29cc56bb2f118",
       "version_major": 2,
       "version_minor": 0
      },
      "text/plain": [
       "Evaluating cosine:   0%|          | 0/2500010 [00:00<?, ?rec/s]"
      ]
     },
     "metadata": {},
     "output_type": "display_data"
    },
    {
     "data": {
      "application/vnd.jupyter.widget-view+json": {
       "model_id": "1045b5738a1a4ba6b69efe2ba63a5c6f",
       "version_major": 2,
       "version_minor": 0
      },
      "text/plain": [
       "Evaluating Ridge:   0%|          | 0/162541 [00:00<?, ?user/s]"
      ]
     },
     "metadata": {},
     "output_type": "display_data"
    }
   ],
   "source": [
    "# Lấy profiles và matrix của best method đã lưu\n",
    "profiles_cosine_best = all_profiles[best_method]\n",
    "mat_best = feature_matrices[best_method]\n",
    "\n",
    "genome_csr_cosine = normalize(sparse.csr_matrix(mat_best), axis=1, copy=False)\n",
    "genome_csr = genome_csr_cosine  \n",
    "save_genome_csr(genome_csr_cosine)\n",
    "\n",
    "# Đánh giá Cosine trên test set (với best method)\n",
    "rmse_test_cosine, mae_test_cosine = eval_cosine(test_df, profiles_cosine_best)\n",
    "\n",
    "# Đánh giá Ridge trên test set\n",
    "rmse_test_ridge, mae_test_ridge = eval_ridge(test_df, profiles_ridge_best, desc_df_best)"
   ]
  },
  {
   "cell_type": "code",
   "execution_count": 32,
   "id": "adc1e219",
   "metadata": {},
   "outputs": [
    {
     "name": "stdout",
     "output_type": "stream",
     "text": [
      "Best method: entropy\n",
      "Cosine Similarity:\n",
      "Test RMSE: 1.0624 | MAE: 0.8212\n",
      "Ridge Regression:\n",
      "Test RMSE: 0.7904 | Test MAE: 0.5986\n"
     ]
    }
   ],
   "source": [
    "# In kết quả cuối cùng\n",
    "print(f\"Best method: {best_method}\")\n",
    "print(f\"Cosine Similarity:\")\n",
    "print(f\"Test RMSE: {rmse_test_cosine:.4f} | MAE: {mae_test_cosine:.4f}\")\n",
    "print(f\"Ridge Regression:\")\n",
    "print(f\"Test RMSE: {rmse_test_ridge:.4f} | Test MAE: {mae_test_ridge:.4f}\")"
   ]
  },
  {
   "cell_type": "markdown",
   "id": "624f13bb",
   "metadata": {},
   "source": [
    "### **B. SVD (best model with best params) Content-Based**"
   ]
  }
 ],
 "metadata": {
  "kernelspec": {
   "display_name": "Python 3",
   "language": "python",
   "name": "python3"
  },
  "language_info": {
   "codemirror_mode": {
    "name": "ipython",
    "version": 3
   },
   "file_extension": ".py",
   "mimetype": "text/x-python",
   "name": "python",
   "nbconvert_exporter": "python",
   "pygments_lexer": "ipython3",
   "version": "3.12.2"
  }
 },
 "nbformat": 4,
 "nbformat_minor": 5
}
