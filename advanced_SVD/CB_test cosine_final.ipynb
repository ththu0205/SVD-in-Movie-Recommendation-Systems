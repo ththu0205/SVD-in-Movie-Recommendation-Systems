{
 "cells": [
  {
   "cell_type": "code",
   "execution_count": 1,
   "id": "2dda5d9b",
   "metadata": {},
   "outputs": [],
   "source": [
    "import os, math, numpy as np, pandas as pd\n",
    "from tqdm.auto import tqdm\n",
    "from sklearn.preprocessing import LabelEncoder, MinMaxScaler, StandardScaler\n",
    "from sklearn.model_selection import train_test_split\n",
    "from sklearn.metrics import mean_absolute_error, mean_squared_error\n",
    "from sklearn.metrics.pairwise import cosine_similarity\n",
    "from sklearn.preprocessing import normalize\n",
    "from scipy import sparse\n",
    "\n",
    "from sklearn.feature_extraction.text import TfidfVectorizer\n",
    "from sklearn.feature_selection import SelectKBest, chi2\n",
    "from sklearn.tree import DecisionTreeClassifier\n",
    "\n",
    "import pickle\n"
   ]
  },
  {
   "cell_type": "markdown",
   "id": "bb5bc3d1",
   "metadata": {},
   "source": [
    "## Save/load profiles"
   ]
  },
  {
   "cell_type": "code",
   "execution_count": 2,
   "id": "88a95784",
   "metadata": {},
   "outputs": [],
   "source": [
    "PROFILE_CACHE_DIR = \"./cache_profiles\"\n",
    "os.makedirs(PROFILE_CACHE_DIR, exist_ok=True)\n",
    "\n",
    "def save_profiles(profiles_dict, method_name):\n",
    "    file_path = os.path.join(PROFILE_CACHE_DIR, f\"profiles_{method_name}.pkl\")\n",
    "    with open(file_path, \"wb\") as f:\n",
    "        pickle.dump(profiles_dict, f)\n",
    "\n",
    "def load_profiles(method_name):\n",
    "    file_path = os.path.join(PROFILE_CACHE_DIR, f\"profiles_{method_name}.pkl\")\n",
    "    if os.path.exists(file_path):\n",
    "        with open(file_path, \"rb\") as f:\n",
    "            return pickle.load(f)\n",
    "    return None"
   ]
  },
  {
   "cell_type": "markdown",
   "id": "c6c036a6",
   "metadata": {},
   "source": [
    "## Parameters"
   ]
  },
  {
   "cell_type": "code",
   "execution_count": 3,
   "id": "7a31dbac",
   "metadata": {},
   "outputs": [],
   "source": [
    "DATA_DIR = \"../data\"\n",
    "Z_THRESHOLD = 0.0\n",
    "RATING_MIN = 0.5\n",
    "RATING_MAX = 5.0\n",
    "TEST_SIZE = 0.10\n",
    "VAL_SIZE = 0.10\n",
    "SEED = 42\n",
    "SAMPLE_USER = 72313\n",
    "TOP_N = 10\n",
    "SHOW_ROWS = 50\n",
    "N_FEATURES_FS = 300"
   ]
  },
  {
   "cell_type": "markdown",
   "id": "fd2eb269",
   "metadata": {},
   "source": [
    "## Load data"
   ]
  },
  {
   "cell_type": "code",
   "execution_count": 4,
   "id": "7dbed2e0",
   "metadata": {},
   "outputs": [],
   "source": [
    "ratings = pd.read_csv(f\"{DATA_DIR}/ratings.csv\")\n",
    "movies = pd.read_csv(f\"{DATA_DIR}/movies.csv\")\n",
    "\n",
    "genome_scores = pd.read_csv(f\"{DATA_DIR}/genome-scores.csv\")\n",
    "genome_tags = pd.read_csv(f\"{DATA_DIR}/genome-tags.csv\")\n"
   ]
  },
  {
   "cell_type": "code",
   "execution_count": 5,
   "id": "0758f8e1",
   "metadata": {},
   "outputs": [
    {
     "data": {
      "text/html": [
       "<div>\n",
       "<style scoped>\n",
       "    .dataframe tbody tr th:only-of-type {\n",
       "        vertical-align: middle;\n",
       "    }\n",
       "\n",
       "    .dataframe tbody tr th {\n",
       "        vertical-align: top;\n",
       "    }\n",
       "\n",
       "    .dataframe thead th {\n",
       "        text-align: right;\n",
       "    }\n",
       "</style>\n",
       "<table border=\"1\" class=\"dataframe\">\n",
       "  <thead>\n",
       "    <tr style=\"text-align: right;\">\n",
       "      <th></th>\n",
       "      <th>userId</th>\n",
       "      <th>movieId</th>\n",
       "      <th>rating</th>\n",
       "      <th>timestamp</th>\n",
       "      <th>title</th>\n",
       "      <th>genres</th>\n",
       "    </tr>\n",
       "  </thead>\n",
       "  <tbody>\n",
       "    <tr>\n",
       "      <th>0</th>\n",
       "      <td>1</td>\n",
       "      <td>296</td>\n",
       "      <td>5.0</td>\n",
       "      <td>1147880044</td>\n",
       "      <td>Pulp Fiction (1994)</td>\n",
       "      <td>Comedy|Crime|Drama|Thriller</td>\n",
       "    </tr>\n",
       "    <tr>\n",
       "      <th>1</th>\n",
       "      <td>1</td>\n",
       "      <td>306</td>\n",
       "      <td>3.5</td>\n",
       "      <td>1147868817</td>\n",
       "      <td>Three Colors: Red (Trois couleurs: Rouge) (1994)</td>\n",
       "      <td>Drama</td>\n",
       "    </tr>\n",
       "    <tr>\n",
       "      <th>2</th>\n",
       "      <td>1</td>\n",
       "      <td>307</td>\n",
       "      <td>5.0</td>\n",
       "      <td>1147868828</td>\n",
       "      <td>Three Colors: Blue (Trois couleurs: Bleu) (1993)</td>\n",
       "      <td>Drama</td>\n",
       "    </tr>\n",
       "    <tr>\n",
       "      <th>3</th>\n",
       "      <td>1</td>\n",
       "      <td>665</td>\n",
       "      <td>5.0</td>\n",
       "      <td>1147878820</td>\n",
       "      <td>Underground (1995)</td>\n",
       "      <td>Comedy|Drama|War</td>\n",
       "    </tr>\n",
       "    <tr>\n",
       "      <th>4</th>\n",
       "      <td>1</td>\n",
       "      <td>899</td>\n",
       "      <td>3.5</td>\n",
       "      <td>1147868510</td>\n",
       "      <td>Singin' in the Rain (1952)</td>\n",
       "      <td>Comedy|Musical|Romance</td>\n",
       "    </tr>\n",
       "  </tbody>\n",
       "</table>\n",
       "</div>"
      ],
      "text/plain": [
       "   userId  movieId  rating   timestamp  \\\n",
       "0       1      296     5.0  1147880044   \n",
       "1       1      306     3.5  1147868817   \n",
       "2       1      307     5.0  1147868828   \n",
       "3       1      665     5.0  1147878820   \n",
       "4       1      899     3.5  1147868510   \n",
       "\n",
       "                                              title  \\\n",
       "0                               Pulp Fiction (1994)   \n",
       "1  Three Colors: Red (Trois couleurs: Rouge) (1994)   \n",
       "2  Three Colors: Blue (Trois couleurs: Bleu) (1993)   \n",
       "3                                Underground (1995)   \n",
       "4                        Singin' in the Rain (1952)   \n",
       "\n",
       "                        genres  \n",
       "0  Comedy|Crime|Drama|Thriller  \n",
       "1                        Drama  \n",
       "2                        Drama  \n",
       "3             Comedy|Drama|War  \n",
       "4       Comedy|Musical|Romance  "
      ]
     },
     "metadata": {},
     "output_type": "display_data"
    },
    {
     "name": "stdout",
     "output_type": "stream",
     "text": [
      "Dataset: 25,000,095 ratings | 162,541 users | 59,047 movies\n"
     ]
    }
   ],
   "source": [
    "df = pd.merge(ratings, movies, on='movieId')\n",
    "display(df.head())\n",
    "print(f\"Dataset: {len(df):,} ratings | {df['userId'].nunique():,} users | {df['movieId'].nunique():,} movies\")"
   ]
  },
  {
   "cell_type": "markdown",
   "id": "b33a949e",
   "metadata": {},
   "source": [
    "## Per‑user z‑score (remove bias)"
   ]
  },
  {
   "cell_type": "markdown",
   "id": "de6181d9",
   "metadata": {},
   "source": [
    "Mỗi người dùng có thang chấm điểm khác nhau. Ví dụ, một người có thể chấm 4/5 là \"rất thích\", trong khi người khác chấm 4/5 là \"bình thường\". Chuẩn hóa z-score giúp so sánh đánh giá giữa các người dùng một cách công bằng."
   ]
  },
  {
   "cell_type": "code",
   "execution_count": 6,
   "id": "344d56e1",
   "metadata": {},
   "outputs": [
    {
     "data": {
      "text/html": [
       "<div>\n",
       "<style scoped>\n",
       "    .dataframe tbody tr th:only-of-type {\n",
       "        vertical-align: middle;\n",
       "    }\n",
       "\n",
       "    .dataframe tbody tr th {\n",
       "        vertical-align: top;\n",
       "    }\n",
       "\n",
       "    .dataframe thead th {\n",
       "        text-align: right;\n",
       "    }\n",
       "</style>\n",
       "<table border=\"1\" class=\"dataframe\">\n",
       "  <thead>\n",
       "    <tr style=\"text-align: right;\">\n",
       "      <th></th>\n",
       "      <th>mu</th>\n",
       "      <th>sigma</th>\n",
       "    </tr>\n",
       "    <tr>\n",
       "      <th>userId</th>\n",
       "      <th></th>\n",
       "      <th></th>\n",
       "    </tr>\n",
       "  </thead>\n",
       "  <tbody>\n",
       "    <tr>\n",
       "      <th>1</th>\n",
       "      <td>3.814286</td>\n",
       "      <td>1.004235</td>\n",
       "    </tr>\n",
       "    <tr>\n",
       "      <th>2</th>\n",
       "      <td>3.630435</td>\n",
       "      <td>1.457728</td>\n",
       "    </tr>\n",
       "    <tr>\n",
       "      <th>3</th>\n",
       "      <td>3.697409</td>\n",
       "      <td>0.599854</td>\n",
       "    </tr>\n",
       "    <tr>\n",
       "      <th>4</th>\n",
       "      <td>3.378099</td>\n",
       "      <td>1.116927</td>\n",
       "    </tr>\n",
       "    <tr>\n",
       "      <th>5</th>\n",
       "      <td>3.752475</td>\n",
       "      <td>0.931729</td>\n",
       "    </tr>\n",
       "    <tr>\n",
       "      <th>...</th>\n",
       "      <td>...</td>\n",
       "      <td>...</td>\n",
       "    </tr>\n",
       "    <tr>\n",
       "      <th>162537</th>\n",
       "      <td>4.039604</td>\n",
       "      <td>0.958340</td>\n",
       "    </tr>\n",
       "    <tr>\n",
       "      <th>162538</th>\n",
       "      <td>3.415584</td>\n",
       "      <td>1.216452</td>\n",
       "    </tr>\n",
       "    <tr>\n",
       "      <th>162539</th>\n",
       "      <td>4.510638</td>\n",
       "      <td>0.718463</td>\n",
       "    </tr>\n",
       "    <tr>\n",
       "      <th>162540</th>\n",
       "      <td>3.829545</td>\n",
       "      <td>1.200781</td>\n",
       "    </tr>\n",
       "    <tr>\n",
       "      <th>162541</th>\n",
       "      <td>3.365385</td>\n",
       "      <td>1.213305</td>\n",
       "    </tr>\n",
       "  </tbody>\n",
       "</table>\n",
       "<p>162541 rows × 2 columns</p>\n",
       "</div>"
      ],
      "text/plain": [
       "              mu     sigma\n",
       "userId                    \n",
       "1       3.814286  1.004235\n",
       "2       3.630435  1.457728\n",
       "3       3.697409  0.599854\n",
       "4       3.378099  1.116927\n",
       "5       3.752475  0.931729\n",
       "...          ...       ...\n",
       "162537  4.039604  0.958340\n",
       "162538  3.415584  1.216452\n",
       "162539  4.510638  0.718463\n",
       "162540  3.829545  1.200781\n",
       "162541  3.365385  1.213305\n",
       "\n",
       "[162541 rows x 2 columns]"
      ]
     },
     "execution_count": 6,
     "metadata": {},
     "output_type": "execute_result"
    }
   ],
   "source": [
    "user_stats = df.groupby(\"userId\")[\"rating\"].agg([\"mean\", \"std\"]).rename(columns={\"mean\": \"mu\", \"std\": \"sigma\"})\n",
    "user_stats"
   ]
  },
  {
   "cell_type": "markdown",
   "id": "597e59cb",
   "metadata": {},
   "source": [
    "**Z-score:** `z = (x - mu) / sigma`, trong đó `x` là đánh giá, `mu` là trung bình đánh giá của người dùng, `sigma` là độ lệch chuẩn.\n",
    "\n",
    "- Z-score biểu thị đánh giá lệch bao nhiêu so với trung bình của người dùng, chuẩn hóa về đơn vị độ lệch chuẩn.\n",
    "\n",
    "- Nếu `sigma=0` (người dùng chỉ chấm một giá trị duy nhất), phép chia sẽ gây lỗi (chia cho 0). Thay bằng 1e-6 để tránh lỗi và giữ z-score hợp lý."
   ]
  },
  {
   "cell_type": "code",
   "execution_count": 7,
   "id": "c83e4d98",
   "metadata": {},
   "outputs": [
    {
     "data": {
      "text/html": [
       "<div>\n",
       "<style scoped>\n",
       "    .dataframe tbody tr th:only-of-type {\n",
       "        vertical-align: middle;\n",
       "    }\n",
       "\n",
       "    .dataframe tbody tr th {\n",
       "        vertical-align: top;\n",
       "    }\n",
       "\n",
       "    .dataframe thead th {\n",
       "        text-align: right;\n",
       "    }\n",
       "</style>\n",
       "<table border=\"1\" class=\"dataframe\">\n",
       "  <thead>\n",
       "    <tr style=\"text-align: right;\">\n",
       "      <th></th>\n",
       "      <th>userId</th>\n",
       "      <th>movieId</th>\n",
       "      <th>rating</th>\n",
       "      <th>timestamp</th>\n",
       "      <th>title</th>\n",
       "      <th>genres</th>\n",
       "      <th>mu</th>\n",
       "      <th>sigma</th>\n",
       "      <th>rating_z</th>\n",
       "    </tr>\n",
       "  </thead>\n",
       "  <tbody>\n",
       "    <tr>\n",
       "      <th>0</th>\n",
       "      <td>1</td>\n",
       "      <td>296</td>\n",
       "      <td>5.0</td>\n",
       "      <td>1147880044</td>\n",
       "      <td>Pulp Fiction (1994)</td>\n",
       "      <td>Comedy|Crime|Drama|Thriller</td>\n",
       "      <td>3.814286</td>\n",
       "      <td>1.004235</td>\n",
       "      <td>1.180714</td>\n",
       "    </tr>\n",
       "    <tr>\n",
       "      <th>1</th>\n",
       "      <td>1</td>\n",
       "      <td>306</td>\n",
       "      <td>3.5</td>\n",
       "      <td>1147868817</td>\n",
       "      <td>Three Colors: Red (Trois couleurs: Rouge) (1994)</td>\n",
       "      <td>Drama</td>\n",
       "      <td>3.814286</td>\n",
       "      <td>1.004235</td>\n",
       "      <td>-0.312960</td>\n",
       "    </tr>\n",
       "    <tr>\n",
       "      <th>2</th>\n",
       "      <td>1</td>\n",
       "      <td>307</td>\n",
       "      <td>5.0</td>\n",
       "      <td>1147868828</td>\n",
       "      <td>Three Colors: Blue (Trois couleurs: Bleu) (1993)</td>\n",
       "      <td>Drama</td>\n",
       "      <td>3.814286</td>\n",
       "      <td>1.004235</td>\n",
       "      <td>1.180714</td>\n",
       "    </tr>\n",
       "    <tr>\n",
       "      <th>3</th>\n",
       "      <td>1</td>\n",
       "      <td>665</td>\n",
       "      <td>5.0</td>\n",
       "      <td>1147878820</td>\n",
       "      <td>Underground (1995)</td>\n",
       "      <td>Comedy|Drama|War</td>\n",
       "      <td>3.814286</td>\n",
       "      <td>1.004235</td>\n",
       "      <td>1.180714</td>\n",
       "    </tr>\n",
       "    <tr>\n",
       "      <th>4</th>\n",
       "      <td>1</td>\n",
       "      <td>899</td>\n",
       "      <td>3.5</td>\n",
       "      <td>1147868510</td>\n",
       "      <td>Singin' in the Rain (1952)</td>\n",
       "      <td>Comedy|Musical|Romance</td>\n",
       "      <td>3.814286</td>\n",
       "      <td>1.004235</td>\n",
       "      <td>-0.312960</td>\n",
       "    </tr>\n",
       "  </tbody>\n",
       "</table>\n",
       "</div>"
      ],
      "text/plain": [
       "   userId  movieId  rating   timestamp  \\\n",
       "0       1      296     5.0  1147880044   \n",
       "1       1      306     3.5  1147868817   \n",
       "2       1      307     5.0  1147868828   \n",
       "3       1      665     5.0  1147878820   \n",
       "4       1      899     3.5  1147868510   \n",
       "\n",
       "                                              title  \\\n",
       "0                               Pulp Fiction (1994)   \n",
       "1  Three Colors: Red (Trois couleurs: Rouge) (1994)   \n",
       "2  Three Colors: Blue (Trois couleurs: Bleu) (1993)   \n",
       "3                                Underground (1995)   \n",
       "4                        Singin' in the Rain (1952)   \n",
       "\n",
       "                        genres        mu     sigma  rating_z  \n",
       "0  Comedy|Crime|Drama|Thriller  3.814286  1.004235  1.180714  \n",
       "1                        Drama  3.814286  1.004235 -0.312960  \n",
       "2                        Drama  3.814286  1.004235  1.180714  \n",
       "3             Comedy|Drama|War  3.814286  1.004235  1.180714  \n",
       "4       Comedy|Musical|Romance  3.814286  1.004235 -0.312960  "
      ]
     },
     "execution_count": 7,
     "metadata": {},
     "output_type": "execute_result"
    }
   ],
   "source": [
    "df = df.join(user_stats, on=\"userId\")\n",
    "df[\"rating_z\"] = (df[\"rating\"] - df[\"mu\"]) / df[\"sigma\"].replace(0, 1e-6)\n",
    "df.head()"
   ]
  },
  {
   "cell_type": "code",
   "execution_count": 8,
   "id": "e35049a3",
   "metadata": {},
   "outputs": [
    {
     "data": {
      "text/html": [
       "<div>\n",
       "<style scoped>\n",
       "    .dataframe tbody tr th:only-of-type {\n",
       "        vertical-align: middle;\n",
       "    }\n",
       "\n",
       "    .dataframe tbody tr th {\n",
       "        vertical-align: top;\n",
       "    }\n",
       "\n",
       "    .dataframe thead th {\n",
       "        text-align: right;\n",
       "    }\n",
       "</style>\n",
       "<table border=\"1\" class=\"dataframe\">\n",
       "  <thead>\n",
       "    <tr style=\"text-align: right;\">\n",
       "      <th></th>\n",
       "      <th>userId</th>\n",
       "      <th>movieId</th>\n",
       "      <th>rating</th>\n",
       "      <th>timestamp</th>\n",
       "      <th>mu</th>\n",
       "      <th>sigma</th>\n",
       "      <th>rating_z</th>\n",
       "    </tr>\n",
       "  </thead>\n",
       "  <tbody>\n",
       "    <tr>\n",
       "      <th>count</th>\n",
       "      <td>2.500010e+07</td>\n",
       "      <td>2.500010e+07</td>\n",
       "      <td>2.500010e+07</td>\n",
       "      <td>2.500010e+07</td>\n",
       "      <td>2.500010e+07</td>\n",
       "      <td>2.500010e+07</td>\n",
       "      <td>2.500010e+07</td>\n",
       "    </tr>\n",
       "    <tr>\n",
       "      <th>mean</th>\n",
       "      <td>8.118928e+04</td>\n",
       "      <td>2.138798e+04</td>\n",
       "      <td>3.533854e+00</td>\n",
       "      <td>1.215601e+09</td>\n",
       "      <td>3.533854e+00</td>\n",
       "      <td>9.193482e-01</td>\n",
       "      <td>-3.058164e-19</td>\n",
       "    </tr>\n",
       "    <tr>\n",
       "      <th>std</th>\n",
       "      <td>4.679172e+04</td>\n",
       "      <td>3.919886e+04</td>\n",
       "      <td>1.060744e+00</td>\n",
       "      <td>2.268758e+08</td>\n",
       "      <td>4.784993e-01</td>\n",
       "      <td>2.388860e-01</td>\n",
       "      <td>9.964306e-01</td>\n",
       "    </tr>\n",
       "    <tr>\n",
       "      <th>min</th>\n",
       "      <td>1.000000e+00</td>\n",
       "      <td>1.000000e+00</td>\n",
       "      <td>5.000000e-01</td>\n",
       "      <td>7.896520e+08</td>\n",
       "      <td>5.000000e-01</td>\n",
       "      <td>0.000000e+00</td>\n",
       "      <td>-2.824892e+01</td>\n",
       "    </tr>\n",
       "    <tr>\n",
       "      <th>25%</th>\n",
       "      <td>4.051000e+04</td>\n",
       "      <td>1.196000e+03</td>\n",
       "      <td>3.000000e+00</td>\n",
       "      <td>1.011747e+09</td>\n",
       "      <td>3.250000e+00</td>\n",
       "      <td>7.540528e-01</td>\n",
       "      <td>-6.097788e-01</td>\n",
       "    </tr>\n",
       "    <tr>\n",
       "      <th>50%</th>\n",
       "      <td>8.091400e+04</td>\n",
       "      <td>2.947000e+03</td>\n",
       "      <td>3.500000e+00</td>\n",
       "      <td>1.198868e+09</td>\n",
       "      <td>3.552746e+00</td>\n",
       "      <td>9.008775e-01</td>\n",
       "      <td>1.105046e-01</td>\n",
       "    </tr>\n",
       "    <tr>\n",
       "      <th>75%</th>\n",
       "      <td>1.215570e+05</td>\n",
       "      <td>8.623000e+03</td>\n",
       "      <td>4.000000e+00</td>\n",
       "      <td>1.447205e+09</td>\n",
       "      <td>3.848468e+00</td>\n",
       "      <td>1.063137e+00</td>\n",
       "      <td>7.170283e-01</td>\n",
       "    </tr>\n",
       "    <tr>\n",
       "      <th>max</th>\n",
       "      <td>1.625410e+05</td>\n",
       "      <td>2.091710e+05</td>\n",
       "      <td>5.000000e+00</td>\n",
       "      <td>1.574328e+09</td>\n",
       "      <td>5.000000e+00</td>\n",
       "      <td>2.308451e+00</td>\n",
       "      <td>3.459683e+01</td>\n",
       "    </tr>\n",
       "  </tbody>\n",
       "</table>\n",
       "</div>"
      ],
      "text/plain": [
       "             userId       movieId        rating     timestamp            mu  \\\n",
       "count  2.500010e+07  2.500010e+07  2.500010e+07  2.500010e+07  2.500010e+07   \n",
       "mean   8.118928e+04  2.138798e+04  3.533854e+00  1.215601e+09  3.533854e+00   \n",
       "std    4.679172e+04  3.919886e+04  1.060744e+00  2.268758e+08  4.784993e-01   \n",
       "min    1.000000e+00  1.000000e+00  5.000000e-01  7.896520e+08  5.000000e-01   \n",
       "25%    4.051000e+04  1.196000e+03  3.000000e+00  1.011747e+09  3.250000e+00   \n",
       "50%    8.091400e+04  2.947000e+03  3.500000e+00  1.198868e+09  3.552746e+00   \n",
       "75%    1.215570e+05  8.623000e+03  4.000000e+00  1.447205e+09  3.848468e+00   \n",
       "max    1.625410e+05  2.091710e+05  5.000000e+00  1.574328e+09  5.000000e+00   \n",
       "\n",
       "              sigma      rating_z  \n",
       "count  2.500010e+07  2.500010e+07  \n",
       "mean   9.193482e-01 -3.058164e-19  \n",
       "std    2.388860e-01  9.964306e-01  \n",
       "min    0.000000e+00 -2.824892e+01  \n",
       "25%    7.540528e-01 -6.097788e-01  \n",
       "50%    9.008775e-01  1.105046e-01  \n",
       "75%    1.063137e+00  7.170283e-01  \n",
       "max    2.308451e+00  3.459683e+01  "
      ]
     },
     "execution_count": 8,
     "metadata": {},
     "output_type": "execute_result"
    }
   ],
   "source": [
    "df.describe()"
   ]
  },
  {
   "cell_type": "markdown",
   "id": "b4835c91",
   "metadata": {},
   "source": [
    "## Encode"
   ]
  },
  {
   "cell_type": "markdown",
   "id": "7cc083a8",
   "metadata": {},
   "source": [
    "Các `userId` và `movieId` có thể không liên tục (ví dụ: 1, 3, 7). Mã hóa thành chỉ số liên tục (0, 1, 2, ...) giúp dễ xử lý trong ma trận và tiết kiệm bộ nhớ."
   ]
  },
  {
   "cell_type": "code",
   "execution_count": 9,
   "id": "59330355",
   "metadata": {},
   "outputs": [
    {
     "data": {
      "text/html": [
       "<div>\n",
       "<style scoped>\n",
       "    .dataframe tbody tr th:only-of-type {\n",
       "        vertical-align: middle;\n",
       "    }\n",
       "\n",
       "    .dataframe tbody tr th {\n",
       "        vertical-align: top;\n",
       "    }\n",
       "\n",
       "    .dataframe thead th {\n",
       "        text-align: right;\n",
       "    }\n",
       "</style>\n",
       "<table border=\"1\" class=\"dataframe\">\n",
       "  <thead>\n",
       "    <tr style=\"text-align: right;\">\n",
       "      <th></th>\n",
       "      <th>userId</th>\n",
       "      <th>movieId</th>\n",
       "      <th>rating</th>\n",
       "      <th>timestamp</th>\n",
       "      <th>title</th>\n",
       "      <th>genres</th>\n",
       "      <th>mu</th>\n",
       "      <th>sigma</th>\n",
       "      <th>rating_z</th>\n",
       "      <th>user_idx</th>\n",
       "    </tr>\n",
       "  </thead>\n",
       "  <tbody>\n",
       "    <tr>\n",
       "      <th>0</th>\n",
       "      <td>1</td>\n",
       "      <td>296</td>\n",
       "      <td>5.0</td>\n",
       "      <td>1147880044</td>\n",
       "      <td>Pulp Fiction (1994)</td>\n",
       "      <td>Comedy|Crime|Drama|Thriller</td>\n",
       "      <td>3.814286</td>\n",
       "      <td>1.004235</td>\n",
       "      <td>1.180714</td>\n",
       "      <td>0</td>\n",
       "    </tr>\n",
       "    <tr>\n",
       "      <th>1</th>\n",
       "      <td>1</td>\n",
       "      <td>306</td>\n",
       "      <td>3.5</td>\n",
       "      <td>1147868817</td>\n",
       "      <td>Three Colors: Red (Trois couleurs: Rouge) (1994)</td>\n",
       "      <td>Drama</td>\n",
       "      <td>3.814286</td>\n",
       "      <td>1.004235</td>\n",
       "      <td>-0.312960</td>\n",
       "      <td>0</td>\n",
       "    </tr>\n",
       "    <tr>\n",
       "      <th>2</th>\n",
       "      <td>1</td>\n",
       "      <td>307</td>\n",
       "      <td>5.0</td>\n",
       "      <td>1147868828</td>\n",
       "      <td>Three Colors: Blue (Trois couleurs: Bleu) (1993)</td>\n",
       "      <td>Drama</td>\n",
       "      <td>3.814286</td>\n",
       "      <td>1.004235</td>\n",
       "      <td>1.180714</td>\n",
       "      <td>0</td>\n",
       "    </tr>\n",
       "    <tr>\n",
       "      <th>3</th>\n",
       "      <td>1</td>\n",
       "      <td>665</td>\n",
       "      <td>5.0</td>\n",
       "      <td>1147878820</td>\n",
       "      <td>Underground (1995)</td>\n",
       "      <td>Comedy|Drama|War</td>\n",
       "      <td>3.814286</td>\n",
       "      <td>1.004235</td>\n",
       "      <td>1.180714</td>\n",
       "      <td>0</td>\n",
       "    </tr>\n",
       "    <tr>\n",
       "      <th>4</th>\n",
       "      <td>1</td>\n",
       "      <td>899</td>\n",
       "      <td>3.5</td>\n",
       "      <td>1147868510</td>\n",
       "      <td>Singin' in the Rain (1952)</td>\n",
       "      <td>Comedy|Musical|Romance</td>\n",
       "      <td>3.814286</td>\n",
       "      <td>1.004235</td>\n",
       "      <td>-0.312960</td>\n",
       "      <td>0</td>\n",
       "    </tr>\n",
       "  </tbody>\n",
       "</table>\n",
       "</div>"
      ],
      "text/plain": [
       "   userId  movieId  rating   timestamp  \\\n",
       "0       1      296     5.0  1147880044   \n",
       "1       1      306     3.5  1147868817   \n",
       "2       1      307     5.0  1147868828   \n",
       "3       1      665     5.0  1147878820   \n",
       "4       1      899     3.5  1147868510   \n",
       "\n",
       "                                              title  \\\n",
       "0                               Pulp Fiction (1994)   \n",
       "1  Three Colors: Red (Trois couleurs: Rouge) (1994)   \n",
       "2  Three Colors: Blue (Trois couleurs: Bleu) (1993)   \n",
       "3                                Underground (1995)   \n",
       "4                        Singin' in the Rain (1952)   \n",
       "\n",
       "                        genres        mu     sigma  rating_z  user_idx  \n",
       "0  Comedy|Crime|Drama|Thriller  3.814286  1.004235  1.180714         0  \n",
       "1                        Drama  3.814286  1.004235 -0.312960         0  \n",
       "2                        Drama  3.814286  1.004235  1.180714         0  \n",
       "3             Comedy|Drama|War  3.814286  1.004235  1.180714         0  \n",
       "4       Comedy|Musical|Romance  3.814286  1.004235 -0.312960         0  "
      ]
     },
     "execution_count": 9,
     "metadata": {},
     "output_type": "execute_result"
    }
   ],
   "source": [
    "user_encoder = LabelEncoder()\n",
    "#movie_encoder = LabelEncoder()\n",
    "\n",
    "user_encoder.fit(df['userId'])\n",
    "#movie_encoder.fit(movies['movieId'])\n",
    "\n",
    "df['user_idx'] = user_encoder.transform(df['userId'])\n",
    "#df['movie_idx'] = movie_encoder.transform(df['movieId'])\n",
    "\n",
    "df.head()"
   ]
  },
  {
   "cell_type": "code",
   "execution_count": 10,
   "id": "bf717575",
   "metadata": {},
   "outputs": [
    {
     "name": "stdout",
     "output_type": "stream",
     "text": [
      "Dataset: 25,000,095 ratings | 162,541 users | 59,047 movies\n"
     ]
    }
   ],
   "source": [
    "n_users = df[\"user_idx\"].nunique()\n",
    "n_items = df[\"movieId\"].nunique()\n",
    "print(f\"Dataset: {len(df):,} ratings | {n_users:,} users | {n_items:,} movies\")"
   ]
  },
  {
   "cell_type": "markdown",
   "id": "bb2af3f3",
   "metadata": {},
   "source": [
    "- Train: Dùng để xây dựng hồ sơ người dùng (user profile).\n",
    "\n",
    "- Validation: Đánh giá hiệu suất mô hình trong quá trình phát triển, điều chỉnh tham số (như `Z_THRESHOLD`).\n",
    "\n",
    "- Test: Đánh giá cuối cùng để báo cáo hiệu suất thực tế."
   ]
  },
  {
   "cell_type": "markdown",
   "id": "eda5fbc6",
   "metadata": {},
   "source": [
    "`stratify` đảm bảo rằng tỉ lệ người dùng trong các tập train, validation, test tương tự nhau. Điều này quan trọng vì mỗi người dùng có số lượng đánh giá khác nhau, và ta muốn mô hình được huấn luyện trên dữ liệu đại diện."
   ]
  },
  {
   "cell_type": "code",
   "execution_count": 11,
   "id": "a6fbcf90",
   "metadata": {},
   "outputs": [
    {
     "name": "stdout",
     "output_type": "stream",
     "text": [
      "Splitting train/val/test...\n"
     ]
    },
    {
     "ename": "KeyboardInterrupt",
     "evalue": "",
     "output_type": "error",
     "traceback": [
      "\u001b[1;31m---------------------------------------------------------------------------\u001b[0m",
      "\u001b[1;31mKeyboardInterrupt\u001b[0m                         Traceback (most recent call last)",
      "Cell \u001b[1;32mIn[11], line 38\u001b[0m\n\u001b[0;32m     34\u001b[0m     \u001b[38;5;28;01mreturn\u001b[39;00m train\u001b[38;5;241m.\u001b[39mreset_index(drop\u001b[38;5;241m=\u001b[39m\u001b[38;5;28;01mTrue\u001b[39;00m), val\u001b[38;5;241m.\u001b[39mreset_index(drop\u001b[38;5;241m=\u001b[39m\u001b[38;5;28;01mTrue\u001b[39;00m), test\u001b[38;5;241m.\u001b[39mreset_index(drop\u001b[38;5;241m=\u001b[39m\u001b[38;5;28;01mTrue\u001b[39;00m)\n\u001b[0;32m     36\u001b[0m train_df, val_df, test_df \u001b[38;5;241m=\u001b[39m train_val_test_plit(df)\n\u001b[1;32m---> 38\u001b[0m \u001b[43mtrain_df\u001b[49m\u001b[38;5;241;43m.\u001b[39;49m\u001b[43mto_csv\u001b[49m\u001b[43m(\u001b[49m\u001b[43mtrain_path\u001b[49m\u001b[43m,\u001b[49m\u001b[43m \u001b[49m\u001b[43mindex\u001b[49m\u001b[38;5;241;43m=\u001b[39;49m\u001b[38;5;28;43;01mFalse\u001b[39;49;00m\u001b[43m)\u001b[49m\n\u001b[0;32m     39\u001b[0m val_df\u001b[38;5;241m.\u001b[39mto_csv(val_path, index\u001b[38;5;241m=\u001b[39m\u001b[38;5;28;01mFalse\u001b[39;00m)\n\u001b[0;32m     40\u001b[0m test_df\u001b[38;5;241m.\u001b[39mto_csv(test_path, index\u001b[38;5;241m=\u001b[39m\u001b[38;5;28;01mFalse\u001b[39;00m)\n",
      "File \u001b[1;32mc:\\Users\\Admin\\AppData\\Local\\Programs\\Python\\Python312\\Lib\\site-packages\\pandas\\util\\_decorators.py:333\u001b[0m, in \u001b[0;36mdeprecate_nonkeyword_arguments.<locals>.decorate.<locals>.wrapper\u001b[1;34m(*args, **kwargs)\u001b[0m\n\u001b[0;32m    327\u001b[0m \u001b[38;5;28;01mif\u001b[39;00m \u001b[38;5;28mlen\u001b[39m(args) \u001b[38;5;241m>\u001b[39m num_allow_args:\n\u001b[0;32m    328\u001b[0m     warnings\u001b[38;5;241m.\u001b[39mwarn(\n\u001b[0;32m    329\u001b[0m         msg\u001b[38;5;241m.\u001b[39mformat(arguments\u001b[38;5;241m=\u001b[39m_format_argument_list(allow_args)),\n\u001b[0;32m    330\u001b[0m         \u001b[38;5;167;01mFutureWarning\u001b[39;00m,\n\u001b[0;32m    331\u001b[0m         stacklevel\u001b[38;5;241m=\u001b[39mfind_stack_level(),\n\u001b[0;32m    332\u001b[0m     )\n\u001b[1;32m--> 333\u001b[0m \u001b[38;5;28;01mreturn\u001b[39;00m \u001b[43mfunc\u001b[49m\u001b[43m(\u001b[49m\u001b[38;5;241;43m*\u001b[39;49m\u001b[43margs\u001b[49m\u001b[43m,\u001b[49m\u001b[43m \u001b[49m\u001b[38;5;241;43m*\u001b[39;49m\u001b[38;5;241;43m*\u001b[39;49m\u001b[43mkwargs\u001b[49m\u001b[43m)\u001b[49m\n",
      "File \u001b[1;32mc:\\Users\\Admin\\AppData\\Local\\Programs\\Python\\Python312\\Lib\\site-packages\\pandas\\core\\generic.py:3986\u001b[0m, in \u001b[0;36mNDFrame.to_csv\u001b[1;34m(self, path_or_buf, sep, na_rep, float_format, columns, header, index, index_label, mode, encoding, compression, quoting, quotechar, lineterminator, chunksize, date_format, doublequote, escapechar, decimal, errors, storage_options)\u001b[0m\n\u001b[0;32m   3975\u001b[0m df \u001b[38;5;241m=\u001b[39m \u001b[38;5;28mself\u001b[39m \u001b[38;5;28;01mif\u001b[39;00m \u001b[38;5;28misinstance\u001b[39m(\u001b[38;5;28mself\u001b[39m, ABCDataFrame) \u001b[38;5;28;01melse\u001b[39;00m \u001b[38;5;28mself\u001b[39m\u001b[38;5;241m.\u001b[39mto_frame()\n\u001b[0;32m   3977\u001b[0m formatter \u001b[38;5;241m=\u001b[39m DataFrameFormatter(\n\u001b[0;32m   3978\u001b[0m     frame\u001b[38;5;241m=\u001b[39mdf,\n\u001b[0;32m   3979\u001b[0m     header\u001b[38;5;241m=\u001b[39mheader,\n\u001b[1;32m   (...)\u001b[0m\n\u001b[0;32m   3983\u001b[0m     decimal\u001b[38;5;241m=\u001b[39mdecimal,\n\u001b[0;32m   3984\u001b[0m )\n\u001b[1;32m-> 3986\u001b[0m \u001b[38;5;28;01mreturn\u001b[39;00m \u001b[43mDataFrameRenderer\u001b[49m\u001b[43m(\u001b[49m\u001b[43mformatter\u001b[49m\u001b[43m)\u001b[49m\u001b[38;5;241;43m.\u001b[39;49m\u001b[43mto_csv\u001b[49m\u001b[43m(\u001b[49m\n\u001b[0;32m   3987\u001b[0m \u001b[43m    \u001b[49m\u001b[43mpath_or_buf\u001b[49m\u001b[43m,\u001b[49m\n\u001b[0;32m   3988\u001b[0m \u001b[43m    \u001b[49m\u001b[43mlineterminator\u001b[49m\u001b[38;5;241;43m=\u001b[39;49m\u001b[43mlineterminator\u001b[49m\u001b[43m,\u001b[49m\n\u001b[0;32m   3989\u001b[0m \u001b[43m    \u001b[49m\u001b[43msep\u001b[49m\u001b[38;5;241;43m=\u001b[39;49m\u001b[43msep\u001b[49m\u001b[43m,\u001b[49m\n\u001b[0;32m   3990\u001b[0m \u001b[43m    \u001b[49m\u001b[43mencoding\u001b[49m\u001b[38;5;241;43m=\u001b[39;49m\u001b[43mencoding\u001b[49m\u001b[43m,\u001b[49m\n\u001b[0;32m   3991\u001b[0m \u001b[43m    \u001b[49m\u001b[43merrors\u001b[49m\u001b[38;5;241;43m=\u001b[39;49m\u001b[43merrors\u001b[49m\u001b[43m,\u001b[49m\n\u001b[0;32m   3992\u001b[0m \u001b[43m    \u001b[49m\u001b[43mcompression\u001b[49m\u001b[38;5;241;43m=\u001b[39;49m\u001b[43mcompression\u001b[49m\u001b[43m,\u001b[49m\n\u001b[0;32m   3993\u001b[0m \u001b[43m    \u001b[49m\u001b[43mquoting\u001b[49m\u001b[38;5;241;43m=\u001b[39;49m\u001b[43mquoting\u001b[49m\u001b[43m,\u001b[49m\n\u001b[0;32m   3994\u001b[0m \u001b[43m    \u001b[49m\u001b[43mcolumns\u001b[49m\u001b[38;5;241;43m=\u001b[39;49m\u001b[43mcolumns\u001b[49m\u001b[43m,\u001b[49m\n\u001b[0;32m   3995\u001b[0m \u001b[43m    \u001b[49m\u001b[43mindex_label\u001b[49m\u001b[38;5;241;43m=\u001b[39;49m\u001b[43mindex_label\u001b[49m\u001b[43m,\u001b[49m\n\u001b[0;32m   3996\u001b[0m \u001b[43m    \u001b[49m\u001b[43mmode\u001b[49m\u001b[38;5;241;43m=\u001b[39;49m\u001b[43mmode\u001b[49m\u001b[43m,\u001b[49m\n\u001b[0;32m   3997\u001b[0m \u001b[43m    \u001b[49m\u001b[43mchunksize\u001b[49m\u001b[38;5;241;43m=\u001b[39;49m\u001b[43mchunksize\u001b[49m\u001b[43m,\u001b[49m\n\u001b[0;32m   3998\u001b[0m \u001b[43m    \u001b[49m\u001b[43mquotechar\u001b[49m\u001b[38;5;241;43m=\u001b[39;49m\u001b[43mquotechar\u001b[49m\u001b[43m,\u001b[49m\n\u001b[0;32m   3999\u001b[0m \u001b[43m    \u001b[49m\u001b[43mdate_format\u001b[49m\u001b[38;5;241;43m=\u001b[39;49m\u001b[43mdate_format\u001b[49m\u001b[43m,\u001b[49m\n\u001b[0;32m   4000\u001b[0m \u001b[43m    \u001b[49m\u001b[43mdoublequote\u001b[49m\u001b[38;5;241;43m=\u001b[39;49m\u001b[43mdoublequote\u001b[49m\u001b[43m,\u001b[49m\n\u001b[0;32m   4001\u001b[0m \u001b[43m    \u001b[49m\u001b[43mescapechar\u001b[49m\u001b[38;5;241;43m=\u001b[39;49m\u001b[43mescapechar\u001b[49m\u001b[43m,\u001b[49m\n\u001b[0;32m   4002\u001b[0m \u001b[43m    \u001b[49m\u001b[43mstorage_options\u001b[49m\u001b[38;5;241;43m=\u001b[39;49m\u001b[43mstorage_options\u001b[49m\u001b[43m,\u001b[49m\n\u001b[0;32m   4003\u001b[0m \u001b[43m\u001b[49m\u001b[43m)\u001b[49m\n",
      "File \u001b[1;32mc:\\Users\\Admin\\AppData\\Local\\Programs\\Python\\Python312\\Lib\\site-packages\\pandas\\io\\formats\\format.py:1014\u001b[0m, in \u001b[0;36mDataFrameRenderer.to_csv\u001b[1;34m(self, path_or_buf, encoding, sep, columns, index_label, mode, compression, quoting, quotechar, lineterminator, chunksize, date_format, doublequote, escapechar, errors, storage_options)\u001b[0m\n\u001b[0;32m    993\u001b[0m     created_buffer \u001b[38;5;241m=\u001b[39m \u001b[38;5;28;01mFalse\u001b[39;00m\n\u001b[0;32m    995\u001b[0m csv_formatter \u001b[38;5;241m=\u001b[39m CSVFormatter(\n\u001b[0;32m    996\u001b[0m     path_or_buf\u001b[38;5;241m=\u001b[39mpath_or_buf,\n\u001b[0;32m    997\u001b[0m     lineterminator\u001b[38;5;241m=\u001b[39mlineterminator,\n\u001b[1;32m   (...)\u001b[0m\n\u001b[0;32m   1012\u001b[0m     formatter\u001b[38;5;241m=\u001b[39m\u001b[38;5;28mself\u001b[39m\u001b[38;5;241m.\u001b[39mfmt,\n\u001b[0;32m   1013\u001b[0m )\n\u001b[1;32m-> 1014\u001b[0m \u001b[43mcsv_formatter\u001b[49m\u001b[38;5;241;43m.\u001b[39;49m\u001b[43msave\u001b[49m\u001b[43m(\u001b[49m\u001b[43m)\u001b[49m\n\u001b[0;32m   1016\u001b[0m \u001b[38;5;28;01mif\u001b[39;00m created_buffer:\n\u001b[0;32m   1017\u001b[0m     \u001b[38;5;28;01massert\u001b[39;00m \u001b[38;5;28misinstance\u001b[39m(path_or_buf, StringIO)\n",
      "File \u001b[1;32mc:\\Users\\Admin\\AppData\\Local\\Programs\\Python\\Python312\\Lib\\site-packages\\pandas\\io\\formats\\csvs.py:270\u001b[0m, in \u001b[0;36mCSVFormatter.save\u001b[1;34m(self)\u001b[0m\n\u001b[0;32m    251\u001b[0m \u001b[38;5;28;01mwith\u001b[39;00m get_handle(\n\u001b[0;32m    252\u001b[0m     \u001b[38;5;28mself\u001b[39m\u001b[38;5;241m.\u001b[39mfilepath_or_buffer,\n\u001b[0;32m    253\u001b[0m     \u001b[38;5;28mself\u001b[39m\u001b[38;5;241m.\u001b[39mmode,\n\u001b[1;32m   (...)\u001b[0m\n\u001b[0;32m    258\u001b[0m ) \u001b[38;5;28;01mas\u001b[39;00m handles:\n\u001b[0;32m    259\u001b[0m     \u001b[38;5;66;03m# Note: self.encoding is irrelevant here\u001b[39;00m\n\u001b[0;32m    260\u001b[0m     \u001b[38;5;28mself\u001b[39m\u001b[38;5;241m.\u001b[39mwriter \u001b[38;5;241m=\u001b[39m csvlib\u001b[38;5;241m.\u001b[39mwriter(\n\u001b[0;32m    261\u001b[0m         handles\u001b[38;5;241m.\u001b[39mhandle,\n\u001b[0;32m    262\u001b[0m         lineterminator\u001b[38;5;241m=\u001b[39m\u001b[38;5;28mself\u001b[39m\u001b[38;5;241m.\u001b[39mlineterminator,\n\u001b[1;32m   (...)\u001b[0m\n\u001b[0;32m    267\u001b[0m         quotechar\u001b[38;5;241m=\u001b[39m\u001b[38;5;28mself\u001b[39m\u001b[38;5;241m.\u001b[39mquotechar,\n\u001b[0;32m    268\u001b[0m     )\n\u001b[1;32m--> 270\u001b[0m     \u001b[38;5;28;43mself\u001b[39;49m\u001b[38;5;241;43m.\u001b[39;49m\u001b[43m_save\u001b[49m\u001b[43m(\u001b[49m\u001b[43m)\u001b[49m\n",
      "File \u001b[1;32mc:\\Users\\Admin\\AppData\\Local\\Programs\\Python\\Python312\\Lib\\site-packages\\pandas\\io\\formats\\csvs.py:275\u001b[0m, in \u001b[0;36mCSVFormatter._save\u001b[1;34m(self)\u001b[0m\n\u001b[0;32m    273\u001b[0m \u001b[38;5;28;01mif\u001b[39;00m \u001b[38;5;28mself\u001b[39m\u001b[38;5;241m.\u001b[39m_need_to_save_header:\n\u001b[0;32m    274\u001b[0m     \u001b[38;5;28mself\u001b[39m\u001b[38;5;241m.\u001b[39m_save_header()\n\u001b[1;32m--> 275\u001b[0m \u001b[38;5;28;43mself\u001b[39;49m\u001b[38;5;241;43m.\u001b[39;49m\u001b[43m_save_body\u001b[49m\u001b[43m(\u001b[49m\u001b[43m)\u001b[49m\n",
      "File \u001b[1;32mc:\\Users\\Admin\\AppData\\Local\\Programs\\Python\\Python312\\Lib\\site-packages\\pandas\\io\\formats\\csvs.py:313\u001b[0m, in \u001b[0;36mCSVFormatter._save_body\u001b[1;34m(self)\u001b[0m\n\u001b[0;32m    311\u001b[0m \u001b[38;5;28;01mif\u001b[39;00m start_i \u001b[38;5;241m>\u001b[39m\u001b[38;5;241m=\u001b[39m end_i:\n\u001b[0;32m    312\u001b[0m     \u001b[38;5;28;01mbreak\u001b[39;00m\n\u001b[1;32m--> 313\u001b[0m \u001b[38;5;28;43mself\u001b[39;49m\u001b[38;5;241;43m.\u001b[39;49m\u001b[43m_save_chunk\u001b[49m\u001b[43m(\u001b[49m\u001b[43mstart_i\u001b[49m\u001b[43m,\u001b[49m\u001b[43m \u001b[49m\u001b[43mend_i\u001b[49m\u001b[43m)\u001b[49m\n",
      "File \u001b[1;32mc:\\Users\\Admin\\AppData\\Local\\Programs\\Python\\Python312\\Lib\\site-packages\\pandas\\io\\formats\\csvs.py:324\u001b[0m, in \u001b[0;36mCSVFormatter._save_chunk\u001b[1;34m(self, start_i, end_i)\u001b[0m\n\u001b[0;32m    321\u001b[0m data \u001b[38;5;241m=\u001b[39m \u001b[38;5;28mlist\u001b[39m(res\u001b[38;5;241m.\u001b[39m_iter_column_arrays())\n\u001b[0;32m    323\u001b[0m ix \u001b[38;5;241m=\u001b[39m \u001b[38;5;28mself\u001b[39m\u001b[38;5;241m.\u001b[39mdata_index[slicer]\u001b[38;5;241m.\u001b[39m_get_values_for_csv(\u001b[38;5;241m*\u001b[39m\u001b[38;5;241m*\u001b[39m\u001b[38;5;28mself\u001b[39m\u001b[38;5;241m.\u001b[39m_number_format)\n\u001b[1;32m--> 324\u001b[0m \u001b[43mlibwriters\u001b[49m\u001b[38;5;241;43m.\u001b[39;49m\u001b[43mwrite_csv_rows\u001b[49m\u001b[43m(\u001b[49m\n\u001b[0;32m    325\u001b[0m \u001b[43m    \u001b[49m\u001b[43mdata\u001b[49m\u001b[43m,\u001b[49m\n\u001b[0;32m    326\u001b[0m \u001b[43m    \u001b[49m\u001b[43mix\u001b[49m\u001b[43m,\u001b[49m\n\u001b[0;32m    327\u001b[0m \u001b[43m    \u001b[49m\u001b[38;5;28;43mself\u001b[39;49m\u001b[38;5;241;43m.\u001b[39;49m\u001b[43mnlevels\u001b[49m\u001b[43m,\u001b[49m\n\u001b[0;32m    328\u001b[0m \u001b[43m    \u001b[49m\u001b[38;5;28;43mself\u001b[39;49m\u001b[38;5;241;43m.\u001b[39;49m\u001b[43mcols\u001b[49m\u001b[43m,\u001b[49m\n\u001b[0;32m    329\u001b[0m \u001b[43m    \u001b[49m\u001b[38;5;28;43mself\u001b[39;49m\u001b[38;5;241;43m.\u001b[39;49m\u001b[43mwriter\u001b[49m\u001b[43m,\u001b[49m\n\u001b[0;32m    330\u001b[0m \u001b[43m\u001b[49m\u001b[43m)\u001b[49m\n",
      "File \u001b[1;32mpandas/_libs/writers.pyx:73\u001b[0m, in \u001b[0;36mpandas._libs.writers.write_csv_rows\u001b[1;34m()\u001b[0m\n",
      "\u001b[1;31mKeyboardInterrupt\u001b[0m: "
     ]
    }
   ],
   "source": [
    "split_dir = os.path.join(DATA_DIR, \"splits\")\n",
    "os.makedirs(split_dir, exist_ok=True)\n",
    "\n",
    "train_path = os.path.join(split_dir, \"train.csv\")\n",
    "val_path   = os.path.join(split_dir, \"val.csv\")\n",
    "test_path  = os.path.join(split_dir, \"test.csv\")\n",
    "\n",
    "if os.path.exists(train_path) and os.path.exists(val_path) and os.path.exists(test_path):\n",
    "    print(\"Loading cached train/val/test splits...\")\n",
    "    train_df = pd.read_csv(train_path)\n",
    "    val_df   = pd.read_csv(val_path)\n",
    "    test_df  = pd.read_csv(test_path)\n",
    "else:\n",
    "    print(\"Splitting train/val/test...\")\n",
    "    def train_val_test_plit(\n",
    "        data_frame,\n",
    "        test_size=TEST_SIZE,\n",
    "        val_size=VAL_SIZE,\n",
    "        col=\"user_idx\",\n",
    "        seed=SEED\n",
    "    ):\n",
    "        train_val, test = train_test_split(\n",
    "            data_frame,\n",
    "            test_size=test_size,\n",
    "            random_state=seed,\n",
    "            stratify=data_frame[col]\n",
    "        )\n",
    "        train, val = train_test_split(\n",
    "            train_val,\n",
    "            test_size=val_size,\n",
    "            random_state=seed,\n",
    "            stratify=train_val[col]\n",
    "        )\n",
    "        return train.reset_index(drop=True), val.reset_index(drop=True), test.reset_index(drop=True)\n",
    "\n",
    "    train_df, val_df, test_df = train_val_test_plit(df)\n",
    "\n",
    "    train_df.to_csv(train_path, index=False)\n",
    "    val_df.to_csv(val_path, index=False)\n",
    "    test_df.to_csv(test_path, index=False)\n",
    "\n",
    "print(\"Split sizes -\", {k: len(v) for k, v in zip([\"train\", \"val\", \"test\"], [train_df, val_df, test_df])})"
   ]
  },
  {
   "cell_type": "markdown",
   "id": "74601671",
   "metadata": {},
   "source": [
    "## Build genome CSR matrix"
   ]
  },
  {
   "cell_type": "markdown",
   "id": "2e68c97c",
   "metadata": {},
   "source": [
    "Mỗi phim được biểu diễn bằng một vector các điểm `relevance` tương ứng với các tag. Ta cần tạo một ma trận **phim × tag**, trong đó mỗi ô là điểm `relevance`."
   ]
  },
  {
   "cell_type": "code",
   "execution_count": null,
   "id": "b3858fb5",
   "metadata": {},
   "outputs": [],
   "source": [
    "merged_genome = pd.merge(genome_scores, genome_tags, on='tagId', how='left')  \n",
    "#merged_genome['movie_idx'] = movie_encoder.transform(merged_genome['movieId'])\n",
    "\n",
    "merged_genome"
   ]
  },
  {
   "cell_type": "code",
   "execution_count": null,
   "id": "0b776fd6",
   "metadata": {},
   "outputs": [],
   "source": [
    "genome_matrix = merged_genome.pivot(index='movieId', columns='tag', values='relevance').fillna(0)\n",
    "genome_matrix"
   ]
  },
  {
   "cell_type": "code",
   "execution_count": null,
   "id": "7a9c484d",
   "metadata": {},
   "outputs": [],
   "source": [
    "# movieId2row = dict(zip(genome_matrix.index.values, np.arange(genome_matrix.shape[0], dtype=np.int32)))\n",
    "# row2movieId = genome_matrix.index.values"
   ]
  },
  {
   "cell_type": "markdown",
   "id": "2feb6b83",
   "metadata": {},
   "source": [
    "## Genres Vectorization (TF-IDF)"
   ]
  },
  {
   "cell_type": "code",
   "execution_count": null,
   "id": "66cc2c41",
   "metadata": {},
   "outputs": [],
   "source": [
    "tfidf = TfidfVectorizer(token_pattern=r'[^|]+')\n",
    "genres_tfidf = tfidf.fit_transform(movies['genres'])\n",
    "genres_df = pd.DataFrame(genres_tfidf.toarray(), columns=[f'genre:{g}' for g in tfidf.get_feature_names_out()],\n",
    "                                                    index=movies['movieId'])"
   ]
  },
  {
   "cell_type": "code",
   "execution_count": null,
   "id": "aa8686ca",
   "metadata": {},
   "outputs": [],
   "source": [
    "describe_matrix = pd.concat([genome_matrix, genres_df], axis=1).fillna(0)\n",
    "describe_matrix"
   ]
  },
  {
   "cell_type": "code",
   "execution_count": null,
   "id": "2510c80b",
   "metadata": {},
   "outputs": [],
   "source": [
    "std_scaler = StandardScaler(with_mean=False)\n",
    "describe_matrix_scaled = std_scaler.fit_transform(describe_matrix) \n",
    "print(describe_matrix_scaled)"
   ]
  },
  {
   "cell_type": "markdown",
   "id": "f41942fa",
   "metadata": {},
   "source": [
    "## Feature Selection"
   ]
  },
  {
   "cell_type": "code",
   "execution_count": null,
   "id": "9c0cad4c",
   "metadata": {},
   "outputs": [],
   "source": [
    "# Tính rating trung bình cho mỗi movieId\n",
    "movie_avg_rating = ratings.groupby('movieId')['rating'].mean()\n",
    "\n",
    "# Lọc các movieId hợp lệ có trong genome data\n",
    "genome_df_filtered = merged_genome[merged_genome['movieId'].isin(movie_avg_rating.index)].copy()\n",
    "\n",
    "# Xoá trùng movieId nếu cần (giữ lại 1 dòng duy nhất)\n",
    "genome_df_filtered = genome_df_filtered.drop_duplicates(subset='movieId')\n",
    "\n",
    "# Chỉ giữ lại cột movieId\n",
    "genome_df_filtered = genome_df_filtered[['movieId']].copy().reset_index(drop=True)\n",
    "\n",
    "# Thêm cột trung bình rating\n",
    "genome_df_filtered['avg_rating'] = genome_df_filtered['movieId'].map(movie_avg_rating)"
   ]
  },
  {
   "cell_type": "code",
   "execution_count": null,
   "id": "91edcc1a",
   "metadata": {},
   "outputs": [],
   "source": [
    "genome_df_filtered.head()"
   ]
  },
  {
   "cell_type": "code",
   "execution_count": null,
   "id": "3b7d58ae",
   "metadata": {},
   "outputs": [],
   "source": [
    "def rating_to_class(rating):\n",
    "    if rating <= 2.5:\n",
    "        return 0  # rating thấp\n",
    "    elif rating <= 4.0:\n",
    "        return 1  # rating trung bình\n",
    "    else:\n",
    "        return 2  # rating cao\n",
    "\n",
    "rating_class = movie_avg_rating.apply(rating_to_class)"
   ]
  },
  {
   "cell_type": "code",
   "execution_count": null,
   "id": "03b8d8a7",
   "metadata": {},
   "outputs": [],
   "source": [
    "y_sup = rating_class.reindex(describe_matrix.index).fillna(1).astype(int).values\n",
    "\n",
    "if sparse.issparse(describe_matrix_scaled):\n",
    "    X_dense = describe_matrix_scaled.toarray()\n",
    "    X_chi = MinMaxScaler().fit_transform(describe_matrix_scaled)  \n",
    "else:\n",
    "    X_dense = describe_matrix_scaled        \n",
    "    X_chi = MinMaxScaler().fit_transform(describe_matrix_scaled)  \n",
    "\n",
    "\n",
    "# tạo 4 ma trận đặc trưng giám sát\n",
    "feature_matrices = {}\n",
    "\n",
    "# 1. Chi-squared\n",
    "sel_chi = SelectKBest(chi2, k=N_FEATURES_FS).fit(X_chi, y_sup)\n",
    "feature_matrices['chi2'] = sel_chi.transform(describe_matrix_scaled)\n",
    "\n",
    "# 2. Information Gain (Entropy)\n",
    "tree_e = DecisionTreeClassifier(criterion='entropy', random_state=0).fit(X_dense, y_sup)\n",
    "idx_e = np.argsort(tree_e.feature_importances_)[-N_FEATURES_FS:]\n",
    "feature_matrices['entropy'] = X_dense[:, idx_e]\n",
    "\n",
    "# 3. Gini Index\n",
    "tree_g = DecisionTreeClassifier(criterion='gini', random_state=0).fit(X_dense, y_sup)\n",
    "idx_g = np.argsort(tree_g.feature_importances_)[-N_FEATURES_FS:]\n",
    "feature_matrices['gini'] = X_dense[:, idx_g]\n",
    "\n",
    "# 4. Normalized Deviation\n",
    "std_col = np.std(X_dense, axis=0)\n",
    "idx_std = np.argsort(std_col)[-N_FEATURES_FS:]\n",
    "feature_matrices['deviation'] = X_dense[:, idx_std]"
   ]
  },
  {
   "cell_type": "markdown",
   "id": "104e8c11",
   "metadata": {},
   "source": [
    "## Build user profiles"
   ]
  },
  {
   "cell_type": "markdown",
   "id": "92fec9b9",
   "metadata": {},
   "source": [
    "**Làm thế nào để biểu diễn sở thích của người dùng?**\n",
    "\n",
    "- Hồ sơ người dùng là một vector tổng hợp các tag genome của những phim họ thích (dựa trên `rating_z ≥ Z_THRESHOLD`). Vector này được tính bằng trung bình có trọng số của các vector phim."
   ]
  },
  {
   "cell_type": "code",
   "execution_count": null,
   "id": "93ada6c1",
   "metadata": {},
   "outputs": [],
   "source": [
    "def build_user_profiles(ratings_df, rating_col=\"rating_z\", threshold=Z_THRESHOLD, eps=1e-8):\n",
    "    profiles = {}\n",
    "    good = ratings_df.loc[ratings_df[rating_col] >= threshold, [\"userId\", \"movieId\", rating_col]]\n",
    "    \n",
    "    for uid, grp in tqdm(good.groupby(\"userId\"), desc=\"profiles\", unit=\"user\"):\n",
    "        rows = [movieId2row[m] for m in grp.movieId if m in movieId2row]\n",
    "        if not rows:\n",
    "            continue\n",
    "\n",
    "        w = grp[rating_col].values[:, None]\n",
    "        \n",
    "        if w.shape[0] == len(rows):\n",
    "            w_sum = w.sum()\n",
    "\n",
    "            if w_sum < eps:\n",
    "                prof_dense = genome_csr[rows].mean(axis=0)\n",
    "            else:\n",
    "                prof_dense = (genome_csr[rows].multiply(w)).sum(axis=0) / w_sum\n",
    "\n",
    "            prof_dense = np.nan_to_num(np.asarray(prof_dense).ravel())\n",
    "            profiles[uid] = sparse.csr_matrix(prof_dense)\n",
    "\n",
    "    return profiles"
   ]
  },
  {
   "cell_type": "code",
   "execution_count": null,
   "id": "d6bcc43d",
   "metadata": {},
   "outputs": [],
   "source": [
    "def content_score(uid, mid):\n",
    "    if uid not in profiles or mid not in movieId2row:\n",
    "        return 0.0\n",
    "    vec = profiles[uid]\n",
    "    if vec.nnz == 0 or np.isnan(vec.data).any():\n",
    "        return 0.0\n",
    "    return float(cosine_similarity(vec, genome_csr[movieId2row[mid]])[0, 0])\n",
    "\n",
    "def scale_to_rating(sim, a=0, b=1, c=RATING_MIN, d=RATING_MAX):\n",
    "    return (sim - a) / (b - a) * (d - c) + c"
   ]
  },
  {
   "cell_type": "markdown",
   "id": "3ef0facf",
   "metadata": {},
   "source": [
    "## Evaluation"
   ]
  },
  {
   "cell_type": "code",
   "execution_count": null,
   "id": "e68a3535",
   "metadata": {},
   "outputs": [],
   "source": [
    "def evaluate(df_subset):\n",
    "    y_true = df_subset[\"rating\"].values\n",
    "    y_pred = [scale_to_rating(content_score(u, m)) for u, m in zip(df_subset[\"userId\"], df_subset[\"movieId\"])]\n",
    "    return math.sqrt(mean_squared_error(y_true, y_pred)), mean_absolute_error(y_true, y_pred)\n",
    "\n",
    "def _test_matrix(mat):\n",
    "    global genome_csr, movieId2row, row2movieId, profiles\n",
    "    genome_csr = normalize(sparse.csr_matrix(mat), axis=1, copy=False)\n",
    "    movieId2row = {mid: i for i, mid in enumerate(describe_matrix.index.values)}\n",
    "    row2movieId = describe_matrix.index.values\n",
    "    profiles = build_user_profiles(train_df)\n",
    "    return evaluate(test_df)"
   ]
  },
  {
   "cell_type": "code",
   "execution_count": null,
   "id": "e2c24fb6",
   "metadata": {},
   "outputs": [],
   "source": [
    "results = {}\n",
    "print(\"----------Đánh giá 4 phương pháp chọn đặc trưng----------\")\n",
    "for name, mat in feature_matrices.items():\n",
    "    rmse, mae = _test_matrix(mat)\n",
    "    results[name] = (rmse, mae)\n",
    "    print(f\"{name:<9}: RMSE = {rmse:.4f} | MAE = {mae:.4f}\")"
   ]
  },
  {
   "cell_type": "code",
   "execution_count": null,
   "id": "15c4abbb",
   "metadata": {},
   "outputs": [],
   "source": [
    "best_method = min(results, key=lambda k: results[k][0])\n",
    "print(f\"Best method: {best_method}  (RMSE = {results[best_method][0]:.4f})\")"
   ]
  },
  {
   "cell_type": "code",
   "execution_count": null,
   "id": "bd15ead8",
   "metadata": {},
   "outputs": [],
   "source": [
    "genome_csr = normalize(sparse.csr_matrix(feature_matrices[best_method]), axis=1, copy=False)\n",
    "\n",
    "movieId2row = {mid: i for i, mid in enumerate(describe_matrix.index.values)}\n",
    "row2movieId = describe_matrix.index.values"
   ]
  },
  {
   "cell_type": "code",
   "execution_count": null,
   "id": "da35f77f",
   "metadata": {},
   "outputs": [],
   "source": [
    "movieId2row"
   ]
  },
  {
   "cell_type": "code",
   "execution_count": null,
   "id": "56755871",
   "metadata": {},
   "outputs": [],
   "source": [
    "row2movieId"
   ]
  },
  {
   "cell_type": "code",
   "execution_count": null,
   "id": "0f7c7279",
   "metadata": {},
   "outputs": [],
   "source": [
    "profiles = build_user_profiles(train_df) "
   ]
  },
  {
   "cell_type": "code",
   "execution_count": null,
   "id": "cd23ef52",
   "metadata": {},
   "outputs": [],
   "source": [
    "# Cập nhật genome_csr theo phương pháp tốt nhất\n",
    "genome_csr = normalize(sparse.csr_matrix(feature_matrices[best_method]), axis=1, copy=False)\n",
    "\n",
    "# Cập nhật chỉ mục movieId\n",
    "movieId2row = {mid: i for i, mid in enumerate(describe_matrix.index.values)}\n",
    "row2movieId = describe_matrix.index.values\n",
    "\n",
    "# Load hoặc build user profiles\n",
    "profiles = load_profiles(best_method)\n",
    "if profiles is None:\n",
    "    print(f\"Building user profiles for method: {best_method}\")\n",
    "    profiles = build_user_profiles(train_df)\n",
    "    save_profiles(profiles, best_method)\n",
    "    print(f\"Profiles saved to disk for method '{best_method}'\")\n",
    "else:\n",
    "    print(f\"Loaded cached profiles for method '{best_method}'\")\n"
   ]
  },
  {
   "cell_type": "markdown",
   "id": "85145031",
   "metadata": {},
   "source": [
    "## Recommendation"
   ]
  },
  {
   "cell_type": "code",
   "execution_count": null,
   "id": "4f3ade96",
   "metadata": {},
   "outputs": [],
   "source": [
    "def print_actual_pred(df_, n=SHOW_ROWS):\n",
    "    print(f\"Actual vs Predicted (first {n} rows of supplied set):\")\n",
    "    for _, row in df_.head(n).iterrows():\n",
    "        pred = scale_to_rating(content_score(row.userId, row.movieId))\n",
    "        print(f\"userid = {row.userId:6.0f} | movieid = {row.movieId:6.0f} | actual = {row.rating:3.1f} | pred = {pred:3.2f}\")\n",
    "\n",
    "print_actual_pred(test_df, SHOW_ROWS)"
   ]
  },
  {
   "cell_type": "code",
   "execution_count": null,
   "id": "6903f875",
   "metadata": {},
   "outputs": [],
   "source": [
    "def recommend_content(uid, N=TOP_N):\n",
    "    if uid not in profiles or not profiles[uid].nnz:\n",
    "        return []\n",
    "    seen = set(train_df.loc[train_df.userId == uid, \"movieId\"])\n",
    "    sims = cosine_similarity(profiles[uid], genome_csr).ravel()\n",
    "    for m in seen:\n",
    "        if m in movieId2row:\n",
    "            sims[movieId2row[m]] = -1.0\n",
    "    idx = np.argpartition(sims, -N)[-N:]\n",
    "    idx = idx[np.argsort(sims[idx])[::-1]]\n",
    "    return [(int(row2movieId[i]), float(sims[i])) for i in idx]\n",
    "\n",
    "def user_genre_preference(uid, top_k=10):\n",
    "    fav = train_df[(train_df.userId == uid) & (train_df[\"rating_z\"] >= Z_THRESHOLD)]\n",
    "    counts = {}\n",
    "    for mid in fav.movieId:\n",
    "        for g in movies.loc[movies.movieId == mid, \"genres\"].iat[0].split(\"|\"):\n",
    "            counts[g] = counts.get(g, 0) + 1\n",
    "    return dict(sorted(counts.items(), key=lambda kv: kv[1], reverse=True)[:top_k])\n",
    "\n",
    "def show_recs(uid=SAMPLE_USER, N=TOP_N):\n",
    "    print(f\"\\nTop-{N} recommendations for user {uid}\")\n",
    "    for mid, sim in recommend_content(uid, N):\n",
    "        mv = movies[movies.movieId == mid].iloc[0]\n",
    "        print(f\"movieid = {mid:6d} | similarity = {sim:.3f} | predicted rating = {scale_to_rating(sim):.2f} | {mv.title} | {mv.genres}\")\n",
    "    print(\"\\nUser's favourite genres:\")\n",
    "    for g, c in user_genre_preference(uid).items():\n",
    "        print(f\"{g}: {c} movies\")"
   ]
  },
  {
   "cell_type": "code",
   "execution_count": null,
   "id": "e57723ff",
   "metadata": {},
   "outputs": [],
   "source": [
    "if __name__ == \"__main__\":\n",
    "    show_recs(SAMPLE_USER, TOP_N)"
   ]
  }
 ],
 "metadata": {
  "kernelspec": {
   "display_name": "Python 3",
   "language": "python",
   "name": "python3"
  },
  "language_info": {
   "codemirror_mode": {
    "name": "ipython",
    "version": 3
   },
   "file_extension": ".py",
   "mimetype": "text/x-python",
   "name": "python",
   "nbconvert_exporter": "python",
   "pygments_lexer": "ipython3",
   "version": "3.12.2"
  }
 },
 "nbformat": 4,
 "nbformat_minor": 5
}
