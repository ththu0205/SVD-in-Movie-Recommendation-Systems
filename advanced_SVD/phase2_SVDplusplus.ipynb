{
 "cells": [
  {
   "cell_type": "markdown",
   "id": "08c4467e",
   "metadata": {},
   "source": [
    "# **SVP plus plus**"
   ]
  },
  {
   "cell_type": "code",
   "execution_count": null,
   "id": "b266d58c",
   "metadata": {
    "execution": {
     "iopub.execute_input": "2025-06-12T10:53:56.001962Z",
     "iopub.status.busy": "2025-06-12T10:53:56.001777Z",
     "iopub.status.idle": "2025-06-12T10:54:00.435071Z",
     "shell.execute_reply": "2025-06-12T10:54:00.434189Z",
     "shell.execute_reply.started": "2025-06-12T10:53:56.001939Z"
    },
    "trusted": true
   },
   "outputs": [],
   "source": [
    "import pandas as pd\n",
    "from collections import defaultdict\n",
    "import random\n",
    "import math\n",
    "from tqdm import tqdm \n",
    "from sklearn.preprocessing import LabelEncoder\n",
    "from sklearn.model_selection import train_test_split\n",
    "import numpy as np"
   ]
  },
  {
   "cell_type": "markdown",
   "id": "cfb3a9ab",
   "metadata": {},
   "source": [
    "## **1. Dùng thư viện**"
   ]
  },
  {
   "cell_type": "markdown",
   "id": "1b78fa91",
   "metadata": {},
   "source": [
    "### **Load data**"
   ]
  },
  {
   "cell_type": "code",
   "execution_count": null,
   "id": "6161c0cd",
   "metadata": {},
   "outputs": [],
   "source": [
    "# import zipfile\n",
    "\n",
    "# # Đường dẫn đến file zip\n",
    "# zip_path = '../Data_PPS.zip'\n",
    "\n",
    "# # Mở và giải nén file zip\n",
    "# with zipfile.ZipFile(zip_path, 'r') as zip_ref:\n",
    "#     zip_ref.extractall()\n",
    "\n",
    "train_df = pd.read_csv('Data_PPS/train_df.csv')\n",
    "test_df = pd.read_csv('Data_PPS/test_df.csv')"
   ]
  },
  {
   "cell_type": "code",
   "execution_count": null,
   "id": "dc6b2ac0",
   "metadata": {},
   "outputs": [],
   "source": [
    "tags = pd.read_csv('../ml-25m/tags.csv')\n",
    "# Lọc tags: chỉ giữ lại userId có trong train_df\n",
    "valid_user_ids = set(train_df['userId'])\n",
    "tags = tags[tags['userId'].isin(valid_user_ids)]\n",
    "\n",
    "# Tạo các cặp từ train_df và tags\n",
    "train_pairs = set(zip(train_df['userId'], train_df['movieId']))\n",
    "tagged_pairs = set(zip(tags['userId'], tags['movieId']))\n",
    "\n",
    "# Gộp cả rating lẫn tag (giả sử tag là 1 dạng feedback gián tiếp)\n",
    "combined_pairs = train_pairs.union(tagged_pairs)\n",
    "\n",
    "# Tập đánh giá rõ ràng (có rating)\n",
    "explicit_df = train_df[['userId', 'movieId', 'rating']]\n",
    "\n",
    "# Các cặp chỉ có tag, chưa từng rating → gán rating giả định\n",
    "tag_only_pairs = tagged_pairs - train_pairs\n",
    "tag_only_df = pd.DataFrame(list(tag_only_pairs), columns=['userId', 'movieId'])\n",
    "tag_only_df['rating'] = np.mean([0.5, 5.0])  # hoặc np.mean([0.5, 5.0]) = 2.75\n",
    "\n",
    "# Gộp lại làm train data mới\n",
    "train_tags_df = pd.concat([explicit_df, tag_only_df], ignore_index=True)"
   ]
  },
  {
   "cell_type": "code",
   "execution_count": null,
   "id": "a2245342",
   "metadata": {},
   "outputs": [
    {
     "name": "stdout",
     "output_type": "stream",
     "text": [
      "(1764200, 8)\n",
      "(1834876, 3)\n"
     ]
    }
   ],
   "source": [
    "print(train_df.shape)\n",
    "print(train_tags_df.shape)"
   ]
  },
  {
   "cell_type": "code",
   "execution_count": null,
   "id": "b5ba2863",
   "metadata": {},
   "outputs": [
    {
     "data": {
      "text/plain": [
       "userId      1000\n",
       "movieId    56984\n",
       "rating        11\n",
       "dtype: int64"
      ]
     },
     "metadata": {},
     "output_type": "display_data"
    }
   ],
   "source": [
    "train_tags_df.nunique()"
   ]
  },
  {
   "cell_type": "markdown",
   "id": "5d9a4074",
   "metadata": {},
   "source": [
    "### **Import Surprise**"
   ]
  },
  {
   "cell_type": "code",
   "execution_count": null,
   "id": "bd02d216",
   "metadata": {},
   "outputs": [],
   "source": [
    "from surprise import Dataset, SVDpp, accuracy, Reader\n",
    "from surprise.accuracy import mae\n",
    "\n",
    "# Định nghĩa Reader\n",
    "reader = Reader(rating_scale=(0.5, 5))\n",
    "\n",
    "# Tạo trainset và testset từ DataFrame\n",
    "trainset = Dataset.load_from_df(train_tags_df[['userId', 'movieId', 'rating']], reader=reader).build_full_trainset()\n",
    "testset = list(test_df[['userId', 'movieId', 'rating']].itertuples(index=False, name=None))"
   ]
  },
  {
   "cell_type": "code",
   "execution_count": null,
   "id": "92f814a8",
   "metadata": {},
   "outputs": [
    {
     "name": "stdout",
     "output_type": "stream",
     "text": [
      " processing epoch 0\n",
      " processing epoch 1\n",
      " processing epoch 2\n",
      " processing epoch 3\n",
      " processing epoch 4\n"
     ]
    },
    {
     "data": {
      "text/plain": [
       "<surprise.prediction_algorithms.matrix_factorization.SVDpp at 0x14296ff9110>"
      ]
     },
     "metadata": {},
     "output_type": "display_data"
    }
   ],
   "source": [
    "# ======= Khởi tạo và huấn luyện mô hình =======\n",
    "model_svdpp = SVDpp(n_epochs=5, n_factors=50, verbose=True)\n",
    "model_svdpp.fit(trainset)"
   ]
  },
  {
   "cell_type": "code",
   "execution_count": null,
   "id": "7adbf1b1",
   "metadata": {},
   "outputs": [
    {
     "name": "stdout",
     "output_type": "stream",
     "text": [
      "RMSE: 0.7074\n",
      "MAE:  0.5365\n"
     ]
    }
   ],
   "source": [
    "# ======= Đánh giá trên tập huấn luyện =======\n",
    "train_predictions = model_svdpp.test(trainset.build_testset()[:10000])\n",
    "train_rmse = accuracy.rmse(train_predictions, verbose=True)\n",
    "train_mae = accuracy.mae(train_predictions, verbose=True)"
   ]
  },
  {
   "cell_type": "code",
   "execution_count": null,
   "id": "c354614e",
   "metadata": {},
   "outputs": [
    {
     "name": "stdout",
     "output_type": "stream",
     "text": [
      "RMSE: 0.8520\n",
      "MAE:  0.6408\n"
     ]
    }
   ],
   "source": [
    "# ======= Đánh giá trên tập kiểm tra =======\n",
    "test_predictions = model_svdpp.test(testset)\n",
    "test_rmse = accuracy.rmse(test_predictions, verbose=True)\n",
    "test_mae = accuracy.mae(test_predictions, verbose=True)"
   ]
  },
  {
   "cell_type": "markdown",
   "id": "964dd1a5",
   "metadata": {},
   "source": [
    "### **Inference**"
   ]
  },
  {
   "cell_type": "code",
   "execution_count": null,
   "id": "b4069cf5",
   "metadata": {},
   "outputs": [],
   "source": [
    "def recommend_movies(user_id, model, movies_df, ratings_df, top_n=10):\n",
    "    # Lấy danh sách tất cả movieId từ movies_df\n",
    "    all_movie_ids = movies_df['movieId'].unique()\n",
    "    \n",
    "    # Lấy danh sách movieId mà người dùng đã đánh giá\n",
    "    rated_movies = ratings_df[ratings_df['userId'] == user_id]['movieId'].unique()\n",
    "    \n",
    "    # Lấy danh sách movieId chưa được người dùng đánh giá\n",
    "    unrated_movies = [mid for mid in all_movie_ids if mid not in rated_movies]\n",
    "    \n",
    "    # Dự đoán điểm cho các phim chưa đánh giá\n",
    "    predictions = []\n",
    "    for movie_id in unrated_movies:\n",
    "        pred = model.predict(user_id, movie_id)\n",
    "        predictions.append({\n",
    "            'movieId': movie_id,\n",
    "            'score': pred.est\n",
    "        })\n",
    "    \n",
    "    # Chuyển predictions thành DataFrame\n",
    "    pred_df = pd.DataFrame(predictions)\n",
    "    \n",
    "    # Kết hợp với movies_df để lấy tiêu đề phim\n",
    "    recommended = pred_df.merge(movies_df, on='movieId', how='left')\n",
    "    \n",
    "    # Lấy rating thực tế (nếu có) từ ratings_df\n",
    "    recommended = recommended.merge(\n",
    "        ratings_df[ratings_df['userId'] == user_id][['movieId', 'rating']],\n",
    "        on='movieId',\n",
    "        how='left'\n",
    "    )\n",
    "    \n",
    "    # Sắp xếp theo score giảm dần và lấy top_n\n",
    "    recommended = recommended.sort_values(by='score', ascending=False).head(top_n)\n",
    "    \n",
    "    # Sắp xếp lại cột: movieId, title, score, rating\n",
    "    recommended = recommended[['movieId', 'title', 'genres', 'score']]\n",
    "    \n",
    "    return recommended"
   ]
  },
  {
   "cell_type": "code",
   "execution_count": null,
   "id": "9f64ec0c",
   "metadata": {},
   "outputs": [
    {
     "data": {
      "text/html": [
       "<div>\n",
       "<style scoped>\n",
       "    .dataframe tbody tr th:only-of-type {\n",
       "        vertical-align: middle;\n",
       "    }\n",
       "\n",
       "    .dataframe tbody tr th {\n",
       "        vertical-align: top;\n",
       "    }\n",
       "\n",
       "    .dataframe thead th {\n",
       "        text-align: right;\n",
       "    }\n",
       "</style>\n",
       "<table border=\"1\" class=\"dataframe\">\n",
       "  <thead>\n",
       "    <tr style=\"text-align: right;\">\n",
       "      <th></th>\n",
       "      <th>movieId</th>\n",
       "      <th>title</th>\n",
       "      <th>genres</th>\n",
       "      <th>score</th>\n",
       "    </tr>\n",
       "  </thead>\n",
       "  <tbody>\n",
       "    <tr>\n",
       "      <th>44000</th>\n",
       "      <td>170705</td>\n",
       "      <td>Band of Brothers (2001)</td>\n",
       "      <td>Action|Drama|War</td>\n",
       "      <td>4.198430</td>\n",
       "    </tr>\n",
       "    <tr>\n",
       "      <th>39030</th>\n",
       "      <td>159817</td>\n",
       "      <td>Planet Earth (2006)</td>\n",
       "      <td>Documentary</td>\n",
       "      <td>4.077804</td>\n",
       "    </tr>\n",
       "    <tr>\n",
       "      <th>44148</th>\n",
       "      <td>171011</td>\n",
       "      <td>Planet Earth II (2016)</td>\n",
       "      <td>Documentary</td>\n",
       "      <td>4.053339</td>\n",
       "    </tr>\n",
       "    <tr>\n",
       "      <th>1031</th>\n",
       "      <td>1201</td>\n",
       "      <td>Good, the Bad and the Ugly, The (Buono, il bru...</td>\n",
       "      <td>Action|Adventure|Western</td>\n",
       "      <td>4.030876</td>\n",
       "    </tr>\n",
       "    <tr>\n",
       "      <th>44380</th>\n",
       "      <td>171495</td>\n",
       "      <td>Cosmos</td>\n",
       "      <td>(no genres listed)</td>\n",
       "      <td>4.015286</td>\n",
       "    </tr>\n",
       "    <tr>\n",
       "      <th>7877</th>\n",
       "      <td>26082</td>\n",
       "      <td>Harakiri (Seppuku) (1962)</td>\n",
       "      <td>Drama</td>\n",
       "      <td>4.001897</td>\n",
       "    </tr>\n",
       "    <tr>\n",
       "      <th>6069</th>\n",
       "      <td>6787</td>\n",
       "      <td>All the President's Men (1976)</td>\n",
       "      <td>Drama|Thriller</td>\n",
       "      <td>3.960995</td>\n",
       "    </tr>\n",
       "    <tr>\n",
       "      <th>9914</th>\n",
       "      <td>44555</td>\n",
       "      <td>Lives of Others, The (Das leben der Anderen) (...</td>\n",
       "      <td>Drama|Romance|Thriller</td>\n",
       "      <td>3.957431</td>\n",
       "    </tr>\n",
       "    <tr>\n",
       "      <th>39233</th>\n",
       "      <td>160289</td>\n",
       "      <td>O.J.: Made in America (2016)</td>\n",
       "      <td>Documentary</td>\n",
       "      <td>3.953772</td>\n",
       "    </tr>\n",
       "    <tr>\n",
       "      <th>1046</th>\n",
       "      <td>1233</td>\n",
       "      <td>Boot, Das (Boat, The) (1981)</td>\n",
       "      <td>Action|Drama|War</td>\n",
       "      <td>3.945765</td>\n",
       "    </tr>\n",
       "  </tbody>\n",
       "</table>\n",
       "</div>"
      ],
      "text/plain": [
       "       movieId                                              title  \\\n",
       "44000   170705                            Band of Brothers (2001)   \n",
       "39030   159817                                Planet Earth (2006)   \n",
       "44148   171011                             Planet Earth II (2016)   \n",
       "1031      1201  Good, the Bad and the Ugly, The (Buono, il bru...   \n",
       "44380   171495                                             Cosmos   \n",
       "7877     26082                          Harakiri (Seppuku) (1962)   \n",
       "6069      6787                     All the President's Men (1976)   \n",
       "9914     44555  Lives of Others, The (Das leben der Anderen) (...   \n",
       "39233   160289                       O.J.: Made in America (2016)   \n",
       "1046      1233                       Boot, Das (Boat, The) (1981)   \n",
       "\n",
       "                         genres     score  \n",
       "44000          Action|Drama|War  4.198430  \n",
       "39030               Documentary  4.077804  \n",
       "44148               Documentary  4.053339  \n",
       "1031   Action|Adventure|Western  4.030876  \n",
       "44380        (no genres listed)  4.015286  \n",
       "7877                      Drama  4.001897  \n",
       "6069             Drama|Thriller  3.960995  \n",
       "9914     Drama|Romance|Thriller  3.957431  \n",
       "39233               Documentary  3.953772  \n",
       "1046           Action|Drama|War  3.945765  "
      ]
     },
     "metadata": {},
     "output_type": "display_data"
    }
   ],
   "source": [
    "ratings = pd.read_csv(\"../ml-25m/ratings.csv\")\n",
    "movies = pd.read_csv('../ml-25m/movies.csv')\n",
    "user_id = 95133\n",
    "top_n = 10\n",
    "recommended_movies = recommend_movies(user_id, model_svdpp, movies, ratings, top_n)\n",
    "display(recommended_movies)"
   ]
  },
  {
   "cell_type": "markdown",
   "id": "1eb6dfbc",
   "metadata": {},
   "source": [
    "## **2. Implement**"
   ]
  },
  {
   "cell_type": "code",
   "execution_count": 2,
   "id": "ce14efe7",
   "metadata": {
    "execution": {
     "iopub.execute_input": "2025-06-12T10:54:00.436337Z",
     "iopub.status.busy": "2025-06-12T10:54:00.435932Z",
     "iopub.status.idle": "2025-06-12T10:54:17.643814Z",
     "shell.execute_reply": "2025-06-12T10:54:17.643014Z",
     "shell.execute_reply.started": "2025-06-12T10:54:00.436316Z"
    },
    "trusted": true
   },
   "outputs": [],
   "source": [
    "# Đọc file \n",
    "ratings = pd.read_csv('/kaggle/input/movie-len-25m/ratings.csv')\n",
    "movies = pd.read_csv('/kaggle/input/movie-len-25m/movies.csv')\n",
    "tags = pd.read_csv('/kaggle/input/movie-len-25m/tags.csv')"
   ]
  },
  {
   "cell_type": "code",
   "execution_count": null,
   "id": "f28beab4",
   "metadata": {
    "execution": {
     "iopub.execute_input": "2025-06-12T10:54:17.646504Z",
     "iopub.status.busy": "2025-06-12T10:54:17.646173Z",
     "iopub.status.idle": "2025-06-12T10:54:24.650078Z",
     "shell.execute_reply": "2025-06-12T10:54:24.649354Z",
     "shell.execute_reply.started": "2025-06-12T10:54:17.646483Z"
    },
    "trusted": true
   },
   "outputs": [],
   "source": [
    "df = pd.merge(ratings, movies, on='movieId')\n",
    "\n",
    "# Lọc 1000 người dùng đánh giá nhiều nhất\n",
    "sample_users = df['userId'].value_counts().head(1000).index\n",
    "sample_df = df[df['userId'].isin(sample_users)].copy()\n",
    "\n",
    "# Mã hóa userId và title thành chỉ số liên tục\n",
    "user_encoder = LabelEncoder()\n",
    "movie_encoder = LabelEncoder()\n",
    "sample_df['user_idx'] = user_encoder.fit_transform(sample_df['userId'])\n",
    "sample_df['movie_idx'] = movie_encoder.fit_transform(sample_df['movieId'])\n",
    "\n",
    "# Chia dữ liệu thành tập train, test, val, đảm bảo mỗi user đều có mặt ở cả hai tập\n",
    "train_val_df, test_df = train_test_split(\n",
    "    sample_df, \n",
    "    test_size=0.2, \n",
    "    random_state=42,\n",
    "    stratify=sample_df[\"user_idx\"]  \n",
    ")\n",
    "\n",
    "train_df, val_df = train_test_split(\n",
    "    train_val_df, \n",
    "    test_size=0.1, \n",
    "    random_state=42,\n",
    "    stratify=train_val_df[\"user_idx\"]\n",
    ") "
   ]
  },
  {
   "cell_type": "markdown",
   "id": "46633ccd",
   "metadata": {},
   "source": [
    "#### **Tạo data train/test/eval**"
   ]
  },
  {
   "cell_type": "markdown",
   "id": "b517741c",
   "metadata": {},
   "source": [
    "**Explicit feedback**"
   ]
  },
  {
   "cell_type": "markdown",
   "id": "14faa970",
   "metadata": {},
   "source": [
    "- Trích xuất `[user_idx, movie_idx, rating]` cho từng tập.\n",
    "\n",
    "- Đưa về định dạng numpy để chuẩn bị cho mô hình SVDpp và giúp truy cập nhanh, hiệu quả khi huấn luyện."
   ]
  },
  {
   "cell_type": "code",
   "execution_count": null,
   "id": "c801ff51",
   "metadata": {},
   "outputs": [],
   "source": [
    "# Tạo dữ liệu train/test/val cho ratings (đã encode)\n",
    "rating_train = train_df[['user_idx', 'movie_idx', 'rating']].to_numpy()\n",
    "rating_val = val_df[['user_idx', 'movie_idx', 'rating']].to_numpy()\n",
    "rating_test = test_df[['user_idx', 'movie_idx', 'rating']].to_numpy()"
   ]
  },
  {
   "cell_type": "markdown",
   "id": "29e821b8",
   "metadata": {},
   "source": [
    "**Implicit feedback**"
   ]
  },
  {
   "cell_type": "markdown",
   "id": "ad6e4c21",
   "metadata": {},
   "source": [
    "- Xây dựng tập dữ liệu từ hành vi gắn tag để bổ sung thông tin về sở thích người dùng.\n",
    "\n",
    "- Cách tạo data implicit feedback từ tags:\n",
    "\n",
    "    - Tạo cặp (userId, movieId) có trong data train, thì tag tương ứng cũng có những cặp này. \n",
    "    \n",
    "    - Sau đó mã hóa thành (user_idx, movie_idx) để đồng bộ với encoding từ explicit feedback.\n",
    "    \n",
    "    - Tạo một dictionary implicit: `user_idx -> set(movie_idx)` để biểu diễn mối quan hệ ngầm user đã tương tác với những phim nào."
   ]
  },
  {
   "cell_type": "code",
   "execution_count": null,
   "id": "3f681754-3b2f-49df-a3b3-a2b84cc4b7d5",
   "metadata": {
    "execution": {
     "iopub.execute_input": "2025-06-12T10:54:24.651241Z",
     "iopub.status.busy": "2025-06-12T10:54:24.650916Z",
     "iopub.status.idle": "2025-06-12T10:54:33.087644Z",
     "shell.execute_reply": "2025-06-12T10:54:33.086870Z",
     "shell.execute_reply.started": "2025-06-12T10:54:24.651215Z"
    },
    "trusted": true
   },
   "outputs": [],
   "source": [
    "# Tạo cặp (userId, movieId) xuất hiện trong train\n",
    "train_pairs = set(zip(train_df['userId'], train_df['movieId']))\n",
    "\n",
    "# Lọc tags tương ứng với (userId, movieId) trong train\n",
    "train_tags = tags[\n",
    "    tags.apply(lambda x: (x['userId'], x['movieId']) in train_pairs, axis=1)\n",
    "].copy()\n",
    "\n",
    "# Gán user_idx và movie_idx cho tập tag\n",
    "train_tags['user_idx'] = user_encoder.transform(train_tags['userId']).astype(int)\n",
    "train_tags['movie_idx'] = movie_encoder.transform(train_tags['movieId']).astype(int)\n",
    "\n",
    "# Tạo implicit feedback từ tags\n",
    "implicit_train = defaultdict(set)\n",
    "for row in train_tags.itertuples(index=False):\n",
    "    implicit_train[row.user_idx].add(row.movie_idx)"
   ]
  },
  {
   "cell_type": "markdown",
   "id": "62c24e9e",
   "metadata": {},
   "source": [
    "### **Thuật toán SVD++**"
   ]
  },
  {
   "cell_type": "markdown",
   "id": "fdc3f066",
   "metadata": {},
   "source": [
    "#### **1. Công thức dự đoán rating và ý tưởng**\n",
    "\n",
    "Giả sử $R_{n \\times m}$ là ma trận đánh giá gồm $n$ người dùng và $m$ mặt hàng. Mỗi phần tử $r_{ui}$ là đánh giá của người dùng $u$ cho mặt hàng $i$.\n",
    "\n",
    "Công thức dự đoán rating trong mô hình **SVD++** là:\n",
    "\n",
    "$$\n",
    "\\hat{r}_{ui} = \\mu + b_u + b_i + q_i^T \\left(p_u + \\frac{1}{\\sqrt{|R(u)|}} \\sum_{j \\in R(u)} y_j \\right)\n",
    "$$\n",
    "\n",
    "Trong đó:\n",
    "\n",
    "- $\\mu$: trung bình các rating toàn bộ hệ thống  \n",
    "- $b_u$, $b_i$: độ lệch riêng của người dùng $u$ và movie $i$  \n",
    "- $p_u$, $q_i$: vector tiềm ẩn đại diện cho người dùng và movie\n",
    "- $y_j$: vector phản hồi ngầm của movie $j$\n",
    "- $R(u)$: tập các movie mà người dùng $u$ đã đánh giá\n",
    "\n",
    "Ý tưởng của SVD++ là kết hợp **cả thông tin explicit (rating)** và **implicit feedback (dạng hành vi như gắn tag, click, xem phim, v.v.)** để cải thiện độ chính xác khi dự đoán.\n",
    "\n",
    "#### **2. Hàm mất mát (Loss function)**\n",
    "\n",
    "Hàm mất mát của mô hình SVD++ được định nghĩa như sau:\n",
    "\n",
    "$$\n",
    "\\sum_{r_{ui} \\in R} \\left[ \\left(r_{ui} - \\mu - b_u - b_i - q_i^T \\left(p_u + \\frac{1}{\\sqrt{|R(u)|}} \\sum_{j \\in R(u)} y_j \\right) \\right)^2 + \\lambda_1 (b_u^2 + b_i^2) + \\lambda_2 ( \\|p_u\\|^2 + \\|q_i\\|^2 ) \\right]\n",
    "$$\n",
    "\n",
    "Giải thích các thành phần:\n",
    "\n",
    "- Thành phần đầu là **sai số bình phương** giữa rating thực tế và rating dự đoán.\n",
    "\n",
    "- Các biểu thức chứa $\\lambda_1$ và $\\lambda_2$ là **regularization**:\n",
    "\n",
    "  - $\\lambda_1$: điều chỉnh độ lệch (bias)\n",
    "\n",
    "  - $\\lambda_2$: điều chỉnh độ lớn của vector tiềm ẩn\n",
    "\n",
    "Regularization giúp giảm **overfitting**, nhất là khi dữ liệu đánh giá bị **thưa** (sparse). Nó hạn chế mô hình \"học thuộc\" toàn bộ dữ liệu train và giúp tổng quát hóa tốt hơn trên tập validation.\n",
    "\n",
    "#### **3. Quy tắc cập nhật tham số bằng SGD**\n",
    "\n",
    "Với mỗi mini-batch, chọn ngẫu nhiên các mẫu và cập nhật các tham số $b_u, b_i, p_u, q_i, y_j$ dựa trên sai số $e_{ui} = r_{ui} - \\hat{r}_{ui}$ theo các công thức sau:\n",
    "\n",
    "- $\n",
    "b_u \\leftarrow b_u + \\gamma \\cdot (e_{ui} - \\lambda_1 \\cdot b_u)\n",
    "$\n",
    "\n",
    "- $\n",
    "b_i \\leftarrow b_i + \\gamma \\cdot (e_{ui} - \\lambda_1 \\cdot b_i)\n",
    "$\n",
    "\n",
    "- $\n",
    "q_i \\leftarrow q_i + \\gamma \\cdot \\left( e_{ui} \\cdot \\left( p_u + \\frac{1}{\\sqrt{|R(u)|}} \\sum_{j \\in R(u)} y_j \\right) - \\lambda_2 \\cdot q_i \\right)\n",
    "$\n",
    "\n",
    "- $\n",
    "p_u \\leftarrow p_u + \\gamma \\cdot (e_{ui} \\cdot q_i - \\lambda_2 \\cdot p_u)\n",
    "$\n",
    "\n",
    "- $\n",
    "\\forall j \\in R(u): \\quad y_j \\leftarrow y_j + \\gamma \\cdot \\left( \\frac{e_{ui}}{\\sqrt{|R(u)|}} \\cdot q_i - \\lambda_2 \\cdot y_j \\right)\n",
    "$\n",
    "\n",
    "Trong đó:\n",
    "\n",
    "- $\\gamma$: learning rate  \n",
    "- $\\lambda_1, \\lambda_2$: hệ số regularization  \n",
    "- $R(u)$: tập các movie mà user $u$ đã đánh giá  \n",
    "\n",
    "Mỗi lần cập nhật là một bước tiến nhỏ giúp mô hình tối ưu dần các tham số để giảm sai số dự đoán.\n"
   ]
  },
  {
   "cell_type": "code",
   "execution_count": null,
   "id": "aed89d6f",
   "metadata": {
    "execution": {
     "iopub.execute_input": "2025-06-12T10:54:33.088758Z",
     "iopub.status.busy": "2025-06-12T10:54:33.088542Z",
     "iopub.status.idle": "2025-06-12T10:54:33.110369Z",
     "shell.execute_reply": "2025-06-12T10:54:33.109399Z",
     "shell.execute_reply.started": "2025-06-12T10:54:33.088741Z"
    },
    "trusted": true
   },
   "outputs": [],
   "source": [
    "class SVDPP:\n",
    "    \"\"\"\n",
    "    Mô hình SVD++.\n",
    "\n",
    "    ratings: list các bộ (user_idx, movie_idx, rating)\n",
    "    implicit_feedback: dict {user_idx: set(movie_idx)} \n",
    "    num_users, num_items: tổng số user/item\n",
    "    n_factors: số chiều của vector tiềm ẩn\n",
    "    lr_all: learning rate\n",
    "    reg_all: hệ số regularization mặc định\n",
    "    reg1, reg2: regularization cho bias và vector\n",
    "    epochs: số vòng lặp huấn luyện\n",
    "    \"\"\"\n",
    "    def __init__(self, \n",
    "                 ratings, implicit_feedback, num_users, num_items, \n",
    "                 n_factors=20, \n",
    "                 lr_all=0.007, \n",
    "                 reg_all=0.02, \n",
    "                 reg1=None, reg2=None,\n",
    "                 epochs=20):\n",
    "        self.ratings = ratings  \n",
    "        self.Nu = implicit_feedback  \n",
    "        self.n_factors = n_factors\n",
    "        self.lr_all = lr_all\n",
    "        self.reg_all = reg_all\n",
    "        self.reg1 = reg1 if reg1 is not None else reg_all\n",
    "        self.reg2 = reg2 if reg2 is not None else reg_all\n",
    "        self.epochs = epochs\n",
    "\n",
    "        self.num_users = num_users\n",
    "        self.num_items = num_items\n",
    "\n",
    "        self.bu = np.zeros(num_users)\n",
    "        self.bi = np.zeros(num_items)\n",
    "\n",
    "        self.pu = np.random.normal(0, 0.1, (num_users, n_factors))\n",
    "        self.qi = np.random.normal(0, 0.1, (num_items, n_factors))\n",
    "\n",
    "        # yj must cover all item indices that appear in implicit feedback\n",
    "        all_implicit_items = set()\n",
    "        for items in implicit_feedback.values():\n",
    "            all_implicit_items.update(items)\n",
    "        self.yj = np.random.normal(0, 0.1, (num_items, n_factors))  # Pre-allocate full matrix\n",
    "\n",
    "        self.global_mean = np.mean([r for _, _, r in ratings])\n",
    "\n",
    "    def predict(self, u, i, sum_yj_u=None):\n",
    "        \"\"\"\n",
    "        Dự đoán rating của user u cho item i.\n",
    "        Nếu đã tính trước sum_yj_u thì truyền vào để tăng tốc.\n",
    "        \"\"\"\n",
    "        if sum_yj_u is None:\n",
    "            implicit_items = self.Nu.get(u, set())\n",
    "            sqrt_Nu = math.sqrt(len(implicit_items)) if implicit_items else 1.0\n",
    "            sum_yj_u = np.sum(self.yj[list(implicit_items)], axis=0) / sqrt_Nu if implicit_items else np.zeros(self.n_factors)\n",
    "\n",
    "        interaction = self.pu[u] + sum_yj_u\n",
    "        return self.global_mean + self.bu[u] + self.bi[i] + np.dot(interaction, self.qi[i])\n",
    "\n",
    "    def train(self, val_set=None, early_stopping=False, patience=3):\n",
    "        \"\"\"\n",
    "        Huấn luyện mô hình bằng SGD.\n",
    "\n",
    "        val_set: tập validation (nếu có)\n",
    "        early_stopping: optional\n",
    "        patience: số vòng cho phép không cải thiện trước khi dừng\n",
    "        \"\"\"\n",
    "        best_val_rmse = float('inf')\n",
    "        patience_counter = 0\n",
    "\n",
    "        for epoch in range(self.epochs):\n",
    "            random.shuffle(self.ratings)\n",
    "\n",
    "            # Precompute sum_yj for each user\n",
    "            sum_yj_dict = {}\n",
    "            for u in range(self.num_users):\n",
    "                implicit_items = self.Nu.get(u, set())\n",
    "                if implicit_items:\n",
    "                    sqrt_Nu = math.sqrt(len(implicit_items))\n",
    "                    sum_yj_dict[u] = np.sum(self.yj[list(implicit_items)], axis=0) / sqrt_Nu\n",
    "                else:\n",
    "                    sum_yj_dict[u] = np.zeros(self.n_factors)\n",
    "\n",
    "            for u, i, r in tqdm(self.ratings, desc=f\"Training Epoch {epoch+1}\", leave=False):\n",
    "                u = int(u)\n",
    "                i = int(i)\n",
    "                sum_yj_u = sum_yj_dict[u]\n",
    "                pred = self.predict(u, i, sum_yj_u)\n",
    "                err = r - pred\n",
    "\n",
    "                # Update biases\n",
    "                self.bu[u] += self.lr_all * (err - self.reg1 * self.bu[u])\n",
    "                self.bi[i] += self.lr_all * (err - self.reg1 * self.bi[i])\n",
    "\n",
    "                # Backup current vectors\n",
    "                qi_i = self.qi[i].copy()\n",
    "                pu_u = self.pu[u].copy()\n",
    "\n",
    "                # Update pu and qi\n",
    "                self.pu[u] += self.lr_all * (err * qi_i - self.reg2 * pu_u)\n",
    "                self.qi[i] += self.lr_all * (err * (pu_u + sum_yj_u) - self.reg2 * qi_i)\n",
    "\n",
    "                # Update yj\n",
    "                implicit_items = self.Nu.get(u, set())\n",
    "                if implicit_items:\n",
    "                    sqrt_Nu = math.sqrt(len(implicit_items))\n",
    "                    for j in implicit_items:\n",
    "                        self.yj[j] += self.lr_all * (err * qi_i / sqrt_Nu - self.reg2 * self.yj[j])\n",
    "\n",
    "            # Evaluate RMSE\n",
    "            train_rmse = self.rmse(self.ratings, sum_yj_dict)\n",
    "            if val_set is not None:\n",
    "                val_rmse = self.rmse(val_set)\n",
    "                print(f\"Epoch {epoch+1} - Train RMSE: {train_rmse:.4f} | Val RMSE: {val_rmse:.4f}\")\n",
    "            \n",
    "                if val_rmse < best_val_rmse:\n",
    "                    best_val_rmse = val_rmse\n",
    "                    patience_counter = 0\n",
    "                else:\n",
    "                    patience_counter += 1\n",
    "                    if early_stopping and patience_counter >= patience:\n",
    "                        print(f\"Early stopping at epoch {epoch+1}!\")\n",
    "                        break\n",
    "            else:\n",
    "                print(f\"Epoch {epoch+1} - Train RMSE: {train_rmse:.4f}\")\n",
    "\n",
    "    def rmse(self, dataset, precomputed_sum_yj=None):\n",
    "        \"\"\"\n",
    "        Tính RMSE của mô hình trên tập dữ liệu.\n",
    "        \"\"\"\n",
    "        se = 0.0\n",
    "        for u, i, r in tqdm(dataset, desc=f\"\\tEvaluate {len(dataset)}\", leave=False):\n",
    "            u = int(u)\n",
    "            i = int(i)\n",
    "            sum_yj_u = precomputed_sum_yj[u] if precomputed_sum_yj else None\n",
    "            pred = self.predict(u, i, sum_yj_u)\n",
    "            se += (r - pred) ** 2\n",
    "        return math.sqrt(se / len(dataset))\n",
    "    \n",
    "    def mae(self, dataset, precomputed_sum_yj=None):\n",
    "        \"\"\"\n",
    "        Tính MAE của mô hình trên tập dữ liệu.\n",
    "        \"\"\"\n",
    "        ae = 0.0\n",
    "        for u, i, r in tqdm(dataset, desc=f\"\\tEvaluate {len(dataset)}\", leave=False):\n",
    "            u = int(u)\n",
    "            i = int(i)\n",
    "            sum_yj_u = precomputed_sum_yj[u] if precomputed_sum_yj else None\n",
    "            pred = self.predict(u, i, sum_yj_u)\n",
    "            ae += abs(r - pred)\n",
    "        return ae / len(dataset)"
   ]
  },
  {
   "cell_type": "code",
   "execution_count": null,
   "id": "b4c5bf5f-cbd3-476c-a6bb-a34aad2067db",
   "metadata": {
    "execution": {
     "iopub.execute_input": "2025-06-12T10:54:33.111735Z",
     "iopub.status.busy": "2025-06-12T10:54:33.111414Z",
     "iopub.status.idle": "2025-06-12T11:34:21.989108Z",
     "shell.execute_reply": "2025-06-12T11:34:21.988215Z",
     "shell.execute_reply.started": "2025-06-12T10:54:33.111710Z"
    },
    "trusted": true
   },
   "outputs": [
    {
     "name": "stderr",
     "output_type": "stream",
     "text": [
      "                                                                                \r"
     ]
    },
    {
     "name": "stdout",
     "output_type": "stream",
     "text": [
      "Epoch 1 - Train RMSE: 0.8105 | Val RMSE: 0.8421\n"
     ]
    },
    {
     "name": "stderr",
     "output_type": "stream",
     "text": [
      "                                                                                \r"
     ]
    },
    {
     "name": "stdout",
     "output_type": "stream",
     "text": [
      "Epoch 2 - Train RMSE: 0.7223 | Val RMSE: 0.8360\n"
     ]
    },
    {
     "name": "stderr",
     "output_type": "stream",
     "text": [
      "                                                                                \r"
     ]
    },
    {
     "name": "stdout",
     "output_type": "stream",
     "text": [
      "Epoch 3 - Train RMSE: 0.5228 | Val RMSE: 0.8460\n"
     ]
    },
    {
     "name": "stderr",
     "output_type": "stream",
     "text": [
      "                                                                                \r"
     ]
    },
    {
     "name": "stdout",
     "output_type": "stream",
     "text": [
      "Epoch 4 - Train RMSE: 0.3369 | Val RMSE: 0.8529\n"
     ]
    },
    {
     "name": "stderr",
     "output_type": "stream",
     "text": [
      "                                                                                "
     ]
    },
    {
     "name": "stdout",
     "output_type": "stream",
     "text": [
      "Epoch 5 - Train RMSE: 0.2153 | Val RMSE: 0.8553\n",
      "Early stopping at epoch 5!\n"
     ]
    },
    {
     "name": "stderr",
     "output_type": "stream",
     "text": [
      "\r"
     ]
    }
   ],
   "source": [
    "num_users = sample_df['user_idx'].nunique()\n",
    "num_items = sample_df['movie_idx'].nunique()\n",
    "\n",
    "# Train SVD++\n",
    "model = SVDPP(\n",
    "    rating_train, implicit_train, num_users, num_items, \n",
    "    n_factors=50, \n",
    "    lr_all=0.007, \n",
    "    reg_all=0.015,\n",
    "    reg1=0.015,\n",
    "    reg2=0.02,\n",
    "    epochs=35\n",
    ")\n",
    "model.train(val_set=rating_val, early_stopping=True)"
   ]
  },
  {
   "cell_type": "code",
   "execution_count": 7,
   "id": "99d24fab-fe7e-4fca-b293-22398d16db3e",
   "metadata": {
    "execution": {
     "iopub.execute_input": "2025-06-12T11:34:21.990477Z",
     "iopub.status.busy": "2025-06-12T11:34:21.990168Z",
     "iopub.status.idle": "2025-06-12T11:35:47.122847Z",
     "shell.execute_reply": "2025-06-12T11:35:47.122019Z",
     "shell.execute_reply.started": "2025-06-12T11:34:21.990457Z"
    },
    "trusted": true
   },
   "outputs": [
    {
     "name": "stderr",
     "output_type": "stream",
     "text": [
      "                                                                               "
     ]
    },
    {
     "name": "stdout",
     "output_type": "stream",
     "text": [
      "\n",
      "RMSE | MAE\n",
      "Train: 0.2175 | 0.1102\n",
      "Val  : 0.8553 | 0.6537\n",
      "Test : 0.8510 | 0.6515\n"
     ]
    },
    {
     "name": "stderr",
     "output_type": "stream",
     "text": [
      "\r"
     ]
    }
   ],
   "source": [
    "print(\n",
    "    f\"\\nRMSE | MAE\\n\"\n",
    "    f\"Train: {model.rmse(rating_train):.4f} | {model.mae(rating_train):.4f}\\n\"\n",
    "    f\"Val  : {model.rmse(rating_val):.4f} | {model.mae(rating_val):.4f}\\n\"\n",
    "    f\"Test : {model.rmse(rating_test):.4f} | {model.mae(rating_test):.4f}\"\n",
    ")"
   ]
  },
  {
   "cell_type": "markdown",
   "id": "1937e0b2",
   "metadata": {},
   "source": [
    "### **Inference**"
   ]
  },
  {
   "cell_type": "code",
   "execution_count": null,
   "id": "df71add0-48f1-4d7b-9ec0-6fb41d813351",
   "metadata": {
    "execution": {
     "iopub.execute_input": "2025-06-12T11:35:47.124464Z",
     "iopub.status.busy": "2025-06-12T11:35:47.124117Z",
     "iopub.status.idle": "2025-06-12T11:35:47.133459Z",
     "shell.execute_reply": "2025-06-12T11:35:47.132573Z",
     "shell.execute_reply.started": "2025-06-12T11:35:47.124433Z"
    },
    "trusted": true
   },
   "outputs": [],
   "source": [
    "def recommend_top_k_df(user_id, model, user_encoder, train_df, movie_df, k=10):\n",
    "    \"\"\"\n",
    "    Trả về top-k phim được đề xuất cho user_id dựa trên mô hình đã huấn luyện.\n",
    "\n",
    "    user_id: ID người dùng gốc (chưa encode)\n",
    "    model: mô hình SVDPP đã huấn luyện\n",
    "    user_encoder: bộ mã hóa userId → user_idx\n",
    "    train_df: tập dữ liệu train chứa user_idx, movie_idx\n",
    "    movie_df: thông tin phim (chứa movieId, title, genres)\n",
    "    k: số lượng phim đề xuất\n",
    "\n",
    "    return: DataFrame chứa top-k phim đề xuất với thông tin kèm theo\n",
    "    \"\"\"\n",
    "    # Kiểm tra user có trong tập train không\n",
    "    if user_id not in  train_df['userId'].values:\n",
    "        print(f\"User ID {user_id} không có trong tập train.\")\n",
    "        return pd.DataFrame()\n",
    "\n",
    "    # Mã hóa user_id sang user_idx\n",
    "    user_idx = user_encoder.transform([user_id])[0]\n",
    "\n",
    "    # Lọc phim user đã xem\n",
    "    rated_movie_idxs = set(train_df[train_df['user_idx'] == user_idx]['movie_idx'])\n",
    "\n",
    "    # Dự đoán cho các phim chưa xem và lấy top-k\n",
    "    all_movie_idxs = np.arange(model.num_items)\n",
    "    candidates = [\n",
    "        (i, model.predict(user_idx, i))\n",
    "        for i in all_movie_idxs if i not in rated_movie_idxs\n",
    "    ]\n",
    "    top_k = sorted(candidates, key=lambda x: x[1], reverse=True)[:k]\n",
    "\n",
    "    # Tạo DataFrame từ kết quả\n",
    "    top_k_df = pd.DataFrame(top_k, columns=['movie_idx', 'score_rating_predict'])\n",
    "    movie_info = movie_df[['movie_idx', 'movieId', 'title', 'genres']].drop_duplicates()\n",
    "    result_df = pd.merge(top_k_df, movie_info, on='movie_idx', how='left')\n",
    "\n",
    "    result_df = result_df[['movieId', 'title', 'genres', 'score_rating_predict']]\n",
    "    result_df['score_rating_predict'] = result_df['score_rating_predict'].round(3)\n",
    "\n",
    "    return result_df"
   ]
  },
  {
   "cell_type": "code",
   "execution_count": 9,
   "id": "dde0dbce-ef67-41fe-9e8f-4e10c53e135c",
   "metadata": {
    "execution": {
     "iopub.execute_input": "2025-06-12T11:35:47.136232Z",
     "iopub.status.busy": "2025-06-12T11:35:47.135924Z",
     "iopub.status.idle": "2025-06-12T11:35:48.876837Z",
     "shell.execute_reply": "2025-06-12T11:35:48.876199Z",
     "shell.execute_reply.started": "2025-06-12T11:35:47.136213Z"
    },
    "trusted": true
   },
   "outputs": [
    {
     "data": {
      "text/html": [
       "<div>\n",
       "<style scoped>\n",
       "    .dataframe tbody tr th:only-of-type {\n",
       "        vertical-align: middle;\n",
       "    }\n",
       "\n",
       "    .dataframe tbody tr th {\n",
       "        vertical-align: top;\n",
       "    }\n",
       "\n",
       "    .dataframe thead th {\n",
       "        text-align: right;\n",
       "    }\n",
       "</style>\n",
       "<table border=\"1\" class=\"dataframe\">\n",
       "  <thead>\n",
       "    <tr style=\"text-align: right;\">\n",
       "      <th></th>\n",
       "      <th>movieId</th>\n",
       "      <th>title</th>\n",
       "      <th>genres</th>\n",
       "      <th>score_rating_predict</th>\n",
       "    </tr>\n",
       "  </thead>\n",
       "  <tbody>\n",
       "    <tr>\n",
       "      <th>0</th>\n",
       "      <td>4235</td>\n",
       "      <td>Amores Perros (Love's a Bitch) (2000)</td>\n",
       "      <td>Drama|Thriller</td>\n",
       "      <td>4.265</td>\n",
       "    </tr>\n",
       "    <tr>\n",
       "      <th>1</th>\n",
       "      <td>71462</td>\n",
       "      <td>Cove, The (2009)</td>\n",
       "      <td>Documentary</td>\n",
       "      <td>4.240</td>\n",
       "    </tr>\n",
       "    <tr>\n",
       "      <th>2</th>\n",
       "      <td>593</td>\n",
       "      <td>Silence of the Lambs, The (1991)</td>\n",
       "      <td>Crime|Horror|Thriller</td>\n",
       "      <td>4.238</td>\n",
       "    </tr>\n",
       "    <tr>\n",
       "      <th>3</th>\n",
       "      <td>2068</td>\n",
       "      <td>Fanny and Alexander (Fanny och Alexander) (1982)</td>\n",
       "      <td>Drama|Fantasy|Mystery</td>\n",
       "      <td>4.217</td>\n",
       "    </tr>\n",
       "    <tr>\n",
       "      <th>4</th>\n",
       "      <td>3462</td>\n",
       "      <td>Modern Times (1936)</td>\n",
       "      <td>Comedy|Drama|Romance</td>\n",
       "      <td>4.129</td>\n",
       "    </tr>\n",
       "    <tr>\n",
       "      <th>5</th>\n",
       "      <td>53123</td>\n",
       "      <td>Once (2006)</td>\n",
       "      <td>Drama|Musical|Romance</td>\n",
       "      <td>4.089</td>\n",
       "    </tr>\n",
       "    <tr>\n",
       "      <th>6</th>\n",
       "      <td>6041</td>\n",
       "      <td>Amen. (2002)</td>\n",
       "      <td>Drama</td>\n",
       "      <td>4.084</td>\n",
       "    </tr>\n",
       "    <tr>\n",
       "      <th>7</th>\n",
       "      <td>1280</td>\n",
       "      <td>Raise the Red Lantern (Da hong deng long gao g...</td>\n",
       "      <td>Drama</td>\n",
       "      <td>4.065</td>\n",
       "    </tr>\n",
       "    <tr>\n",
       "      <th>8</th>\n",
       "      <td>6818</td>\n",
       "      <td>Come and See (Idi i smotri) (1985)</td>\n",
       "      <td>Drama|War</td>\n",
       "      <td>4.018</td>\n",
       "    </tr>\n",
       "    <tr>\n",
       "      <th>9</th>\n",
       "      <td>7396</td>\n",
       "      <td>Scenes From a Marriage (Scener ur ett äktenska...</td>\n",
       "      <td>Drama</td>\n",
       "      <td>4.009</td>\n",
       "    </tr>\n",
       "  </tbody>\n",
       "</table>\n",
       "</div>"
      ],
      "text/plain": [
       "   movieId                                              title  \\\n",
       "0     4235              Amores Perros (Love's a Bitch) (2000)   \n",
       "1    71462                                   Cove, The (2009)   \n",
       "2      593                   Silence of the Lambs, The (1991)   \n",
       "3     2068   Fanny and Alexander (Fanny och Alexander) (1982)   \n",
       "4     3462                                Modern Times (1936)   \n",
       "5    53123                                        Once (2006)   \n",
       "6     6041                                       Amen. (2002)   \n",
       "7     1280  Raise the Red Lantern (Da hong deng long gao g...   \n",
       "8     6818                 Come and See (Idi i smotri) (1985)   \n",
       "9     7396  Scenes From a Marriage (Scener ur ett äktenska...   \n",
       "\n",
       "                  genres  score_rating_predict  \n",
       "0         Drama|Thriller                 4.265  \n",
       "1            Documentary                 4.240  \n",
       "2  Crime|Horror|Thriller                 4.238  \n",
       "3  Drama|Fantasy|Mystery                 4.217  \n",
       "4   Comedy|Drama|Romance                 4.129  \n",
       "5  Drama|Musical|Romance                 4.089  \n",
       "6                  Drama                 4.084  \n",
       "7                  Drama                 4.065  \n",
       "8              Drama|War                 4.018  \n",
       "9                  Drama                 4.009  "
      ]
     },
     "metadata": {},
     "output_type": "display_data"
    }
   ],
   "source": [
    "recommendations = recommend_top_k_df(\n",
    "    user_id=95133,\n",
    "    model=model,\n",
    "    user_encoder=user_encoder,\n",
    "    train_df=train_df,\n",
    "    movie_df=sample_df,  \n",
    "    k=10\n",
    ")\n",
    "display(recommendations)\n"
   ]
  },
  {
   "cell_type": "code",
   "execution_count": null,
   "id": "6ada526f-42c2-49e5-ad95-d867bf2fe44e",
   "metadata": {
    "trusted": true
   },
   "outputs": [],
   "source": []
  }
 ],
 "metadata": {
  "kaggle": {
   "accelerator": "none",
   "dataSources": [
    {
     "datasetId": 7621875,
     "sourceId": 12106292,
     "sourceType": "datasetVersion"
    },
    {
     "datasetId": 7627114,
     "sourceId": 12133380,
     "sourceType": "datasetVersion"
    }
   ],
   "dockerImageVersionId": 31040,
   "isGpuEnabled": false,
   "isInternetEnabled": true,
   "language": "python",
   "sourceType": "notebook"
  },
  "kernelspec": {
   "display_name": "Python 3",
   "language": "python",
   "name": "python3"
  },
  "language_info": {
   "codemirror_mode": {
    "name": "ipython",
    "version": 3
   },
   "file_extension": ".py",
   "mimetype": "text/x-python",
   "name": "python",
   "nbconvert_exporter": "python",
   "pygments_lexer": "ipython3",
   "version": "3.11.11"
  }
 },
 "nbformat": 4,
 "nbformat_minor": 5
}
