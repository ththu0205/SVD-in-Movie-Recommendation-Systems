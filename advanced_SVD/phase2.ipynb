{
 "cells": [
  {
   "cell_type": "code",
   "execution_count": null,
   "id": "969f5269",
   "metadata": {},
   "outputs": [],
   "source": [
    "import os\n",
    "import math\n",
    "import random\n",
    "import numpy as np\n",
    "import pandas as pd\n",
    "from tqdm import tqdm \n",
    "import matplotlib.pyplot as plt\n",
    "from collections import defaultdict\n",
    "from random import sample\n",
    "from sklearn.preprocessing import LabelEncoder\n",
    "from sklearn.model_selection import train_test_split\n",
    "from sklearn.metrics import mean_absolute_error, mean_squared_error\n",
    "\n",
    "from surprise import SVD, SVDpp, Dataset, Reader, accuracy\n"
   ]
  },
  {
   "cell_type": "markdown",
   "id": "ace0eebe",
   "metadata": {},
   "source": [
    "## Chuẩn bị dữ liệu"
   ]
  },
  {
   "cell_type": "code",
   "execution_count": null,
   "id": "247d87a7",
   "metadata": {},
   "outputs": [],
   "source": [
    "# Read file csv\n",
    "ratings = pd.read_csv('../data/ratings.csv')\n",
    "movies = pd.read_csv('../data/movies.csv')\n",
    "tags = pd.read_csv('../data/tags.csv')\n",
    "\n",
    "# Nối bảng 'ratings' với 'movies' để lấy tiêu đề phim\n",
    "df = pd.merge(ratings, movies, on='movieId')"
   ]
  },
  {
   "cell_type": "code",
   "execution_count": null,
   "id": "361cb739",
   "metadata": {},
   "outputs": [
    {
     "name": "stdout",
     "output_type": "stream",
     "text": [
      "Dataset: 25,000,095 ratings | 162,541 users | 59,047 movies\n"
     ]
    }
   ],
   "source": [
    "user_encoder  = LabelEncoder()\n",
    "movie_encoder = LabelEncoder()\n",
    "\n",
    "df['user_idx']  = user_encoder.fit_transform(df['userId'])\n",
    "df['movie_idx'] = movie_encoder.fit_transform(df['movieId'])\n",
    "\n",
    "n_users  = df[\"user_idx\"].nunique()\n",
    "n_items  = df[\"movie_idx\"].nunique()\n",
    "print(f\"Dataset: {len(df):,} ratings | {n_users:,} users | {n_items:,} movies\")\n",
    "\n",
    "\n",
    "# Hàm chia dữ liệu thành tập train, test, val, đảm bảo mỗi user đều có mặt ở cả hai tập\n",
    "def train_val_test_plit(\n",
    "        data_frame,                 # Bộ dữ liệu cần chia train/set/val được lưu dưới dạng DataFrame\n",
    "        test_size=0.1,              # Tỉ lệ tập test so với cả bộ\n",
    "        val_size=0.1,               # Tỉ lệ tập val so với cả bộ\n",
    "        stratify_col='user_idx',    # Tên cột mà đảm bảo mỗi giá trị phân biệt đều có mặt ở cả hai tập\n",
    "        random_state=42             # Tùy chọn ngẫu nhiên\n",
    "    ):\n",
    "    train_val_df, test_df = train_test_split(\n",
    "        data_frame, \n",
    "        test_size=test_size, \n",
    "        random_state=random_state,\n",
    "        stratify=data_frame[stratify_col]  \n",
    "    )\n",
    "\n",
    "    train_df, val_df = train_test_split(\n",
    "        train_val_df, \n",
    "        test_size=val_size, \n",
    "        random_state=random_state,\n",
    "        stratify=train_val_df[stratify_col]\n",
    "    ) \n",
    "    return train_df, val_df, test_df\n",
    "\n",
    "# train_df, val_df, test_df = train_val_test_plit(df[[\"user_idx\", \"movie_idx\", \"rating\"]])\n",
    "train_df, val_df, test_df = train_val_test_plit(df)\n"
   ]
  },
  {
   "cell_type": "markdown",
   "id": "676aecab",
   "metadata": {},
   "source": [
    "## **Thuật toán FunkSVD**"
   ]
  },
  {
   "cell_type": "markdown",
   "id": "f8e6e86e",
   "metadata": {},
   "source": [
    "### Cài đặt thuật toán"
   ]
  },
  {
   "cell_type": "markdown",
   "id": "11422542",
   "metadata": {},
   "source": [
    "- **Mục tiêu:** Xấp xỉ ma trận đánh giá thưa $$ R \\in \\mathbb{R}^{n_{\\text{users}} \\times n_{\\text{items}}} $$ bằng tích của hai ma trận yếu tố ẩn  \n",
    "  $$ P \\in \\mathbb{R}^{n_{\\text{users}} \\times k}, \\quad Q \\in \\mathbb{R}^{n_{\\text{items}} \\times k}, \\quad R \\approx PQ^T $$\n",
    "\n",
    "- **Dự đoán:** Điểm đánh giá dự đoán cho người dùng $ u $ và phim $ i $:\n",
    "\n",
    "  $$\n",
    "  \\hat{r}_{ui} = \\mu + b_u + b_i + P_u \\cdot Q_i\n",
    "  $$\n",
    "\n",
    "  Trong đó:\n",
    "\n",
    "  - $\\mu $: Trung bình toàn bộ đánh giá (global bias).\n",
    "  - $ b_u $: Bias của người dùng $u$ (xu hướng đánh giá cao/thấp).\n",
    "  - $ b_i $: Bias của phim $ i $ (xu hướng được đánh giá cao/thấp).\n",
    "  - $ P_u \\cdot Q_i $: Tích vô hướng của vector yếu tố ẩn (kích thước $ k $).\n",
    "\n",
    "- **Hàm mất mát:** Tối thiểu hóa sai số bình phương với điều chuẩn riêng cho bias và yếu tố ẩn:\n",
    "\n",
    "  $\n",
    "  L = \\sum_{(u,i) \\in \\text{known ratings}} (r_{ui} - \\hat{r}_{ui})^2 + \\lambda_{bu,bi} \\left( \\sum_u b_u^2 + \\sum_i b_i^2 \\right) + \\lambda_{pq} \\left( \\sum_u \\| P_u \\|^2 + \\sum_i \\| Q_i \\|^2 \\right)\n",
    "  $\n",
    "\n",
    "  Trong đó:\n",
    "\n",
    "  - $ (r_{ui} - \\hat{r}_{ui})^2 $: Sai số bình phương.\n",
    "  - $ \\lambda_{bu,bi} $: Hệ số điều chuẩn cho bias (`reg_bu_bi`).\n",
    "  - $ \\lambda_{pq} $: Hệ số điều chuẩn cho yếu tố ẩn (`reg_pq`).\n",
    "  - $ b_u^2, b_i^2, \\|P_u\\|^2, \\|Q_i\\|^2 $: Phạt các giá trị lớn để tránh overfitting.\n",
    "\n",
    "- **Tối ưu hóa:** Sử dụng SGD để cập nhật $ \\mu, b_u, b_i, P_u, Q_i $ từng mẫu dữ liệu một cách ngẫu nhiên, với learning rate giảm dần (decay).\n"
   ]
  },
  {
   "cell_type": "code",
   "execution_count": null,
   "id": "97b421f2",
   "metadata": {},
   "outputs": [],
   "source": [
    "# Hàm df_to_numpy() dùng để chuyển DataFrame sang NumPy\n",
    "def df_to_numpy(df_):\n",
    "    arr = df_[[\"user_idx\", \"movie_idx\", \"rating\"]].to_numpy()\n",
    "    return arr[:, 0].astype(np.int32), arr[:, 1].astype(np.int32), arr[:, 2].astype(np.float32)"
   ]
  },
  {
   "cell_type": "code",
   "execution_count": null,
   "id": "e2148cd0",
   "metadata": {},
   "outputs": [],
   "source": [
    "class FunkSVD:\n",
    "    def __init__(\n",
    "        self,\n",
    "        n_users: int,               # số người dùng\n",
    "        n_items: int,               # số phim\n",
    "        k: int = 50,                # yếu tố ẩn\n",
    "        lr: float = 0.007,\n",
    "        reg_bu_bi: float = 0.01,    # Hệ số điều chuẩn cho bias (b_u, b_i).\n",
    "        reg_pq: float = 0.05,       # Hệ số điều chuẩn cho yếu tố ẩn (P, Q ).\n",
    "        n_epochs: int = 35,\n",
    "        seed: int = 42,\n",
    "        verbose: bool = True,\n",
    "    ):\n",
    "        rng = np.random.default_rng(seed)\n",
    "        # Ma trận yếu tố ẩn người dùng, khởi tạo ngẫu nhiên từ phân phối chuẩn, nhân 0.1 để giá trị nhỏ, kiểu float32.\n",
    "        self.P  = 0.1 * rng.standard_normal((n_users, k)).astype(np.float32)\n",
    "        # Ma trận yếu tố ẩn phim\n",
    "        self.Q  = 0.1 * rng.standard_normal((n_items, k)).astype(np.float32)\n",
    "        #---> Khởi tạo ngẫu nhiên P, Q với giá trị nhỏ tránh gradient lớn ban đầu.\n",
    "        \n",
    "        # Vector bias người dùng (b_u) -> khởi tạo = 0\n",
    "        self.bu = np.zeros(n_users, dtype=np.float32)\n",
    "        # Vector bias phim (b_i), khởi tạo = 0\n",
    "        self.bi = np.zeros(n_items, dtype=np.float32)\n",
    "        #  Global bias (\\mu), khởi tạo = 0 \n",
    "        self.mu = 0.0\n",
    "\n",
    "        self.lr0 = self.lr = lr # Lưu tốc độ học ban đầu và hiện tại (sẽ giảm qua epoch)\n",
    "        self.reg_bu_bi = reg_bu_bi\n",
    "        self.reg_pq    = reg_pq\n",
    "        self.n_epochs  = n_epochs\n",
    "        self.verbose   = verbose\n",
    "        self.train_rmse, self.val_rmse = [], []\n",
    "\n",
    "    # ───── Train ─────\n",
    "    def fit(self, train_df, val_df=None, patience: int = 3):\n",
    "        u_tr, i_tr, r_tr = df_to_numpy(train_df)\n",
    "        if val_df is not None:\n",
    "            u_vl, i_vl, r_vl = df_to_numpy(val_df)\n",
    "\n",
    "        self.mu = r_tr.mean()\n",
    "        best_val = np.inf\n",
    "        no_improve = 0\n",
    "\n",
    "        for ep in range(1, self.n_epochs + 1):\n",
    "            idx = np.random.permutation(len(r_tr))\n",
    "            se = 0.0\n",
    "            for u, i, r in zip(u_tr[idx], i_tr[idx], r_tr[idx]):\n",
    "                pred = self.mu + self.bu[u] + self.bi[i] + self.P[u] @ self.Q[i]\n",
    "                err  = r - pred\n",
    "                se  += err * err\n",
    "\n",
    "                # update bias\n",
    "                self.bu[u] += self.lr * (err - self.reg_bu_bi * self.bu[u])\n",
    "                self.bi[i] += self.lr * (err - self.reg_bu_bi * self.bi[i])\n",
    "\n",
    "                # update latent factors\n",
    "                pu_old = self.P[u].copy()\n",
    "                self.P[u] += self.lr * (err * self.Q[i] - self.reg_pq * self.P[u])\n",
    "                self.Q[i] += self.lr * (err * pu_old    - self.reg_pq * self.Q[i])\n",
    "\n",
    "            rmse_tr = np.sqrt(se / len(r_tr))\n",
    "            self.train_rmse.append(rmse_tr)\n",
    "\n",
    "            # Validation\n",
    "            if val_df is not None:\n",
    "                preds = self.predict_batch(u_vl, i_vl)\n",
    "                rmse_vl = np.sqrt(mean_squared_error(r_vl, preds))\n",
    "                self.val_rmse.append(rmse_vl)\n",
    "\n",
    "                if self.verbose:\n",
    "                    print(f\"Epoch {ep:02d}/{self.n_epochs} – Train {rmse_tr:.4f} | Val {rmse_vl:.4f}\")\n",
    "\n",
    "                # early-stopping\n",
    "                if rmse_vl + 1e-4 < best_val:\n",
    "                    best_val = rmse_vl\n",
    "                    no_improve = 0\n",
    "                    self._best_state = (self.P.copy(), self.Q.copy(), self.bu.copy(), self.bi.copy())\n",
    "                else:\n",
    "                    no_improve += 1\n",
    "                    if no_improve >= patience:\n",
    "                        if self.verbose:\n",
    "                            print(\">>> Early-stopping – restore best epoch.\")\n",
    "                        self.P, self.Q, self.bu, self.bi = self._best_state\n",
    "                        break\n",
    "            else:\n",
    "                if self.verbose:\n",
    "                    print(f\"Epoch {ep:02d}/{self.n_epochs} – Train RMSE: {rmse_tr:.4f}\")\n",
    "\n",
    "            self.lr *= 0.95\n",
    "\n",
    "        return self\n",
    "\n",
    "    # ───── Inference ─────\n",
    "    def predict(self, u_idx: int, i_idx: int) -> float:\n",
    "        est = (\n",
    "            self.mu\n",
    "            + self.bu[u_idx]\n",
    "            + self.bi[i_idx]                \n",
    "            + self.P[u_idx] @ self.Q[i_idx]\n",
    "        )\n",
    "        return float(np.clip(est, 0.5, 5.0))\n",
    "\n",
    "    def predict_batch(self, users, items):\n",
    "        return np.clip(\n",
    "            self.mu + self.bu[users] + self.bi[items] +\n",
    "            np.einsum(\"ij,ij->i\", self.P[users], self.Q[items]),\n",
    "            0.5, 5.0,\n",
    "        )\n",
    "\n",
    "    # ───── Save / Load ─────\n",
    "    def save(self, file_path: str):\n",
    "        \"\"\"\n",
    "        Lưu mô hình ra file .npz. \n",
    "        \"\"\"\n",
    "        dir_name = os.path.dirname(file_path)\n",
    "        if dir_name and not os.path.exists(dir_name):\n",
    "            os.makedirs(dir_name, exist_ok=True)\n",
    "\n",
    "        np.savez_compressed(\n",
    "            file_path,\n",
    "            P=self.P, Q=self.Q,\n",
    "            bu=self.bu, bi=self.bi,\n",
    "            mu=self.mu,\n",
    "            train_rmse=np.array(self.train_rmse),\n",
    "            val_rmse=np.array(self.val_rmse),\n",
    "            lr=self.lr, lr0=self.lr0,\n",
    "            reg_bu_bi=self.reg_bu_bi,\n",
    "            reg_pq=self.reg_pq,\n",
    "        )\n",
    "\n",
    "    def load(self, file_path: str):\n",
    "        \"\"\"\n",
    "        Khôi phục model từ file .npz.\n",
    "        \"\"\"\n",
    "        data = np.load(file_path)\n",
    "        self.P  = data[\"P\"];  self.Q  = data[\"Q\"]\n",
    "        self.bu = data[\"bu\"]; self.bi = data[\"bi\"]\n",
    "        self.mu = float(data[\"mu\"])\n",
    "        self.train_rmse = list(data[\"train_rmse\"])\n",
    "        self.val_rmse   = list(data[\"val_rmse\"])\n",
    "        self.lr  = float(data[\"lr\"]);  self.lr0 = float(data[\"lr0\"])\n",
    "        self.reg_bu_bi = float(data[\"reg_bu_bi\"])\n",
    "        self.reg_pq    = float(data[\"reg_pq\"])\n",
    "        return self"
   ]
  },
  {
   "cell_type": "markdown",
   "id": "929b7118",
   "metadata": {},
   "source": [
    "### Xây dựng model bằng hai cách"
   ]
  },
  {
   "cell_type": "markdown",
   "id": "38b2859b",
   "metadata": {},
   "source": [
    "#### Cách 1. Sử dụng mô hình implement"
   ]
  },
  {
   "cell_type": "code",
   "execution_count": null,
   "id": "d5dae016",
   "metadata": {},
   "outputs": [
    {
     "name": "stdout",
     "output_type": "stream",
     "text": [
      "Epoch 01/35 – Train 0.9029 | Val 0.8770\n",
      "Epoch 02/35 – Train 0.8686 | Val 0.8676\n",
      "Epoch 03/35 – Train 0.8608 | Val 0.8630\n",
      "Epoch 04/35 – Train 0.8548 | Val 0.8576\n",
      "Epoch 05/35 – Train 0.8475 | Val 0.8511\n",
      "Epoch 06/35 – Train 0.8403 | Val 0.8457\n",
      "Epoch 07/35 – Train 0.8347 | Val 0.8419\n",
      "Epoch 08/35 – Train 0.8300 | Val 0.8385\n",
      "Epoch 09/35 – Train 0.8259 | Val 0.8353\n",
      "Epoch 10/35 – Train 0.8219 | Val 0.8324\n",
      "Epoch 11/35 – Train 0.8181 | Val 0.8297\n",
      "Epoch 12/35 – Train 0.8144 | Val 0.8270\n",
      "Epoch 13/35 – Train 0.8109 | Val 0.8244\n",
      "Epoch 14/35 – Train 0.8075 | Val 0.8222\n",
      "Epoch 15/35 – Train 0.8043 | Val 0.8201\n",
      "Epoch 16/35 – Train 0.8014 | Val 0.8181\n",
      "Epoch 17/35 – Train 0.7986 | Val 0.8163\n",
      "Epoch 18/35 – Train 0.7960 | Val 0.8146\n",
      "Epoch 19/35 – Train 0.7936 | Val 0.8131\n",
      "Epoch 20/35 – Train 0.7913 | Val 0.8117\n",
      "Epoch 21/35 – Train 0.7892 | Val 0.8104\n",
      "Epoch 22/35 – Train 0.7872 | Val 0.8093\n",
      "Epoch 23/35 – Train 0.7854 | Val 0.8082\n",
      "Epoch 24/35 – Train 0.7837 | Val 0.8072\n",
      "Epoch 25/35 – Train 0.7821 | Val 0.8063\n",
      "Epoch 26/35 – Train 0.7806 | Val 0.8054\n",
      "Epoch 27/35 – Train 0.7792 | Val 0.8046\n",
      "Epoch 28/35 – Train 0.7779 | Val 0.8039\n",
      "Epoch 29/35 – Train 0.7767 | Val 0.8032\n",
      "Epoch 30/35 – Train 0.7755 | Val 0.8026\n",
      "Epoch 31/35 – Train 0.7744 | Val 0.8020\n",
      "Epoch 32/35 – Train 0.7734 | Val 0.8015\n",
      "Epoch 33/35 – Train 0.7725 | Val 0.8009\n",
      "Epoch 34/35 – Train 0.7716 | Val 0.8005\n",
      "Epoch 35/35 – Train 0.7707 | Val 0.8001\n"
     ]
    }
   ],
   "source": [
    "model_funksvd_custom = FunkSVD(\n",
    "    n_users=n_users,\n",
    "    n_items=n_items,\n",
    "    k=50,\n",
    "    lr=0.007,\n",
    "    reg_bu_bi=0.01,\n",
    "    reg_pq=0.05,\n",
    "    n_epochs=35,\n",
    ")\n",
    "model_funksvd_custom.fit(train_df, val_df, patience=3)\n",
    "model_funksvd_custom.save(\"checkpoints/funksvd_best.npz\")   "
   ]
  },
  {
   "cell_type": "code",
   "execution_count": null,
   "id": "9b54e9dc",
   "metadata": {},
   "outputs": [
    {
     "data": {
      "image/png": "[encoded data removed]",
      "text/plain": [
       "<Figure size 600x400 with 1 Axes>"
      ]
     },
     "metadata": {},
     "output_type": "display_data"
    }
   ],
   "source": [
    "# learning curve\n",
    "plt.figure(figsize=(6, 4))\n",
    "plt.plot(model_funksvd_custom.train_rmse, label=\"Train\")\n",
    "if model_funksvd_custom.val_rmse:\n",
    "    plt.plot(model_funksvd_custom.val_rmse, label=\"Val\")\n",
    "plt.xlabel(\"Epoch\")\n",
    "plt.ylabel(\"RMSE\")\n",
    "plt.title(\"Learning Curve – FunkSVD\")\n",
    "plt.legend()\n",
    "plt.tight_layout()\n",
    "plt.show()"
   ]
  },
  {
   "cell_type": "code",
   "execution_count": null,
   "id": "eef9aa5f",
   "metadata": {},
   "outputs": [
    {
     "name": "stdout",
     "output_type": "stream",
     "text": [
      "\n",
      "RMSE | MAE\n",
      "Train: 0.7691 | 0.5855\n",
      "Val  : 0.8001 | 0.6073\n",
      "Test : 0.8005 | 0.6076\n"
     ]
    }
   ],
   "source": [
    "def evaluate(df_, mdl):\n",
    "    u, i, r = df_to_numpy(df_)\n",
    "    pr = mdl.predict_batch(u, i)\n",
    "    return np.sqrt(mean_squared_error(r, pr)), mean_absolute_error(r, pr)\n",
    "\n",
    "train_rmse, train_mae = evaluate(train_df, model_funksvd_custom)\n",
    "val_rmse, val_mae = evaluate(val_df, model_funksvd_custom)\n",
    "test_rmse, test_mae = evaluate(test_df, model_funksvd_custom)\n",
    "\n",
    "print(\n",
    "    f\"\\nRMSE | MAE\\n\"\n",
    "    f\"Train: {train_rmse:.4f} | {train_mae:.4f}\\n\"\n",
    "    f\"Val  : {val_rmse:.4f} | {val_mae:.4f}\\n\"\n",
    "    f\"Test : {test_rmse:.4f} | {test_mae:.4f}\"\n",
    ")"
   ]
  },
  {
   "cell_type": "markdown",
   "id": "7c3dada1",
   "metadata": {},
   "source": [
    "#### Cách 2. Sử dụng mô hình từ thư viện Surprise"
   ]
  },
  {
   "cell_type": "code",
   "execution_count": null,
   "id": "ad9e58a9",
   "metadata": {},
   "outputs": [],
   "source": [
    "class SurpriseFunkSVD:\n",
    "    def __init__(\n",
    "        self,\n",
    "        n_factors=50,\n",
    "        lr_all=0.007,\n",
    "        reg_all=0.02,\n",
    "        n_epochs=20,\n",
    "        verbose=False,\n",
    "        rating_scale=(0.5, 5.0)\n",
    "    ):\n",
    "        self.model = SVD(n_factors=n_factors, lr_all=lr_all, reg_all=reg_all,\n",
    "                         n_epochs=n_epochs, verbose=verbose)\n",
    "        self.rating_scale = rating_scale\n",
    "\n",
    "    def fit(self, train_df):\n",
    "        reader = Reader(rating_scale=self.rating_scale)\n",
    "        data = Dataset.load_from_df(train_df[['user_idx', 'movie_idx', 'rating']], reader)\n",
    "        trainset = data.build_full_trainset()\n",
    "        self.model.fit(trainset)\n",
    "        return self\n",
    "\n",
    "    def predict(self, u_idx: int, i_idx: int) -> float:\n",
    "        est = self.model.predict(uid=u_idx, iid=i_idx).est\n",
    "        return float(np.clip(est, *self.rating_scale))\n",
    "\n",
    "    def predict_batch(self, users, items):\n",
    "        preds = []\n",
    "        for u, i in tqdm(zip(users, items), total=len(users), desc=\"Predicting\"):\n",
    "            preds.append(self.predict(u, i))\n",
    "        return np.array(preds)\n",
    "\n",
    "    def recommend_for_nan(self, df):\n",
    "        df_nan = df[df[\"rating\"].isna()].copy()\n",
    "        predictions = self.predict_batch(df_nan[\"user_idx\"].values, df_nan[\"movie_idx\"].values)\n",
    "        df_nan[\"predicted_rating\"] = predictions\n",
    "        return df_nan\n",
    "\n",
    "    def save(self, file_path: str):\n",
    "        import joblib\n",
    "        joblib.dump(self.model, file_path)\n",
    "\n",
    "    def load(self, file_path: str):\n",
    "        import joblib\n",
    "        self.model = joblib.load(file_path)\n",
    "        return self"
   ]
  },
  {
   "cell_type": "code",
   "execution_count": null,
   "id": "cab8d7b6",
   "metadata": {},
   "outputs": [
    {
     "name": "stdout",
     "output_type": "stream",
     "text": [
      "Processing epoch 0\n",
      "Processing epoch 1\n",
      "Processing epoch 2\n",
      "Processing epoch 3\n",
      "Processing epoch 4\n",
      "Processing epoch 5\n",
      "Processing epoch 6\n",
      "Processing epoch 7\n",
      "Processing epoch 8\n",
      "Processing epoch 9\n",
      "Processing epoch 10\n",
      "Processing epoch 11\n",
      "Processing epoch 12\n",
      "Processing epoch 13\n",
      "Processing epoch 14\n",
      "Processing epoch 15\n",
      "Processing epoch 16\n",
      "Processing epoch 17\n",
      "Processing epoch 18\n",
      "Processing epoch 19\n",
      "Processing epoch 20\n",
      "Processing epoch 21\n",
      "Processing epoch 22\n",
      "Processing epoch 23\n",
      "Processing epoch 24\n",
      "Processing epoch 25\n",
      "Processing epoch 26\n",
      "Processing epoch 27\n",
      "Processing epoch 28\n",
      "Processing epoch 29\n",
      "Processing epoch 30\n",
      "Processing epoch 31\n",
      "Processing epoch 32\n",
      "Processing epoch 33\n",
      "Processing epoch 34\n"
     ]
    },
    {
     "data": {
      "text/plain": [
       "<__main__.SurpriseFunkSVD at 0x1ed8006c2c0>"
      ]
     },
     "metadata": {},
     "output_type": "display_data"
    }
   ],
   "source": [
    "model_funksvd = SurpriseFunkSVD(n_factors=50, n_epochs=35)\n",
    "model_funksvd.fit(train_df) "
   ]
  },
  {
   "cell_type": "code",
   "execution_count": null,
   "id": "571a1f31",
   "metadata": {},
   "outputs": [
    {
     "name": "stderr",
     "output_type": "stream",
     "text": [
      "Predicting: 100%|██████████| 2000008/2000008 [00:28<00:00, 70853.08it/s] \n"
     ]
    }
   ],
   "source": [
    "# Dự đoán hàng loạt\n",
    "preds = model_funksvd.predict_batch(val_df[\"user_idx\"], val_df[\"movie_idx\"])\n",
    "val_df[\"predicted_rating\"] = preds"
   ]
  },
  {
   "cell_type": "code",
   "execution_count": null,
   "id": "93cd46ea",
   "metadata": {},
   "outputs": [
    {
     "name": "stderr",
     "output_type": "stream",
     "text": [
      "Predicting: 100%|██████████| 18000068/18000068 [04:19<00:00, 69326.86it/s] \n",
      "Predicting: 100%|██████████| 2000008/2000008 [00:19<00:00, 105045.19it/s]\n",
      "Predicting: 100%|██████████| 5000019/5000019 [01:18<00:00, 64042.52it/s] \n"
     ]
    },
    {
     "name": "stdout",
     "output_type": "stream",
     "text": [
      "\n",
      "RMSE  | MAE\n",
      "Train: 0.6132 | 0.4646\n",
      "Val  : 0.7863 | 0.5916\n",
      "Test : 0.7862 | 0.5916\n"
     ]
    }
   ],
   "source": [
    "def evaluate(df, model):\n",
    "    u, i, r = df[\"user_idx\"], df[\"movie_idx\"], df[\"rating\"]\n",
    "    p = model.predict_batch(u, i)\n",
    "    return np.sqrt(mean_squared_error(r, p)), mean_absolute_error(r, p)\n",
    "\n",
    "tr_rmse, tr_mae = evaluate(train_df, model_funksvd)\n",
    "vl_rmse, vl_mae = evaluate(val_df, model_funksvd)\n",
    "ts_rmse, ts_mae = evaluate(test_df, model_funksvd)\n",
    "\n",
    "print(\n",
    "    f\"\\nRMSE  | MAE\\n\"\n",
    "    f\"Train: {tr_rmse:.4f} | {tr_mae:.4f}\\n\"\n",
    "    f\"Val  : {vl_rmse:.4f} | {vl_mae:.4f}\\n\"\n",
    "    f\"Test : {ts_rmse:.4f} | {ts_mae:.4f}\"\n",
    ")\n"
   ]
  },
  {
   "cell_type": "markdown",
   "id": "10934cd0",
   "metadata": {},
   "source": [
    "## **Thuật toán SVD++**"
   ]
  },
  {
   "cell_type": "markdown",
   "id": "32f84ad9",
   "metadata": {},
   "source": [
    "### Cài đặt thuật toán"
   ]
  },
  {
   "cell_type": "markdown",
   "id": "6d97194f",
   "metadata": {},
   "source": [
    "#### **1. Công thức dự đoán rating và ý tưởng**\n",
    "\n",
    "Giả sử $R_{n \\times m}$ là ma trận đánh giá gồm $n$ người dùng và $m$ mặt hàng. Mỗi phần tử $r_{ui}$ là đánh giá của người dùng $u$ cho mặt hàng $i$.\n",
    "\n",
    "Công thức dự đoán rating trong mô hình **SVD++** là:\n",
    "\n",
    "$$\n",
    "\\hat{r}_{ui} = \\mu + b_u + b_i + q_i^T \\left(p_u + \\frac{1}{\\sqrt{|N(u)|}} \\sum_{j \\in N(u)} y_j \\right)\n",
    "$$\n",
    "\n",
    "Trong đó:\n",
    "\n",
    "- $\\mu$: trung bình các rating toàn bộ hệ thống  \n",
    "- $b_u$, $b_i$: độ lệch riêng của người dùng $u$ và movie $i$  \n",
    "- $p_u$, $q_i$: vector tiềm ẩn đại diện cho người dùng và movie\n",
    "- $y_j$: vector phản hồi ngầm của movie $j$\n",
    "- $N(u)$: tập các movie mà người dùng $u$ đã đánh giá\n",
    "\n",
    "Ý tưởng của SVD++ là kết hợp **cả thông tin explicit (rating)** và **implicit feedback (dạng hành vi như gắn tag, click, xem phim, v.v.)** để cải thiện độ chính xác khi dự đoán.\n",
    "\n",
    "\n",
    "#### **2. Hàm mất mát (Loss function)**\n",
    "\n",
    "Hàm mất mát của mô hình SVD++ được định nghĩa như sau:\n",
    "\n",
    "$$\n",
    "\\sum_{r_{ui} \\in R} \\left[ \\left(r_{ui} - \\mu - b_u - b_i - q_i^T \\left(p_u + \\frac{1}{\\sqrt{|N(u)|}} \\sum_{j \\in R(u)} y_j \\right) \\right)^2 + \\lambda_1 (b_u^2 + b_i^2) + \\lambda_2 ( \\|p_u\\|^2 + \\|q_i\\|^2 ) \\right]\n",
    "$$\n",
    "\n",
    "Giải thích các thành phần:\n",
    "\n",
    "- Thành phần đầu là **sai số bình phương** giữa rating thực tế và rating dự đoán.\n",
    "\n",
    "- Các biểu thức chứa $\\lambda_1$ và $\\lambda_2$ là **regularization**:\n",
    "\n",
    "  - $\\lambda_1$: điều chỉnh độ lệch (bias)\n",
    "\n",
    "  - $\\lambda_2$: điều chỉnh độ lớn của vector tiềm ẩn\n",
    "\n",
    "Regularization giúp giảm **overfitting**, nhất là khi dữ liệu đánh giá bị **thưa** (sparse). Nó hạn chế mô hình \"học thuộc\" toàn bộ dữ liệu train và giúp tổng quát hóa tốt hơn trên tập validation.\n",
    "\n",
    "\n",
    "#### **3. Quy tắc cập nhật tham số bằng SGD**\n",
    "\n",
    "Với mỗi mini-batch, chọn ngẫu nhiên các mẫu và cập nhật các tham số $b_u, b_i, p_u, q_i, y_j$ dựa trên sai số $e_{ui} = r_{ui} - \\hat{r}_{ui}$ theo các công thức sau:\n",
    "\n",
    "- $\n",
    "b_u \\leftarrow b_u + \\gamma \\cdot (e_{ui} - \\lambda_1 \\cdot b_u)\n",
    "$\n",
    "\n",
    "- $\n",
    "b_i \\leftarrow b_i + \\gamma \\cdot (e_{ui} - \\lambda_1 \\cdot b_i)\n",
    "$\n",
    "\n",
    "- $\n",
    "q_i \\leftarrow q_i + \\gamma \\cdot \\left( e_{ui} \\cdot \\left( p_u + \\frac{1}{\\sqrt{|N(u)|}} \\sum_{j \\in N(u)} y_j \\right) - \\lambda_2 \\cdot q_i \\right)\n",
    "$\n",
    "\n",
    "- $\n",
    "p_u \\leftarrow p_u + \\gamma \\cdot (e_{ui} \\cdot q_i - \\lambda_2 \\cdot p_u)\n",
    "$\n",
    "\n",
    "- $\n",
    "\\forall j \\in N(u): \\quad y_j \\leftarrow y_j + \\gamma \\cdot \\left( \\frac{e_{ui}}{\\sqrt{|N(u)|}} \\cdot q_i - \\lambda_2 \\cdot y_j \\right)\n",
    "$\n",
    "\n",
    "Trong đó:\n",
    "\n",
    "- $\\gamma$: learning rate  \n",
    "- $\\lambda_1, \\lambda_2$: hệ số regularization  \n",
    "- $N(u)$: tập các movie mà user $u$ đã đánh giá  \n",
    "\n",
    "Mỗi lần cập nhật là một bước tiến nhỏ giúp mô hình tối ưu dần các tham số để giảm sai số dự đoán.\n"
   ]
  },
  {
   "cell_type": "code",
   "execution_count": null,
   "id": "ace5aed9",
   "metadata": {},
   "outputs": [],
   "source": [
    "class SVDPP:\n",
    "    \"\"\"\n",
    "    Mô hình SVD++.\n",
    "\n",
    "    ratings: list các bộ (user_idx, movie_idx, rating)\n",
    "    implicit_feedback: dict {user_idx: set(movie_idx)} \n",
    "    num_users, num_items: tổng số user/item\n",
    "    n_factors: số chiều của vector tiềm ẩn\n",
    "    lr_all: learning rate\n",
    "    reg_all: hệ số regularization mặc định\n",
    "    reg1, reg2: regularization cho bias và vector\n",
    "    epochs: số vòng lặp huấn luyện\n",
    "    \"\"\"\n",
    "    def __init__(self, \n",
    "                 ratings, implicit_feedback, num_users, num_items, \n",
    "                 n_factors=20, \n",
    "                 lr_all=0.007, \n",
    "                 reg_all=0.02, \n",
    "                 reg1=None, reg2=None,\n",
    "                 decay=0.95,\n",
    "                 seed=42,\n",
    "                 epochs=20):\n",
    "        self.ratings = ratings  \n",
    "        self.Nu = implicit_feedback  \n",
    "        self.n_factors = n_factors\n",
    "        self.lr_all = lr_all\n",
    "        self.reg_all = reg_all\n",
    "        self.reg1 = reg1 if reg1 is not None else reg_all\n",
    "        self.reg2 = reg2 if reg2 is not None else reg_all\n",
    "        self.epochs = epochs\n",
    "        self.decay= decay\n",
    "\n",
    "        self.num_users = num_users\n",
    "        self.num_items = num_items\n",
    "\n",
    "        self.bu = np.zeros(num_users, dtype=np.float32)\n",
    "        self.bi = np.zeros(num_items, dtype=np.float32)\n",
    "\n",
    "        rng = np.random.default_rng(seed)\n",
    "        self.pu = 0.1 * rng.standard_normal((num_users, n_factors)).astype(np.float32)\n",
    "        self.qi =  0.1 * rng.standard_normal((num_items, n_factors)).astype(np.float32)\n",
    "\n",
    "        # yj must cover all item indices that appear in implicit feedback\n",
    "        all_implicit_items = set()\n",
    "        for items in implicit_feedback.values():\n",
    "            all_implicit_items.update(items)\n",
    "        self.yj = np.random.normal(0, 0.1, (num_items, n_factors)).astype(np.float32)  # Pre-allocate full matrix\n",
    "\n",
    "        self.global_mean = np.float32(np.mean([r for _, _, r in ratings]))\n",
    "\n",
    "    def predict(self, u, i, sum_yj_u=None):\n",
    "        \"\"\"\n",
    "        Dự đoán rating của user u cho item i.\n",
    "        Nếu đã tính trước sum_yj_u thì truyền vào để tăng tốc.\n",
    "        \"\"\"\n",
    "        if sum_yj_u is None:\n",
    "            implicit_items = self.Nu.get(u, set())\n",
    "            sqrt_Nu = math.sqrt(len(implicit_items)) if implicit_items else 1.0\n",
    "            sum_yj_u = (\n",
    "                np.sum(self.yj[list(implicit_items)], axis=0) \n",
    "                / np.float32(sqrt_Nu)).astype(np.float32) if implicit_items else np.zeros(self.n_factors, dtype=np.float32\n",
    "            )\n",
    "\n",
    "        interaction = self.pu[u] + sum_yj_u\n",
    "        return self.global_mean + self.bu[u] + self.bi[i] + np.dot(interaction, self.qi[i])\n",
    "\n",
    "    def compute_sum_yj_dict(self):\n",
    "        sum_yj_dict = {}\n",
    "        for u in range(self.num_users):\n",
    "            implicit_items = self.Nu.get(u, set())\n",
    "            if implicit_items:\n",
    "                sqrt_Nu = math.sqrt(len(implicit_items))\n",
    "                sum_yj_dict[u] = (np.sum(self.yj[list(implicit_items)], axis=0) / np.float32(sqrt_Nu)).astype(np.float32)\n",
    "            else:\n",
    "                sum_yj_dict[u] = np.zeros(self.n_factors, dtype=np.float32)\n",
    "        return sum_yj_dict\n",
    "\n",
    "    def train(self, val_set=None, early_stopping=False, patience=3):\n",
    "        \"\"\"\n",
    "        Huấn luyện mô hình bằng SGD.\n",
    "\n",
    "        val_set: tập validation (nếu có)\n",
    "        early_stopping: optional\n",
    "        patience: số vòng cho phép không cải thiện trước khi dừng\n",
    "        \"\"\"\n",
    "        best_val_rmse = float('inf')\n",
    "        patience_counter = 0\n",
    "\n",
    "        for epoch in range(self.epochs):\n",
    "            random.shuffle(self.ratings)\n",
    "\n",
    "            # Precompute sum_yj for each user\n",
    "            sum_yj_dict = self.compute_sum_yj_dict()\n",
    "\n",
    "            for u, i, r in tqdm(self.ratings, desc=f\"Training Epoch {epoch+1}\", leave=False):\n",
    "                u = int(u)\n",
    "                i = int(i)\n",
    "                sum_yj_u = sum_yj_dict[u]\n",
    "                pred = self.predict(u, i, sum_yj_u)\n",
    "                err = np.float32(r) - pred\n",
    "\n",
    "                # Update biases\n",
    "                self.bu[u] += self.lr_all * (err - self.reg1 * self.bu[u])\n",
    "                self.bi[i] += self.lr_all * (err - self.reg1 * self.bi[i])\n",
    "\n",
    "                # Backup current vectors\n",
    "                qi_i = self.qi[i].copy()\n",
    "                pu_u = self.pu[u].copy()\n",
    "\n",
    "                # Update pu and qi\n",
    "                self.pu[u] += self.lr_all * (err * qi_i - self.reg2 * pu_u)\n",
    "                self.qi[i] += self.lr_all * (err * (pu_u + sum_yj_u) - self.reg2 * qi_i)\n",
    "\n",
    "                # Update yj\n",
    "                implicit_items = self.Nu.get(u, set())\n",
    "                if implicit_items:\n",
    "                    sqrt_Nu = math.sqrt(len(implicit_items))\n",
    "                    for j in implicit_items:\n",
    "                        self.yj[j] += self.lr_all * (err * qi_i / sqrt_Nu - self.reg2 * self.yj[j])\n",
    "\n",
    "            self.lr_all*=self.decay\n",
    "            # Evaluate RMSE\n",
    "            sum_yj_dict = self.compute_sum_yj_dict()\n",
    "            train_rmse = self.rmse(self.ratings, precomputed_sum_yj=sum_yj_dict)\n",
    "            if val_set is not None:\n",
    "                val_rmse = self.rmse(val_set)\n",
    "                print(f\"Epoch {epoch+1} - Train RMSE: {train_rmse:.4f} | Val RMSE: {val_rmse:.4f}\")\n",
    "            \n",
    "                if val_rmse < best_val_rmse:\n",
    "                    best_val_rmse = val_rmse\n",
    "                    patience_counter = 0\n",
    "                else:\n",
    "                    patience_counter += 1\n",
    "                    if early_stopping and patience_counter >= patience:\n",
    "                        print(f\"Early stopping at epoch {epoch+1}!\")\n",
    "                        break\n",
    "            else:\n",
    "                print(f\"Epoch {epoch+1} - Train RMSE: {train_rmse:.4f}\")\n",
    "\n",
    "\n",
    "    def rmse(self, dataset, precomputed_sum_yj=None):\n",
    "        \"\"\"\n",
    "        Tính RMSE của mô hình trên tập dữ liệu.\n",
    "        \"\"\"\n",
    "        se = 0.0\n",
    "        for u, i, r in tqdm(dataset, desc=f\"\\tEvaluate {len(dataset)}\", leave=False):\n",
    "            u = int(u)\n",
    "            i = int(i)\n",
    "            sum_yj_u = precomputed_sum_yj[u] if precomputed_sum_yj else None\n",
    "            pred = self.predict(u, i, sum_yj_u)\n",
    "            se += (r - pred) ** 2\n",
    "        return math.sqrt(se / len(dataset))\n",
    "    \n",
    "    def mae(self, dataset, precomputed_sum_yj=None):\n",
    "        \"\"\"\n",
    "        Tính MAE của mô hình trên tập dữ liệu.\n",
    "        \"\"\"\n",
    "        ae = 0.0\n",
    "        for u, i, r in tqdm(dataset, desc=f\"\\tEvaluate {len(dataset)}\", leave=False):\n",
    "            u = int(u)\n",
    "            i = int(i)\n",
    "            sum_yj_u = precomputed_sum_yj[u] if precomputed_sum_yj else None\n",
    "            pred = self.predict(u, i, sum_yj_u)\n",
    "            ae += abs(r - pred)\n",
    "        return ae / len(dataset)"
   ]
  },
  {
   "cell_type": "markdown",
   "id": "60de414d",
   "metadata": {},
   "source": [
    "### Xây dựng model bằng hai cách"
   ]
  },
  {
   "cell_type": "markdown",
   "id": "d3def5b8",
   "metadata": {},
   "source": [
    "#### Cách 1. Sử dụng mô hình implement"
   ]
  },
  {
   "cell_type": "markdown",
   "id": "7cc0f044",
   "metadata": {},
   "source": [
    "##### **1.1. Tạo data train/test/eval**"
   ]
  },
  {
   "cell_type": "markdown",
   "id": "8b1cbfdd",
   "metadata": {},
   "source": [
    "**Explicit feedback**"
   ]
  },
  {
   "cell_type": "markdown",
   "id": "9c8c7cb5",
   "metadata": {},
   "source": [
    "- Trích xuất `[user_idx, movie_idx, rating]` cho từng tập.\n",
    "\n",
    "- Đưa về định dạng numpy để chuẩn bị cho mô hình SVDpp và giúp truy cập nhanh, hiệu quả khi huấn luyện."
   ]
  },
  {
   "cell_type": "code",
   "execution_count": null,
   "id": "1c78a947",
   "metadata": {},
   "outputs": [],
   "source": [
    "# Tạo dữ liệu train/test/val cho ratings (đã encode)\n",
    "rating_train = train_df[['user_idx', 'movie_idx', 'rating']].to_numpy(dtype=np.float32)\n",
    "rating_val = val_df[['user_idx', 'movie_idx', 'rating']].to_numpy(dtype=np.float32)\n",
    "rating_test = test_df[['user_idx', 'movie_idx', 'rating']].to_numpy(dtype=np.float32)"
   ]
  },
  {
   "cell_type": "markdown",
   "id": "ccffcf38",
   "metadata": {},
   "source": [
    "**Implicit feedback**"
   ]
  },
  {
   "cell_type": "markdown",
   "id": "92b63d60",
   "metadata": {},
   "source": [
    "- Xây dựng tập dữ liệu từ hành vi gắn tag để bổ sung thông tin về sở thích người dùng.\n",
    "\n",
    "- Cách tạo data implicit feedback từ tags:\n",
    "\n",
    "    - Tạo cặp (userId, movieId) có trong data train, thì tag tương ứng cũng có những cặp này. \n",
    "    \n",
    "    - Sau đó mã hóa thành (user_idx, movie_idx) để đồng bộ với encoding từ explicit feedback.\n",
    "    \n",
    "    - Tạo một dictionary implicit: `user_idx -> set(movie_idx)` để biểu diễn mối quan hệ ngầm user đã tương tác với những phim nào."
   ]
  },
  {
   "cell_type": "code",
   "execution_count": null,
   "id": "11823ff8",
   "metadata": {},
   "outputs": [],
   "source": [
    "# Tạo cặp (userId, movieId) xuất hiện trong train\n",
    "train_pairs = set(zip(train_df['userId'], train_df['movieId']))\n",
    "\n",
    "# Lọc tags tương ứng với (userId, movieId) trong train\n",
    "train_tags = tags[\n",
    "    tags.apply(lambda x: (x['userId'], x['movieId']) in train_pairs, axis=1)\n",
    "].copy()\n",
    "\n",
    "# Gán user_idx và movie_idx cho tập tag\n",
    "train_tags['user_idx'] = user_encoder.transform(train_tags['userId']).astype(int)\n",
    "train_tags['movie_idx'] = movie_encoder.transform(train_tags['movieId']).astype(int)\n",
    "\n",
    "# Tạo implicit feedback từ tags \n",
    "implicit_train = defaultdict(set)\n",
    "\n",
    "for row in train_tags.itertuples(index=False):\n",
    "    implicit_train[row.user_idx].add(row.movie_idx)"
   ]
  },
  {
   "cell_type": "code",
   "execution_count": null,
   "id": "6488ec30",
   "metadata": {},
   "outputs": [],
   "source": [
    "# Tạo danh sách tất cả (user_idx, movie_idx) có rating\n",
    "all_ratings = [\n",
    "    (row.user_idx, row.movie_idx)\n",
    "    for row in train_df.itertuples(index=False)\n",
    "]\n",
    "\n",
    "# Lấy ngẫu nhiên tối đa N phần tử (nếu có đủ)\n",
    "N = 100000  # hoặc số bạn chọn\n",
    "selected_ratings = sample(all_ratings, min(N, len(all_ratings)))\n",
    "\n",
    "# Từ sampled ratings\n",
    "for u, i in selected_ratings:\n",
    "    implicit_train[u].add(i)\n"
   ]
  },
  {
   "cell_type": "markdown",
   "id": "f6fc78c1",
   "metadata": {},
   "source": [
    "##### **1.2. Xây dựng mô hình**"
   ]
  },
  {
   "cell_type": "code",
   "execution_count": null,
   "id": "cc78f1e6",
   "metadata": {},
   "outputs": [
    {
     "name": "stderr",
     "output_type": "stream",
     "text": [
      "                                                                                \r"
     ]
    },
    {
     "name": "stdout",
     "output_type": "stream",
     "text": [
      "Epoch 1 - Train RMSE: 0.8104 | Val RMSE: 0.8364\n"
     ]
    },
    {
     "name": "stderr",
     "output_type": "stream",
     "text": [
      "                                                                                \r"
     ]
    },
    {
     "name": "stdout",
     "output_type": "stream",
     "text": [
      "Epoch 2 - Train RMSE: 0.7203 | Val RMSE: 0.8304\n"
     ]
    },
    {
     "name": "stderr",
     "output_type": "stream",
     "text": [
      "                                                                                \r"
     ]
    },
    {
     "name": "stdout",
     "output_type": "stream",
     "text": [
      "Epoch 3 - Train RMSE: 0.5160 | Val RMSE: 0.8391\n"
     ]
    },
    {
     "name": "stderr",
     "output_type": "stream",
     "text": [
      "                                                                                \r"
     ]
    },
    {
     "name": "stdout",
     "output_type": "stream",
     "text": [
      "Epoch 4 - Train RMSE: 0.3322 | Val RMSE: 0.8458\n"
     ]
    },
    {
     "name": "stderr",
     "output_type": "stream",
     "text": [
      "                                                                                "
     ]
    },
    {
     "name": "stdout",
     "output_type": "stream",
     "text": [
      "Epoch 5 - Train RMSE: 0.2132 | Val RMSE: 0.8486\n",
      "Early stopping at epoch 5!\n"
     ]
    },
    {
     "name": "stderr",
     "output_type": "stream",
     "text": [
      "\r"
     ]
    }
   ],
   "source": [
    "# ======= Khởi tạo và huấn luyện mô hình =======\n",
    "model_svdpp_custom = SVDPP(\n",
    "    rating_train, implicit_train, n_users, n_items, \n",
    "    n_factors=50, \n",
    "    lr_all=0.007, \n",
    "    reg_all=0.015,\n",
    "    reg1=0.015,\n",
    "    reg2=0.02,\n",
    "    epochs=1\n",
    ")\n",
    "model_svdpp_custom.train(val_set=rating_val, early_stopping=True)"
   ]
  },
  {
   "cell_type": "code",
   "execution_count": null,
   "id": "95754b6a",
   "metadata": {},
   "outputs": [
    {
     "name": "stderr",
     "output_type": "stream",
     "text": [
      "                                                                               "
     ]
    },
    {
     "name": "stdout",
     "output_type": "stream",
     "text": [
      "\n",
      "RMSE | MAE\n",
      "Train: 0.2157 | 0.1102\n",
      "Val  : 0.8486 | 0.6491\n",
      "Test : 0.8453 | 0.6469\n"
     ]
    },
    {
     "name": "stderr",
     "output_type": "stream",
     "text": [
      "\r"
     ]
    }
   ],
   "source": [
    "# ======= Đánh giá trên tập train, validation và test =======\n",
    "print(\n",
    "    f\"\\nRMSE | MAE\\n\" \n",
    "    f\"Train: {model_svdpp_custom.rmse(rating_train):.4f} | {model_svdpp_custom.mae(rating_train):.4f}\\n\"\n",
    "    f\"Val  : {model_svdpp_custom.rmse(rating_val):.4f} | {model_svdpp_custom.mae(rating_val):.4f}\\n\"\n",
    "    f\"Test : {model_svdpp_custom.rmse(rating_test):.4f} | {model_svdpp_custom.mae(rating_test):.4f}\"\n",
    ")"
   ]
  },
  {
   "cell_type": "markdown",
   "id": "319b8036",
   "metadata": {},
   "source": [
    "#### Cách 2. Sử dụng mô hình từ thư viện Surprise"
   ]
  },
  {
   "cell_type": "markdown",
   "id": "c647d7de",
   "metadata": {},
   "source": [
    "##### **2.1. Tạo data train/test**"
   ]
  },
  {
   "cell_type": "code",
   "execution_count": 6,
   "id": "f1604b99",
   "metadata": {},
   "outputs": [],
   "source": [
    "# Tạo bộ mã hóa mới cho movieId thành chỉ số liên tục\n",
    "all_movies = pd.concat([df['movieId'], tags['movieId']])\n",
    "\n",
    "movie_rating_tag_encoder = LabelEncoder()\n",
    "movie_rating_tag_encoder.fit(all_movies)\n",
    "\n",
    "df['movie_idx'] = movie_rating_tag_encoder.transform(df['movieId'])\n",
    "tags['movie_idx'] = movie_rating_tag_encoder.transform(tags['movieId'])\n",
    "\n",
    "train_df_, val_df_, test_df_ = train_val_test_plit(df)"
   ]
  },
  {
   "cell_type": "markdown",
   "id": "5026d42d",
   "metadata": {},
   "source": [
    "Thêm các movies được users gắn tag vào tập train để được hiểu là một phần của tập implicit với giá trị rating trung bình của khoảng (0.5, 5.0)"
   ]
  },
  {
   "cell_type": "code",
   "execution_count": null,
   "id": "e64afc7b",
   "metadata": {},
   "outputs": [],
   "source": [
    "# Lọc tags: chỉ giữ lại user_idx có trong train_df\n",
    "valid_user_ids = set(train_df_['userId'])\n",
    "tags = tags[tags['userId'].isin(valid_user_ids)]\n",
    "\n",
    "# Mã hóa userId của bộ dữ liệu `tag`\n",
    "tags['user_idx'] = user_encoder.transform(tags['userId'])\n",
    "\n",
    "# Tạo các cặp từ train_df và tags\n",
    "train_pairs = set(zip(train_df_['user_idx'], train_df_['movie_idx']))\n",
    "tagged_pairs = set(zip(tags['user_idx'], tags['movie_idx']))\n",
    "\n",
    "# Gộp cả rating lẫn tag (giả sử tag là 1 dạng feedback gián tiếp)\n",
    "combined_pairs = train_pairs.union(tagged_pairs)\n",
    " \n",
    "# Tập đánh giá rõ ràng (có rating)\n",
    "explicit_df = train_df_[['user_idx', 'movie_idx', 'rating']]\n",
    "\n",
    "# Các cặp chỉ có tag, chưa từng rating -> gán rating giả định\n",
    "tag_only_pairs = tagged_pairs - train_pairs\n",
    "tag_only_df = pd.DataFrame(list(tag_only_pairs), columns=['user_idx', 'movie_idx'])\n",
    "tag_only_df['rating'] = np.mean([0.5, 5.0])\n",
    "\n",
    "# Gộp lại làm train data mới\n",
    "train_tags_df = pd.concat([explicit_df, tag_only_df], ignore_index=True)"
   ]
  },
  {
   "cell_type": "code",
   "execution_count": null,
   "id": "3389dbb3",
   "metadata": {},
   "outputs": [],
   "source": [
    "# Định nghĩa Reader\n",
    "reader = Reader(rating_scale=(0.5, 5))\n",
    "\n",
    "# Tạo trainset và testset từ DataFrame\n",
    "trainset = Dataset.load_from_df(train_tags_df[['user_idx', 'movie_idx', 'rating']], reader=reader).build_full_trainset()\n",
    "valset = list(val_df_[['user_idx', 'movie_idx', 'rating']].itertuples(index=False, name=None))\n",
    "testset = list(test_df_[['user_idx', 'movie_idx', 'rating']].itertuples(index=False, name=None))"
   ]
  },
  {
   "cell_type": "markdown",
   "id": "64fd7242",
   "metadata": {},
   "source": [
    "#### **2.2. Xây dựng mô hình**"
   ]
  },
  {
   "cell_type": "code",
   "execution_count": null,
   "id": "ac504138",
   "metadata": {},
   "outputs": [],
   "source": [
    "# ======= Khởi tạo và huấn luyện mô hình =======\n",
    "model_svdpp = SVDpp(n_epochs=5, n_factors=50, verbose=True)\n",
    "model_svdpp.fit(trainset)"
   ]
  },
  {
   "cell_type": "code",
   "execution_count": null,
   "id": "ac4cb0d0",
   "metadata": {},
   "outputs": [
    {
     "name": "stdout",
     "output_type": "stream",
     "text": [
      "\n",
      "RMSE | MAE\n",
      "Train: 0.6356 | 0.4815\n",
      "Val  : 0.7783 | 0.5926\n",
      "Test : 0.7738 | 0.5893\n"
     ]
    }
   ],
   "source": [
    "# ======= Đánh giá trên tập train, validation và test =======\n",
    "train_predictions = model_svdpp.test(trainset.build_testset()[:10000])\n",
    "val_predictions = model_svdpp.test(valset)\n",
    "test_predictions = model_svdpp.test(testset)\n",
    "print(\n",
    "    f\"\\nRMSE | MAE\\n\"\n",
    "    f\"Train: {accuracy.rmse(train_predictions, verbose=False):.4f} | {accuracy.mae(train_predictions, verbose=False):.4f}\\n\"\n",
    "    f\"Val  : {accuracy.rmse(val_predictions, verbose=False):.4f} | {accuracy.mae(val_predictions, verbose=False):.4f}\\n\"\n",
    "    f\"Test : {accuracy.rmse(test_predictions, verbose=False):.4f} | {accuracy.mae(test_predictions, verbose=False):.4f}\"\n",
    ")"
   ]
  }
 ],
 "metadata": {
  "kernelspec": {
   "display_name": ".venv",
   "language": "python",
   "name": "python3"
  },
  "language_info": {
   "codemirror_mode": {
    "name": "ipython",
    "version": 3
   },
   "file_extension": ".py",
   "mimetype": "text/x-python",
   "name": "python",
   "nbconvert_exporter": "python",
   "pygments_lexer": "ipython3",
   "version": "3.11.9"
  }
 },
 "nbformat": 4,
 "nbformat_minor": 5
}
