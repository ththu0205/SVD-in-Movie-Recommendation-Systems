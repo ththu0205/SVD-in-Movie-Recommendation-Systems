{
 "cells": [
  {
   "cell_type": "markdown",
   "id": "d3b0f2d6",
   "metadata": {},
   "source": [
    "# **PHASE 2: ADVANCED SVD**"
   ]
  },
  {
   "cell_type": "markdown",
   "id": "af191f7b",
   "metadata": {},
   "source": [
    "## Import các thư viện cần thiết"
   ]
  },
  {
   "cell_type": "code",
   "execution_count": 10,
   "id": "969f5269",
   "metadata": {},
   "outputs": [],
   "source": [
    "# SVD\n",
    "import os\n",
    "import math\n",
    "import random\n",
    "import pandas as pd\n",
    "from collections import Counter\n",
    "import matplotlib.pyplot as plt\n",
    "from collections import defaultdict\n",
    "from random import sample\n",
    "from sklearn.metrics import mean_absolute_error, mean_squared_error\n",
    "\n",
    "from surprise import SVD, SVDpp, Dataset, Reader, accuracy\n",
    "\n",
    "import time\n",
    "import pickle\n",
    "import numpy as np\n",
    "from tqdm.auto import tqdm\n",
    "from scipy import sparse\n",
    "\n",
    "from sklearn.preprocessing import LabelEncoder, StandardScaler\n",
    "from sklearn.model_selection import train_test_split\n",
    "from sklearn.metrics.pairwise import cosine_similarity\n",
    "from sklearn.feature_extraction.text import TfidfVectorizer\n",
    "from sklearn.feature_selection import SelectKBest, chi2\n",
    "from sklearn.tree import DecisionTreeClassifier\n",
    "from sklearn.linear_model import Ridge\n",
    "from sklearn.model_selection import GridSearchCV\n",
    "from sklearn.preprocessing import normalize\n",
    "\n",
    "import itertools\n",
    "import gc"
   ]
  },
  {
   "cell_type": "markdown",
   "id": "ace0eebe",
   "metadata": {},
   "source": [
    "## Chuẩn bị dữ liệu"
   ]
  },
  {
   "cell_type": "markdown",
   "id": "d5eb4e81",
   "metadata": {},
   "source": [
    "### 1. Config"
   ]
  },
  {
   "cell_type": "code",
   "execution_count": 12,
   "id": "a78684c5",
   "metadata": {},
   "outputs": [],
   "source": [
    "SEED = 42\n",
    "np.random.seed(SEED)\n",
    "random.seed(SEED)\n",
    "\n",
    "DATA_DIR = \"../data\"\n",
    "Z_THRESHOLD = 0.0\n",
    "RATING_MIN = 0.5\n",
    "RATING_MAX = 5.0\n",
    "TEST_SIZE = 0.10\n",
    "VAL_SIZE = 0.10\n",
    "SAMPLE_USER = 72313\n",
    "TOP_N = 10\n",
    "SHOW_ROWS = 50\n",
    "N_FEATURES_FS = 300"
   ]
  },
  {
   "cell_type": "markdown",
   "id": "333439dd",
   "metadata": {},
   "source": [
    "### 2. Load data"
   ]
  },
  {
   "cell_type": "code",
   "execution_count": 13,
   "id": "247d87a7",
   "metadata": {},
   "outputs": [],
   "source": [
    "# Read file csv\n",
    "ratings = pd.read_csv(f\"{DATA_DIR}/ratings.csv\")\n",
    "movies = pd.read_csv(f\"{DATA_DIR}/movies.csv\")\n",
    "tags = pd.read_csv(f\"{DATA_DIR}/tags.csv\")\n",
    "genome_scores = pd.read_csv(f\"{DATA_DIR}/genome-scores.csv\")\n",
    "genome_tags = pd.read_csv(f\"{DATA_DIR}/genome-tags.csv\")"
   ]
  },
  {
   "cell_type": "markdown",
   "id": "9313fb7b",
   "metadata": {},
   "source": [
    "### 3. Merge data"
   ]
  },
  {
   "cell_type": "code",
   "execution_count": 14,
   "id": "0e5703ba",
   "metadata": {},
   "outputs": [
    {
     "name": "stdout",
     "output_type": "stream",
     "text": [
      "Original dataset : 25,000,095 ratings | 162,541 users | 59,047 movies (after merge)\n",
      "Total movies      : 62,423\n",
      "Rated movies      : 59,047\n",
      "Movies in tags    : 45,251\n"
     ]
    },
    {
     "data": {
      "text/html": [
       "<div>\n",
       "<style scoped>\n",
       "    .dataframe tbody tr th:only-of-type {\n",
       "        vertical-align: middle;\n",
       "    }\n",
       "\n",
       "    .dataframe tbody tr th {\n",
       "        vertical-align: top;\n",
       "    }\n",
       "\n",
       "    .dataframe thead th {\n",
       "        text-align: right;\n",
       "    }\n",
       "</style>\n",
       "<table border=\"1\" class=\"dataframe\">\n",
       "  <thead>\n",
       "    <tr style=\"text-align: right;\">\n",
       "      <th></th>\n",
       "      <th>userId</th>\n",
       "      <th>movieId</th>\n",
       "      <th>rating</th>\n",
       "      <th>timestamp</th>\n",
       "      <th>title</th>\n",
       "      <th>genres</th>\n",
       "    </tr>\n",
       "  </thead>\n",
       "  <tbody>\n",
       "    <tr>\n",
       "      <th>0</th>\n",
       "      <td>1</td>\n",
       "      <td>296</td>\n",
       "      <td>5.0</td>\n",
       "      <td>1147880044</td>\n",
       "      <td>Pulp Fiction (1994)</td>\n",
       "      <td>Comedy|Crime|Drama|Thriller</td>\n",
       "    </tr>\n",
       "    <tr>\n",
       "      <th>1</th>\n",
       "      <td>1</td>\n",
       "      <td>306</td>\n",
       "      <td>3.5</td>\n",
       "      <td>1147868817</td>\n",
       "      <td>Three Colors: Red (Trois couleurs: Rouge) (1994)</td>\n",
       "      <td>Drama</td>\n",
       "    </tr>\n",
       "    <tr>\n",
       "      <th>2</th>\n",
       "      <td>1</td>\n",
       "      <td>307</td>\n",
       "      <td>5.0</td>\n",
       "      <td>1147868828</td>\n",
       "      <td>Three Colors: Blue (Trois couleurs: Bleu) (1993)</td>\n",
       "      <td>Drama</td>\n",
       "    </tr>\n",
       "    <tr>\n",
       "      <th>3</th>\n",
       "      <td>1</td>\n",
       "      <td>665</td>\n",
       "      <td>5.0</td>\n",
       "      <td>1147878820</td>\n",
       "      <td>Underground (1995)</td>\n",
       "      <td>Comedy|Drama|War</td>\n",
       "    </tr>\n",
       "    <tr>\n",
       "      <th>4</th>\n",
       "      <td>1</td>\n",
       "      <td>899</td>\n",
       "      <td>3.5</td>\n",
       "      <td>1147868510</td>\n",
       "      <td>Singin' in the Rain (1952)</td>\n",
       "      <td>Comedy|Musical|Romance</td>\n",
       "    </tr>\n",
       "  </tbody>\n",
       "</table>\n",
       "</div>"
      ],
      "text/plain": [
       "   userId  movieId  rating   timestamp  \\\n",
       "0       1      296     5.0  1147880044   \n",
       "1       1      306     3.5  1147868817   \n",
       "2       1      307     5.0  1147868828   \n",
       "3       1      665     5.0  1147878820   \n",
       "4       1      899     3.5  1147868510   \n",
       "\n",
       "                                              title  \\\n",
       "0                               Pulp Fiction (1994)   \n",
       "1  Three Colors: Red (Trois couleurs: Rouge) (1994)   \n",
       "2  Three Colors: Blue (Trois couleurs: Bleu) (1993)   \n",
       "3                                Underground (1995)   \n",
       "4                        Singin' in the Rain (1952)   \n",
       "\n",
       "                        genres  \n",
       "0  Comedy|Crime|Drama|Thriller  \n",
       "1                        Drama  \n",
       "2                        Drama  \n",
       "3             Comedy|Drama|War  \n",
       "4       Comedy|Musical|Romance  "
      ]
     },
     "metadata": {},
     "output_type": "display_data"
    }
   ],
   "source": [
    "# Nối bảng 'ratings' với 'movies' để lấy tiêu đề phim\n",
    "df = pd.merge(ratings, movies, on='movieId')\n",
    "\n",
    "total_movies  = movies[\"movieId\"].nunique()          # tổng số phim trong bảng movies\n",
    "rated_movies  = ratings[\"movieId\"].nunique()         # phim đã có ít nhất 1 rating\n",
    "tagged_movies = tags[\"movieId\"].nunique()            # phim xuất hiện trong bảng tags\n",
    "\n",
    "print(f\"Original dataset : {len(df):,} ratings | \"\n",
    "      f\"{df['userId'].nunique():,} users | \"\n",
    "      f\"{df['movieId'].nunique():,} movies (after merge)\")\n",
    "\n",
    "print(f\"Total movies      : {total_movies:,}\")\n",
    "print(f\"Rated movies      : {rated_movies:,}\")       \n",
    "print(f\"Movies in tags    : {tagged_movies:,}\")\n",
    "display(df.head())"
   ]
  },
  {
   "cell_type": "markdown",
   "id": "eb2791cc",
   "metadata": {},
   "source": [
    "### 4. Encode"
   ]
  },
  {
   "cell_type": "code",
   "execution_count": 15,
   "id": "008b828f",
   "metadata": {},
   "outputs": [
    {
     "name": "stdout",
     "output_type": "stream",
     "text": [
      "Dataset: 25,000,095 ratings | 162,541 users | 59,047 movies\n"
     ]
    }
   ],
   "source": [
    "user_encoder = LabelEncoder()\n",
    "user_encoder.fit(df['userId'])\n",
    "df['user_idx'] = user_encoder.transform(df['userId'])\n",
    "\n",
    "\n",
    "movie_encoder = LabelEncoder()\n",
    "movie_encoder.fit(df['movieId'])\n",
    "df['movie_idx'] = movie_encoder.transform(df['movieId'])\n",
    "\n",
    "n_users  = df[\"user_idx\"].nunique()\n",
    "n_items  = df[\"movie_idx\"].nunique()\n",
    "print(f\"Dataset: {len(df):,} ratings | {n_users:,} users | {n_items:,} movies\")"
   ]
  },
  {
   "cell_type": "markdown",
   "id": "4c65ca0b",
   "metadata": {},
   "source": [
    "### 5. Split data"
   ]
  },
  {
   "cell_type": "code",
   "execution_count": null,
   "id": "b3b74f54",
   "metadata": {},
   "outputs": [],
   "source": [
    "split_dir = os.path.join(DATA_DIR, \"splits\")\n",
    "os.makedirs(split_dir, exist_ok=True)\n",
    "\n",
    "train_path = os.path.join(split_dir, \"train.csv\")\n",
    "val_path = os.path.join(split_dir, \"val.csv\")\n",
    "test_path = os.path.join(split_dir, \"test.csv\")"
   ]
  },
  {
   "cell_type": "code",
   "execution_count": null,
   "id": "361cb739",
   "metadata": {},
   "outputs": [
    {
     "name": "stdout",
     "output_type": "stream",
     "text": [
      "Dataset: 25,000,095 ratings | 162,541 users | 59,047 movies\n"
     ]
    }
   ],
   "source": [
    "if os.path.exists(train_path) and os.path.exists(val_path) and os.path.exists(test_path):\n",
    "    print(\"Loading cached train/val/test splits...\")\n",
    "    train_df = pd.read_csv(train_path)\n",
    "    val_df = pd.read_csv(val_path)\n",
    "    test_df = pd.read_csv(test_path)\n",
    "    \n",
    "    train_df['user_idx'] = user_encoder.transform(train_df['userId'])\n",
    "    val_df['user_idx'] = user_encoder.transform(val_df['userId'])\n",
    "    test_df['user_idx'] = user_encoder.transform(test_df['userId'])\n",
    "else:\n",
    "    print(\"Splitting train/val/test...\")\n",
    "    def train_val_test_split_func(data_frame, test_size=TEST_SIZE, val_size=VAL_SIZE, col=\"user_idx\", seed=SEED):\n",
    "        train_val, test = train_test_split(\n",
    "            data_frame, \n",
    "            test_size=test_size, \n",
    "            random_state=seed, \n",
    "            stratify=data_frame[col]\n",
    "        )\n",
    "        train, val = train_test_split(\n",
    "            train_val, \n",
    "            test_size=val_size, \n",
    "            random_state=seed, \n",
    "            stratify=train_val[col]\n",
    "        )\n",
    "        return train.reset_index(drop=True), val.reset_index(drop=True), test.reset_index(drop=True)\n",
    "\n",
    "    train_df, val_df, test_df = train_val_test_split_func(df)\n",
    "    \n",
    "    train_df.to_csv(train_path, index=False)\n",
    "    val_df.to_csv(val_path, index=False)\n",
    "    test_df.to_csv(test_path, index=False)\n",
    "\n",
    "print(\"Split sizes:\", {k: len(v) for k, v in zip([\"train\", \"val\", \"test\"], [train_df, val_df, test_df])})\n"
   ]
  },
  {
   "cell_type": "markdown",
   "id": "676aecab",
   "metadata": {},
   "source": [
    "## **Thuật toán FunkSVD**"
   ]
  },
  {
   "cell_type": "markdown",
   "id": "f8e6e86e",
   "metadata": {},
   "source": [
    "### 1. Cài đặt thuật toán"
   ]
  },
  {
   "cell_type": "markdown",
   "id": "11422542",
   "metadata": {},
   "source": [
    "- **Mục tiêu:** Xấp xỉ ma trận đánh giá thưa $$ R \\in \\mathbb{R}^{n_{\\text{users}} \\times n_{\\text{items}}} $$ bằng tích của hai ma trận yếu tố ẩn  \n",
    "  $$ P \\in \\mathbb{R}^{n_{\\text{users}} \\times k}, \\quad Q \\in \\mathbb{R}^{n_{\\text{items}} \\times k}, \\quad R \\approx PQ^T $$\n",
    "\n",
    "- **Dự đoán:** Điểm đánh giá dự đoán cho người dùng $ u $ và phim $ i $:\n",
    "\n",
    "  $$\n",
    "  \\hat{r}_{ui} = \\mu + b_u + b_i + P_u \\cdot Q_i\n",
    "  $$\n",
    "\n",
    "  Trong đó:\n",
    "\n",
    "  - $\\mu $: Trung bình toàn bộ đánh giá (global bias).\n",
    "  - $ b_u $: Bias của người dùng $u$ (xu hướng đánh giá cao/thấp).\n",
    "  - $ b_i $: Bias của phim $ i $ (xu hướng được đánh giá cao/thấp).\n",
    "  - $ P_u \\cdot Q_i $: Tích vô hướng của vector yếu tố ẩn (kích thước $ k $).\n",
    "\n",
    "- **Hàm mất mát:** Tối thiểu hóa sai số bình phương với điều chuẩn riêng cho bias và yếu tố ẩn:\n",
    "\n",
    "  $\n",
    "  L = \\sum_{(u,i) \\in \\text{known ratings}} (r_{ui} - \\hat{r}_{ui})^2 + \\lambda_{bu,bi} \\left( \\sum_u b_u^2 + \\sum_i b_i^2 \\right) + \\lambda_{pq} \\left( \\sum_u \\| P_u \\|^2 + \\sum_i \\| Q_i \\|^2 \\right)\n",
    "  $\n",
    "\n",
    "  Trong đó:\n",
    "\n",
    "  - $ (r_{ui} - \\hat{r}_{ui})^2 $: Sai số bình phương.\n",
    "  - $ \\lambda_{bu,bi} $: Hệ số điều chuẩn cho bias (`reg_bu_bi`).\n",
    "  - $ \\lambda_{pq} $: Hệ số điều chuẩn cho yếu tố ẩn (`reg_pq`).\n",
    "  - $ b_u^2, b_i^2, \\|P_u\\|^2, \\|Q_i\\|^2 $: Phạt các giá trị lớn để tránh overfitting.\n",
    "\n",
    "- **Tối ưu hóa:** Sử dụng SGD để cập nhật $ \\mu, b_u, b_i, P_u, Q_i $ từng mẫu dữ liệu một cách ngẫu nhiên, với learning rate giảm dần (decay).\n"
   ]
  },
  {
   "cell_type": "code",
   "execution_count": null,
   "id": "97b421f2",
   "metadata": {},
   "outputs": [],
   "source": [
    "# Hàm df_to_numpy() dùng để chuyển DataFrame sang NumPy\n",
    "def df_to_numpy(df_):\n",
    "    arr = df_[[\"user_idx\", \"movie_idx\", \"rating\"]].to_numpy()\n",
    "    return arr[:, 0].astype(np.int32), arr[:, 1].astype(np.int32), arr[:, 2].astype(np.float32)"
   ]
  },
  {
   "cell_type": "code",
   "execution_count": null,
   "id": "e2148cd0",
   "metadata": {},
   "outputs": [],
   "source": [
    "class FunkSVD:\n",
    "    def __init__(\n",
    "        self,\n",
    "        n_users: int,               # số người dùng\n",
    "        n_items: int,               # số phim\n",
    "        k: int = 50,                # yếu tố ẩn\n",
    "        lr: float = 0.007,\n",
    "        reg_bu_bi: float = 0.01,    # Hệ số điều chuẩn cho bias (b_u, b_i).\n",
    "        reg_pq: float = 0.05,       # Hệ số điều chuẩn cho yếu tố ẩn (P, Q ).\n",
    "        n_epochs: int = 35,\n",
    "        seed: int = 42,\n",
    "        verbose: bool = True,\n",
    "    ):\n",
    "        rng = np.random.default_rng(seed)\n",
    "        # Ma trận yếu tố ẩn người dùng, khởi tạo ngẫu nhiên từ phân phối chuẩn, nhân 0.1 để giá trị nhỏ, kiểu float32.\n",
    "        self.P  = 0.1 * rng.standard_normal((n_users, k)).astype(np.float32)\n",
    "        # Ma trận yếu tố ẩn phim\n",
    "        self.Q  = 0.1 * rng.standard_normal((n_items, k)).astype(np.float32)\n",
    "        #---> Khởi tạo ngẫu nhiên P, Q với giá trị nhỏ tránh gradient lớn ban đầu.\n",
    "        \n",
    "        # Vector bias người dùng (b_u) -> khởi tạo = 0\n",
    "        self.bu = np.zeros(n_users, dtype=np.float32)\n",
    "        # Vector bias phim (b_i), khởi tạo = 0\n",
    "        self.bi = np.zeros(n_items, dtype=np.float32)\n",
    "        #  Global bias (\\mu), khởi tạo = 0 \n",
    "        self.mu = 0.0\n",
    "\n",
    "        self.lr0 = self.lr = lr # Lưu tốc độ học ban đầu và hiện tại (sẽ giảm qua epoch)\n",
    "        self.reg_bu_bi = reg_bu_bi\n",
    "        self.reg_pq    = reg_pq\n",
    "        self.n_epochs  = n_epochs\n",
    "        self.verbose   = verbose\n",
    "        self.train_rmse, self.val_rmse = [], []\n",
    "\n",
    "    # ───── Train ─────\n",
    "    def fit(self, train_df, val_df=None, patience: int = 3):\n",
    "        u_tr, i_tr, r_tr = df_to_numpy(train_df)\n",
    "        if val_df is not None:\n",
    "            u_vl, i_vl, r_vl = df_to_numpy(val_df)\n",
    "\n",
    "        self.mu = r_tr.mean()\n",
    "        best_val = np.inf\n",
    "        no_improve = 0\n",
    "\n",
    "        for ep in range(1, self.n_epochs + 1):\n",
    "            idx = np.random.permutation(len(r_tr))\n",
    "            se = 0.0\n",
    "            for u, i, r in zip(u_tr[idx], i_tr[idx], r_tr[idx]):\n",
    "                pred = self.mu + self.bu[u] + self.bi[i] + self.P[u] @ self.Q[i]\n",
    "                err  = r - pred\n",
    "                se  += err * err\n",
    "\n",
    "                # update bias\n",
    "                self.bu[u] += self.lr * (err - self.reg_bu_bi * self.bu[u])\n",
    "                self.bi[i] += self.lr * (err - self.reg_bu_bi * self.bi[i])\n",
    "\n",
    "                # update latent factors\n",
    "                pu_old = self.P[u].copy()\n",
    "                self.P[u] += self.lr * (err * self.Q[i] - self.reg_pq * self.P[u])\n",
    "                self.Q[i] += self.lr * (err * pu_old    - self.reg_pq * self.Q[i])\n",
    "\n",
    "            rmse_tr = np.sqrt(se / len(r_tr))\n",
    "            self.train_rmse.append(rmse_tr)\n",
    "\n",
    "            # Validation\n",
    "            if val_df is not None:\n",
    "                preds = self.predict_batch(u_vl, i_vl)\n",
    "                rmse_vl = np.sqrt(mean_squared_error(r_vl, preds))\n",
    "                self.val_rmse.append(rmse_vl)\n",
    "\n",
    "                if self.verbose:\n",
    "                    print(f\"Epoch {ep:02d}/{self.n_epochs} – Train {rmse_tr:.4f} | Val {rmse_vl:.4f}\")\n",
    "\n",
    "                # early-stopping\n",
    "                if rmse_vl + 1e-4 < best_val:\n",
    "                    best_val = rmse_vl\n",
    "                    no_improve = 0\n",
    "                    self._best_state = (self.P.copy(), self.Q.copy(), self.bu.copy(), self.bi.copy())\n",
    "                else:\n",
    "                    no_improve += 1\n",
    "                    if no_improve >= patience:\n",
    "                        if self.verbose:\n",
    "                            print(\">>> Early-stopping – restore best epoch.\")\n",
    "                        self.P, self.Q, self.bu, self.bi = self._best_state\n",
    "                        break\n",
    "            else:\n",
    "                if self.verbose:\n",
    "                    print(f\"Epoch {ep:02d}/{self.n_epochs} – Train RMSE: {rmse_tr:.4f}\")\n",
    "\n",
    "            self.lr *= 0.95\n",
    "\n",
    "        return self\n",
    "\n",
    "    # ───── Inference ─────\n",
    "    def predict(self, u_idx: int, i_idx: int) -> float:\n",
    "        est = (\n",
    "            self.mu\n",
    "            + self.bu[u_idx]\n",
    "            + self.bi[i_idx]                \n",
    "            + self.P[u_idx] @ self.Q[i_idx]\n",
    "        )\n",
    "        return float(np.clip(est, 0.5, 5.0))\n",
    "\n",
    "    def predict_batch(self, users, items):\n",
    "        return np.clip(\n",
    "            self.mu + self.bu[users] + self.bi[items] +\n",
    "            np.einsum(\"ij,ij->i\", self.P[users], self.Q[items]),\n",
    "            0.5, 5.0,\n",
    "        )\n",
    "\n",
    "    # ───── Save / Load ─────\n",
    "    def save(self, file_path: str):\n",
    "        \"\"\"\n",
    "        Lưu mô hình ra file .npz. \n",
    "        \"\"\"\n",
    "        dir_name = os.path.dirname(file_path)\n",
    "        if dir_name and not os.path.exists(dir_name):\n",
    "            os.makedirs(dir_name, exist_ok=True)\n",
    "\n",
    "        np.savez_compressed(\n",
    "            file_path,\n",
    "            P=self.P, Q=self.Q,\n",
    "            bu=self.bu, bi=self.bi,\n",
    "            mu=self.mu,\n",
    "            train_rmse=np.array(self.train_rmse),\n",
    "            val_rmse=np.array(self.val_rmse),\n",
    "            lr=self.lr, lr0=self.lr0,\n",
    "            reg_bu_bi=self.reg_bu_bi,\n",
    "            reg_pq=self.reg_pq,\n",
    "        )\n",
    "\n",
    "    def load(self, file_path: str):\n",
    "        \"\"\"\n",
    "        Khôi phục model từ file .npz.\n",
    "        \"\"\"\n",
    "        data = np.load(file_path)\n",
    "        self.P  = data[\"P\"];  self.Q  = data[\"Q\"]\n",
    "        self.bu = data[\"bu\"]; self.bi = data[\"bi\"]\n",
    "        self.mu = float(data[\"mu\"])\n",
    "        self.train_rmse = list(data[\"train_rmse\"])\n",
    "        self.val_rmse   = list(data[\"val_rmse\"])\n",
    "        self.lr  = float(data[\"lr\"]);  self.lr0 = float(data[\"lr0\"])\n",
    "        self.reg_bu_bi = float(data[\"reg_bu_bi\"])\n",
    "        self.reg_pq    = float(data[\"reg_pq\"])\n",
    "        return self"
   ]
  },
  {
   "cell_type": "markdown",
   "id": "929b7118",
   "metadata": {},
   "source": [
    "### 2. Xây dựng model bằng hai cách"
   ]
  },
  {
   "cell_type": "markdown",
   "id": "38b2859b",
   "metadata": {},
   "source": [
    "#### Cách 1. Sử dụng mô hình implement"
   ]
  },
  {
   "cell_type": "code",
   "execution_count": null,
   "id": "d5dae016",
   "metadata": {},
   "outputs": [
    {
     "name": "stdout",
     "output_type": "stream",
     "text": [
      "Epoch 01/35 – Train 0.9029 | Val 0.8770\n",
      "Epoch 02/35 – Train 0.8686 | Val 0.8676\n",
      "Epoch 03/35 – Train 0.8608 | Val 0.8630\n",
      "Epoch 04/35 – Train 0.8548 | Val 0.8576\n",
      "Epoch 05/35 – Train 0.8475 | Val 0.8511\n",
      "Epoch 06/35 – Train 0.8403 | Val 0.8457\n",
      "Epoch 07/35 – Train 0.8347 | Val 0.8419\n",
      "Epoch 08/35 – Train 0.8300 | Val 0.8385\n",
      "Epoch 09/35 – Train 0.8259 | Val 0.8353\n",
      "Epoch 10/35 – Train 0.8219 | Val 0.8324\n",
      "Epoch 11/35 – Train 0.8181 | Val 0.8297\n",
      "Epoch 12/35 – Train 0.8144 | Val 0.8270\n",
      "Epoch 13/35 – Train 0.8109 | Val 0.8244\n",
      "Epoch 14/35 – Train 0.8075 | Val 0.8222\n",
      "Epoch 15/35 – Train 0.8043 | Val 0.8201\n",
      "Epoch 16/35 – Train 0.8014 | Val 0.8181\n",
      "Epoch 17/35 – Train 0.7986 | Val 0.8163\n",
      "Epoch 18/35 – Train 0.7960 | Val 0.8146\n",
      "Epoch 19/35 – Train 0.7936 | Val 0.8131\n",
      "Epoch 20/35 – Train 0.7913 | Val 0.8117\n",
      "Epoch 21/35 – Train 0.7892 | Val 0.8104\n",
      "Epoch 22/35 – Train 0.7872 | Val 0.8093\n",
      "Epoch 23/35 – Train 0.7854 | Val 0.8082\n",
      "Epoch 24/35 – Train 0.7837 | Val 0.8072\n",
      "Epoch 25/35 – Train 0.7821 | Val 0.8063\n",
      "Epoch 26/35 – Train 0.7806 | Val 0.8054\n",
      "Epoch 27/35 – Train 0.7792 | Val 0.8046\n",
      "Epoch 28/35 – Train 0.7779 | Val 0.8039\n",
      "Epoch 29/35 – Train 0.7767 | Val 0.8032\n",
      "Epoch 30/35 – Train 0.7755 | Val 0.8026\n",
      "Epoch 31/35 – Train 0.7744 | Val 0.8020\n",
      "Epoch 32/35 – Train 0.7734 | Val 0.8015\n",
      "Epoch 33/35 – Train 0.7725 | Val 0.8009\n",
      "Epoch 34/35 – Train 0.7716 | Val 0.8005\n",
      "Epoch 35/35 – Train 0.7707 | Val 0.8001\n"
     ]
    }
   ],
   "source": [
    "model_funksvd_custom = FunkSVD(\n",
    "    n_users=n_users,\n",
    "    n_items=n_items,\n",
    "    k=50,\n",
    "    lr=0.007,\n",
    "    reg_bu_bi=0.01,\n",
    "    reg_pq=0.05,\n",
    "    n_epochs=35,\n",
    ")\n",
    "model_funksvd_custom.fit(train_df, val_df, patience=3)\n",
    "model_funksvd_custom.save(f\"{DATA_DIR}/funksvd_best.npz\")   "
   ]
  },
  {
   "cell_type": "code",
   "execution_count": null,
   "id": "9b54e9dc",
   "metadata": {},
   "outputs": [
    {
     "data": {
      "image/png": "[encoded data removed]",
      "text/plain": [
       "<Figure size 600x400 with 1 Axes>"
      ]
     },
     "metadata": {},
     "output_type": "display_data"
    }
   ],
   "source": [
    "# learning curve\n",
    "plt.figure(figsize=(6, 4))\n",
    "plt.plot(model_funksvd_custom.train_rmse, label=\"Train\")\n",
    "if model_funksvd_custom.val_rmse:\n",
    "    plt.plot(model_funksvd_custom.val_rmse, label=\"Val\")\n",
    "plt.xlabel(\"Epoch\")\n",
    "plt.ylabel(\"RMSE\")\n",
    "plt.title(\"Learning Curve – FunkSVD\")\n",
    "plt.legend()\n",
    "plt.tight_layout()\n",
    "plt.show()"
   ]
  },
  {
   "cell_type": "code",
   "execution_count": null,
   "id": "eef9aa5f",
   "metadata": {},
   "outputs": [
    {
     "name": "stdout",
     "output_type": "stream",
     "text": [
      "\n",
      "RMSE | MAE\n",
      "Train: 0.7691 | 0.5855\n",
      "Val  : 0.8001 | 0.6073\n",
      "Test : 0.8005 | 0.6076\n"
     ]
    }
   ],
   "source": [
    "def evaluate(df_, mdl):\n",
    "    u, i, r = df_to_numpy(df_)\n",
    "    pr = mdl.predict_batch(u, i)\n",
    "    return np.sqrt(mean_squared_error(r, pr)), mean_absolute_error(r, pr)\n",
    "\n",
    "train_rmse, train_mae = evaluate(train_df, model_funksvd_custom)\n",
    "val_rmse, val_mae = evaluate(val_df, model_funksvd_custom)\n",
    "test_rmse, test_mae = evaluate(test_df, model_funksvd_custom)\n",
    "\n",
    "print(\n",
    "    f\"\\nRMSE | MAE\\n\"\n",
    "    f\"Train: {train_rmse:.4f} | {train_mae:.4f}\\n\"\n",
    "    f\"Val  : {val_rmse:.4f} | {val_mae:.4f}\\n\"\n",
    "    f\"Test : {test_rmse:.4f} | {test_mae:.4f}\"\n",
    ")"
   ]
  },
  {
   "cell_type": "markdown",
   "id": "7c3dada1",
   "metadata": {},
   "source": [
    "#### Cách 2. Sử dụng mô hình từ thư viện Surprise"
   ]
  },
  {
   "cell_type": "code",
   "execution_count": null,
   "id": "ad9e58a9",
   "metadata": {},
   "outputs": [],
   "source": [
    "class SurpriseFunkSVD:\n",
    "    def __init__(\n",
    "        self,\n",
    "        n_factors=50,\n",
    "        lr_all=0.007,\n",
    "        reg_all=0.02,\n",
    "        n_epochs=20,\n",
    "        verbose=False,\n",
    "        rating_scale=(0.5, 5.0)\n",
    "    ):\n",
    "        self.model = SVD(n_factors=n_factors, lr_all=lr_all, reg_all=reg_all,\n",
    "                         n_epochs=n_epochs, verbose=verbose)\n",
    "        self.rating_scale = rating_scale\n",
    "\n",
    "    def fit(self, train_df):\n",
    "        reader = Reader(rating_scale=self.rating_scale)\n",
    "        data = Dataset.load_from_df(train_df[['user_idx', 'movie_idx', 'rating']], reader)\n",
    "        trainset = data.build_full_trainset()\n",
    "        self.model.fit(trainset)\n",
    "        return self\n",
    "\n",
    "    def predict(self, u_idx: int, i_idx: int) -> float:\n",
    "        est = self.model.predict(uid=u_idx, iid=i_idx).est\n",
    "        return float(np.clip(est, *self.rating_scale))\n",
    "\n",
    "    def predict_batch(self, users, items):\n",
    "        preds = []\n",
    "        for u, i in tqdm(zip(users, items), total=len(users), desc=\"Predicting\"):\n",
    "            preds.append(self.predict(u, i))\n",
    "        return np.array(preds)\n",
    "\n",
    "    def recommend_for_nan(self, df):\n",
    "        df_nan = df[df[\"rating\"].isna()].copy()\n",
    "        predictions = self.predict_batch(df_nan[\"user_idx\"].values, df_nan[\"movie_idx\"].values)\n",
    "        df_nan[\"predicted_rating\"] = predictions\n",
    "        return df_nan\n",
    "\n",
    "    def save(self, file_path: str):\n",
    "        import joblib\n",
    "        joblib.dump(self.model, file_path)\n",
    "\n",
    "    def load(self, file_path: str):\n",
    "        import joblib\n",
    "        self.model = joblib.load(file_path)\n",
    "        return self"
   ]
  },
  {
   "cell_type": "code",
   "execution_count": null,
   "id": "cab8d7b6",
   "metadata": {},
   "outputs": [
    {
     "name": "stdout",
     "output_type": "stream",
     "text": [
      "Processing epoch 0\n",
      "Processing epoch 1\n",
      "Processing epoch 2\n",
      "Processing epoch 3\n",
      "Processing epoch 4\n",
      "Processing epoch 5\n",
      "Processing epoch 6\n",
      "Processing epoch 7\n",
      "Processing epoch 8\n",
      "Processing epoch 9\n",
      "Processing epoch 10\n",
      "Processing epoch 11\n",
      "Processing epoch 12\n",
      "Processing epoch 13\n",
      "Processing epoch 14\n",
      "Processing epoch 15\n",
      "Processing epoch 16\n",
      "Processing epoch 17\n",
      "Processing epoch 18\n",
      "Processing epoch 19\n",
      "Processing epoch 20\n",
      "Processing epoch 21\n",
      "Processing epoch 22\n",
      "Processing epoch 23\n",
      "Processing epoch 24\n",
      "Processing epoch 25\n",
      "Processing epoch 26\n",
      "Processing epoch 27\n",
      "Processing epoch 28\n",
      "Processing epoch 29\n",
      "Processing epoch 30\n",
      "Processing epoch 31\n",
      "Processing epoch 32\n",
      "Processing epoch 33\n",
      "Processing epoch 34\n"
     ]
    },
    {
     "data": {
      "text/plain": [
       "<__main__.SurpriseFunkSVD at 0x1ed8006c2c0>"
      ]
     },
     "metadata": {},
     "output_type": "display_data"
    }
   ],
   "source": [
    "model_funksvd = SurpriseFunkSVD(n_factors=50, n_epochs=35)\n",
    "model_funksvd.fit(train_df) "
   ]
  },
  {
   "cell_type": "code",
   "execution_count": null,
   "id": "b93aeab9",
   "metadata": {},
   "outputs": [],
   "source": [
    "with open(f\"{DATA_DIR}/model_funksvd.pkl\", 'wb') as f:\n",
    "    pickle.dump(model_funksvd, f)"
   ]
  },
  {
   "cell_type": "code",
   "execution_count": null,
   "id": "571a1f31",
   "metadata": {},
   "outputs": [
    {
     "name": "stderr",
     "output_type": "stream",
     "text": [
      "Predicting: 100%|██████████| 2000008/2000008 [00:28<00:00, 70853.08it/s] \n"
     ]
    }
   ],
   "source": [
    "# Dự đoán hàng loạt\n",
    "preds = model_funksvd.predict_batch(val_df[\"user_idx\"], val_df[\"movie_idx\"])\n",
    "val_df[\"predicted_rating\"] = preds"
   ]
  },
  {
   "cell_type": "code",
   "execution_count": null,
   "id": "93cd46ea",
   "metadata": {},
   "outputs": [
    {
     "name": "stderr",
     "output_type": "stream",
     "text": [
      "Predicting: 100%|██████████| 18000068/18000068 [04:19<00:00, 69326.86it/s] \n",
      "Predicting: 100%|██████████| 2000008/2000008 [00:19<00:00, 105045.19it/s]\n",
      "Predicting: 100%|██████████| 5000019/5000019 [01:18<00:00, 64042.52it/s] \n"
     ]
    },
    {
     "name": "stdout",
     "output_type": "stream",
     "text": [
      "\n",
      "RMSE  | MAE\n",
      "Train: 0.6132 | 0.4646\n",
      "Val  : 0.7863 | 0.5916\n",
      "Test : 0.7862 | 0.5916\n"
     ]
    }
   ],
   "source": [
    "def evaluate(df, model):\n",
    "    u, i, r = df[\"user_idx\"], df[\"movie_idx\"], df[\"rating\"]\n",
    "    p = model.predict_batch(u, i)\n",
    "    return np.sqrt(mean_squared_error(r, p)), mean_absolute_error(r, p)\n",
    "\n",
    "tr_rmse, tr_mae = evaluate(train_df, model_funksvd)\n",
    "vl_rmse, vl_mae = evaluate(val_df, model_funksvd)\n",
    "ts_rmse, ts_mae = evaluate(test_df, model_funksvd)\n",
    "\n",
    "print(\n",
    "    f\"\\nRMSE  | MAE\\n\"\n",
    "    f\"Train: {tr_rmse:.4f} | {tr_mae:.4f}\\n\"\n",
    "    f\"Val  : {vl_rmse:.4f} | {vl_mae:.4f}\\n\"\n",
    "    f\"Test : {ts_rmse:.4f} | {ts_mae:.4f}\"\n",
    ")\n"
   ]
  },
  {
   "cell_type": "markdown",
   "id": "10934cd0",
   "metadata": {},
   "source": [
    "## **Thuật toán SVD++**"
   ]
  },
  {
   "cell_type": "markdown",
   "id": "32f84ad9",
   "metadata": {},
   "source": [
    "### 1. Cài đặt thuật toán"
   ]
  },
  {
   "cell_type": "markdown",
   "id": "6d97194f",
   "metadata": {},
   "source": [
    "#### a. Công thức dự đoán rating và ý tưởng\n",
    "\n",
    "Giả sử $R_{n \\times m}$ là ma trận đánh giá gồm $n$ người dùng và $m$ mặt hàng. Mỗi phần tử $r_{ui}$ là đánh giá của người dùng $u$ cho mặt hàng $i$.\n",
    "\n",
    "Công thức dự đoán rating trong mô hình **SVD++** là:\n",
    "\n",
    "$$\n",
    "\\hat{r}_{ui} = \\mu + b_u + b_i + q_i^T \\left(p_u + \\frac{1}{\\sqrt{|N(u)|}} \\sum_{j \\in N(u)} y_j \\right)\n",
    "$$\n",
    "\n",
    "Trong đó:\n",
    "\n",
    "- $\\mu$: trung bình các rating toàn bộ hệ thống  \n",
    "- $b_u$, $b_i$: độ lệch riêng của người dùng $u$ và movie $i$  \n",
    "- $p_u$, $q_i$: vector tiềm ẩn đại diện cho người dùng và movie\n",
    "- $y_j$: vector phản hồi ngầm của movie $j$\n",
    "- $N(u)$: tập các movie mà người dùng $u$ đã đánh giá\n",
    "\n",
    "Ý tưởng của SVD++ là kết hợp **cả thông tin explicit (rating)** và **implicit feedback (dạng hành vi như gắn tag, click, xem phim, v.v.)** để cải thiện độ chính xác khi dự đoán.\n",
    "\n",
    "\n",
    "#### b. Hàm mất mát (Loss function)\n",
    "\n",
    "Hàm mất mát của mô hình SVD++ được định nghĩa như sau:\n",
    "\n",
    "$$\n",
    "\\sum_{r_{ui} \\in R} \\left[ \\left(r_{ui} - \\mu - b_u - b_i - q_i^T \\left(p_u + \\frac{1}{\\sqrt{|N(u)|}} \\sum_{j \\in R(u)} y_j \\right) \\right)^2 + \\lambda_1 (b_u^2 + b_i^2) + \\lambda_2 ( \\|p_u\\|^2 + \\|q_i\\|^2 ) \\right]\n",
    "$$\n",
    "\n",
    "Giải thích các thành phần:\n",
    "\n",
    "- Thành phần đầu là **sai số bình phương** giữa rating thực tế và rating dự đoán.\n",
    "\n",
    "- Các biểu thức chứa $\\lambda_1$ và $\\lambda_2$ là **regularization**:\n",
    "\n",
    "  - $\\lambda_1$: điều chỉnh độ lệch (bias)\n",
    "\n",
    "  - $\\lambda_2$: điều chỉnh độ lớn của vector tiềm ẩn\n",
    "\n",
    "Regularization giúp giảm **overfitting**, nhất là khi dữ liệu đánh giá bị **thưa** (sparse). Nó hạn chế mô hình \"học thuộc\" toàn bộ dữ liệu train và giúp tổng quát hóa tốt hơn trên tập validation.\n",
    "\n",
    "\n",
    "#### c. Quy tắc cập nhật tham số bằng SGD\n",
    "\n",
    "Với mỗi mini-batch, chọn ngẫu nhiên các mẫu và cập nhật các tham số $b_u, b_i, p_u, q_i, y_j$ dựa trên sai số $e_{ui} = r_{ui} - \\hat{r}_{ui}$ theo các công thức sau:\n",
    "\n",
    "- $\n",
    "b_u \\leftarrow b_u + \\gamma \\cdot (e_{ui} - \\lambda_1 \\cdot b_u)\n",
    "$\n",
    "\n",
    "- $\n",
    "b_i \\leftarrow b_i + \\gamma \\cdot (e_{ui} - \\lambda_1 \\cdot b_i)\n",
    "$\n",
    "\n",
    "- $\n",
    "q_i \\leftarrow q_i + \\gamma \\cdot \\left( e_{ui} \\cdot \\left( p_u + \\frac{1}{\\sqrt{|N(u)|}} \\sum_{j \\in N(u)} y_j \\right) - \\lambda_2 \\cdot q_i \\right)\n",
    "$\n",
    "\n",
    "- $\n",
    "p_u \\leftarrow p_u + \\gamma \\cdot (e_{ui} \\cdot q_i - \\lambda_2 \\cdot p_u)\n",
    "$\n",
    "\n",
    "- $\n",
    "\\forall j \\in N(u): \\quad y_j \\leftarrow y_j + \\gamma \\cdot \\left( \\frac{e_{ui}}{\\sqrt{|N(u)|}} \\cdot q_i - \\lambda_2 \\cdot y_j \\right)\n",
    "$\n",
    "\n",
    "Trong đó:\n",
    "\n",
    "- $\\gamma$: learning rate  \n",
    "- $\\lambda_1, \\lambda_2$: hệ số regularization  \n",
    "- $N(u)$: tập các movie mà user $u$ đã đánh giá  \n",
    "\n",
    "Mỗi lần cập nhật là một bước tiến nhỏ giúp mô hình tối ưu dần các tham số để giảm sai số dự đoán.\n"
   ]
  },
  {
   "cell_type": "code",
   "execution_count": null,
   "id": "ace5aed9",
   "metadata": {},
   "outputs": [],
   "source": [
    "class SVDppCustom:\n",
    "    \"\"\"\n",
    "    Triển khai mô hình SVD++ cho bài toán hệ thống gợi ý có sử dụng thông tin phản hồi ngầm (implicit feedback).\n",
    "    \"\"\"\n",
    "    def __init__(self, n_users, n_items, \n",
    "                 n_factors=20, \n",
    "                 lr=0.005, \n",
    "                 reg=0.02,\n",
    "                 reg1=None,\n",
    "                 reg2=None, \n",
    "                 decay=0.95,\n",
    "                 n_epochs=20):\n",
    "        \"\"\"\n",
    "        Khởi tạo các tham số và ma trận ban đầu của mô hình.\n",
    "\n",
    "        Args:\n",
    "            n_users (int): Số lượng người dùng.\n",
    "            n_items (int): Số lượng sản phẩm (item).\n",
    "            n_factors (int): Số lượng latent factors.\n",
    "            lr (float): Learning rate ban đầu.\n",
    "            reg (float): Hệ số điều chuẩn (regularization).\n",
    "            reg1 (float): Điều chuẩn cho bias, nếu không có sẽ lấy theo reg.\n",
    "            reg2 (float): Điều chuẩn cho vector P, Q, Y, nếu không có sẽ lấy theo reg.\n",
    "            decay (float): Tỷ lệ giảm learning rate sau mỗi epoch.\n",
    "            n_epochs (int): Số vòng lặp huấn luyện.\n",
    "        \"\"\"\n",
    "        self.n_users = n_users\n",
    "        self.n_items = n_items \n",
    "        self.n_factors = n_factors\n",
    "        self.lr = lr\n",
    "        self.reg = reg\n",
    "        self.reg1 = reg1 if reg1 is not None else reg\n",
    "        self.reg2 = reg2 if reg2 is not None else reg\n",
    "        self.decay=decay\n",
    "        self.n_epochs = n_epochs\n",
    "\n",
    "        # Khởi tạo bias cho người dùng và item\n",
    "        self.b_u = np.zeros(n_users)\n",
    "        self.b_i = np.zeros(n_items)\n",
    "\n",
    "        # Khởi tạo latent factors cho người dùng (P), item (Q), và phản hồi ngầm (Y)\n",
    "        self.P = np.random.normal(0, 0.1, (n_users, n_factors))\n",
    "        self.Q = np.random.normal(0, 0.1, (n_items, n_factors))\n",
    "        self.Y = np.random.normal(0, 0.1, (n_items, n_factors))\n",
    "\n",
    "        # Giá trị trung bình toàn bộ dữ liệu\n",
    "        self.global_mean = 0\n",
    "\n",
    "    def fit(self, train_data, implicit_feedback, \n",
    "            val_data=None,\n",
    "            early_stopping=True,\n",
    "            patience=3):\n",
    "        \"\"\"\n",
    "        Huấn luyện mô hình SVD++ trên tập dữ liệu huấn luyện.\n",
    "        Args:\n",
    "            train_data (DataFrame): Dữ liệu huấn luyện chứa user_idx, movie_idx và rating.\n",
    "            implicit_feedback (dict): Phản hồi ngầm - ánh xạ người dùng tới tập các item họ đã tương tác.\n",
    "            val_data (DataFrame, optional): Tập dữ liệu validation để theo dõi quá trình huấn luyện.\n",
    "            early_stopping (bool): Có sử dụng early stopping hay không.\n",
    "            patience (int): Số epoch cho phép mô hình không cải thiện trước khi dừng sớm.\n",
    "        \"\"\"\n",
    "        user_ids = train_data['user_idx'].values\n",
    "        item_ids = train_data['movie_idx'].values \n",
    "        ratings = train_data['rating'].values\n",
    "\n",
    "        self.global_mean = np.mean(ratings)\n",
    "        self.Nu = implicit_feedback\n",
    "\n",
    "        best_val_rmse = float('inf')\n",
    "        patience_counter = 0\n",
    "\n",
    "        for epoch in range(self.n_epochs):\n",
    "            rmse_accum = 0\n",
    "\n",
    "            for u, i, r_ui in tqdm(zip(user_ids, item_ids, ratings), total=len(ratings), desc=f\"Training epoch {epoch+1}\", leave=False):\n",
    "                Nu_u = self.Nu.get(u, set())  # Lấy tập item mà user đã tương tác\n",
    "                sqrt_Nu = np.sqrt(len(Nu_u)) if Nu_u else 1.0\n",
    "\n",
    "                # Tính tổng các vector Y của implicit feedback\n",
    "                y_sum = np.sum(self.Y[list(Nu_u)], axis=0) / sqrt_Nu if Nu_u else 0\n",
    "\n",
    "                # Dự đoán rating\n",
    "                pred = self.global_mean + self.b_u[u] + self.b_i[i] + np.dot(self.Q[i], self.P[u] + y_sum)\n",
    "                err = r_ui - pred\n",
    "                rmse_accum += err ** 2\n",
    "\n",
    "                # Cập nhật bias và latent vectors\n",
    "                self.b_u[u] += self.lr * (err - self.reg1 * self.b_u[u])\n",
    "                self.b_i[i] += self.lr * (err - self.reg1 * self.b_i[i])\n",
    "                self.P[u] += self.lr * (err * self.Q[i] - self.reg2 * self.P[u])\n",
    "                self.Q[i] += self.lr * (err * (self.P[u] + y_sum) - self.reg2 * self.Q[i])\n",
    "\n",
    "                # Cập nhật latent factors Y cho implicit feedback\n",
    "                if Nu_u:\n",
    "                    grad_y = err * self.Q[i] / sqrt_Nu\n",
    "                    for j in Nu_u:\n",
    "                        self.Y[j] += self.lr * (grad_y - self.reg2 * self.Y[j])\n",
    "\n",
    "            train_rmse = np.sqrt(rmse_accum / len(ratings))\n",
    "\n",
    "            # Đánh giá trên tập validation nếu có\n",
    "            if val_data is not None:\n",
    "                val_rmse = self.rmse(val_data)\n",
    "                print(f\"\\tEpoch {epoch+1}: Train RMSE = {train_rmse:.5f} | Val RMSE = {val_rmse:.5f}\") \n",
    "\n",
    "                # Kiểm tra điều kiện dừng sớm\n",
    "                if val_rmse < best_val_rmse:\n",
    "                    best_val_rmse = val_rmse  \n",
    "                    patience_counter = 0\n",
    "                else:\n",
    "                    patience_counter += 1\n",
    "                    if early_stopping and patience_counter >= patience:\n",
    "                        print(f\"Early stopping at epoch {epoch+1}\")\n",
    "                        break\n",
    "            else:\n",
    "                print(f\"\\tEpoch {epoch+1}: Train RMSE = {train_rmse:.5f}\")\n",
    "            \n",
    "            # Giảm learning rate sau mỗi epoch\n",
    "            self.lr *= self.decay\n",
    "\n",
    "    def predict_single(self, u, i):\n",
    "        \"\"\"\n",
    "        Dự đoán rating cho một cặp người dùng - item cụ thể.\n",
    "        Args:\n",
    "            u (int): Chỉ số người dùng.\n",
    "            i (int): Chỉ số item.\n",
    "\n",
    "        Returns:\n",
    "            float: Giá trị dự đoán rating, được clip trong khoảng [0.5, 5.0].\n",
    "        \"\"\"\n",
    "        Nu_u = self.Nu.get(u, set())\n",
    "        sqrt_Nu = np.sqrt(len(Nu_u)) if Nu_u else 1.0\n",
    "        y_sum = np.sum(self.Y[list(Nu_u)], axis=0) / sqrt_Nu if Nu_u else 0\n",
    "\n",
    "        pred = self.global_mean + self.b_u[u] + self.b_i[i] + np.dot(self.Q[i], self.P[u] + y_sum)\n",
    "        return np.clip(pred, 0.5, 5.0)\n",
    "\n",
    "    def rmse(self, data):\n",
    "        \"\"\"\n",
    "        Tính toán Root Mean Squared Error (RMSE) trên tập dữ liệu.\n",
    "        Args:\n",
    "            data (DataFrame): Dữ liệu chứa user_idx, movie_idx và rating.\n",
    "        \"\"\"\n",
    "        user_ids = data['user_idx'].values\n",
    "        item_ids = data['movie_idx'].values\n",
    "        ratings = data['rating'].values\n",
    "\n",
    "        # Dự đoán cho toàn bộ tập dữ liệu\n",
    "        preds = [self.predict_single(u, i) for u, i in \n",
    "                 tqdm(zip(user_ids, item_ids), total=len(data), desc=\"Evaluating\", leave=False)]    \n",
    "        preds = np.array(preds)\n",
    "        return np.sqrt(np.mean((ratings - preds) ** 2))\n",
    "\n",
    "    def mae(self, data):\n",
    "        \"\"\"\n",
    "        Tính toán Mean Absolute Error (MAE) trên tập dữ liệu.\n",
    "        Args:\n",
    "            data (DataFrame): Dữ liệu chứa user_idx, movie_idx và rating.\n",
    "        \"\"\"\n",
    "        user_ids = data['user_idx'].values\n",
    "        item_ids = data['movie_idx'].values\n",
    "        ratings = data['rating'].values\n",
    "\n",
    "        # Dự đoán cho toàn bộ tập dữ liệu\n",
    "        preds = [self.predict_single(u, i) for u, i in \n",
    "                 tqdm(zip(user_ids, item_ids), total=len(data), desc=\"Evaluating\", leave=False)]    \n",
    "        preds = np.array(preds)\n",
    "        return np.mean(np.abs(ratings - preds))"
   ]
  },
  {
   "cell_type": "markdown",
   "id": "60de414d",
   "metadata": {},
   "source": [
    "### 2. Xây dựng model bằng hai cách"
   ]
  },
  {
   "cell_type": "markdown",
   "id": "d3def5b8",
   "metadata": {},
   "source": [
    "#### Cách 1. Sử dụng mô hình implement"
   ]
  },
  {
   "cell_type": "markdown",
   "id": "7cc0f044",
   "metadata": {},
   "source": [
    "##### **1.1. Tạo data train/test/eval**"
   ]
  },
  {
   "cell_type": "markdown",
   "id": "8b1cbfdd",
   "metadata": {},
   "source": [
    "**Explicit feedback**\n",
    "\n",
    "- Đảm bảo các movies trong val/test đều đã xuất hiện trong train $\\to$ tránh hiện tượng **cold-start for item** khi train model - tức là không đưa những movies mà mô hình chưa từng thấy.\n",
    "\n",
    "- Trích xuất `[user_idx, movie_idx, rating]` cho từng tập."
   ]
  },
  {
   "cell_type": "code",
   "execution_count": 5,
   "id": "a1333ee7",
   "metadata": {},
   "outputs": [],
   "source": [
    "# Loại bỏ movieId trong val/test không có trong train -> tránh hiện tượng cold-start for item\n",
    "train_movie_ids = set(train_df['movieId'])\n",
    "\n",
    "val_df_pp = val_df[val_df['movieId'].isin(train_movie_ids)].copy()\n",
    "test_df_pp = test_df[test_df['movieId'].isin(train_movie_ids)].copy()\n",
    "\n",
    "# Cập nhật lại movie_idx sau khi lọc\n",
    "val_df_pp['movie_idx'] = movie_encoder.transform(val_df_pp['movieId'])\n",
    "test_df_pp['movie_idx'] = movie_encoder.transform(test_df_pp['movieId'])"
   ]
  },
  {
   "cell_type": "code",
   "execution_count": 6,
   "id": "1c78a947",
   "metadata": {},
   "outputs": [],
   "source": [
    "# Tạo dữ liệu train/test/val cho ratings (đã encode)\n",
    "train_pp = train_df[['user_idx', 'movie_idx', 'rating']]\n",
    "val_pp = val_df_pp[['user_idx', 'movie_idx', 'rating']]\n",
    "test_pp = test_df_pp[['user_idx', 'movie_idx', 'rating']]"
   ]
  },
  {
   "cell_type": "markdown",
   "id": "ccffcf38",
   "metadata": {},
   "source": [
    "**Implicit feedback**\n",
    "\n",
    "Kết hợp 2 nguồn thông tin để tạo implicit_feedback:\n",
    "\n",
    "- Các movies mà user đã đánh giá (từ ratings).\n",
    "\n",
    "- Các movies mà user đã gắn tags (từ tags).\n",
    "\n",
    "**1. Từ ratings**\n",
    "\n",
    "- Tập `N(u)` được xây dựng cho mỗi user bằng cách lấy toàn bộ các movies mà họ đã đánh giá. Tuy nhiên, nếu dùng toàn bộ tập này (rất lớn), gây rất chậm khi train model $\\to$ áp dụng **sampling**\n",
    "\n",
    "    - Ưu tiên giữ lại các movies phổ biến theo `topk_ratio` (dựa trên tần suất trong tập train).\n",
    "\n",
    "    - Kết hợp chọn ngẫu nhiên phần còn lại để giữ đa dạng.\n",
    "\n",
    "- Việc lấy mẫu như vậy giúp cân bằng giữa độ đại diện của các movies quan trọng và độ đa dạng để tránh mô hình bị lệch về các movies phổ biến.\n",
    "\n",
    "**2. Từ tags**\n",
    "\n",
    "- Tags phản ánh mức độ tương tác chủ động và mang tính ngữ nghĩa của người dùng với movies. Việc một user tự gắn tag cho một bộ phim cho thấy mức độ chú ý, quan tâm hoặc cảm nhận cá nhân mạnh hơn so với chỉ đơn thuần là đánh giá số sao. Bước làm để tích hợp thông tin này: \n",
    "\n",
    "    - Giữ lại những dòng tag mà user và movie đã tồn tại trong train (tránh cold-start)\n",
    "\n",
    "    - Giới hạn số lượng tag mỗi user (tối đa 20) để kiểm soát độ lớn của tập N(u). Ưu tiên tag theo thời gian gắn (hoặc có thể lấy ngẫu nhiên)\n",
    "\n",
    "- Các movies từ tags sau đó được thêm vào `N(u)` đã lấy mẫu từ ratings, tạo nên một tập implicit feedback hoàn chỉnh."
   ]
  },
  {
   "cell_type": "code",
   "execution_count": 7,
   "id": "11823ff8",
   "metadata": {},
   "outputs": [],
   "source": [
    "# === XỬ LÝ RATINGS ===\n",
    "# CÁC PHIM NGƯỜI DÙNG ĐÃ RATING (lấy 20 phim phổ biến nhất)\n",
    "\n",
    "implicit_feedback = defaultdict(set)\n",
    "\n",
    "# Duyệt qua từng row trong train -> implicit_feedback\n",
    "for row in train_df.itertuples():\n",
    "    implicit_feedback[row.user_idx].add(row.movie_idx)\n",
    "\n",
    "# Đếm số lần mỗi item xuất hiện trong tập train\n",
    "item_counts = Counter(train_pp['movie_idx'])\n",
    "\n",
    "def sample_Nu(full_Nu, item_counts, k=20, topk_ratio=0.3):\n",
    "    \"\"\"\n",
    "    Lấy mẫu k item từ tập N(u) = các item user đã tương tác, kết hợp giữa chọn phổ biến và ngẫu nhiên.\n",
    "\n",
    "    Args:\n",
    "        full_Nu (set): Tập đầy đủ các item user đã tương tác.\n",
    "        item_counts (dict): Độ phổ biến (tần suất) của mỗi item trong tập train.\n",
    "        k (int): Số item cần lấy mẫu.\n",
    "        topk_ratio (float): Tỷ lệ item được chọn theo độ phổ biến.\n",
    "\n",
    "    Returns:\n",
    "        set: Tập k item đã lấy mẫu từ N(u).\n",
    "    \"\"\"\n",
    "    if len(full_Nu) <= k:\n",
    "        return full_Nu  # Nếu số lượng item < k, trả về toàn bộ\n",
    "\n",
    "    # Sắp xếp các item theo độ phổ biến giảm dần\n",
    "    sorted_items = sorted(full_Nu, key=lambda i: -item_counts[i])\n",
    "\n",
    "    # Xác định số lượng item chọn theo độ phổ biến\n",
    "    topk = int(k * topk_ratio)\n",
    "    top_items = sorted_items[:topk]  # Lấy các item phổ biến nhất\n",
    "\n",
    "    # Lấy phần còn lại bằng cách chọn ngẫu nhiên\n",
    "    remaining = list(set(full_Nu) - set(top_items))\n",
    "    rand_items = random.sample(remaining, k - topk)\n",
    "\n",
    "    # Hợp nhất 2 phần thành tập kết quả\n",
    "    return set(top_items + rand_items)\n",
    "\n",
    "# Lấy mẫu implicit feedback cho từng user từ tập N(u) đầy đủ\n",
    "implicit_feedback_sampled = {\n",
    "    u: sample_Nu(full_Nu, item_counts, k=20, topk_ratio=0.3)\n",
    "    for u, full_Nu in implicit_feedback.items()\n",
    "}"
   ]
  },
  {
   "cell_type": "code",
   "execution_count": 8,
   "id": "43550aa1",
   "metadata": {},
   "outputs": [],
   "source": [
    "# === XỬ LÝ FILE TAGS ===\n",
    "\n",
    "# Giữ lại các dòng tag có userId và movieId tồn tại trong encoder (tức là đã xuất hiện trong dữ liệu train)\n",
    "tags_filtered = tags[\n",
    "    tags['userId'].isin(user_encoder.classes_) & \n",
    "    tags['movieId'].isin(movie_encoder.classes_)\n",
    "].copy()\n",
    "\n",
    "# Encode userId và movieId thành chỉ số tương ứng (index) \n",
    "tags_filtered['user_idx'] = user_encoder.transform(tags_filtered['userId'])\n",
    "tags_filtered['movie_idx'] = movie_encoder.transform(tags_filtered['movieId'])\n",
    "\n",
    "# Giữ tối đa 20 tag cho mỗi user\n",
    "# Cách 1: Lấy theo thứ tự thời gian — ưu tiên các tag được gắn sớm hơn\n",
    "tags_filtered = tags_filtered.sort_values('timestamp') \n",
    "tags_sampled = tags_filtered.groupby('user_idx').head(20)  \n",
    "\n",
    "# Cách 2: Có thể thay bằng lấy ngẫu nhiên 20 tag mỗi user \n",
    "# tags_sampled = tags_filtered.groupby('user_idx').sample(n=20, replace=False)\n",
    "\n",
    "# Cách 3. Lọc theo user_idx, lấy movie_idx mà user_idx có tag, không có rating\n",
    "# rated_pairs = set(zip(train_df['user_idx'], train_df['movie_idx'])) # user_idx và movie_idx đã rating\n",
    "# # Giữ lại những dòng tag mà (user_idx, movie_idx) chưa từng xuất hiện trong ratings\n",
    "# tags_no_rating = tags_filtered[~tags_filtered[['user_idx', 'movie_idx']].apply(tuple, axis=1).isin(rated_pairs)]\n",
    "# # Giữ tối đa 20 tag cho mỗi user\n",
    "# tags_sampled = tags_no_rating.groupby('user_idx').head(20)\n",
    "\n",
    "\n",
    "# Cập nhật implicit_feedback_sampled bằng cách thêm các item từ tags\n",
    "for row in tags_sampled.itertuples():\n",
    "    implicit_feedback_sampled[row.user_idx].add(row.movie_idx)"
   ]
  },
  {
   "cell_type": "code",
   "execution_count": 16,
   "id": "9b8f6ce7",
   "metadata": {},
   "outputs": [],
   "source": [
    "# Chọn full =========================\n",
    "\n",
    "# # RATING\n",
    "# # Tạo N(u): tập các phim mà user đã tương tác (rating) trong train\n",
    "# implicit_feedback = defaultdict(set)\n",
    "\n",
    "# for row in train_df.itertuples():\n",
    "#     implicit_feedback[row.user_idx].add(row.movie_idx)\n",
    "\n",
    "# # FILE TAGS\n",
    "# # Giữ lại user và movie đã có trong encoder\n",
    "# tags_filtered = tags[\n",
    "#     tags['userId'].isin(user_encoder.classes_) &\n",
    "#     tags['movieId'].isin(movie_encoder.classes_)\n",
    "# ].copy()\n",
    "\n",
    "# # Bước 2: Mã hóa user và movie\n",
    "# tags_filtered['user_idx'] = user_encoder.transform(tags_filtered['userId'])\n",
    "# tags_filtered['movie_idx'] = movie_encoder.transform(tags_filtered['movieId'])\n",
    "\n",
    "# # Cập nhật thêm vào implicit_feedback từ tags\n",
    "# for row in tags_filtered.itertuples():\n",
    "#     implicit_feedback[row.user_idx].add(row.movie_idx)"
   ]
  },
  {
   "cell_type": "markdown",
   "id": "f6fc78c1",
   "metadata": {},
   "source": [
    "##### **1.2. Xây dựng mô hình**"
   ]
  },
  {
   "cell_type": "code",
   "execution_count": null,
   "id": "615a30d6",
   "metadata": {},
   "outputs": [
    {
     "name": "stderr",
     "output_type": "stream",
     "text": [
      "                                                                                \r"
     ]
    },
    {
     "name": "stdout",
     "output_type": "stream",
     "text": [
      "\tEpoch 1: Train RMSE = 0.90252 | Val RMSE = 0.87572\n"
     ]
    },
    {
     "name": "stderr",
     "output_type": "stream",
     "text": [
      "                                                                                \r"
     ]
    },
    {
     "name": "stdout",
     "output_type": "stream",
     "text": [
      "\tEpoch 2: Train RMSE = 0.86416 | Val RMSE = 0.85920\n"
     ]
    },
    {
     "name": "stderr",
     "output_type": "stream",
     "text": [
      "                                                                               \r"
     ]
    },
    {
     "name": "stdout",
     "output_type": "stream",
     "text": [
      "\tEpoch 3: Train RMSE = 0.84815 | Val RMSE = 0.84821\n"
     ]
    },
    {
     "name": "stderr",
     "output_type": "stream",
     "text": [
      "                                                                                \r"
     ]
    },
    {
     "name": "stdout",
     "output_type": "stream",
     "text": [
      "\tEpoch 4: Train RMSE = 0.83789 | Val RMSE = 0.84158\n"
     ]
    },
    {
     "name": "stderr",
     "output_type": "stream",
     "text": [
      "                                                                                \r"
     ]
    },
    {
     "name": "stdout",
     "output_type": "stream",
     "text": [
      "\tEpoch 5: Train RMSE = 0.83072 | Val RMSE = 0.83656\n"
     ]
    },
    {
     "name": "stderr",
     "output_type": "stream",
     "text": [
      "                                                                                \r"
     ]
    },
    {
     "name": "stdout",
     "output_type": "stream",
     "text": [
      "\tEpoch 6: Train RMSE = 0.82475 | Val RMSE = 0.83232\n"
     ]
    },
    {
     "name": "stderr",
     "output_type": "stream",
     "text": [
      "                                                                               \r"
     ]
    },
    {
     "name": "stdout",
     "output_type": "stream",
     "text": [
      "\tEpoch 7: Train RMSE = 0.81948 | Val RMSE = 0.82863\n"
     ]
    },
    {
     "name": "stderr",
     "output_type": "stream",
     "text": [
      "                                                                               \r"
     ]
    },
    {
     "name": "stdout",
     "output_type": "stream",
     "text": [
      "\tEpoch 8: Train RMSE = 0.81471 | Val RMSE = 0.82530\n"
     ]
    },
    {
     "name": "stderr",
     "output_type": "stream",
     "text": [
      "                                                                               \r"
     ]
    },
    {
     "name": "stdout",
     "output_type": "stream",
     "text": [
      "\tEpoch 9: Train RMSE = 0.81025 | Val RMSE = 0.82222\n"
     ]
    },
    {
     "name": "stderr",
     "output_type": "stream",
     "text": [
      "                                                                                \r"
     ]
    },
    {
     "name": "stdout",
     "output_type": "stream",
     "text": [
      "\tEpoch 10: Train RMSE = 0.80605 | Val RMSE = 0.81938\n"
     ]
    }
   ],
   "source": [
    "n_users_pp = train_pp['user_idx'].max() + 1\n",
    "n_items_pp = train_pp['movie_idx'].max() + 1\n",
    "\n",
    "model_svdpp_cus = SVDppCustom(\n",
    "    n_users=n_users_pp,\n",
    "    n_items=n_items_pp,\n",
    "    n_factors=50,\n",
    "    lr=0.007,\n",
    "    reg=0.05,\n",
    "    reg1=0.01,\n",
    "    reg2=0.05,\n",
    "    decay=0.95,\n",
    "    n_epochs=10\n",
    ")\n",
    "\n",
    "model_svdpp_cus.fit(\n",
    "    train_data=train_pp,\n",
    "    implicit_feedback=implicit_feedback_sampled,\n",
    "    val_data=val_pp\n",
    ")"
   ]
  },
  {
   "cell_type": "code",
   "execution_count": null,
   "id": "bd9e35da",
   "metadata": {},
   "outputs": [],
   "source": [
    "with open(f\"{DATA_DIR}/model_svdpp_cus.pkl\", 'wb') as f:\n",
    "    pickle.dump(model_svdpp_cus, f)"
   ]
  },
  {
   "cell_type": "code",
   "execution_count": null,
   "id": "95843fda",
   "metadata": {},
   "outputs": [
    {
     "name": "stderr",
     "output_type": "stream",
     "text": [
      "                                                                          \r"
     ]
    },
    {
     "name": "stdout",
     "output_type": "stream",
     "text": [
      "\n",
      "RMSE | MAE\n",
      "Train: 0.8008 | 0.6096\n",
      "Val  : 0.8194 | 0.6230\n",
      "Test : 0.8198 | 0.6232\n"
     ]
    }
   ],
   "source": [
    "print(\n",
    "    f\"\\nRMSE | MAE\\n\"\n",
    "    f\"Train: {model_svdpp_cus.rmse(train_pp):.4f} | {model_svdpp_cus.mae(train_pp):.4f}\\n\"\n",
    "    f\"Val  : {model_svdpp_cus.rmse(val_pp):.4f} | {model_svdpp_cus.mae(val_pp):.4f}\\n\"\n",
    "    f\"Test : {model_svdpp_cus.rmse(test_pp):.4f} | {model_svdpp_cus.mae(test_pp):.4f}\"\n",
    ")"
   ]
  },
  {
   "cell_type": "markdown",
   "id": "319b8036",
   "metadata": {},
   "source": [
    "#### Cách 2. Sử dụng mô hình từ thư viện Surprise"
   ]
  },
  {
   "cell_type": "markdown",
   "id": "c647d7de",
   "metadata": {},
   "source": [
    "##### **2.1. Xử lí data train**"
   ]
  },
  {
   "cell_type": "code",
   "execution_count": 9,
   "id": "f1604b99",
   "metadata": {},
   "outputs": [
    {
     "name": "stdout",
     "output_type": "stream",
     "text": [
      "Số lượng tương tác thêm vào từ implicit feedback: 16648\n",
      "Kích thước train_df gốc: 20250076 -> sau khi thêm: 20266724\n"
     ]
    }
   ],
   "source": [
    "# Tạo tập các cặp đã có trong train_df\n",
    "rated_pairs = set(zip(train_df['user_idx'], train_df['movie_idx']))\n",
    "\n",
    "# Tính trung bình rating theo user\n",
    "user_mean_rating = train_df.groupby('user_idx')['rating'].mean().to_dict()\n",
    "\n",
    "# Danh sách lưu dòng mới\n",
    "additional_rows = []\n",
    "\n",
    "for user_idx, movie_idxs in implicit_feedback_sampled.items():\n",
    "    for movie_idx in movie_idxs:\n",
    "        if (user_idx, movie_idx) not in rated_pairs:\n",
    "            avg_rating = user_mean_rating.get(user_idx, 3.0)  # fallback = 3.0 nếu không có\n",
    "            additional_rows.append({\n",
    "                'user_idx': user_idx,\n",
    "                'movie_idx': movie_idx,\n",
    "                'rating': avg_rating\n",
    "            })\n",
    "\n",
    "# Chuyển thành DataFrame\n",
    "additional_df = pd.DataFrame(additional_rows)\n",
    "\n",
    "# Nối vào train_df\n",
    "train_tags_df = pd.concat([train_df, additional_df], ignore_index=True)\n",
    "\n",
    "print(f\"Số lượng tương tác thêm vào từ implicit feedback: {len(additional_df)}\")\n",
    "print(f\"Kích thước train_df gốc: {len(train_df)} -> sau khi thêm: {len(train_tags_df)}\")"
   ]
  },
  {
   "cell_type": "code",
   "execution_count": null,
   "id": "3389dbb3",
   "metadata": {},
   "outputs": [],
   "source": [
    "# Định nghĩa Reader\n",
    "reader = Reader(rating_scale=(0.5, 5))\n",
    "\n",
    "# Tạo trainset và testset từ DataFrame\n",
    "trainset = Dataset.load_from_df(train_tags_df[['user_idx', 'movie_idx', 'rating']], reader=reader).build_full_trainset()\n",
    "valset = list(val_df[['user_idx', 'movie_idx', 'rating']].itertuples(index=False, name=None))\n",
    "testset = list(test_df[['user_idx', 'movie_idx', 'rating']].itertuples(index=False, name=None))"
   ]
  },
  {
   "cell_type": "markdown",
   "id": "64fd7242",
   "metadata": {},
   "source": [
    "#### **2.2. Xây dựng mô hình**"
   ]
  },
  {
   "cell_type": "code",
   "execution_count": null,
   "id": "ac504138",
   "metadata": {},
   "outputs": [],
   "source": [
    "# ======= Khởi tạo và huấn luyện mô hình =======\n",
    "model_svdpp_sur = SVDpp(n_epochs=30, n_factors=50)\n",
    "model_svdpp_sur.fit(trainset)"
   ]
  },
  {
   "cell_type": "code",
   "execution_count": null,
   "id": "cc58a868",
   "metadata": {},
   "outputs": [],
   "source": [
    "with open(f\"{DATA_DIR}/model_svdpp_sur.pkl\", 'wb') as f:\n",
    "    pickle.dump(model_svdpp_sur, f)"
   ]
  },
  {
   "cell_type": "code",
   "execution_count": null,
   "id": "ac4cb0d0",
   "metadata": {},
   "outputs": [
    {
     "name": "stdout",
     "output_type": "stream",
     "text": [
      "\n",
      "RMSE | MAE\n",
      "Train: 0.6356 | 0.4815\n",
      "Val  : 0.7783 | 0.5926\n",
      "Test : 0.7738 | 0.5893\n"
     ]
    }
   ],
   "source": [
    "# ======= Đánh giá trên tập train, validation và test =======\n",
    "train_predictions = model_svdpp_sur.test(trainset.build_testset()[:10000])\n",
    "val_predictions = model_svdpp_sur.test(valset)\n",
    "test_predictions = model_svdpp_sur.test(testset)\n",
    "print(\n",
    "    f\"\\nRMSE | MAE\\n\"\n",
    "    f\"Train: {accuracy.rmse(train_predictions, verbose=False):.4f} | {accuracy.mae(train_predictions, verbose=False):.4f}\\n\"\n",
    "    f\"Val  : {accuracy.rmse(val_predictions, verbose=False):.4f} | {accuracy.mae(val_predictions, verbose=False):.4f}\\n\"\n",
    "    f\"Test : {accuracy.rmse(test_predictions, verbose=False):.4f} | {accuracy.mae(test_predictions, verbose=False):.4f}\"\n",
    ")"
   ]
  },
  {
   "cell_type": "markdown",
   "id": "4a27a8e7",
   "metadata": {},
   "source": [
    "### **Tìm best params cho best model**"
   ]
  },
  {
   "cell_type": "code",
   "execution_count": null,
   "id": "9df2e375",
   "metadata": {},
   "outputs": [],
   "source": [
    "results = []\n",
    "best_rmse = float('inf')\n",
    "best_model = None\n",
    "best_params = None\n",
    "\n",
    "# Lưới tham số bạn muốn thử\n",
    "param_grid = {\n",
    "    'n_factors': [50, 100],\n",
    "    'lr_all': [0.005, 0.007, 0.01],\n",
    "    'reg_all': [0.02, 0.1],\n",
    "    'n_epochs': [20, 30, 50]\n",
    "}\n",
    "\n",
    "# Tạo tất cả tổ hợp\n",
    "param_combinations = list(itertools.product(*param_grid.values()))\n",
    "\n",
    "for params in param_combinations:\n",
    "    config = dict(zip(param_grid.keys(), params))\n",
    "    print(f\"Testing params: {config}\")\n",
    "\n",
    "    model = SurpriseFunkSVD(**config, verbose=False)\n",
    "    model.fit(train_df)\n",
    "\n",
    "    val_rmse, val_mae = evaluate(val_df, model)\n",
    "\n",
    "    # Lưu kết quả vào list\n",
    "    results.append({\n",
    "        **config,\n",
    "        \"val_rmse\": val_rmse,\n",
    "        \"val_mae\": val_mae\n",
    "    })\n",
    "\n",
    "    # Lưu mô hình tốt nhất\n",
    "    if val_rmse < best_rmse:\n",
    "        if best_model:\n",
    "            del best_model\n",
    "            gc.collect()\n",
    "        best_rmse = val_rmse\n",
    "        best_params = config\n",
    "        best_model = model\n",
    "        best_model.save(f\"{DATA_DIR}/best_model_funksvd.pkl\")\n",
    "    else:\n",
    "        del model\n",
    "        gc.collect()\n",
    "\n",
    "# Chuyển thành DataFrame và lưu\n",
    "results_df = pd.DataFrame(results)\n",
    "results_df.to_csv(f\"{DATA_DIR}/gridsearch_funksvd_results.csv\", index=False)\n",
    "\n",
    "print(\"\\nBest Parameters: \", best_params)\n",
    "print(f\"Best Validation RMSE: {best_rmse:.4f}\")"
   ]
  },
  {
   "cell_type": "code",
   "execution_count": null,
   "id": "6c142774",
   "metadata": {},
   "outputs": [],
   "source": [
    "test_rmse, test_mae = evaluate(test_df, best_model)\n",
    "print(f\"Test RMSE: {test_rmse:.4f} | Test MAE: {test_mae:.4f}\")"
   ]
  },
  {
   "cell_type": "markdown",
   "id": "dff11902",
   "metadata": {},
   "source": [
    "## **Hybrid Model**"
   ]
  },
  {
   "cell_type": "markdown",
   "id": "6bcf89cf",
   "metadata": {},
   "source": [
    "### **A. Content-Based**"
   ]
  },
  {
   "cell_type": "markdown",
   "id": "9b4e03c8",
   "metadata": {},
   "source": [
    "##### **Sử dụng 2 phương pháp:**\n",
    "\n",
    "- **Cosine similarity:** Tính độ tương đồng giữa hồ sơ người dùng (dựa trên các phim họ thích) và đặc trưng của phim (genome tags và thể loại) để gợi ý phim tương tự.\n",
    "\n",
    "- **Ridge Regression:** Học một mô hình tuyến tính cho mỗi người dùng để dự đoán điểm đánh giá dựa trên đặc trưng phim, từ đó gợi ý phim có điểm dự đoán cao."
   ]
  },
  {
   "cell_type": "markdown",
   "id": "864cefe2",
   "metadata": {},
   "source": [
    "#### 1. Save/Load "
   ]
  },
  {
   "cell_type": "code",
   "execution_count": null,
   "id": "9fe5af9b",
   "metadata": {},
   "outputs": [],
   "source": [
    "PROFILE_CACHE_DIR = \"./cache_profiles\"\n",
    "os.makedirs(PROFILE_CACHE_DIR, exist_ok=True)\n",
    "\n",
    "def save_profiles(profiles_dict, method_name):\n",
    "    file_path = os.path.join(PROFILE_CACHE_DIR, f\"profiles_{method_name}.pkl\")\n",
    "    with open(file_path, \"wb\") as f:\n",
    "        pickle.dump(profiles_dict, f)\n",
    "\n",
    "def load_profiles(method_name):\n",
    "    file_path = os.path.join(PROFILE_CACHE_DIR, f\"profiles_{method_name}.pkl\")\n",
    "    if os.path.exists(file_path):\n",
    "        with open(file_path, \"rb\") as f:\n",
    "            return pickle.load(f)\n",
    "    return None"
   ]
  },
  {
   "cell_type": "code",
   "execution_count": null,
   "id": "5ed1ae4f",
   "metadata": {},
   "outputs": [],
   "source": [
    "GENOME_CACHE_PATH = os.path.join(PROFILE_CACHE_DIR, \"genome_csr_best.pkl\") \n",
    "\n",
    "def save_genome_csr(csr):  \n",
    "    with open(GENOME_CACHE_PATH, \"wb\") as f:\n",
    "        pickle.dump(csr, f)\n",
    "\n",
    "def load_genome_csr():  \n",
    "    if os.path.exists(GENOME_CACHE_PATH):\n",
    "        with open(GENOME_CACHE_PATH, \"rb\") as f:\n",
    "            return pickle.load(f)\n",
    "    return None"
   ]
  },
  {
   "cell_type": "markdown",
   "id": "7429dca7",
   "metadata": {},
   "source": [
    "#### 2. Per‑user z‑score (remove bias)"
   ]
  },
  {
   "cell_type": "markdown",
   "id": "cff3931b",
   "metadata": {},
   "source": [
    "Mỗi người dùng có thang chấm điểm khác nhau. Ví dụ, một người có thể chấm 4/5 là \"rất thích\", trong khi người khác chấm 4/5 là \"bình thường\". Chuẩn hóa z-score giúp so sánh đánh giá giữa các người dùng một cách công bằng."
   ]
  },
  {
   "cell_type": "code",
   "execution_count": null,
   "id": "eb2e973a",
   "metadata": {},
   "outputs": [],
   "source": [
    "# Scale rating ở tập train\n",
    "train_user_stats = train_df.groupby(\"userId\")[\"rating\"].agg(\n",
    "        [\"mean\", \"std\"]).rename(columns={\"mean\": \"mu\", \"std\": \"sigma\"})"
   ]
  },
  {
   "cell_type": "markdown",
   "id": "5a527aad",
   "metadata": {},
   "source": [
    "**Z-score:** `z = (x - mu) / sigma`, trong đó `x` là đánh giá, `mu` là trung bình đánh giá của người dùng, `sigma` là độ lệch chuẩn.\n",
    "\n",
    "- Z-score biểu thị đánh giá lệch bao nhiêu so với trung bình của người dùng, chuẩn hóa về đơn vị độ lệch chuẩn.\n",
    "\n",
    "- Nếu `sigma=0` (người dùng chỉ chấm một giá trị duy nhất), phép chia sẽ gây lỗi (chia cho 0). Thay bằng 1e-6 để tránh lỗi và giữ z-score hợp lý."
   ]
  },
  {
   "cell_type": "code",
   "execution_count": null,
   "id": "fe564e22",
   "metadata": {},
   "outputs": [],
   "source": [
    "def add_z_scores(df, user_stats):\n",
    "    df_with_stats = df.merge(user_stats, on=\"userId\", how=\"left\")\n",
    "\n",
    "    ratings_mean = train_df[\"rating\"].mean()\n",
    "    ratings_std = train_df[\"rating\"].std()\n",
    "\n",
    "    df_with_stats[\"mu\"] = df_with_stats[\"mu\"].fillna(ratings_mean)\n",
    "    df_with_stats[\"sigma\"] = df_with_stats[\"sigma\"].fillna(ratings_std)\n",
    "    df_with_stats[\"rating_z\"] = (df_with_stats[\"rating\"] - df_with_stats[\"mu\"]) / df_with_stats[\"sigma\"].replace(0, 1e-6)\n",
    "    \n",
    "    return df_with_stats\n",
    "\n",
    "train_df = add_z_scores(train_df, train_user_stats)\n",
    "val_df = add_z_scores(val_df, train_user_stats)\n",
    "test_df = add_z_scores(test_df, train_user_stats)"
   ]
  },
  {
   "cell_type": "markdown",
   "id": "c4d26c96",
   "metadata": {},
   "source": [
    "#### 3. Build genome CSR matrix"
   ]
  },
  {
   "cell_type": "code",
   "execution_count": null,
   "id": "7d27372b",
   "metadata": {},
   "outputs": [],
   "source": [
    "merged_genome = pd.merge(genome_scores, genome_tags, on='tagId', how='left')\n",
    "genome_matrix = merged_genome.pivot(index='movieId', columns='tag', values='relevance').fillna(0)"
   ]
  },
  {
   "cell_type": "markdown",
   "id": "431f8b11",
   "metadata": {},
   "source": [
    "#### 4. Genres Vectorization (TF-IDF)"
   ]
  },
  {
   "cell_type": "code",
   "execution_count": null,
   "id": "9babb924",
   "metadata": {},
   "outputs": [],
   "source": [
    "tfidf = TfidfVectorizer(token_pattern=r'[^|]+')\n",
    "genres_tfidf = tfidf.fit_transform(movies['genres'])\n",
    "genres_df = pd.DataFrame(\n",
    "    genres_tfidf.toarray(), \n",
    "    columns=[f'genre:{g}' for g in tfidf.get_feature_names_out()],\n",
    "    index=movies['movieId']\n",
    ")"
   ]
  },
  {
   "cell_type": "markdown",
   "id": "d682652e",
   "metadata": {},
   "source": [
    "#### 5. Xử lí, gộp ma trận và scale"
   ]
  },
  {
   "cell_type": "code",
   "execution_count": null,
   "id": "7faa83d4",
   "metadata": {},
   "outputs": [],
   "source": [
    "all_movies = pd.Index(sorted(set(genome_matrix.index).union(genres_df.index)))\n",
    "\n",
    "# Phim thiếu genome\n",
    "missing_genome = all_movies.difference(genome_matrix.index)\n",
    "if len(missing_genome):\n",
    "    zero_genome = pd.DataFrame(0, index=missing_genome, columns=genome_matrix.columns)\n",
    "    genome_matrix = pd.concat([genome_matrix, zero_genome])\n",
    "\n",
    "# Phim thiếu genres\n",
    "missing_genre = all_movies.difference(genres_df.index)\n",
    "if len(missing_genre):\n",
    "    zero_genre = pd.DataFrame(0, index=missing_genre, columns=genres_df.columns)\n",
    "    genres_df = pd.concat([genres_df, zero_genre])"
   ]
  },
  {
   "cell_type": "code",
   "execution_count": null,
   "id": "d75931fb",
   "metadata": {},
   "outputs": [],
   "source": [
    "# chỉnh lại index\n",
    "genome_matrix = genome_matrix.loc[all_movies]\n",
    "genres_df = genres_df.loc[all_movies]"
   ]
  },
  {
   "cell_type": "code",
   "execution_count": null,
   "id": "711d9350",
   "metadata": {},
   "outputs": [],
   "source": [
    "# Ghép hai ma trận -> describe_matrix\n",
    "describe_matrix = pd.concat([genome_matrix, genres_df], axis=1).fillna(0)\n",
    "print(\"Describe matrix:\", describe_matrix.shape)    "
   ]
  },
  {
   "cell_type": "code",
   "execution_count": null,
   "id": "0b32162f",
   "metadata": {},
   "outputs": [],
   "source": [
    "# Scale lại ma trận cho cùng range\n",
    "scaler = StandardScaler(with_mean=False)\n",
    "describe_matrix_scaled = scaler.fit_transform(describe_matrix) \n",
    "print(describe_matrix_scaled)"
   ]
  },
  {
   "cell_type": "markdown",
   "id": "df1b0a33",
   "metadata": {},
   "source": [
    "#### 6. Feature Selection"
   ]
  },
  {
   "cell_type": "code",
   "execution_count": null,
   "id": "8a78135b",
   "metadata": {},
   "outputs": [],
   "source": [
    "movie_avg_train = train_df.groupby(\"movieId\")[\"rating\"].mean()\n",
    "\n",
    "def rating_to_class(rating):\n",
    "    if rating <= 2.5:\n",
    "        return 0  # rating thấp\n",
    "    elif rating <= 4.0:\n",
    "        return 1  # rating trung bình\n",
    "    else:\n",
    "        return 2  # rating cao\n",
    "\n",
    "train_movies_fs = [m for m in movie_avg_train.index if m in describe_matrix.index]"
   ]
  },
  {
   "cell_type": "code",
   "execution_count": null,
   "id": "0c54f6ac",
   "metadata": {},
   "outputs": [],
   "source": [
    "X_fs = describe_matrix_scaled[[describe_matrix.index.get_loc(m) for m in train_movies_fs]]\n",
    "y_fs = movie_avg_train.loc[train_movies_fs].apply(rating_to_class).values\n",
    "k = min(N_FEATURES_FS, X_fs.shape[1])\n",
    "\n",
    "# tạo 4 ma trận đặc trưng giám sát\n",
    "feature_matrices = {}\n",
    "\n",
    "# 1. Chi-squared\n",
    "sel_chi = SelectKBest(chi2, k=k).fit(X_fs, y_fs)\n",
    "feature_matrices[\"chi2\"] = sel_chi.transform(describe_matrix_scaled)\n",
    "\n",
    "if sparse.issparse(X_fs):        \n",
    "    X_fs_dense = X_fs.toarray()\n",
    "else:\n",
    "    X_fs_dense = X_fs\n",
    "\n",
    "# 2. Information Gain (Entropy)\n",
    "tree_e = DecisionTreeClassifier(criterion=\"entropy\", random_state=SEED).fit(X_fs_dense, y_fs)\n",
    "idx_e = np.argsort(tree_e.feature_importances_)[-k:]\n",
    "feature_matrices[\"entropy\"] = describe_matrix_scaled[:, idx_e]\n",
    "\n",
    "# 3. Gini Index\n",
    "tree_g = DecisionTreeClassifier(criterion=\"gini\", random_state=SEED).fit(X_fs_dense, y_fs)\n",
    "idx_g = np.argsort(tree_g.feature_importances_)[-k:]\n",
    "feature_matrices[\"gini\"] = describe_matrix_scaled[:, idx_g]\n",
    "\n",
    "# 4. Normalized Deviation\n",
    "std_col = np.std(X_fs_dense, axis=0)\n",
    "idx_std = np.argsort(std_col)[-k:]\n",
    "feature_matrices[\"deviation\"] = describe_matrix_scaled[:, idx_std]"
   ]
  },
  {
   "cell_type": "markdown",
   "id": "75966891",
   "metadata": {},
   "source": [
    "#### **Cosine Similarity**"
   ]
  },
  {
   "cell_type": "markdown",
   "id": "0a1cfe7e",
   "metadata": {},
   "source": [
    "Làm thế nào để biểu diễn sở thích của người dùng?\n",
    "\n",
    "- Hồ sơ người dùng là một vector tổng hợp các tag genome của những phim họ thích (dựa trên `rating_z ≥ Z_THRESHOLD`). Vector này được tính bằng trung bình có trọng số của các vector phim."
   ]
  },
  {
   "cell_type": "code",
   "execution_count": null,
   "id": "be48e159",
   "metadata": {},
   "outputs": [],
   "source": [
    "movieId2row = {mid: i for i, mid in enumerate(describe_matrix.index.values)}\n",
    "row2movieId = describe_matrix.index.values"
   ]
  },
  {
   "cell_type": "code",
   "execution_count": null,
   "id": "da0e6cf2",
   "metadata": {},
   "outputs": [],
   "source": [
    "def build_user_profiles_sim(ratings_df, rating_col=\"rating_z\", threshold=Z_THRESHOLD, eps=1e-8):\n",
    "    profiles = {}\n",
    "    good = ratings_df.loc[ratings_df[rating_col] >= threshold, [\"userId\", \"movieId\", rating_col]]\n",
    "    \n",
    "    for uid, grp in tqdm(good.groupby(\"userId\"), desc=\"profiles\", unit=\"user\"):\n",
    "        rows = [movieId2row[m] for m in grp.movieId if m in movieId2row]\n",
    "        if not rows:\n",
    "            continue\n",
    "\n",
    "        w = grp[rating_col].values[:, None]\n",
    "        \n",
    "        if w.shape[0] == len(rows):\n",
    "            w_sum = w.sum()\n",
    "\n",
    "            if w_sum < eps:\n",
    "                prof_dense = genome_csr[rows].mean(axis=0)\n",
    "            else:\n",
    "                prof_dense = (genome_csr[rows].multiply(w)).sum(axis=0) / w_sum\n",
    "\n",
    "            prof_dense = np.nan_to_num(np.asarray(prof_dense).ravel())\n",
    "            profiles[uid] = sparse.csr_matrix(prof_dense)\n",
    "\n",
    "    return profiles\n",
    "\n",
    "def eval_cosine(df_eval, profiles):\n",
    "    df_eval = df_eval[df_eval.movieId.isin(movieId2row)]\n",
    "    y_true, y_pred = [], []\n",
    "    iterator = zip(df_eval.userId.values, df_eval.movieId.values, df_eval.rating.values)\n",
    "    for u, m, r in tqdm(iterator, total=len(df_eval), desc=\"eval_cosine\", unit=\"rec\"):\n",
    "        y_true.append(r)\n",
    "        if u in profiles:\n",
    "            sim = cosine_similarity(profiles[u], genome_csr[movieId2row[m]])[0, 0]\n",
    "            pred = sim * (RATING_MAX - RATING_MIN) + RATING_MIN\n",
    "        else:\n",
    "            pred = RATING_MIN\n",
    "        y_pred.append(pred)\n",
    "    return math.sqrt(mean_squared_error(y_true, y_pred)), mean_absolute_error(y_true, y_pred)\n",
    "\n",
    "def test_cosine_method(mat, method_name):\n",
    "    global genome_csr, profiles\n",
    "    genome_csr = normalize(sparse.csr_matrix(mat), axis=1, copy=False)\n",
    "\n",
    "    profiles = load_profiles(method_name)\n",
    "    if profiles is None:\n",
    "        profiles = build_user_profiles_sim(train_df)\n",
    "        save_profiles(profiles, method_name)\n",
    "\n",
    "    rmse_val, mae_val = eval_cosine(val_df,  profiles)\n",
    "    rmse_tst, mae_tst = eval_cosine(test_df, profiles)\n",
    "    return rmse_val, mae_val, rmse_tst, mae_tst"
   ]
  },
  {
   "cell_type": "markdown",
   "id": "ece85291",
   "metadata": {},
   "source": [
    "#### **Ridge Regression**"
   ]
  },
  {
   "cell_type": "code",
   "execution_count": null,
   "id": "d32570e0",
   "metadata": {},
   "outputs": [],
   "source": [
    "def get_items_rated_by_user(ratings_df, user_id):\n",
    "    user_df = ratings_df[ratings_df['userId'] == user_id]\n",
    "    movies_list = user_df['movieId'].values\n",
    "    ratings_list = user_df['rating'].values\n",
    "    return movies_list, ratings_list\n",
    "\n",
    "def build_user_profiles_ridge(ratings_df, descriptions_df, min_ratings_for_grid=20, verbose=True):\n",
    "    start = time.time()\n",
    "    profiles = {}\n",
    "    users_ids = ratings_df['userId'].unique()\n",
    "\n",
    "    if verbose:\n",
    "        print(f\"Training {len(users_ids)} users...\")\n",
    "\n",
    "    param_grid = {'alpha': [0.01, 0.1, 1.0, 10.0, 100.0]}\n",
    "\n",
    "    for uid in tqdm(users_ids) if verbose else users_ids:\n",
    "        uid_movies, uid_ratings = get_items_rated_by_user(ratings_df, uid)\n",
    "\n",
    "        valid_movies = [m for m in uid_movies if m in descriptions_df.index]\n",
    "        if not valid_movies:\n",
    "            continue\n",
    "\n",
    "        X = descriptions_df.loc[valid_movies].values\n",
    "        y = uid_ratings[:len(valid_movies)] \n",
    "\n",
    "        if len(y) >= min_ratings_for_grid:\n",
    "            try:\n",
    "                grid = GridSearchCV(\n",
    "                    Ridge(), \n",
    "                    param_grid, \n",
    "                    scoring='neg_mean_squared_error',\n",
    "                    cv=min(5, len(y)), \n",
    "                    n_jobs=-1\n",
    "                )\n",
    "                grid.fit(X, y)\n",
    "                profiles[uid] = grid.best_estimator_\n",
    "            except:\n",
    "                fallback_model = Ridge(alpha=1.0)\n",
    "                fallback_model.fit(X, y)\n",
    "                profiles[uid] = fallback_model\n",
    "        else:\n",
    "            fallback_model = Ridge(alpha=1.0)\n",
    "            fallback_model.fit(X, y)\n",
    "            profiles[uid] = fallback_model\n",
    "\n",
    "    if verbose:\n",
    "        print(f'Training time: {(time.time() - start):.4f}s')\n",
    "    return profiles\n",
    "\n",
    "def predict_rating_ridge(user_id, movie_ids, profiles, descriptions_df, normalize_rating=True):\n",
    "    if user_id not in profiles:\n",
    "        return np.array([])\n",
    "\n",
    "    model = profiles[user_id]\n",
    "    valid_movie_ids = [m for m in movie_ids if m in descriptions_df.index]\n",
    "    \n",
    "    if not valid_movie_ids:\n",
    "        return np.array([])\n",
    "\n",
    "    X = descriptions_df.loc[valid_movie_ids].values\n",
    "    pred_rating = model.predict(X)\n",
    "\n",
    "    if normalize_rating:\n",
    "        pred_rating = np.clip(pred_rating, RATING_MIN, RATING_MAX)\n",
    "    \n",
    "    return pred_rating, valid_movie_ids\n",
    "\n",
    "\n",
    "\n",
    "def eval_ridge(ratings_df, profiles, descriptions, user_id=None):\n",
    "    if user_id is None:\n",
    "        users_ids = ratings_df['userId'].unique()\n",
    "        y_true, y_pred = [], []\n",
    "\n",
    "        for uid in tqdm(users_ids):\n",
    "            test_movies, true_ratings = get_items_rated_by_user(ratings_df, uid)\n",
    "            pred_ratings = predict_rating_ridge(uid, test_movies, profiles, descriptions)\n",
    "            if len(pred_ratings) == len(true_ratings):\n",
    "                y_true.extend(true_ratings)\n",
    "                y_pred.extend(pred_ratings)\n",
    "    else:\n",
    "        test_movies, true_ratings = get_items_rated_by_user(ratings_df, user_id)\n",
    "        pred_ratings = predict_rating_ridge(user_id, test_movies, profiles, descriptions, ratings_df)\n",
    "        y_true, y_pred = true_ratings, pred_ratings\n",
    "\n",
    "    return math.sqrt(mean_squared_error(y_true, y_pred)), mean_absolute_error(y_true, y_pred)\n"
   ]
  },
  {
   "cell_type": "markdown",
   "id": "f10052b5",
   "metadata": {},
   "source": [
    "#### **Main Excutor**"
   ]
  },
  {
   "cell_type": "code",
   "execution_count": null,
   "id": "e10a3365",
   "metadata": {},
   "outputs": [],
   "source": [
    "results = {}\n",
    "for name, mat in feature_matrices.items():\n",
    "    print(f\"Đánh giá feature matrix: {name}\")\n",
    "\n",
    "    # Cosine \n",
    "    genome_csr = normalize(sparse.csr_matrix(mat), axis=1, copy=False)\n",
    "    profiles_cosine = build_user_profiles_sim(train_df) \n",
    "    rmse_val_cosine, mae_val_cosine = eval_cosine(val_df, profiles_cosine)\n",
    "    rmse_test_cosine, mae_test_cosine = eval_cosine(test_df, profiles_cosine)\n",
    "\n",
    "    # Ridge \n",
    "    desc_df = pd.DataFrame(\n",
    "        data=normalize(sparse.csr_matrix(mat), axis=1, copy=False),     \n",
    "        index=describe_matrix.index\n",
    "    )\n",
    "\n",
    "    profiles_ridge = build_user_profiles_ridge(train_df, desc_df)\n",
    "    rmse_val_ridge, mae_val_ridge = eval_ridge(val_df, profiles_ridge, desc_df)\n",
    "    rmse_test_ridge, mae_test_ridge = eval_ridge(test_df, profiles_ridge, desc_df)\n",
    "\n",
    "    results[name] = {\n",
    "    'cosine': (rmse_val_cosine, mae_val_cosine, rmse_test_cosine, mae_test_cosine),\n",
    "    'ridge' : (rmse_val_ridge, mae_val_ridge, rmse_test_ridge, mae_test_ridge)\n",
    "    }\n",
    "\n",
    "    print(f\"Cosine - Val RMSE {rmse_val_cosine:.4f} | Test RMSE {rmse_test_cosine:.4f}\")\n",
    "    print(f\"Ridge - Val RMSE {rmse_val_ridge:.4f} | Test RMSE {rmse_test_ridge:.4f}\")"
   ]
  },
  {
   "cell_type": "code",
   "execution_count": null,
   "id": "110d0fe8",
   "metadata": {},
   "outputs": [],
   "source": [
    "best_method_cosine = min(results, key=lambda n: results[n]['cosine'][0])   \n",
    "best_method_ridge  = min(results, key=lambda n: results[n]['ridge'][0])    \n",
    "\n",
    "print(f\"Best Cosine feature matrix: {best_method_cosine}\")\n",
    "print(f\"Best Ridge  feature matrix: {best_method_ridge}\")"
   ]
  },
  {
   "cell_type": "code",
   "execution_count": null,
   "id": "e23a1bc0",
   "metadata": {},
   "outputs": [],
   "source": [
    "mat_sparse_best = (feature_matrices[best_method_ridge]\n",
    "                   if sparse.issparse(feature_matrices[best_method_ridge])\n",
    "                   else sparse.csr_matrix(feature_matrices[best_method_ridge]))  \n",
    "\n",
    "desc_df_sparse_best = pd.DataFrame.sparse.from_spmatrix(\n",
    "    mat_sparse_best, index=describe_matrix.index\n",
    ")"
   ]
  },
  {
   "cell_type": "code",
   "execution_count": null,
   "id": "e13f0509",
   "metadata": {},
   "outputs": [],
   "source": [
    "genome_csr_cosine = normalize(sparse.csr_matrix(feature_matrices[best_method_cosine]), axis=1, copy=False)\n",
    "print(genome_csr_cosine)\n",
    "save_genome_csr(genome_csr_cosine)     "
   ]
  },
  {
   "cell_type": "code",
   "execution_count": null,
   "id": "f45bced3",
   "metadata": {},
   "outputs": [],
   "source": [
    "profiles_cosine_best = load_profiles(f\"{best_method_cosine}_cosine\")\n",
    "if profiles_cosine_best is None:\n",
    "    profiles_cosine_best = build_user_profiles_sim(train_df)\n",
    "    save_profiles(profiles_cosine_best, f\"{best_method_cosine}_cosine\")\n",
    "\n",
    "rmse_val_c_best, mae_val_c_best = eval_cosine(val_df, profiles_cosine_best)\n",
    "rmse_test_c_best, mae_test_c_best = eval_cosine(test_df, profiles_cosine_best)\n",
    "print(f\"Cosine ({best_method_cosine})  Val RMSE={rmse_val_c_best:.4f} | Test RMSE={rmse_test_c_best:.4f}\")"
   ]
  },
  {
   "cell_type": "code",
   "execution_count": null,
   "id": "6bed7942",
   "metadata": {},
   "outputs": [],
   "source": [
    "profiles_ridge_best = load_profiles(f\"{best_method_ridge}_ridge\")\n",
    "if profiles_ridge_best is None:\n",
    "    profiles_ridge_best = build_user_profiles_ridge(train_df, desc_df_sparse_best)\n",
    "    save_profiles(profiles_ridge_best, f\"{best_method_ridge}_ridge\")\n",
    "\n",
    "rmse_val_r_best, mae_val_r_best = eval_ridge(val_df, profiles_ridge_best, desc_df_sparse_best)\n",
    "rmse_test_r_best, mae_test_r_best = eval_ridge(test_df, profiles_ridge_best, desc_df_sparse_best)\n",
    "print(f\"Ridge  ({best_method_ridge}) Val RMSE={rmse_val_r_best:.4f} | Test RMSE={rmse_test_r_best:.4f}\")"
   ]
  },
  {
   "cell_type": "markdown",
   "id": "0adb15d6",
   "metadata": {},
   "source": [
    "### **B. SVD (best model with best params) Content-Based**"
   ]
  },
  {
   "cell_type": "code",
   "execution_count": null,
   "id": "d3b2168b",
   "metadata": {},
   "outputs": [],
   "source": [
    "def hybrid_recommend_topk(user_id, all_movies, ratings_df, cb_profiles, cb_descriptions, svd_model, alpha=0.5, top_k=10):\n",
    "    # Lấy các phim user đã xem\n",
    "    seen_movie_ids, _ = get_items_rated_by_user(ratings_df, user_id)\n",
    "    all_movie_ids = set(all_movies['movieId'])\n",
    "    unseen_movie_ids = list(all_movie_ids - set(seen_movie_ids))\n",
    "\n",
    "    # Gọi content-based\n",
    "    cb_preds = predict_rating_ridge(user_id, unseen_movie_ids, cb_profiles, cb_descriptions, normalize=False)\n",
    "    # gọi FunkSVD\n",
    "    svd_preds = svd_model.predict_batch([user_id] * len(unseen_movie_ids), unseen_movie_ids)\n",
    "\n",
    "    # Kết hợp\n",
    "    hybrid_preds = alpha * svd_preds + (1 - alpha) * cb_preds\n",
    "    hybrid_preds = np.clip(hybrid_preds, 0.5, 5.0)\n",
    "\n",
    "    # Tạo bảng kết quả\n",
    "    result_df = pd.DataFrame({\n",
    "        'movieId': unseen_movie_ids[:len(hybrid_preds)],\n",
    "        'predicted_rating': hybrid_preds\n",
    "    })\n",
    "    result_df = result_df.merge(all_movies, on='movieId', how='left')\n",
    "    result_df = result_df.sort_values(by='predicted_rating', ascending=False).head(top_k)\n",
    "\n",
    "    return result_df[['movieId', 'title', 'genres', 'predicted_rating']]"
   ]
  },
  {
   "cell_type": "code",
   "execution_count": null,
   "id": "a8d41f8e",
   "metadata": {},
   "outputs": [],
   "source": [
    "def evaluate_hybrid(ratings_df, cb_profiles, cb_descriptions, svd_model, alpha=0.5):\n",
    "    y_true, y_pred = [], []\n",
    "    for uid in tqdm(ratings_df['userId'].unique(), desc=\"Evaluating\"):\n",
    "        movies, true_ratings = get_items_rated_by_user(ratings_df, uid)\n",
    "        try:\n",
    "            cb_ratings = predict_rating_ridge(uid, movies, cb_profiles, cb_descriptions, normalize=False)\n",
    "            svd_ratings = svd_model.predict_batch([uid] * len(movies), movies)\n",
    "            hybrid = alpha * svd_ratings + (1 - alpha) * cb_ratings\n",
    "            y_true.extend(true_ratings)\n",
    "            y_pred.extend(np.clip(hybrid, 0.5, 5.0))\n",
    "        except:\n",
    "            continue\n",
    "    return np.sqrt(mean_squared_error(y_true, y_pred)), mean_absolute_error(y_true, y_pred)"
   ]
  },
  {
   "cell_type": "code",
   "execution_count": null,
   "id": "f351ca92",
   "metadata": {},
   "outputs": [],
   "source": [
    "def load_and_recommend(user_id, top_k=10, alpha=0.5):\n",
    "    cb_profiles = load_profiles(\"ridge_user_profiles\")\n",
    "    svd_model = SurpriseFunkSVD()\n",
    "    svd_model.load(\"best_model_funksvd.pkl\")\n",
    "    return hybrid_recommend_topk(\n",
    "        user_id=user_id,\n",
    "        all_movies=movies,\n",
    "        ratings_df=train_df,\n",
    "        cb_profiles=cb_profiles,\n",
    "        cb_descriptions=describe_matrix,\n",
    "        svd_model=svd_model,\n",
    "        alpha=alpha,\n",
    "        top_k=top_k\n",
    "    )"
   ]
  },
  {
   "cell_type": "code",
   "execution_count": null,
   "id": "c679bd08",
   "metadata": {},
   "outputs": [],
   "source": [
    "def gridsearch_alpha(ratings_df, cb_profiles, cb_descriptions, svd_model, alphas=None):\n",
    "    if alphas is None:\n",
    "        alphas = np.arange(0, 1.05, 0.05)  # thử alpha từ 0 đến 1, bước 0.05\n",
    "\n",
    "    best_alpha = None\n",
    "    best_rmse = float('inf')\n",
    "    results = []\n",
    "\n",
    "    for alpha in alphas:\n",
    "        y_true, y_pred = [], []\n",
    "        for uid in tqdm(ratings_df['userId'].unique(), desc=f\"Alpha={alpha:.2f}\"):\n",
    "            movies, true_ratings = get_items_rated_by_user(ratings_df, uid)\n",
    "            try:\n",
    "                cb_ratings = predict_rating_ridge(uid, movies, cb_profiles, cb_descriptions, normalize=False)\n",
    "                svd_ratings = svd_model.predict_batch([uid] * len(movies), movies)\n",
    "                hybrid = alpha * svd_ratings + (1 - alpha) * cb_ratings\n",
    "                y_true.extend(true_ratings)\n",
    "                y_pred.extend(np.clip(hybrid, 0.5, 5.0))\n",
    "            except:\n",
    "                continue\n",
    "        rmse = np.sqrt(mean_squared_error(y_true, y_pred))\n",
    "        mae = mean_absolute_error(y_true, y_pred)\n",
    "        results.append({'alpha': alpha, 'rmse': rmse, 'mae': mae})\n",
    "        if rmse < best_rmse:\n",
    "            best_rmse = rmse\n",
    "            best_alpha = alpha\n",
    "\n",
    "    return best_alpha, results"
   ]
  }
 ],
 "metadata": {
  "kernelspec": {
   "display_name": "Python 3",
   "language": "python",
   "name": "python3"
  },
  "language_info": {
   "codemirror_mode": {
    "name": "ipython",
    "version": 3
   },
   "file_extension": ".py",
   "mimetype": "text/x-python",
   "name": "python",
   "nbconvert_exporter": "python",
   "pygments_lexer": "ipython3",
   "version": "3.12.2"
  }
 },
 "nbformat": 4,
 "nbformat_minor": 5
}
